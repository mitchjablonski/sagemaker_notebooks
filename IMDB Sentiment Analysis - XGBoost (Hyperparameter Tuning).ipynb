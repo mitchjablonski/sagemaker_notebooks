{
 "cells": [
  {
   "cell_type": "markdown",
   "metadata": {},
   "source": [
    "# Sentiment Analysis\n",
    "\n",
    "## Using XGBoost in SageMaker\n",
    "\n",
    "_Deep Learning Nanodegree Program | Deployment_\n",
    "\n",
    "---\n",
    "\n",
    "In this example of using Amazon's SageMaker service we will construct a random tree model to predict the sentiment of a movie review. You may have seen a version of this example in a pervious lesson although it would have been done using the sklearn package. Instead, we will be using the XGBoost package as it is provided to us by Amazon.\n",
    "\n",
    "## Instructions\n",
    "\n",
    "Some template code has already been provided for you, and you will need to implement additional functionality to successfully complete this notebook. You will not need to modify the included code beyond what is requested. Sections that begin with '**TODO**' in the header indicate that you need to complete or implement some portion within them. Instructions will be provided for each section and the specifics of the implementation are marked in the code block with a `# TODO: ...` comment. Please be sure to read the instructions carefully!\n",
    "\n",
    "In addition to implementing code, there will be questions for you to answer which relate to the task and your implementation. Each section where you will answer a question is preceded by a '**Question:**' header. Carefully read each question and provide your answer below the '**Answer:**' header by editing the Markdown cell.\n",
    "\n",
    "> **Note**: Code and Markdown cells can be executed using the **Shift+Enter** keyboard shortcut. In addition, a cell can be edited by typically clicking it (double-click for Markdown cells) or by pressing **Enter** while it is highlighted."
   ]
  },
  {
   "cell_type": "code",
   "execution_count": 1,
   "metadata": {},
   "outputs": [
    {
     "name": "stdout",
     "output_type": "stream",
     "text": [
      "Collecting sagemaker==1.72.0\n",
      "  Using cached sagemaker-1.72.0-py2.py3-none-any.whl\n",
      "Requirement already satisfied: protobuf3-to-dict>=0.1.5 in /home/ec2-user/anaconda3/envs/python3/lib/python3.6/site-packages (from sagemaker==1.72.0) (0.1.5)\n",
      "Requirement already satisfied: packaging>=20.0 in /home/ec2-user/anaconda3/envs/python3/lib/python3.6/site-packages (from sagemaker==1.72.0) (20.9)\n",
      "Requirement already satisfied: boto3>=1.14.12 in /home/ec2-user/anaconda3/envs/python3/lib/python3.6/site-packages (from sagemaker==1.72.0) (1.17.55)\n",
      "Requirement already satisfied: protobuf>=3.1 in /home/ec2-user/anaconda3/envs/python3/lib/python3.6/site-packages (from sagemaker==1.72.0) (3.15.2)\n",
      "Requirement already satisfied: numpy>=1.9.0 in /home/ec2-user/anaconda3/envs/python3/lib/python3.6/site-packages (from sagemaker==1.72.0) (1.19.5)\n",
      "Requirement already satisfied: scipy>=0.19.0 in /home/ec2-user/anaconda3/envs/python3/lib/python3.6/site-packages (from sagemaker==1.72.0) (1.5.3)\n",
      "Collecting smdebug-rulesconfig==0.1.4\n",
      "  Using cached smdebug_rulesconfig-0.1.4-py2.py3-none-any.whl (10 kB)\n",
      "Requirement already satisfied: importlib-metadata>=1.4.0 in /home/ec2-user/anaconda3/envs/python3/lib/python3.6/site-packages (from sagemaker==1.72.0) (3.7.0)\n",
      "Requirement already satisfied: botocore<1.21.0,>=1.20.55 in /home/ec2-user/anaconda3/envs/python3/lib/python3.6/site-packages (from boto3>=1.14.12->sagemaker==1.72.0) (1.20.55)\n",
      "Requirement already satisfied: s3transfer<0.5.0,>=0.4.0 in /home/ec2-user/anaconda3/envs/python3/lib/python3.6/site-packages (from boto3>=1.14.12->sagemaker==1.72.0) (0.4.1)\n",
      "Requirement already satisfied: jmespath<1.0.0,>=0.7.1 in /home/ec2-user/anaconda3/envs/python3/lib/python3.6/site-packages (from boto3>=1.14.12->sagemaker==1.72.0) (0.10.0)\n",
      "Requirement already satisfied: urllib3<1.27,>=1.25.4 in /home/ec2-user/anaconda3/envs/python3/lib/python3.6/site-packages (from botocore<1.21.0,>=1.20.55->boto3>=1.14.12->sagemaker==1.72.0) (1.26.4)\n",
      "Requirement already satisfied: python-dateutil<3.0.0,>=2.1 in /home/ec2-user/anaconda3/envs/python3/lib/python3.6/site-packages (from botocore<1.21.0,>=1.20.55->boto3>=1.14.12->sagemaker==1.72.0) (2.8.1)\n",
      "Requirement already satisfied: typing-extensions>=3.6.4 in /home/ec2-user/anaconda3/envs/python3/lib/python3.6/site-packages (from importlib-metadata>=1.4.0->sagemaker==1.72.0) (3.7.4.3)\n",
      "Requirement already satisfied: zipp>=0.5 in /home/ec2-user/anaconda3/envs/python3/lib/python3.6/site-packages (from importlib-metadata>=1.4.0->sagemaker==1.72.0) (3.4.0)\n",
      "Requirement already satisfied: pyparsing>=2.0.2 in /home/ec2-user/anaconda3/envs/python3/lib/python3.6/site-packages (from packaging>=20.0->sagemaker==1.72.0) (2.4.7)\n",
      "Requirement already satisfied: six>=1.9 in /home/ec2-user/anaconda3/envs/python3/lib/python3.6/site-packages (from protobuf>=3.1->sagemaker==1.72.0) (1.15.0)\n",
      "Installing collected packages: smdebug-rulesconfig, sagemaker\n",
      "  Attempting uninstall: smdebug-rulesconfig\n",
      "    Found existing installation: smdebug-rulesconfig 1.0.1\n",
      "    Uninstalling smdebug-rulesconfig-1.0.1:\n",
      "      Successfully uninstalled smdebug-rulesconfig-1.0.1\n",
      "  Attempting uninstall: sagemaker\n",
      "    Found existing installation: sagemaker 2.38.0\n",
      "    Uninstalling sagemaker-2.38.0:\n",
      "      Successfully uninstalled sagemaker-2.38.0\n",
      "Successfully installed sagemaker-1.72.0 smdebug-rulesconfig-0.1.4\n"
     ]
    }
   ],
   "source": [
    "# Make sure that we use SageMaker 1.x\n",
    "!pip install sagemaker==1.72.0"
   ]
  },
  {
   "cell_type": "markdown",
   "metadata": {},
   "source": [
    "## Step 1: Downloading the data\n",
    "\n",
    "The dataset we are going to use is very popular among researchers in Natural Language Processing, usually referred to as the [IMDb dataset](http://ai.stanford.edu/~amaas/data/sentiment/). It consists of movie reviews from the website [imdb.com](http://www.imdb.com/), each labeled as either '**pos**itive', if the reviewer enjoyed the film, or '**neg**ative' otherwise.\n",
    "\n",
    "> Maas, Andrew L., et al. [Learning Word Vectors for Sentiment Analysis](http://ai.stanford.edu/~amaas/data/sentiment/). In _Proceedings of the 49th Annual Meeting of the Association for Computational Linguistics: Human Language Technologies_. Association for Computational Linguistics, 2011.\n",
    "\n",
    "We begin by using some Jupyter Notebook magic to download and extract the dataset."
   ]
  },
  {
   "cell_type": "code",
   "execution_count": 1,
   "metadata": {},
   "outputs": [
    {
     "name": "stdout",
     "output_type": "stream",
     "text": [
      "--2021-05-02 20:37:03--  http://ai.stanford.edu/~amaas/data/sentiment/aclImdb_v1.tar.gz\n",
      "Resolving ai.stanford.edu (ai.stanford.edu)... 171.64.68.10\n",
      "Connecting to ai.stanford.edu (ai.stanford.edu)|171.64.68.10|:80... connected.\n",
      "HTTP request sent, awaiting response... 200 OK\n",
      "Length: 84125825 (80M) [application/x-gzip]\n",
      "Saving to: ‘../data/aclImdb_v1.tar.gz’\n",
      "\n",
      "../data/aclImdb_v1. 100%[===================>]  80.23M  23.7MB/s    in 4.5s    \n",
      "\n",
      "2021-05-02 20:37:08 (17.9 MB/s) - ‘../data/aclImdb_v1.tar.gz’ saved [84125825/84125825]\n",
      "\n"
     ]
    }
   ],
   "source": [
    "%mkdir ../data\n",
    "!wget -O ../data/aclImdb_v1.tar.gz http://ai.stanford.edu/~amaas/data/sentiment/aclImdb_v1.tar.gz\n",
    "!tar -zxf ../data/aclImdb_v1.tar.gz -C ../data"
   ]
  },
  {
   "cell_type": "markdown",
   "metadata": {},
   "source": [
    "## Step 2: Preparing the data\n",
    "\n",
    "The data we have downloaded is split into various files, each of which contains a single review. It will be much easier going forward if we combine these individual files into two large files, one for training and one for testing."
   ]
  },
  {
   "cell_type": "code",
   "execution_count": 1,
   "metadata": {},
   "outputs": [],
   "source": [
    "import os\n",
    "import glob\n",
    "\n",
    "def read_imdb_data(data_dir='../data/aclImdb'):\n",
    "    data = {}\n",
    "    labels = {}\n",
    "    \n",
    "    for data_type in ['train', 'test']:\n",
    "        data[data_type] = {}\n",
    "        labels[data_type] = {}\n",
    "        \n",
    "        for sentiment in ['pos', 'neg']:\n",
    "            data[data_type][sentiment] = []\n",
    "            labels[data_type][sentiment] = []\n",
    "            \n",
    "            path = os.path.join(data_dir, data_type, sentiment, '*.txt')\n",
    "            files = glob.glob(path)\n",
    "            \n",
    "            for f in files:\n",
    "                with open(f) as review:\n",
    "                    data[data_type][sentiment].append(review.read())\n",
    "                    # Here we represent a positive review by '1' and a negative review by '0'\n",
    "                    labels[data_type][sentiment].append(1 if sentiment == 'pos' else 0)\n",
    "                    \n",
    "            assert len(data[data_type][sentiment]) == len(labels[data_type][sentiment]), \\\n",
    "                    \"{}/{} data size does not match labels size\".format(data_type, sentiment)\n",
    "                \n",
    "    return data, labels"
   ]
  },
  {
   "cell_type": "code",
   "execution_count": 2,
   "metadata": {},
   "outputs": [
    {
     "name": "stdout",
     "output_type": "stream",
     "text": [
      "IMDB reviews: train = 12500 pos / 12500 neg, test = 12500 pos / 12500 neg\n"
     ]
    }
   ],
   "source": [
    "data, labels = read_imdb_data()\n",
    "print(\"IMDB reviews: train = {} pos / {} neg, test = {} pos / {} neg\".format(\n",
    "            len(data['train']['pos']), len(data['train']['neg']),\n",
    "            len(data['test']['pos']), len(data['test']['neg'])))"
   ]
  },
  {
   "cell_type": "code",
   "execution_count": 3,
   "metadata": {},
   "outputs": [],
   "source": [
    "from sklearn.utils import shuffle\n",
    "\n",
    "def prepare_imdb_data(data, labels):\n",
    "    \"\"\"Prepare training and test sets from IMDb movie reviews.\"\"\"\n",
    "    \n",
    "    #Combine positive and negative reviews and labels\n",
    "    data_train = data['train']['pos'] + data['train']['neg']\n",
    "    data_test = data['test']['pos'] + data['test']['neg']\n",
    "    labels_train = labels['train']['pos'] + labels['train']['neg']\n",
    "    labels_test = labels['test']['pos'] + labels['test']['neg']\n",
    "    \n",
    "    #Shuffle reviews and corresponding labels within training and test sets\n",
    "    data_train, labels_train = shuffle(data_train, labels_train)\n",
    "    data_test, labels_test = shuffle(data_test, labels_test)\n",
    "    \n",
    "    # Return a unified training data, test data, training labels, test labets\n",
    "    return data_train, data_test, labels_train, labels_test"
   ]
  },
  {
   "cell_type": "code",
   "execution_count": 4,
   "metadata": {},
   "outputs": [
    {
     "name": "stdout",
     "output_type": "stream",
     "text": [
      "IMDb reviews (combined): train = 25000, test = 25000\n"
     ]
    }
   ],
   "source": [
    "train_X, test_X, train_y, test_y = prepare_imdb_data(data, labels)\n",
    "print(\"IMDb reviews (combined): train = {}, test = {}\".format(len(train_X), len(test_X)))"
   ]
  },
  {
   "cell_type": "code",
   "execution_count": 5,
   "metadata": {},
   "outputs": [
    {
     "data": {
      "text/plain": [
       "\"Its a good thing I rented the movie before seeing the viewer rating from this site. It was a wonderful movie that I will be adding to my Christmas selection. The cast was wonderfully chosen and Ben Affleck plays a good leading role. I would tell viewers who have not seen the movie to go ahead and buy it. I rate it right up there with Christmas vacation. The movie was very funny and well written and Ben plays the eccentric rich executive very well. The things he says and does is just how I would imagine a person with too much money to act. The movie is much funnier than The Santa Claus and Christmas With The Kranks. Plus it has a good story line and teaches the true meaning of Christmas which is you can't buy love with money.\""
      ]
     },
     "execution_count": 5,
     "metadata": {},
     "output_type": "execute_result"
    }
   ],
   "source": [
    "train_X[100]"
   ]
  },
  {
   "cell_type": "markdown",
   "metadata": {},
   "source": [
    "## Step 3: Processing the data\n",
    "\n",
    "Now that we have our training and testing datasets merged and ready to use, we need to start processing the raw data into something that will be useable by our machine learning algorithm. To begin with, we remove any html formatting that may appear in the reviews and perform some standard natural language processing in order to homogenize the data."
   ]
  },
  {
   "cell_type": "code",
   "execution_count": 6,
   "metadata": {},
   "outputs": [
    {
     "name": "stderr",
     "output_type": "stream",
     "text": [
      "[nltk_data] Downloading package stopwords to\n",
      "[nltk_data]     /home/ec2-user/nltk_data...\n",
      "[nltk_data]   Package stopwords is already up-to-date!\n"
     ]
    }
   ],
   "source": [
    "import nltk\n",
    "nltk.download(\"stopwords\")\n",
    "from nltk.corpus import stopwords\n",
    "from nltk.stem.porter import *\n",
    "stemmer = PorterStemmer()"
   ]
  },
  {
   "cell_type": "code",
   "execution_count": 7,
   "metadata": {},
   "outputs": [],
   "source": [
    "import re\n",
    "from bs4 import BeautifulSoup\n",
    "\n",
    "def review_to_words(review):\n",
    "    text = BeautifulSoup(review, \"html.parser\").get_text() # Remove HTML tags\n",
    "    text = re.sub(r\"[^a-zA-Z0-9]\", \" \", text.lower()) # Convert to lower case\n",
    "    words = text.split() # Split string into words\n",
    "    words = [w for w in words if w not in stopwords.words(\"english\")] # Remove stopwords\n",
    "    words = [PorterStemmer().stem(w) for w in words] # stem\n",
    "    \n",
    "    return words"
   ]
  },
  {
   "cell_type": "code",
   "execution_count": 8,
   "metadata": {},
   "outputs": [],
   "source": [
    "import pickle\n",
    "\n",
    "cache_dir = os.path.join(\"../cache\", \"sentiment_analysis\")  # where to store cache files\n",
    "os.makedirs(cache_dir, exist_ok=True)  # ensure cache directory exists\n",
    "\n",
    "def preprocess_data(data_train, data_test, labels_train, labels_test,\n",
    "                    cache_dir=cache_dir, cache_file=\"preprocessed_data.pkl\"):\n",
    "    \"\"\"Convert each review to words; read from cache if available.\"\"\"\n",
    "\n",
    "    # If cache_file is not None, try to read from it first\n",
    "    cache_data = None\n",
    "    if cache_file is not None:\n",
    "        try:\n",
    "            with open(os.path.join(cache_dir, cache_file), \"rb\") as f:\n",
    "                cache_data = pickle.load(f)\n",
    "            print(\"Read preprocessed data from cache file:\", cache_file)\n",
    "        except:\n",
    "            pass  # unable to read from cache, but that's okay\n",
    "    \n",
    "    # If cache is missing, then do the heavy lifting\n",
    "    if cache_data is None:\n",
    "        # Preprocess training and test data to obtain words for each review\n",
    "        #words_train = list(map(review_to_words, data_train))\n",
    "        #words_test = list(map(review_to_words, data_test))\n",
    "        words_train = [review_to_words(review) for review in data_train]\n",
    "        words_test = [review_to_words(review) for review in data_test]\n",
    "        \n",
    "        # Write to cache file for future runs\n",
    "        if cache_file is not None:\n",
    "            cache_data = dict(words_train=words_train, words_test=words_test,\n",
    "                              labels_train=labels_train, labels_test=labels_test)\n",
    "            with open(os.path.join(cache_dir, cache_file), \"wb\") as f:\n",
    "                pickle.dump(cache_data, f)\n",
    "            print(\"Wrote preprocessed data to cache file:\", cache_file)\n",
    "    else:\n",
    "        # Unpack data loaded from cache file\n",
    "        words_train, words_test, labels_train, labels_test = (cache_data['words_train'],\n",
    "                cache_data['words_test'], cache_data['labels_train'], cache_data['labels_test'])\n",
    "    \n",
    "    return words_train, words_test, labels_train, labels_test"
   ]
  },
  {
   "cell_type": "code",
   "execution_count": 9,
   "metadata": {},
   "outputs": [
    {
     "name": "stdout",
     "output_type": "stream",
     "text": [
      "Read preprocessed data from cache file: preprocessed_data.pkl\n"
     ]
    }
   ],
   "source": [
    "# Preprocess data\n",
    "train_X, test_X, train_y, test_y = preprocess_data(train_X, test_X, train_y, test_y)"
   ]
  },
  {
   "cell_type": "markdown",
   "metadata": {},
   "source": [
    "### Extract Bag-of-Words features\n",
    "\n",
    "For the model we will be implementing, rather than using the reviews directly, we are going to transform each review into a Bag-of-Words feature representation. Keep in mind that 'in the wild' we will only have access to the training set so our transformer can only use the training set to construct a representation."
   ]
  },
  {
   "cell_type": "code",
   "execution_count": 10,
   "metadata": {},
   "outputs": [],
   "source": [
    "import numpy as np\n",
    "from sklearn.feature_extraction.text import CountVectorizer\n",
    "import joblib\n",
    "# joblib is an enhanced version of pickle that is more efficient for storing NumPy arrays\n",
    "\n",
    "def extract_BoW_features(words_train, words_test, vocabulary_size=5000,\n",
    "                         cache_dir=cache_dir, cache_file=\"bow_features.pkl\"):\n",
    "    \"\"\"Extract Bag-of-Words for a given set of documents, already preprocessed into words.\"\"\"\n",
    "    \n",
    "    # If cache_file is not None, try to read from it first\n",
    "    cache_data = None\n",
    "    if cache_file is not None:\n",
    "        try:\n",
    "            with open(os.path.join(cache_dir, cache_file), \"rb\") as f:\n",
    "                cache_data = joblib.load(f)\n",
    "            print(\"Read features from cache file:\", cache_file)\n",
    "        except:\n",
    "            pass  # unable to read from cache, but that's okay\n",
    "    \n",
    "    # If cache is missing, then do the heavy lifting\n",
    "    if cache_data is None:\n",
    "        # Fit a vectorizer to training documents and use it to transform them\n",
    "        # NOTE: Training documents have already been preprocessed and tokenized into words;\n",
    "        #       pass in dummy functions to skip those steps, e.g. preprocessor=lambda x: x\n",
    "        vectorizer = CountVectorizer(max_features=vocabulary_size,\n",
    "                preprocessor=lambda x: x, tokenizer=lambda x: x)  # already preprocessed\n",
    "        features_train = vectorizer.fit_transform(words_train).toarray()\n",
    "\n",
    "        # Apply the same vectorizer to transform the test documents (ignore unknown words)\n",
    "        features_test = vectorizer.transform(words_test).toarray()\n",
    "        \n",
    "        # NOTE: Remember to convert the features using .toarray() for a compact representation\n",
    "        \n",
    "        # Write to cache file for future runs (store vocabulary as well)\n",
    "        if cache_file is not None:\n",
    "            vocabulary = vectorizer.vocabulary_\n",
    "            cache_data = dict(features_train=features_train, features_test=features_test,\n",
    "                             vocabulary=vocabulary)\n",
    "            with open(os.path.join(cache_dir, cache_file), \"wb\") as f:\n",
    "                joblib.dump(cache_data, f)\n",
    "            print(\"Wrote features to cache file:\", cache_file)\n",
    "    else:\n",
    "        # Unpack data loaded from cache file\n",
    "        features_train, features_test, vocabulary = (cache_data['features_train'],\n",
    "                cache_data['features_test'], cache_data['vocabulary'])\n",
    "    \n",
    "    # Return both the extracted features as well as the vocabulary\n",
    "    return features_train, features_test, vocabulary"
   ]
  },
  {
   "cell_type": "code",
   "execution_count": 11,
   "metadata": {},
   "outputs": [
    {
     "name": "stdout",
     "output_type": "stream",
     "text": [
      "Read features from cache file: bow_features.pkl\n"
     ]
    }
   ],
   "source": [
    "# Extract Bag of Words features for both training and test datasets\n",
    "train_X, test_X, vocabulary = extract_BoW_features(train_X, test_X)"
   ]
  },
  {
   "cell_type": "markdown",
   "metadata": {},
   "source": [
    "## Step 4: Classification using XGBoost\n",
    "\n",
    "Now that we have created the feature representation of our training (and testing) data, it is time to start setting up and using the XGBoost classifier provided by SageMaker.\n",
    "\n",
    "### Writing the dataset\n",
    "\n",
    "The XGBoost classifier that we will be using requires the dataset to be written to a file and stored using Amazon S3. To do this, we will start by splitting the training dataset into two parts, the data we will train the model with and a validation set. Then, we will write those datasets to a file and upload the files to S3. In addition, we will write the test set input to a file and upload the file to S3. This is so that we can use SageMakers Batch Transform functionality to test our model once we've fit it."
   ]
  },
  {
   "cell_type": "code",
   "execution_count": 12,
   "metadata": {},
   "outputs": [],
   "source": [
    "import pandas as pd\n",
    "\n",
    "val_X = pd.DataFrame(train_X[:10000])\n",
    "train_X = pd.DataFrame(train_X[10000:])\n",
    "\n",
    "val_y = pd.DataFrame(train_y[:10000])\n",
    "train_y = pd.DataFrame(train_y[10000:])\n",
    "\n",
    "test_y = pd.DataFrame(test_y)\n",
    "test_X = pd.DataFrame(test_X)"
   ]
  },
  {
   "cell_type": "markdown",
   "metadata": {},
   "source": [
    "The documentation for the XGBoost algorithm in SageMaker requires that the saved datasets should contain no headers or index and that for the training and validation data, the label should occur first for each sample.\n",
    "\n",
    "For more information about this and other algorithms, the SageMaker developer documentation can be found on __[Amazon's website.](https://docs.aws.amazon.com/sagemaker/latest/dg/)__"
   ]
  },
  {
   "cell_type": "code",
   "execution_count": 13,
   "metadata": {},
   "outputs": [],
   "source": [
    "# First we make sure that the local directory in which we'd like to store the training and validation csv files exists.\n",
    "data_dir = '../data/xgboost'\n",
    "if not os.path.exists(data_dir):\n",
    "    os.makedirs(data_dir)"
   ]
  },
  {
   "cell_type": "code",
   "execution_count": 14,
   "metadata": {},
   "outputs": [],
   "source": [
    "# First, save the test data to test.csv in the data_dir directory. Note that we do not save the associated ground truth\n",
    "# labels, instead we will use them later to compare with our model output.\n",
    "\n",
    "test_X.to_csv(os.path.join(data_dir, 'test.csv'), header=False, index=False)\n",
    "pd.concat([val_y, val_X], axis=1).to_csv(os.path.join(data_dir, 'validation.csv'), header=False, index=False)\n",
    "pd.concat([train_y, train_X], axis=1).to_csv(os.path.join(data_dir, 'train.csv'), header=False, index=False)"
   ]
  },
  {
   "cell_type": "code",
   "execution_count": 15,
   "metadata": {},
   "outputs": [],
   "source": [
    "# To save a bit of memory we can set text_X, train_X, val_X, train_y and val_y to None.\n",
    "\n",
    "train_X = val_X = train_y = val_y = None"
   ]
  },
  {
   "cell_type": "markdown",
   "metadata": {},
   "source": [
    "### Uploading Training / Validation files to S3\n",
    "\n",
    "Amazon's S3 service allows us to store files that can be access by both the built-in training models such as the XGBoost model we will be using as well as custom models such as the one we will see a little later.\n",
    "\n",
    "For this, and most other tasks we will be doing using SageMaker, there are two methods we could use. The first is to use the low level functionality of SageMaker which requires knowing each of the objects involved in the SageMaker environment. The second is to use the high level functionality in which certain choices have been made on the user's behalf. The low level approach benefits from allowing the user a great deal of flexibility while the high level approach makes development much quicker. For our purposes we will opt to use the high level approach although using the low-level approach is certainly an option.\n",
    "\n",
    "Recall the method `upload_data()` which is a member of object representing our current SageMaker session. What this method does is upload the data to the default bucket (which is created if it does not exist) into the path described by the key_prefix variable. To see this for yourself, once you have uploaded the data files, go to the S3 console and look to see where the files have been uploaded.\n",
    "\n",
    "For additional resources, see the __[SageMaker API documentation](http://sagemaker.readthedocs.io/en/latest/)__ and in addition the __[SageMaker Developer Guide.](https://docs.aws.amazon.com/sagemaker/latest/dg/)__"
   ]
  },
  {
   "cell_type": "code",
   "execution_count": 16,
   "metadata": {},
   "outputs": [],
   "source": [
    "import sagemaker\n",
    "\n",
    "session = sagemaker.Session() # Store the current SageMaker session\n",
    "\n",
    "# S3 prefix (which folder will we use)\n",
    "prefix = 'sentiment-xgboost'\n",
    "\n",
    "test_location = session.upload_data(os.path.join(data_dir, 'test.csv'), key_prefix=prefix)\n",
    "val_location = session.upload_data(os.path.join(data_dir, 'validation.csv'), key_prefix=prefix)\n",
    "train_location = session.upload_data(os.path.join(data_dir, 'train.csv'), key_prefix=prefix)"
   ]
  },
  {
   "cell_type": "markdown",
   "metadata": {},
   "source": [
    "### (TODO) Creating a hypertuned XGBoost model\n",
    "\n",
    "Now that the data has been uploaded it is time to create the XGBoost model. As in the Boston Housing notebook, the first step is to create an estimator object which will be used as the *base* of your hyperparameter tuning job."
   ]
  },
  {
   "cell_type": "code",
   "execution_count": 17,
   "metadata": {},
   "outputs": [],
   "source": [
    "from sagemaker import get_execution_role\n",
    "\n",
    "# Our current execution role is require when creating the model as the training\n",
    "# and inference code will need to access the model artifacts.\n",
    "role = get_execution_role()"
   ]
  },
  {
   "cell_type": "code",
   "execution_count": 18,
   "metadata": {},
   "outputs": [
    {
     "name": "stderr",
     "output_type": "stream",
     "text": [
      "'get_image_uri' method will be deprecated in favor of 'ImageURIProvider' class in SageMaker Python SDK v2.\n",
      "There is a more up to date SageMaker XGBoost image. To use the newer image, please set 'repo_version'='1.0-1'. For example:\n",
      "\tget_image_uri(region, 'xgboost', '1.0-1').\n"
     ]
    }
   ],
   "source": [
    "# We need to retrieve the location of the container which is provided by Amazon for using XGBoost.\n",
    "# As a matter of convenience, the training and inference code both use the same container.\n",
    "from sagemaker.amazon.amazon_estimator import get_image_uri\n",
    "\n",
    "container = get_image_uri(session.boto_region_name, 'xgboost')"
   ]
  },
  {
   "cell_type": "code",
   "execution_count": 19,
   "metadata": {},
   "outputs": [
    {
     "name": "stderr",
     "output_type": "stream",
     "text": [
      "Parameter image_name will be renamed to image_uri in SageMaker Python SDK v2.\n"
     ]
    }
   ],
   "source": [
    "#  Create a SageMaker estimator using the container location determined in the previous cell.\n",
    "#       It is recommended that you use a single training instance of type ml.m4.xlarge. It is also\n",
    "#       recommended that you use 's3://{}/{}/output'.format(session.default_bucket(), prefix) as the\n",
    "#       output path.\n",
    "\n",
    "xgb = sagemaker.estimator.Estimator(container, # The image name of the training container\n",
    "                                    role,      # The IAM role to use (our current role in this case)\n",
    "                                    train_instance_count=1, # The number of instances to use for training\n",
    "                                    train_instance_type='ml.m4.xlarge', # The type of instance to use for training\n",
    "                                    output_path='s3://{}/{}/output'.format(session.default_bucket(), prefix),\n",
    "                                                                        # Where to save the output (the model artifacts)\n",
    "                                    sagemaker_session=session) # The current SageMaker session\n",
    "\n",
    "\n",
    "#  Set the XGBoost hyperparameters in the xgb object. Don't forget that in this case we have a binary\n",
    "#       label so we should be using the 'binary:logistic' objective.\n",
    "xgb.set_hyperparameters(max_depth=5,\n",
    "                        eta=0.2,\n",
    "                        gamma=4,\n",
    "                        min_child_weight=6,\n",
    "                        subsample=0.8,\n",
    "                        objective='binary:logistic',\n",
    "                        early_stopping_rounds=10,\n",
    "                        num_round=200)\n",
    "\n",
    "\n"
   ]
  },
  {
   "cell_type": "markdown",
   "metadata": {},
   "source": [
    "### (TODO) Create the hyperparameter tuner\n",
    "\n",
    "Now that the base estimator has been set up we need to construct a hyperparameter tuner object which we will use to request SageMaker construct a hyperparameter tuning job.\n",
    "\n",
    "**Note:** Training a single sentiment analysis XGBoost model takes longer than training a Boston Housing XGBoost model so if you don't want the hyperparameter tuning job to take too long, make sure to not set the total number of models (jobs) too high."
   ]
  },
  {
   "cell_type": "code",
   "execution_count": 20,
   "metadata": {},
   "outputs": [],
   "source": [
    "# First, make sure to import the relevant objects used to construct the tuner\n",
    "from sagemaker.tuner import IntegerParameter, ContinuousParameter, HyperparameterTuner\n",
    "\n",
    "# Create the hyperparameter tuner object\n",
    "from sagemaker.tuner import IntegerParameter, ContinuousParameter, HyperparameterTuner\n",
    "\n",
    "xgb_hyperparameter_tuner = HyperparameterTuner(estimator = xgb, # The estimator object to use as the basis for the training jobs.\n",
    "                                               objective_metric_name = 'validation:rmse', # The metric used to compare trained models.\n",
    "                                               objective_type = 'Minimize', # Whether we wish to minimize or maximize the metric.\n",
    "                                               max_jobs = 9, # The total number of models to train\n",
    "                                               max_parallel_jobs = 3, # The number of models to train in parallel\n",
    "                                               hyperparameter_ranges = {\n",
    "                                                    'max_depth': IntegerParameter(3, 12),\n",
    "                                                    'eta'      : ContinuousParameter(0.05, 0.5),\n",
    "                                                    'min_child_weight': IntegerParameter(2, 8),\n",
    "                                                    'subsample': ContinuousParameter(0.5, 0.9),\n",
    "                                                    'gamma': ContinuousParameter(0, 10),\n",
    "                                               })\n",
    "\n"
   ]
  },
  {
   "cell_type": "markdown",
   "metadata": {},
   "source": [
    "### Fit the hyperparameter tuner\n",
    "\n",
    "Now that the hyperparameter tuner object has been constructed, it is time to fit the various models and find the best performing model."
   ]
  },
  {
   "cell_type": "code",
   "execution_count": 21,
   "metadata": {},
   "outputs": [
    {
     "name": "stderr",
     "output_type": "stream",
     "text": [
      "'s3_input' class will be renamed to 'TrainingInput' in SageMaker Python SDK v2.\n",
      "'s3_input' class will be renamed to 'TrainingInput' in SageMaker Python SDK v2.\n"
     ]
    }
   ],
   "source": [
    "s3_input_train = sagemaker.s3_input(s3_data=train_location, content_type='csv')\n",
    "s3_input_validation = sagemaker.s3_input(s3_data=val_location, content_type='csv')"
   ]
  },
  {
   "cell_type": "code",
   "execution_count": 22,
   "metadata": {},
   "outputs": [],
   "source": [
    "xgb_hyperparameter_tuner.fit({'train': s3_input_train, 'validation': s3_input_validation})"
   ]
  },
  {
   "cell_type": "markdown",
   "metadata": {},
   "source": [
    "Remember that the tuning job is constructed and run in the background so if we want to see the progress of our training job we need to call the `wait()` method."
   ]
  },
  {
   "cell_type": "code",
   "execution_count": 23,
   "metadata": {},
   "outputs": [
    {
     "name": "stdout",
     "output_type": "stream",
     "text": [
      ".............................................................................................................................................................................................................................................................................................................................................................................................................................................!\n"
     ]
    }
   ],
   "source": [
    "xgb_hyperparameter_tuner.wait()"
   ]
  },
  {
   "cell_type": "markdown",
   "metadata": {},
   "source": [
    "### (TODO) Testing the model\n",
    "\n",
    "Now that we've run our hyperparameter tuning job, it's time to see how well the best performing model actually performs. To do this we will use SageMaker's Batch Transform functionality. Batch Transform is a convenient way to perform inference on a large dataset in a way that is not realtime. That is, we don't necessarily need to use our model's results immediately and instead we can peform inference on a large number of samples. An example of this in industry might be peforming an end of month report. This method of inference can also be useful to us as it means to can perform inference on our entire test set. \n",
    "\n",
    "Remember that in order to create a transformer object to perform the batch transform job, we need a trained estimator object. We can do that using the `attach()` method, creating an estimator object which is attached to the best trained job."
   ]
  },
  {
   "cell_type": "code",
   "execution_count": 24,
   "metadata": {},
   "outputs": [
    {
     "data": {
      "text/plain": [
       "'xgboost-210502-2346-005-de7fe0f7'"
      ]
     },
     "execution_count": 24,
     "metadata": {},
     "output_type": "execute_result"
    }
   ],
   "source": [
    "xgb_hyperparameter_tuner.best_training_job()\n"
   ]
  },
  {
   "cell_type": "code",
   "execution_count": 25,
   "metadata": {},
   "outputs": [
    {
     "name": "stderr",
     "output_type": "stream",
     "text": [
      "Parameter image_name will be renamed to image_uri in SageMaker Python SDK v2.\n"
     ]
    },
    {
     "name": "stdout",
     "output_type": "stream",
     "text": [
      "2021-05-03 00:07:22 Starting - Preparing the instances for training\n",
      "2021-05-03 00:07:22 Downloading - Downloading input data\n",
      "2021-05-03 00:07:22 Training - Training image download completed. Training in progress.\n",
      "2021-05-03 00:07:22 Uploading - Uploading generated training model\n",
      "2021-05-03 00:07:22 Completed - Training job completed\u001b[34mArguments: train\u001b[0m\n",
      "\u001b[34m[2021-05-03:00:00:01:INFO] Running standalone xgboost training.\u001b[0m\n",
      "\u001b[34m[2021-05-03:00:00:01:INFO] Setting up HPO optimized metric to be : rmse\u001b[0m\n",
      "\u001b[34m[2021-05-03:00:00:01:INFO] File size need to be processed in the node: 238.47mb. Available memory size in the node: 8407.56mb\u001b[0m\n",
      "\u001b[34m[2021-05-03:00:00:01:INFO] Determined delimiter of CSV input is ','\u001b[0m\n",
      "\u001b[34m[00:00:01] S3DistributionType set as FullyReplicated\u001b[0m\n",
      "\u001b[34m[00:00:03] 15000x5000 matrix with 75000000 entries loaded from /opt/ml/input/data/train?format=csv&label_column=0&delimiter=,\u001b[0m\n",
      "\u001b[34m[2021-05-03:00:00:03:INFO] Determined delimiter of CSV input is ','\u001b[0m\n",
      "\u001b[34m[00:00:03] S3DistributionType set as FullyReplicated\u001b[0m\n",
      "\u001b[34m[00:00:04] 10000x5000 matrix with 50000000 entries loaded from /opt/ml/input/data/validation?format=csv&label_column=0&delimiter=,\u001b[0m\n",
      "\u001b[34m[00:00:09] src/tree/updater_prune.cc:74: tree pruning end, 1 roots, 76 extra nodes, 44 pruned nodes, max_depth=8\u001b[0m\n",
      "\u001b[34m[0]#011train-rmse:0.468789#011validation-rmse:0.470172\u001b[0m\n",
      "\u001b[34mMultiple eval metrics have been passed: 'validation-rmse' will be used for early stopping.\n",
      "\u001b[0m\n",
      "\u001b[34mWill train until validation-rmse hasn't improved in 10 rounds.\u001b[0m\n",
      "\u001b[34m[00:00:11] src/tree/updater_prune.cc:74: tree pruning end, 1 roots, 58 extra nodes, 62 pruned nodes, max_depth=8\u001b[0m\n",
      "\u001b[34m[1]#011train-rmse:0.448111#011validation-rmse:0.450605\u001b[0m\n",
      "\u001b[34m[00:00:13] src/tree/updater_prune.cc:74: tree pruning end, 1 roots, 38 extra nodes, 50 pruned nodes, max_depth=8\u001b[0m\n",
      "\u001b[34m[2]#011train-rmse:0.433596#011validation-rmse:0.437465\u001b[0m\n",
      "\u001b[34m[00:00:16] src/tree/updater_prune.cc:74: tree pruning end, 1 roots, 66 extra nodes, 54 pruned nodes, max_depth=8\u001b[0m\n",
      "\u001b[34m[3]#011train-rmse:0.421572#011validation-rmse:0.426805\u001b[0m\n",
      "\u001b[34m[00:00:18] src/tree/updater_prune.cc:74: tree pruning end, 1 roots, 42 extra nodes, 46 pruned nodes, max_depth=8\u001b[0m\n",
      "\u001b[34m[4]#011train-rmse:0.412719#011validation-rmse:0.418176\u001b[0m\n",
      "\u001b[34m[00:00:20] src/tree/updater_prune.cc:74: tree pruning end, 1 roots, 34 extra nodes, 48 pruned nodes, max_depth=8\u001b[0m\n",
      "\u001b[34m[5]#011train-rmse:0.405081#011validation-rmse:0.41173\u001b[0m\n",
      "\u001b[34m[00:00:22] src/tree/updater_prune.cc:74: tree pruning end, 1 roots, 32 extra nodes, 58 pruned nodes, max_depth=8\u001b[0m\n",
      "\u001b[34m[6]#011train-rmse:0.397827#011validation-rmse:0.405494\u001b[0m\n",
      "\u001b[34m[00:00:24] src/tree/updater_prune.cc:74: tree pruning end, 1 roots, 44 extra nodes, 42 pruned nodes, max_depth=8\u001b[0m\n",
      "\u001b[34m[7]#011train-rmse:0.391705#011validation-rmse:0.399896\u001b[0m\n",
      "\u001b[34m[00:00:26] src/tree/updater_prune.cc:74: tree pruning end, 1 roots, 36 extra nodes, 46 pruned nodes, max_depth=8\u001b[0m\n",
      "\u001b[34m[8]#011train-rmse:0.386441#011validation-rmse:0.395841\u001b[0m\n",
      "\u001b[34m[00:00:28] src/tree/updater_prune.cc:74: tree pruning end, 1 roots, 20 extra nodes, 50 pruned nodes, max_depth=8\u001b[0m\n",
      "\u001b[34m[9]#011train-rmse:0.382019#011validation-rmse:0.391657\u001b[0m\n",
      "\u001b[34m[00:00:31] src/tree/updater_prune.cc:74: tree pruning end, 1 roots, 48 extra nodes, 56 pruned nodes, max_depth=8\u001b[0m\n",
      "\u001b[34m[10]#011train-rmse:0.37706#011validation-rmse:0.388449\u001b[0m\n",
      "\u001b[34m[00:00:33] src/tree/updater_prune.cc:74: tree pruning end, 1 roots, 36 extra nodes, 42 pruned nodes, max_depth=8\u001b[0m\n",
      "\u001b[34m[11]#011train-rmse:0.373003#011validation-rmse:0.385203\u001b[0m\n",
      "\u001b[34m[00:00:35] src/tree/updater_prune.cc:74: tree pruning end, 1 roots, 44 extra nodes, 52 pruned nodes, max_depth=8\u001b[0m\n",
      "\u001b[34m[12]#011train-rmse:0.368344#011validation-rmse:0.381987\u001b[0m\n",
      "\u001b[34m[00:00:37] src/tree/updater_prune.cc:74: tree pruning end, 1 roots, 26 extra nodes, 38 pruned nodes, max_depth=8\u001b[0m\n",
      "\u001b[34m[13]#011train-rmse:0.364613#011validation-rmse:0.379099\u001b[0m\n",
      "\u001b[34m[00:00:39] src/tree/updater_prune.cc:74: tree pruning end, 1 roots, 42 extra nodes, 54 pruned nodes, max_depth=8\u001b[0m\n",
      "\u001b[34m[14]#011train-rmse:0.360639#011validation-rmse:0.376658\u001b[0m\n",
      "\u001b[34m[00:00:41] src/tree/updater_prune.cc:74: tree pruning end, 1 roots, 36 extra nodes, 44 pruned nodes, max_depth=8\u001b[0m\n",
      "\u001b[34m[15]#011train-rmse:0.357015#011validation-rmse:0.374152\u001b[0m\n",
      "\u001b[34m[00:00:43] src/tree/updater_prune.cc:74: tree pruning end, 1 roots, 30 extra nodes, 36 pruned nodes, max_depth=8\u001b[0m\n",
      "\u001b[34m[16]#011train-rmse:0.353879#011validation-rmse:0.371845\u001b[0m\n",
      "\u001b[34m[00:00:45] src/tree/updater_prune.cc:74: tree pruning end, 1 roots, 34 extra nodes, 34 pruned nodes, max_depth=8\u001b[0m\n",
      "\u001b[34m[17]#011train-rmse:0.350854#011validation-rmse:0.36995\u001b[0m\n",
      "\u001b[34m[00:00:47] src/tree/updater_prune.cc:74: tree pruning end, 1 roots, 20 extra nodes, 54 pruned nodes, max_depth=8\u001b[0m\n",
      "\u001b[34m[18]#011train-rmse:0.34857#011validation-rmse:0.368132\u001b[0m\n",
      "\u001b[34m[00:00:49] src/tree/updater_prune.cc:74: tree pruning end, 1 roots, 38 extra nodes, 44 pruned nodes, max_depth=8\u001b[0m\n",
      "\u001b[34m[19]#011train-rmse:0.345476#011validation-rmse:0.366574\u001b[0m\n",
      "\u001b[34m[00:00:51] src/tree/updater_prune.cc:74: tree pruning end, 1 roots, 26 extra nodes, 28 pruned nodes, max_depth=8\u001b[0m\n",
      "\u001b[34m[20]#011train-rmse:0.342921#011validation-rmse:0.365076\u001b[0m\n",
      "\u001b[34m[00:00:54] src/tree/updater_prune.cc:74: tree pruning end, 1 roots, 18 extra nodes, 32 pruned nodes, max_depth=8\u001b[0m\n",
      "\u001b[34m[21]#011train-rmse:0.340872#011validation-rmse:0.363224\u001b[0m\n",
      "\u001b[34m[00:00:56] src/tree/updater_prune.cc:74: tree pruning end, 1 roots, 22 extra nodes, 40 pruned nodes, max_depth=8\u001b[0m\n",
      "\u001b[34m[22]#011train-rmse:0.338743#011validation-rmse:0.361852\u001b[0m\n",
      "\u001b[34m[00:00:58] src/tree/updater_prune.cc:74: tree pruning end, 1 roots, 20 extra nodes, 50 pruned nodes, max_depth=8\u001b[0m\n",
      "\u001b[34m[23]#011train-rmse:0.33698#011validation-rmse:0.360421\u001b[0m\n",
      "\u001b[34m[00:01:00] src/tree/updater_prune.cc:74: tree pruning end, 1 roots, 22 extra nodes, 54 pruned nodes, max_depth=8\u001b[0m\n",
      "\u001b[34m[24]#011train-rmse:0.335228#011validation-rmse:0.358892\u001b[0m\n",
      "\u001b[34m[00:01:02] src/tree/updater_prune.cc:74: tree pruning end, 1 roots, 40 extra nodes, 68 pruned nodes, max_depth=8\u001b[0m\n",
      "\u001b[34m[25]#011train-rmse:0.332514#011validation-rmse:0.357326\u001b[0m\n",
      "\u001b[34m[00:01:05] src/tree/updater_prune.cc:74: tree pruning end, 1 roots, 30 extra nodes, 44 pruned nodes, max_depth=8\u001b[0m\n",
      "\u001b[34m[26]#011train-rmse:0.330477#011validation-rmse:0.355867\u001b[0m\n",
      "\u001b[34m[00:01:07] src/tree/updater_prune.cc:74: tree pruning end, 1 roots, 18 extra nodes, 42 pruned nodes, max_depth=8\u001b[0m\n",
      "\u001b[34m[27]#011train-rmse:0.328995#011validation-rmse:0.354663\u001b[0m\n",
      "\u001b[34m[00:01:09] src/tree/updater_prune.cc:74: tree pruning end, 1 roots, 16 extra nodes, 48 pruned nodes, max_depth=8\u001b[0m\n",
      "\u001b[34m[28]#011train-rmse:0.327523#011validation-rmse:0.353689\u001b[0m\n",
      "\u001b[34m[00:01:12] src/tree/updater_prune.cc:74: tree pruning end, 1 roots, 32 extra nodes, 28 pruned nodes, max_depth=8\u001b[0m\n",
      "\u001b[34m[29]#011train-rmse:0.325216#011validation-rmse:0.352546\u001b[0m\n",
      "\u001b[34m[00:01:14] src/tree/updater_prune.cc:74: tree pruning end, 1 roots, 38 extra nodes, 74 pruned nodes, max_depth=8\u001b[0m\n",
      "\u001b[34m[30]#011train-rmse:0.322962#011validation-rmse:0.351541\u001b[0m\n",
      "\u001b[34m[00:01:16] src/tree/updater_prune.cc:74: tree pruning end, 1 roots, 18 extra nodes, 20 pruned nodes, max_depth=8\u001b[0m\n",
      "\u001b[34m[31]#011train-rmse:0.32165#011validation-rmse:0.350389\u001b[0m\n",
      "\u001b[34m[00:01:18] src/tree/updater_prune.cc:74: tree pruning end, 1 roots, 22 extra nodes, 52 pruned nodes, max_depth=8\u001b[0m\n",
      "\u001b[34m[32]#011train-rmse:0.320099#011validation-rmse:0.349567\u001b[0m\n",
      "\u001b[34m[00:01:20] src/tree/updater_prune.cc:74: tree pruning end, 1 roots, 18 extra nodes, 44 pruned nodes, max_depth=8\u001b[0m\n",
      "\u001b[34m[33]#011train-rmse:0.318959#011validation-rmse:0.348629\u001b[0m\n",
      "\u001b[34m[00:01:22] src/tree/updater_prune.cc:74: tree pruning end, 1 roots, 24 extra nodes, 20 pruned nodes, max_depth=8\u001b[0m\n",
      "\u001b[34m[34]#011train-rmse:0.317397#011validation-rmse:0.347673\u001b[0m\n",
      "\u001b[34m[00:01:24] src/tree/updater_prune.cc:74: tree pruning end, 1 roots, 16 extra nodes, 42 pruned nodes, max_depth=8\u001b[0m\n",
      "\u001b[34m[35]#011train-rmse:0.316229#011validation-rmse:0.346983\u001b[0m\n",
      "\u001b[34m[00:01:26] src/tree/updater_prune.cc:74: tree pruning end, 1 roots, 30 extra nodes, 30 pruned nodes, max_depth=8\u001b[0m\n",
      "\u001b[34m[36]#011train-rmse:0.314623#011validation-rmse:0.346096\u001b[0m\n",
      "\u001b[34m[00:01:28] src/tree/updater_prune.cc:74: tree pruning end, 1 roots, 24 extra nodes, 30 pruned nodes, max_depth=8\u001b[0m\n",
      "\u001b[34m[37]#011train-rmse:0.31333#011validation-rmse:0.345055\u001b[0m\n",
      "\u001b[34m[00:01:30] src/tree/updater_prune.cc:74: tree pruning end, 1 roots, 20 extra nodes, 18 pruned nodes, max_depth=8\u001b[0m\n",
      "\u001b[34m[38]#011train-rmse:0.312094#011validation-rmse:0.344395\u001b[0m\n",
      "\u001b[34m[00:01:32] src/tree/updater_prune.cc:74: tree pruning end, 1 roots, 28 extra nodes, 52 pruned nodes, max_depth=8\u001b[0m\n",
      "\u001b[34m[39]#011train-rmse:0.310428#011validation-rmse:0.343232\u001b[0m\n",
      "\u001b[34m[00:01:35] src/tree/updater_prune.cc:74: tree pruning end, 1 roots, 22 extra nodes, 26 pruned nodes, max_depth=8\u001b[0m\n",
      "\u001b[34m[40]#011train-rmse:0.30892#011validation-rmse:0.341335\u001b[0m\n",
      "\u001b[34m[00:01:37] src/tree/updater_prune.cc:74: tree pruning end, 1 roots, 34 extra nodes, 42 pruned nodes, max_depth=8\u001b[0m\n",
      "\u001b[34m[41]#011train-rmse:0.306976#011validation-rmse:0.340846\u001b[0m\n",
      "\u001b[34m[00:01:39] src/tree/updater_prune.cc:74: tree pruning end, 1 roots, 20 extra nodes, 30 pruned nodes, max_depth=8\u001b[0m\n",
      "\u001b[34m[42]#011train-rmse:0.305908#011validation-rmse:0.340285\u001b[0m\n",
      "\u001b[34m[00:01:41] src/tree/updater_prune.cc:74: tree pruning end, 1 roots, 20 extra nodes, 28 pruned nodes, max_depth=8\u001b[0m\n",
      "\u001b[34m[43]#011train-rmse:0.304642#011validation-rmse:0.339787\u001b[0m\n",
      "\u001b[34m[00:01:43] src/tree/updater_prune.cc:74: tree pruning end, 1 roots, 28 extra nodes, 40 pruned nodes, max_depth=8\u001b[0m\n",
      "\u001b[34m[44]#011train-rmse:0.303103#011validation-rmse:0.339052\u001b[0m\n",
      "\u001b[34m[00:01:45] src/tree/updater_prune.cc:74: tree pruning end, 1 roots, 22 extra nodes, 52 pruned nodes, max_depth=8\u001b[0m\n",
      "\u001b[34m[45]#011train-rmse:0.301941#011validation-rmse:0.338758\u001b[0m\n",
      "\u001b[34m[00:01:47] src/tree/updater_prune.cc:74: tree pruning end, 1 roots, 20 extra nodes, 30 pruned nodes, max_depth=8\u001b[0m\n",
      "\u001b[34m[46]#011train-rmse:0.300788#011validation-rmse:0.337898\u001b[0m\n",
      "\u001b[34m[00:01:49] src/tree/updater_prune.cc:74: tree pruning end, 1 roots, 16 extra nodes, 8 pruned nodes, max_depth=8\u001b[0m\n",
      "\u001b[34m[47]#011train-rmse:0.299855#011validation-rmse:0.337198\u001b[0m\n",
      "\u001b[34m[00:01:51] src/tree/updater_prune.cc:74: tree pruning end, 1 roots, 18 extra nodes, 38 pruned nodes, max_depth=8\u001b[0m\n",
      "\u001b[34m[48]#011train-rmse:0.298941#011validation-rmse:0.336734\u001b[0m\n",
      "\u001b[34m[00:01:53] src/tree/updater_prune.cc:74: tree pruning end, 1 roots, 16 extra nodes, 26 pruned nodes, max_depth=8\u001b[0m\n",
      "\u001b[34m[49]#011train-rmse:0.297931#011validation-rmse:0.336048\u001b[0m\n",
      "\u001b[34m[00:01:55] src/tree/updater_prune.cc:74: tree pruning end, 1 roots, 16 extra nodes, 16 pruned nodes, max_depth=8\u001b[0m\n",
      "\u001b[34m[50]#011train-rmse:0.297163#011validation-rmse:0.335377\u001b[0m\n",
      "\u001b[34m[00:01:58] src/tree/updater_prune.cc:74: tree pruning end, 1 roots, 16 extra nodes, 26 pruned nodes, max_depth=8\u001b[0m\n",
      "\u001b[34m[51]#011train-rmse:0.296397#011validation-rmse:0.334921\u001b[0m\n",
      "\u001b[34m[00:02:00] src/tree/updater_prune.cc:74: tree pruning end, 1 roots, 18 extra nodes, 32 pruned nodes, max_depth=8\u001b[0m\n",
      "\u001b[34m[52]#011train-rmse:0.295561#011validation-rmse:0.334416\u001b[0m\n",
      "\u001b[34m[00:02:02] src/tree/updater_prune.cc:74: tree pruning end, 1 roots, 16 extra nodes, 22 pruned nodes, max_depth=8\u001b[0m\n",
      "\u001b[34m[53]#011train-rmse:0.294779#011validation-rmse:0.333947\u001b[0m\n",
      "\u001b[34m[00:02:04] src/tree/updater_prune.cc:74: tree pruning end, 1 roots, 18 extra nodes, 52 pruned nodes, max_depth=8\u001b[0m\n",
      "\u001b[34m[54]#011train-rmse:0.29398#011validation-rmse:0.333491\u001b[0m\n",
      "\u001b[34m[00:02:07] src/tree/updater_prune.cc:74: tree pruning end, 1 roots, 18 extra nodes, 50 pruned nodes, max_depth=8\u001b[0m\n",
      "\u001b[34m[55]#011train-rmse:0.293101#011validation-rmse:0.33339\u001b[0m\n",
      "\u001b[34m[00:02:09] src/tree/updater_prune.cc:74: tree pruning end, 1 roots, 18 extra nodes, 38 pruned nodes, max_depth=8\u001b[0m\n",
      "\u001b[34m[56]#011train-rmse:0.292066#011validation-rmse:0.332928\u001b[0m\n",
      "\u001b[34m[00:02:11] src/tree/updater_prune.cc:74: tree pruning end, 1 roots, 18 extra nodes, 20 pruned nodes, max_depth=8\u001b[0m\n",
      "\u001b[34m[57]#011train-rmse:0.291151#011validation-rmse:0.332798\u001b[0m\n",
      "\u001b[34m[00:02:13] src/tree/updater_prune.cc:74: tree pruning end, 1 roots, 16 extra nodes, 12 pruned nodes, max_depth=8\u001b[0m\n",
      "\u001b[34m[58]#011train-rmse:0.290487#011validation-rmse:0.332196\u001b[0m\n",
      "\u001b[34m[00:02:15] src/tree/updater_prune.cc:74: tree pruning end, 1 roots, 16 extra nodes, 28 pruned nodes, max_depth=8\u001b[0m\n",
      "\u001b[34m[59]#011train-rmse:0.289697#011validation-rmse:0.331337\u001b[0m\n",
      "\u001b[34m[00:02:17] src/tree/updater_prune.cc:74: tree pruning end, 1 roots, 18 extra nodes, 18 pruned nodes, max_depth=8\u001b[0m\n",
      "\u001b[34m[60]#011train-rmse:0.28882#011validation-rmse:0.330503\u001b[0m\n",
      "\u001b[34m[00:02:19] src/tree/updater_prune.cc:74: tree pruning end, 1 roots, 20 extra nodes, 36 pruned nodes, max_depth=8\u001b[0m\n",
      "\u001b[34m[61]#011train-rmse:0.287845#011validation-rmse:0.329882\u001b[0m\n",
      "\u001b[34m[00:02:22] src/tree/updater_prune.cc:74: tree pruning end, 1 roots, 16 extra nodes, 10 pruned nodes, max_depth=8\u001b[0m\n",
      "\u001b[34m[62]#011train-rmse:0.287257#011validation-rmse:0.329169\u001b[0m\n",
      "\u001b[34m[00:02:24] src/tree/updater_prune.cc:74: tree pruning end, 1 roots, 16 extra nodes, 20 pruned nodes, max_depth=8\u001b[0m\n",
      "\u001b[34m[63]#011train-rmse:0.286688#011validation-rmse:0.328768\u001b[0m\n",
      "\u001b[34m[00:02:26] src/tree/updater_prune.cc:74: tree pruning end, 1 roots, 28 extra nodes, 64 pruned nodes, max_depth=8\u001b[0m\n",
      "\u001b[34m[64]#011train-rmse:0.285439#011validation-rmse:0.3283\u001b[0m\n",
      "\u001b[34m[00:02:28] src/tree/updater_prune.cc:74: tree pruning end, 1 roots, 18 extra nodes, 34 pruned nodes, max_depth=8\u001b[0m\n",
      "\u001b[34m[65]#011train-rmse:0.284705#011validation-rmse:0.327874\u001b[0m\n",
      "\u001b[34m[00:02:30] src/tree/updater_prune.cc:74: tree pruning end, 1 roots, 22 extra nodes, 60 pruned nodes, max_depth=8\u001b[0m\n",
      "\u001b[34m[66]#011train-rmse:0.283721#011validation-rmse:0.327706\u001b[0m\n",
      "\u001b[34m[00:02:32] src/tree/updater_prune.cc:74: tree pruning end, 1 roots, 16 extra nodes, 24 pruned nodes, max_depth=8\u001b[0m\n",
      "\u001b[34m[67]#011train-rmse:0.283057#011validation-rmse:0.327397\u001b[0m\n",
      "\u001b[34m[00:02:34] src/tree/updater_prune.cc:74: tree pruning end, 1 roots, 16 extra nodes, 32 pruned nodes, max_depth=8\u001b[0m\n",
      "\u001b[34m[68]#011train-rmse:0.282462#011validation-rmse:0.327261\u001b[0m\n",
      "\u001b[34m[00:02:36] src/tree/updater_prune.cc:74: tree pruning end, 1 roots, 16 extra nodes, 18 pruned nodes, max_depth=8\u001b[0m\n",
      "\u001b[34m[69]#011train-rmse:0.281861#011validation-rmse:0.326974\u001b[0m\n",
      "\u001b[34m[00:02:39] src/tree/updater_prune.cc:74: tree pruning end, 1 roots, 20 extra nodes, 60 pruned nodes, max_depth=8\u001b[0m\n",
      "\u001b[34m[70]#011train-rmse:0.281113#011validation-rmse:0.326996\u001b[0m\n",
      "\u001b[34m[00:02:41] src/tree/updater_prune.cc:74: tree pruning end, 1 roots, 18 extra nodes, 28 pruned nodes, max_depth=8\u001b[0m\n",
      "\u001b[34m[71]#011train-rmse:0.280512#011validation-rmse:0.326564\u001b[0m\n",
      "\u001b[34m[00:02:43] src/tree/updater_prune.cc:74: tree pruning end, 1 roots, 16 extra nodes, 14 pruned nodes, max_depth=8\u001b[0m\n",
      "\u001b[34m[72]#011train-rmse:0.279929#011validation-rmse:0.326213\u001b[0m\n",
      "\u001b[34m[00:02:45] src/tree/updater_prune.cc:74: tree pruning end, 1 roots, 16 extra nodes, 16 pruned nodes, max_depth=8\u001b[0m\n",
      "\u001b[34m[73]#011train-rmse:0.27932#011validation-rmse:0.325951\u001b[0m\n",
      "\u001b[34m[00:02:47] src/tree/updater_prune.cc:74: tree pruning end, 1 roots, 16 extra nodes, 20 pruned nodes, max_depth=8\u001b[0m\n",
      "\u001b[34m[74]#011train-rmse:0.278636#011validation-rmse:0.325526\u001b[0m\n",
      "\u001b[34m[00:02:49] src/tree/updater_prune.cc:74: tree pruning end, 1 roots, 14 extra nodes, 16 pruned nodes, max_depth=7\u001b[0m\n",
      "\u001b[34m[75]#011train-rmse:0.278108#011validation-rmse:0.325364\u001b[0m\n",
      "\u001b[34m[00:02:51] src/tree/updater_prune.cc:74: tree pruning end, 1 roots, 14 extra nodes, 36 pruned nodes, max_depth=7\u001b[0m\n",
      "\u001b[34m[76]#011train-rmse:0.277646#011validation-rmse:0.325077\u001b[0m\n",
      "\u001b[34m[00:02:53] src/tree/updater_prune.cc:74: tree pruning end, 1 roots, 26 extra nodes, 46 pruned nodes, max_depth=8\u001b[0m\n",
      "\u001b[34m[77]#011train-rmse:0.276624#011validation-rmse:0.324705\u001b[0m\n",
      "\u001b[34m[00:02:55] src/tree/updater_prune.cc:74: tree pruning end, 1 roots, 20 extra nodes, 26 pruned nodes, max_depth=8\u001b[0m\n",
      "\u001b[34m[78]#011train-rmse:0.275881#011validation-rmse:0.324049\u001b[0m\n",
      "\u001b[34m[00:02:57] src/tree/updater_prune.cc:74: tree pruning end, 1 roots, 6 extra nodes, 36 pruned nodes, max_depth=3\u001b[0m\n",
      "\u001b[34m[79]#011train-rmse:0.275678#011validation-rmse:0.324214\u001b[0m\n",
      "\u001b[34m[00:02:59] src/tree/updater_prune.cc:74: tree pruning end, 1 roots, 18 extra nodes, 28 pruned nodes, max_depth=8\u001b[0m\n",
      "\u001b[34m[80]#011train-rmse:0.274891#011validation-rmse:0.323905\u001b[0m\n",
      "\u001b[34m[00:03:02] src/tree/updater_prune.cc:74: tree pruning end, 1 roots, 14 extra nodes, 32 pruned nodes, max_depth=7\u001b[0m\n",
      "\u001b[34m[81]#011train-rmse:0.27441#011validation-rmse:0.323533\u001b[0m\n",
      "\u001b[34m[00:03:04] src/tree/updater_prune.cc:74: tree pruning end, 1 roots, 16 extra nodes, 12 pruned nodes, max_depth=7\u001b[0m\n",
      "\u001b[34m[82]#011train-rmse:0.273808#011validation-rmse:0.323202\u001b[0m\n",
      "\u001b[34m[00:03:07] src/tree/updater_prune.cc:74: tree pruning end, 1 roots, 8 extra nodes, 44 pruned nodes, max_depth=4\u001b[0m\n",
      "\u001b[34m[83]#011train-rmse:0.273575#011validation-rmse:0.323148\u001b[0m\n",
      "\u001b[34m[00:03:09] src/tree/updater_prune.cc:74: tree pruning end, 1 roots, 16 extra nodes, 24 pruned nodes, max_depth=7\u001b[0m\n",
      "\u001b[34m[84]#011train-rmse:0.272992#011validation-rmse:0.322954\u001b[0m\n",
      "\u001b[34m[00:03:11] src/tree/updater_prune.cc:74: tree pruning end, 1 roots, 10 extra nodes, 40 pruned nodes, max_depth=5\u001b[0m\n",
      "\u001b[34m[85]#011train-rmse:0.27264#011validation-rmse:0.322793\u001b[0m\n",
      "\u001b[34m[00:03:13] src/tree/updater_prune.cc:74: tree pruning end, 1 roots, 16 extra nodes, 14 pruned nodes, max_depth=8\u001b[0m\n",
      "\u001b[34m[86]#011train-rmse:0.272173#011validation-rmse:0.322572\u001b[0m\n",
      "\u001b[34m[00:03:15] src/tree/updater_prune.cc:74: tree pruning end, 1 roots, 10 extra nodes, 60 pruned nodes, max_depth=4\u001b[0m\n",
      "\u001b[34m[87]#011train-rmse:0.271851#011validation-rmse:0.322202\u001b[0m\n",
      "\u001b[34m[00:03:17] src/tree/updater_prune.cc:74: tree pruning end, 1 roots, 16 extra nodes, 26 pruned nodes, max_depth=8\u001b[0m\n",
      "\u001b[34m[88]#011train-rmse:0.271295#011validation-rmse:0.322222\u001b[0m\n",
      "\u001b[34m[00:03:20] src/tree/updater_prune.cc:74: tree pruning end, 1 roots, 16 extra nodes, 38 pruned nodes, max_depth=8\u001b[0m\n",
      "\u001b[34m[89]#011train-rmse:0.270723#011validation-rmse:0.322019\u001b[0m\n",
      "\u001b[34m[00:03:22] src/tree/updater_prune.cc:74: tree pruning end, 1 roots, 16 extra nodes, 42 pruned nodes, max_depth=8\u001b[0m\n",
      "\u001b[34m[90]#011train-rmse:0.270187#011validation-rmse:0.322013\u001b[0m\n",
      "\u001b[34m[00:03:24] src/tree/updater_prune.cc:74: tree pruning end, 1 roots, 16 extra nodes, 16 pruned nodes, max_depth=8\u001b[0m\n",
      "\u001b[34m[91]#011train-rmse:0.269701#011validation-rmse:0.321818\u001b[0m\n",
      "\u001b[34m[00:03:26] src/tree/updater_prune.cc:74: tree pruning end, 1 roots, 20 extra nodes, 18 pruned nodes, max_depth=8\u001b[0m\n",
      "\u001b[34m[92]#011train-rmse:0.268953#011validation-rmse:0.321498\u001b[0m\n",
      "\u001b[34m[00:03:28] src/tree/updater_prune.cc:74: tree pruning end, 1 roots, 0 extra nodes, 44 pruned nodes, max_depth=0\u001b[0m\n",
      "\u001b[34m[93]#011train-rmse:0.268961#011validation-rmse:0.321505\u001b[0m\n",
      "\u001b[34m[00:03:30] src/tree/updater_prune.cc:74: tree pruning end, 1 roots, 18 extra nodes, 12 pruned nodes, max_depth=8\u001b[0m\n",
      "\u001b[34m[94]#011train-rmse:0.2684#011validation-rmse:0.321237\u001b[0m\n",
      "\u001b[34m[00:03:32] src/tree/updater_prune.cc:74: tree pruning end, 1 roots, 0 extra nodes, 30 pruned nodes, max_depth=0\u001b[0m\n",
      "\u001b[34m[95]#011train-rmse:0.268397#011validation-rmse:0.321233\u001b[0m\n",
      "\u001b[34m[00:03:34] src/tree/updater_prune.cc:74: tree pruning end, 1 roots, 16 extra nodes, 60 pruned nodes, max_depth=8\u001b[0m\n",
      "\u001b[34m[96]#011train-rmse:0.267985#011validation-rmse:0.321243\u001b[0m\n",
      "\u001b[34m[00:03:36] src/tree/updater_prune.cc:74: tree pruning end, 1 roots, 16 extra nodes, 30 pruned nodes, max_depth=8\u001b[0m\n",
      "\u001b[34m[97]#011train-rmse:0.267499#011validation-rmse:0.321072\u001b[0m\n",
      "\u001b[34m[00:03:38] src/tree/updater_prune.cc:74: tree pruning end, 1 roots, 0 extra nodes, 46 pruned nodes, max_depth=0\u001b[0m\n",
      "\u001b[34m[98]#011train-rmse:0.267497#011validation-rmse:0.321071\u001b[0m\n",
      "\u001b[34m[00:03:41] src/tree/updater_prune.cc:74: tree pruning end, 1 roots, 16 extra nodes, 28 pruned nodes, max_depth=8\u001b[0m\n",
      "\u001b[34m[99]#011train-rmse:0.26696#011validation-rmse:0.32078\u001b[0m\n",
      "\u001b[34m[00:03:43] src/tree/updater_prune.cc:74: tree pruning end, 1 roots, 0 extra nodes, 36 pruned nodes, max_depth=0\u001b[0m\n",
      "\u001b[34m[100]#011train-rmse:0.266955#011validation-rmse:0.320776\u001b[0m\n",
      "\u001b[34m[00:03:45] src/tree/updater_prune.cc:74: tree pruning end, 1 roots, 12 extra nodes, 18 pruned nodes, max_depth=6\u001b[0m\n",
      "\u001b[34m[101]#011train-rmse:0.266557#011validation-rmse:0.320661\u001b[0m\n",
      "\u001b[34m[00:03:47] src/tree/updater_prune.cc:74: tree pruning end, 1 roots, 12 extra nodes, 28 pruned nodes, max_depth=6\u001b[0m\n",
      "\u001b[34m[102]#011train-rmse:0.26616#011validation-rmse:0.320485\u001b[0m\n",
      "\u001b[34m[00:03:49] src/tree/updater_prune.cc:74: tree pruning end, 1 roots, 0 extra nodes, 28 pruned nodes, max_depth=0\u001b[0m\n",
      "\u001b[34m[103]#011train-rmse:0.266157#011validation-rmse:0.320482\u001b[0m\n",
      "\u001b[34m[00:03:51] src/tree/updater_prune.cc:74: tree pruning end, 1 roots, 0 extra nodes, 38 pruned nodes, max_depth=0\u001b[0m\n",
      "\u001b[34m[104]#011train-rmse:0.266169#011validation-rmse:0.320494\u001b[0m\n",
      "\u001b[34m[00:03:53] src/tree/updater_prune.cc:74: tree pruning end, 1 roots, 2 extra nodes, 40 pruned nodes, max_depth=1\u001b[0m\n",
      "\u001b[34m[105]#011train-rmse:0.266115#011validation-rmse:0.320393\u001b[0m\n",
      "\u001b[34m[00:03:55] src/tree/updater_prune.cc:74: tree pruning end, 1 roots, 4 extra nodes, 48 pruned nodes, max_depth=2\u001b[0m\n",
      "\u001b[34m[106]#011train-rmse:0.266003#011validation-rmse:0.320315\u001b[0m\n",
      "\u001b[34m[00:03:57] src/tree/updater_prune.cc:74: tree pruning end, 1 roots, 8 extra nodes, 52 pruned nodes, max_depth=4\u001b[0m\n",
      "\u001b[34m[107]#011train-rmse:0.265791#011validation-rmse:0.320187\u001b[0m\n",
      "\u001b[34m[00:03:59] src/tree/updater_prune.cc:74: tree pruning end, 1 roots, 8 extra nodes, 54 pruned nodes, max_depth=4\u001b[0m\n",
      "\u001b[34m[108]#011train-rmse:0.265535#011validation-rmse:0.31999\u001b[0m\n",
      "\u001b[34m[00:04:01] src/tree/updater_prune.cc:74: tree pruning end, 1 roots, 18 extra nodes, 36 pruned nodes, max_depth=8\u001b[0m\n",
      "\u001b[34m[109]#011train-rmse:0.265004#011validation-rmse:0.319854\u001b[0m\n",
      "\u001b[34m[00:04:04] src/tree/updater_prune.cc:74: tree pruning end, 1 roots, 0 extra nodes, 46 pruned nodes, max_depth=0\u001b[0m\n",
      "\u001b[34m[110]#011train-rmse:0.265009#011validation-rmse:0.319859\u001b[0m\n",
      "\u001b[34m[00:04:07] src/tree/updater_prune.cc:74: tree pruning end, 1 roots, 14 extra nodes, 12 pruned nodes, max_depth=7\u001b[0m\n",
      "\u001b[34m[111]#011train-rmse:0.264563#011validation-rmse:0.319791\u001b[0m\n",
      "\u001b[34m[00:04:09] src/tree/updater_prune.cc:74: tree pruning end, 1 roots, 0 extra nodes, 58 pruned nodes, max_depth=0\u001b[0m\n",
      "\u001b[34m[112]#011train-rmse:0.264555#011validation-rmse:0.319783\u001b[0m\n",
      "\u001b[34m[00:04:11] src/tree/updater_prune.cc:74: tree pruning end, 1 roots, 0 extra nodes, 38 pruned nodes, max_depth=0\u001b[0m\n",
      "\u001b[34m[113]#011train-rmse:0.264564#011validation-rmse:0.319791\u001b[0m\n",
      "\u001b[34m[00:04:13] src/tree/updater_prune.cc:74: tree pruning end, 1 roots, 0 extra nodes, 42 pruned nodes, max_depth=0\u001b[0m\n",
      "\u001b[34m[114]#011train-rmse:0.264561#011validation-rmse:0.319789\u001b[0m\n",
      "\u001b[34m[00:04:15] src/tree/updater_prune.cc:74: tree pruning end, 1 roots, 0 extra nodes, 44 pruned nodes, max_depth=0\u001b[0m\n",
      "\u001b[34m[115]#011train-rmse:0.264569#011validation-rmse:0.319797\u001b[0m\n",
      "\u001b[34m[00:04:17] src/tree/updater_prune.cc:74: tree pruning end, 1 roots, 0 extra nodes, 20 pruned nodes, max_depth=0\u001b[0m\n",
      "\u001b[34m[116]#011train-rmse:0.26457#011validation-rmse:0.319798\u001b[0m\n",
      "\u001b[34m[00:04:19] src/tree/updater_prune.cc:74: tree pruning end, 1 roots, 0 extra nodes, 30 pruned nodes, max_depth=0\u001b[0m\n",
      "\u001b[34m[117]#011train-rmse:0.264574#011validation-rmse:0.319802\u001b[0m\n",
      "\u001b[34m[00:04:21] src/tree/updater_prune.cc:74: tree pruning end, 1 roots, 0 extra nodes, 48 pruned nodes, max_depth=0\u001b[0m\n",
      "\u001b[34m[118]#011train-rmse:0.264564#011validation-rmse:0.319792\u001b[0m\n",
      "\u001b[34m[00:04:23] src/tree/updater_prune.cc:74: tree pruning end, 1 roots, 0 extra nodes, 42 pruned nodes, max_depth=0\u001b[0m\n",
      "\u001b[34m[119]#011train-rmse:0.264568#011validation-rmse:0.319796\u001b[0m\n",
      "\u001b[34m[00:04:25] src/tree/updater_prune.cc:74: tree pruning end, 1 roots, 16 extra nodes, 32 pruned nodes, max_depth=8\u001b[0m\n",
      "\u001b[34m[120]#011train-rmse:0.264144#011validation-rmse:0.31964\u001b[0m\n",
      "\u001b[34m[00:04:27] src/tree/updater_prune.cc:74: tree pruning end, 1 roots, 16 extra nodes, 24 pruned nodes, max_depth=8\u001b[0m\n",
      "\u001b[34m[121]#011train-rmse:0.263622#011validation-rmse:0.319564\u001b[0m\n",
      "\u001b[34m[00:04:30] src/tree/updater_prune.cc:74: tree pruning end, 1 roots, 0 extra nodes, 30 pruned nodes, max_depth=0\u001b[0m\n",
      "\u001b[34m[122]#011train-rmse:0.26362#011validation-rmse:0.319563\u001b[0m\n",
      "\u001b[34m[00:04:32] src/tree/updater_prune.cc:74: tree pruning end, 1 roots, 0 extra nodes, 28 pruned nodes, max_depth=0\u001b[0m\n",
      "\u001b[34m[123]#011train-rmse:0.263622#011validation-rmse:0.319565\u001b[0m\n",
      "\u001b[34m[00:04:34] src/tree/updater_prune.cc:74: tree pruning end, 1 roots, 0 extra nodes, 36 pruned nodes, max_depth=0\u001b[0m\n",
      "\u001b[34m[124]#011train-rmse:0.263617#011validation-rmse:0.319559\u001b[0m\n",
      "\u001b[34m[00:04:36] src/tree/updater_prune.cc:74: tree pruning end, 1 roots, 4 extra nodes, 32 pruned nodes, max_depth=2\u001b[0m\n",
      "\u001b[34m[125]#011train-rmse:0.263493#011validation-rmse:0.31953\u001b[0m\n",
      "\u001b[34m[00:04:38] src/tree/updater_prune.cc:74: tree pruning end, 1 roots, 16 extra nodes, 22 pruned nodes, max_depth=8\u001b[0m\n",
      "\u001b[34m[126]#011train-rmse:0.262998#011validation-rmse:0.319214\u001b[0m\n",
      "\u001b[34m[00:04:40] src/tree/updater_prune.cc:74: tree pruning end, 1 roots, 0 extra nodes, 38 pruned nodes, max_depth=0\u001b[0m\n",
      "\u001b[34m[127]#011train-rmse:0.263001#011validation-rmse:0.319217\u001b[0m\n",
      "\u001b[34m[00:04:42] src/tree/updater_prune.cc:74: tree pruning end, 1 roots, 0 extra nodes, 34 pruned nodes, max_depth=0\u001b[0m\n",
      "\u001b[34m[128]#011train-rmse:0.263004#011validation-rmse:0.31922\u001b[0m\n",
      "\u001b[34m[00:04:44] src/tree/updater_prune.cc:74: tree pruning end, 1 roots, 0 extra nodes, 50 pruned nodes, max_depth=0\u001b[0m\n",
      "\u001b[34m[129]#011train-rmse:0.262999#011validation-rmse:0.319215\u001b[0m\n",
      "\u001b[34m[00:04:46] src/tree/updater_prune.cc:74: tree pruning end, 1 roots, 0 extra nodes, 44 pruned nodes, max_depth=0\u001b[0m\n",
      "\u001b[34m[130]#011train-rmse:0.263004#011validation-rmse:0.31922\u001b[0m\n",
      "\u001b[34m[00:04:48] src/tree/updater_prune.cc:74: tree pruning end, 1 roots, 0 extra nodes, 38 pruned nodes, max_depth=0\u001b[0m\n",
      "\u001b[34m[131]#011train-rmse:0.263005#011validation-rmse:0.319221\u001b[0m\n",
      "\u001b[34m[00:04:50] src/tree/updater_prune.cc:74: tree pruning end, 1 roots, 4 extra nodes, 60 pruned nodes, max_depth=2\u001b[0m\n",
      "\u001b[34m[132]#011train-rmse:0.262895#011validation-rmse:0.319181\u001b[0m\n",
      "\u001b[34m[00:04:52] src/tree/updater_prune.cc:74: tree pruning end, 1 roots, 0 extra nodes, 36 pruned nodes, max_depth=0\u001b[0m\n",
      "\u001b[34m[133]#011train-rmse:0.262901#011validation-rmse:0.319187\u001b[0m\n",
      "\u001b[34m[00:04:54] src/tree/updater_prune.cc:74: tree pruning end, 1 roots, 12 extra nodes, 38 pruned nodes, max_depth=6\u001b[0m\n",
      "\u001b[34m[134]#011train-rmse:0.262575#011validation-rmse:0.319205\u001b[0m\n",
      "\u001b[34m[00:04:56] src/tree/updater_prune.cc:74: tree pruning end, 1 roots, 0 extra nodes, 22 pruned nodes, max_depth=0\u001b[0m\n",
      "\u001b[34m[135]#011train-rmse:0.262578#011validation-rmse:0.319208\u001b[0m\n",
      "\u001b[34m[00:04:58] src/tree/updater_prune.cc:74: tree pruning end, 1 roots, 14 extra nodes, 20 pruned nodes, max_depth=7\u001b[0m\n",
      "\u001b[34m[136]#011train-rmse:0.262266#011validation-rmse:0.319022\u001b[0m\n",
      "\u001b[34m[00:05:00] src/tree/updater_prune.cc:74: tree pruning end, 1 roots, 16 extra nodes, 28 pruned nodes, max_depth=8\u001b[0m\n",
      "\u001b[34m[137]#011train-rmse:0.261895#011validation-rmse:0.31887\u001b[0m\n",
      "\u001b[34m[00:05:03] src/tree/updater_prune.cc:74: tree pruning end, 1 roots, 0 extra nodes, 32 pruned nodes, max_depth=0\u001b[0m\n",
      "\u001b[34m[138]#011train-rmse:0.261882#011validation-rmse:0.318857\u001b[0m\n",
      "\u001b[34m[00:05:05] src/tree/updater_prune.cc:74: tree pruning end, 1 roots, 0 extra nodes, 44 pruned nodes, max_depth=0\u001b[0m\n",
      "\u001b[34m[139]#011train-rmse:0.261876#011validation-rmse:0.318851\u001b[0m\n",
      "\u001b[34m[00:05:08] src/tree/updater_prune.cc:74: tree pruning end, 1 roots, 0 extra nodes, 28 pruned nodes, max_depth=0\u001b[0m\n",
      "\u001b[34m[140]#011train-rmse:0.261882#011validation-rmse:0.318857\u001b[0m\n",
      "\u001b[34m[00:05:10] src/tree/updater_prune.cc:74: tree pruning end, 1 roots, 18 extra nodes, 48 pruned nodes, max_depth=8\u001b[0m\n",
      "\u001b[34m[141]#011train-rmse:0.261306#011validation-rmse:0.318767\u001b[0m\n",
      "\u001b[34m[00:05:12] src/tree/updater_prune.cc:74: tree pruning end, 1 roots, 0 extra nodes, 42 pruned nodes, max_depth=0\u001b[0m\n",
      "\u001b[34m[142]#011train-rmse:0.2613#011validation-rmse:0.31876\u001b[0m\n",
      "\u001b[34m[00:05:14] src/tree/updater_prune.cc:74: tree pruning end, 1 roots, 0 extra nodes, 36 pruned nodes, max_depth=0\u001b[0m\n",
      "\u001b[34m[143]#011train-rmse:0.261296#011validation-rmse:0.318755\u001b[0m\n",
      "\u001b[34m[00:05:16] src/tree/updater_prune.cc:74: tree pruning end, 1 roots, 0 extra nodes, 32 pruned nodes, max_depth=0\u001b[0m\n",
      "\u001b[34m[144]#011train-rmse:0.261297#011validation-rmse:0.318756\u001b[0m\n",
      "\u001b[34m[00:05:18] src/tree/updater_prune.cc:74: tree pruning end, 1 roots, 0 extra nodes, 44 pruned nodes, max_depth=0\u001b[0m\n",
      "\u001b[34m[145]#011train-rmse:0.261287#011validation-rmse:0.318746\u001b[0m\n",
      "\u001b[34m[00:05:20] src/tree/updater_prune.cc:74: tree pruning end, 1 roots, 0 extra nodes, 38 pruned nodes, max_depth=0\u001b[0m\n",
      "\u001b[34m[146]#011train-rmse:0.261297#011validation-rmse:0.318757\u001b[0m\n",
      "\u001b[34m[00:05:22] src/tree/updater_prune.cc:74: tree pruning end, 1 roots, 0 extra nodes, 28 pruned nodes, max_depth=0\u001b[0m\n",
      "\u001b[34m[147]#011train-rmse:0.261299#011validation-rmse:0.318759\u001b[0m\n",
      "\u001b[34m[00:05:24] src/tree/updater_prune.cc:74: tree pruning end, 1 roots, 0 extra nodes, 40 pruned nodes, max_depth=0\u001b[0m\n",
      "\u001b[34m[148]#011train-rmse:0.2613#011validation-rmse:0.31876\u001b[0m\n",
      "\u001b[34m[00:05:26] src/tree/updater_prune.cc:74: tree pruning end, 1 roots, 12 extra nodes, 30 pruned nodes, max_depth=6\u001b[0m\n",
      "\u001b[34m[149]#011train-rmse:0.260941#011validation-rmse:0.31838\u001b[0m\n",
      "\u001b[34m[00:05:28] src/tree/updater_prune.cc:74: tree pruning end, 1 roots, 0 extra nodes, 40 pruned nodes, max_depth=0\u001b[0m\n",
      "\u001b[34m[150]#011train-rmse:0.260947#011validation-rmse:0.318385\u001b[0m\n",
      "\u001b[34m[00:05:31] src/tree/updater_prune.cc:74: tree pruning end, 1 roots, 6 extra nodes, 52 pruned nodes, max_depth=3\u001b[0m\n",
      "\u001b[34m[151]#011train-rmse:0.260756#011validation-rmse:0.318264\u001b[0m\n",
      "\u001b[34m[00:05:33] src/tree/updater_prune.cc:74: tree pruning end, 1 roots, 14 extra nodes, 16 pruned nodes, max_depth=7\u001b[0m\n",
      "\u001b[34m[152]#011train-rmse:0.260368#011validation-rmse:0.318125\u001b[0m\n",
      "\u001b[34m[00:05:35] src/tree/updater_prune.cc:74: tree pruning end, 1 roots, 0 extra nodes, 34 pruned nodes, max_depth=0\u001b[0m\n",
      "\u001b[34m[153]#011train-rmse:0.260373#011validation-rmse:0.318131\u001b[0m\n",
      "\u001b[34m[00:05:37] src/tree/updater_prune.cc:74: tree pruning end, 1 roots, 0 extra nodes, 34 pruned nodes, max_depth=0\u001b[0m\n",
      "\u001b[34m[154]#011train-rmse:0.26038#011validation-rmse:0.318138\u001b[0m\n",
      "\u001b[34m[00:05:39] src/tree/updater_prune.cc:74: tree pruning end, 1 roots, 0 extra nodes, 26 pruned nodes, max_depth=0\u001b[0m\n",
      "\u001b[34m[155]#011train-rmse:0.260388#011validation-rmse:0.318146\u001b[0m\n",
      "\u001b[34m[00:05:41] src/tree/updater_prune.cc:74: tree pruning end, 1 roots, 0 extra nodes, 20 pruned nodes, max_depth=0\u001b[0m\n",
      "\u001b[34m[156]#011train-rmse:0.260376#011validation-rmse:0.318134\u001b[0m\n",
      "\u001b[34m[00:05:43] src/tree/updater_prune.cc:74: tree pruning end, 1 roots, 0 extra nodes, 28 pruned nodes, max_depth=0\u001b[0m\n",
      "\u001b[34m[157]#011train-rmse:0.260379#011validation-rmse:0.318137\u001b[0m\n",
      "\u001b[34m[00:05:45] src/tree/updater_prune.cc:74: tree pruning end, 1 roots, 0 extra nodes, 40 pruned nodes, max_depth=0\u001b[0m\n",
      "\u001b[34m[158]#011train-rmse:0.260373#011validation-rmse:0.31813\u001b[0m\n",
      "\u001b[34m[00:05:47] src/tree/updater_prune.cc:74: tree pruning end, 1 roots, 0 extra nodes, 34 pruned nodes, max_depth=0\u001b[0m\n",
      "\u001b[34m[159]#011train-rmse:0.260365#011validation-rmse:0.318123\u001b[0m\n",
      "\u001b[34m[00:05:49] src/tree/updater_prune.cc:74: tree pruning end, 1 roots, 16 extra nodes, 6 pruned nodes, max_depth=8\u001b[0m\n",
      "\u001b[34m[160]#011train-rmse:0.259989#011validation-rmse:0.317717\u001b[0m\n",
      "\u001b[34m[00:05:51] src/tree/updater_prune.cc:74: tree pruning end, 1 roots, 0 extra nodes, 36 pruned nodes, max_depth=0\u001b[0m\n",
      "\u001b[34m[161]#011train-rmse:0.259992#011validation-rmse:0.31772\u001b[0m\n",
      "\u001b[34m[00:05:54] src/tree/updater_prune.cc:74: tree pruning end, 1 roots, 14 extra nodes, 32 pruned nodes, max_depth=7\u001b[0m\n",
      "\u001b[34m[162]#011train-rmse:0.259657#011validation-rmse:0.317488\u001b[0m\n",
      "\u001b[34m[00:05:56] src/tree/updater_prune.cc:74: tree pruning end, 1 roots, 0 extra nodes, 48 pruned nodes, max_depth=0\u001b[0m\n",
      "\u001b[34m[163]#011train-rmse:0.259644#011validation-rmse:0.317475\u001b[0m\n",
      "\u001b[34m[00:05:58] src/tree/updater_prune.cc:74: tree pruning end, 1 roots, 2 extra nodes, 32 pruned nodes, max_depth=1\u001b[0m\n",
      "\u001b[34m[164]#011train-rmse:0.25961#011validation-rmse:0.317506\u001b[0m\n",
      "\u001b[34m[00:06:00] src/tree/updater_prune.cc:74: tree pruning end, 1 roots, 0 extra nodes, 34 pruned nodes, max_depth=0\u001b[0m\n",
      "\u001b[34m[165]#011train-rmse:0.259617#011validation-rmse:0.317513\u001b[0m\n",
      "\u001b[34m[00:06:02] src/tree/updater_prune.cc:74: tree pruning end, 1 roots, 0 extra nodes, 44 pruned nodes, max_depth=0\u001b[0m\n",
      "\u001b[34m[166]#011train-rmse:0.259619#011validation-rmse:0.317515\u001b[0m\n",
      "\u001b[34m[00:06:04] src/tree/updater_prune.cc:74: tree pruning end, 1 roots, 0 extra nodes, 34 pruned nodes, max_depth=0\u001b[0m\n",
      "\u001b[34m[167]#011train-rmse:0.259609#011validation-rmse:0.317504\u001b[0m\n",
      "\u001b[34m[00:06:07] src/tree/updater_prune.cc:74: tree pruning end, 1 roots, 0 extra nodes, 44 pruned nodes, max_depth=0\u001b[0m\n",
      "\u001b[34m[168]#011train-rmse:0.259616#011validation-rmse:0.317512\u001b[0m\n",
      "\u001b[34m[00:06:09] src/tree/updater_prune.cc:74: tree pruning end, 1 roots, 0 extra nodes, 66 pruned nodes, max_depth=0\u001b[0m\n",
      "\u001b[34m[169]#011train-rmse:0.259609#011validation-rmse:0.317504\u001b[0m\n",
      "\u001b[34m[00:06:11] src/tree/updater_prune.cc:74: tree pruning end, 1 roots, 10 extra nodes, 52 pruned nodes, max_depth=5\u001b[0m\n",
      "\u001b[34m[170]#011train-rmse:0.259386#011validation-rmse:0.317517\u001b[0m\n",
      "\u001b[34m[00:06:13] src/tree/updater_prune.cc:74: tree pruning end, 1 roots, 0 extra nodes, 28 pruned nodes, max_depth=0\u001b[0m\n",
      "\u001b[34m[171]#011train-rmse:0.259385#011validation-rmse:0.317517\u001b[0m\n",
      "\u001b[34m[00:06:16] src/tree/updater_prune.cc:74: tree pruning end, 1 roots, 12 extra nodes, 24 pruned nodes, max_depth=6\u001b[0m\n",
      "\u001b[34m[172]#011train-rmse:0.259078#011validation-rmse:0.317468\u001b[0m\n",
      "\u001b[34m[00:06:18] src/tree/updater_prune.cc:74: tree pruning end, 1 roots, 0 extra nodes, 32 pruned nodes, max_depth=0\u001b[0m\n",
      "\u001b[34m[173]#011train-rmse:0.259091#011validation-rmse:0.317481\u001b[0m\n",
      "\u001b[34m[00:06:20] src/tree/updater_prune.cc:74: tree pruning end, 1 roots, 0 extra nodes, 40 pruned nodes, max_depth=0\u001b[0m\n",
      "\u001b[34m[174]#011train-rmse:0.259081#011validation-rmse:0.317471\u001b[0m\n",
      "\u001b[34m[00:06:22] src/tree/updater_prune.cc:74: tree pruning end, 1 roots, 2 extra nodes, 24 pruned nodes, max_depth=1\u001b[0m\n",
      "\u001b[34m[175]#011train-rmse:0.259042#011validation-rmse:0.317408\u001b[0m\n",
      "\u001b[34m[00:06:24] src/tree/updater_prune.cc:74: tree pruning end, 1 roots, 0 extra nodes, 34 pruned nodes, max_depth=0\u001b[0m\n",
      "\u001b[34m[176]#011train-rmse:0.259044#011validation-rmse:0.317409\u001b[0m\n",
      "\u001b[34m[00:06:26] src/tree/updater_prune.cc:74: tree pruning end, 1 roots, 0 extra nodes, 24 pruned nodes, max_depth=0\u001b[0m\n",
      "\u001b[34m[177]#011train-rmse:0.259042#011validation-rmse:0.317407\u001b[0m\n",
      "\u001b[34m[00:06:28] src/tree/updater_prune.cc:74: tree pruning end, 1 roots, 0 extra nodes, 30 pruned nodes, max_depth=0\u001b[0m\n",
      "\u001b[34m[178]#011train-rmse:0.259049#011validation-rmse:0.317414\u001b[0m\n",
      "\u001b[34m[00:06:30] src/tree/updater_prune.cc:74: tree pruning end, 1 roots, 0 extra nodes, 24 pruned nodes, max_depth=0\u001b[0m\n",
      "\u001b[34m[179]#011train-rmse:0.259055#011validation-rmse:0.317421\u001b[0m\n",
      "\u001b[34m[00:06:32] src/tree/updater_prune.cc:74: tree pruning end, 1 roots, 0 extra nodes, 46 pruned nodes, max_depth=0\u001b[0m\n",
      "\u001b[34m[180]#011train-rmse:0.259052#011validation-rmse:0.317417\u001b[0m\n",
      "\u001b[34m[00:06:34] src/tree/updater_prune.cc:74: tree pruning end, 1 roots, 0 extra nodes, 24 pruned nodes, max_depth=0\u001b[0m\n",
      "\u001b[34m[181]#011train-rmse:0.259045#011validation-rmse:0.317411\u001b[0m\n",
      "\u001b[34m[00:06:36] src/tree/updater_prune.cc:74: tree pruning end, 1 roots, 14 extra nodes, 16 pruned nodes, max_depth=7\u001b[0m\n",
      "\u001b[34m[182]#011train-rmse:0.258661#011validation-rmse:0.317555\u001b[0m\n",
      "\u001b[34m[00:06:38] src/tree/updater_prune.cc:74: tree pruning end, 1 roots, 0 extra nodes, 32 pruned nodes, max_depth=0\u001b[0m\n",
      "\u001b[34m[183]#011train-rmse:0.258662#011validation-rmse:0.317557\u001b[0m\n",
      "\u001b[34m[00:06:41] src/tree/updater_prune.cc:74: tree pruning end, 1 roots, 0 extra nodes, 46 pruned nodes, max_depth=0\u001b[0m\n",
      "\u001b[34m[184]#011train-rmse:0.258658#011validation-rmse:0.317552\u001b[0m\n",
      "\u001b[34m[00:06:43] src/tree/updater_prune.cc:74: tree pruning end, 1 roots, 0 extra nodes, 30 pruned nodes, max_depth=0\u001b[0m\n",
      "\u001b[34m[185]#011train-rmse:0.258655#011validation-rmse:0.317549\u001b[0m\n",
      "\u001b[34m[00:06:45] src/tree/updater_prune.cc:74: tree pruning end, 1 roots, 8 extra nodes, 34 pruned nodes, max_depth=4\u001b[0m\n",
      "\u001b[34m[186]#011train-rmse:0.258494#011validation-rmse:0.317497\u001b[0m\n",
      "\u001b[34m[00:06:47] src/tree/updater_prune.cc:74: tree pruning end, 1 roots, 16 extra nodes, 44 pruned nodes, max_depth=7\u001b[0m\n",
      "\u001b[34m[187]#011train-rmse:0.257931#011validation-rmse:0.317346\u001b[0m\n",
      "\u001b[34m[00:06:49] src/tree/updater_prune.cc:74: tree pruning end, 1 roots, 6 extra nodes, 48 pruned nodes, max_depth=3\u001b[0m\n",
      "\u001b[34m[188]#011train-rmse:0.257786#011validation-rmse:0.317293\u001b[0m\n",
      "\u001b[34m[00:06:51] src/tree/updater_prune.cc:74: tree pruning end, 1 roots, 16 extra nodes, 18 pruned nodes, max_depth=8\u001b[0m\n",
      "\u001b[34m[189]#011train-rmse:0.257394#011validation-rmse:0.317237\u001b[0m\n",
      "\u001b[34m[00:06:53] src/tree/updater_prune.cc:74: tree pruning end, 1 roots, 0 extra nodes, 24 pruned nodes, max_depth=0\u001b[0m\n",
      "\u001b[34m[190]#011train-rmse:0.257379#011validation-rmse:0.317223\u001b[0m\n",
      "\u001b[34m[00:06:55] src/tree/updater_prune.cc:74: tree pruning end, 1 roots, 0 extra nodes, 22 pruned nodes, max_depth=0\u001b[0m\n",
      "\u001b[34m[191]#011train-rmse:0.257386#011validation-rmse:0.31723\u001b[0m\n",
      "\u001b[34m[00:06:57] src/tree/updater_prune.cc:74: tree pruning end, 1 roots, 2 extra nodes, 44 pruned nodes, max_depth=1\u001b[0m\n",
      "\u001b[34m[192]#011train-rmse:0.25733#011validation-rmse:0.317224\u001b[0m\n",
      "\u001b[34m[00:06:59] src/tree/updater_prune.cc:74: tree pruning end, 1 roots, 0 extra nodes, 28 pruned nodes, max_depth=0\u001b[0m\n",
      "\u001b[34m[193]#011train-rmse:0.257327#011validation-rmse:0.317222\u001b[0m\n",
      "\u001b[34m[00:07:02] src/tree/updater_prune.cc:74: tree pruning end, 1 roots, 0 extra nodes, 38 pruned nodes, max_depth=0\u001b[0m\n",
      "\u001b[34m[194]#011train-rmse:0.257328#011validation-rmse:0.317223\u001b[0m\n",
      "\u001b[34m[00:07:04] src/tree/updater_prune.cc:74: tree pruning end, 1 roots, 0 extra nodes, 24 pruned nodes, max_depth=0\u001b[0m\n",
      "\u001b[34m[195]#011train-rmse:0.257338#011validation-rmse:0.317232\u001b[0m\n",
      "\u001b[34m[00:07:06] src/tree/updater_prune.cc:74: tree pruning end, 1 roots, 0 extra nodes, 30 pruned nodes, max_depth=0\u001b[0m\n",
      "\u001b[34m[196]#011train-rmse:0.257341#011validation-rmse:0.317234\u001b[0m\n",
      "\u001b[34m[00:07:09] src/tree/updater_prune.cc:74: tree pruning end, 1 roots, 0 extra nodes, 24 pruned nodes, max_depth=0\u001b[0m\n",
      "\u001b[34m[197]#011train-rmse:0.257347#011validation-rmse:0.31724\u001b[0m\n",
      "\u001b[34m[00:07:11] src/tree/updater_prune.cc:74: tree pruning end, 1 roots, 0 extra nodes, 28 pruned nodes, max_depth=0\u001b[0m\n",
      "\u001b[34m[198]#011train-rmse:0.257331#011validation-rmse:0.317225\u001b[0m\n",
      "\u001b[34m[00:07:13] src/tree/updater_prune.cc:74: tree pruning end, 1 roots, 0 extra nodes, 48 pruned nodes, max_depth=0\u001b[0m\n",
      "\u001b[34m[199]#011train-rmse:0.257332#011validation-rmse:0.317227\u001b[0m\n",
      "Training seconds: 490\n",
      "Billable seconds: 490\n"
     ]
    }
   ],
   "source": [
    "# Create a new estimator object attached to the best training job found during hyperparameter tuning\n",
    "\n",
    "xgb_attached = sagemaker.estimator.Estimator.attach(xgb_hyperparameter_tuner.best_training_job())"
   ]
  },
  {
   "cell_type": "markdown",
   "metadata": {},
   "source": [
    "Now that we have an estimator object attached to the correct training job, we can proceed as we normally would and create a transformer object."
   ]
  },
  {
   "cell_type": "code",
   "execution_count": 26,
   "metadata": {},
   "outputs": [
    {
     "name": "stderr",
     "output_type": "stream",
     "text": [
      "Parameter image will be renamed to image_uri in SageMaker Python SDK v2.\n"
     ]
    }
   ],
   "source": [
    "# Create a transformer object from the attached estimator. Using an instance count of 1 and an instance type of ml.m4.xlarge\n",
    "#       should be more than enough.\n",
    "\n",
    "xgb_transformer = xgb_attached.transformer(instance_count = 1, instance_type = 'ml.m4.xlarge')"
   ]
  },
  {
   "cell_type": "markdown",
   "metadata": {},
   "source": [
    "Next we actually perform the transform job. When doing so we need to make sure to specify the type of data we are sending so that it is serialized correctly in the background. In our case we are providing our model with csv data so we specify `text/csv`. Also, if the test data that we have provided is too large to process all at once then we need to specify how the data file should be split up. Since each line is a single entry in our data set we tell SageMaker that it can split the input on each line."
   ]
  },
  {
   "cell_type": "code",
   "execution_count": 27,
   "metadata": {},
   "outputs": [],
   "source": [
    "#  Start the transform job. Make sure to specify the content type and the split type of the test data.\n",
    "xgb_transformer.transform(test_location, content_type='text/csv', split_type='Line')"
   ]
  },
  {
   "cell_type": "markdown",
   "metadata": {},
   "source": [
    "Currently the transform job is running but it is doing so in the background. Since we wish to wait until the transform job is done and we would like a bit of feedback we can run the `wait()` method."
   ]
  },
  {
   "cell_type": "code",
   "execution_count": 28,
   "metadata": {},
   "outputs": [
    {
     "name": "stdout",
     "output_type": "stream",
     "text": [
      "...............................\u001b[34mArguments: serve\u001b[0m\n",
      "\u001b[34m[2021-05-03 00:27:46 +0000] [1] [INFO] Starting gunicorn 19.9.0\u001b[0m\n",
      "\u001b[34m[2021-05-03 00:27:46 +0000] [1] [INFO] Listening at: http://0.0.0.0:8080 (1)\u001b[0m\n",
      "\u001b[34m[2021-05-03 00:27:46 +0000] [1] [INFO] Using worker: gevent\u001b[0m\n",
      "\u001b[34m[2021-05-03 00:27:46 +0000] [20] [INFO] Booting worker with pid: 20\u001b[0m\n",
      "\u001b[34m/opt/amazon/lib/python3.7/site-packages/gunicorn/workers/ggevent.py:65: MonkeyPatchWarning: Monkey-patching ssl after ssl has already been imported may lead to errors, including RecursionError on Python 3.6. It may also silently lead to incorrect behaviour on Python 3.7. Please monkey-patch earlier. See https://github.com/gevent/gevent/issues/1016. Modules that had direct imports (NOT patched): ['urllib3.util (/opt/amazon/lib/python3.7/site-packages/urllib3/util/__init__.py)', 'urllib3.util.ssl_ (/opt/amazon/lib/python3.7/site-packages/urllib3/util/ssl_.py)']. \n",
      "  monkey.patch_all(subprocess=True)\u001b[0m\n",
      "\u001b[34m[2021-05-03:00:27:46:INFO] Model loaded successfully for worker : 20\u001b[0m\n",
      "\u001b[34m[2021-05-03 00:27:46 +0000] [21] [INFO] Booting worker with pid: 21\u001b[0m\n",
      "\u001b[34m/opt/amazon/lib/python3.7/site-packages/gunicorn/workers/ggevent.py:65: MonkeyPatchWarning: Monkey-patching ssl after ssl has already been imported may lead to errors, including RecursionError on Python 3.6. It may also silently lead to incorrect behaviour on Python 3.7. Please monkey-patch earlier. See https://github.com/gevent/gevent/issues/1016. Modules that had direct imports (NOT patched): ['urllib3.util (/opt/amazon/lib/python3.7/site-packages/urllib3/util/__init__.py)', 'urllib3.util.ssl_ (/opt/amazon/lib/python3.7/site-packages/urllib3/util/ssl_.py)']. \n",
      "  monkey.patch_all(subprocess=True)\u001b[0m\n",
      "\u001b[34m[2021-05-03:00:27:46:INFO] Model loaded successfully for worker : 21\u001b[0m\n",
      "\u001b[34m[2021-05-03 00:27:46 +0000] [22] [INFO] Booting worker with pid: 22\u001b[0m\n",
      "\u001b[34m/opt/amazon/lib/python3.7/site-packages/gunicorn/workers/ggevent.py:65: MonkeyPatchWarning: Monkey-patching ssl after ssl has already been imported may lead to errors, including RecursionError on Python 3.6. It may also silently lead to incorrect behaviour on Python 3.7. Please monkey-patch earlier. See https://github.com/gevent/gevent/issues/1016. Modules that had direct imports (NOT patched): ['urllib3.util (/opt/amazon/lib/python3.7/site-packages/urllib3/util/__init__.py)', 'urllib3.util.ssl_ (/opt/amazon/lib/python3.7/site-packages/urllib3/util/ssl_.py)']. \n",
      "  monkey.patch_all(subprocess=True)\u001b[0m\n",
      "\u001b[34m[2021-05-03:00:27:46:INFO] Model loaded successfully for worker : 22\u001b[0m\n",
      "\u001b[34m[2021-05-03 00:27:46 +0000] [23] [INFO] Booting worker with pid: 23\u001b[0m\n",
      "\u001b[34m/opt/amazon/lib/python3.7/site-packages/gunicorn/workers/ggevent.py:65: MonkeyPatchWarning: Monkey-patching ssl after ssl has already been imported may lead to errors, including RecursionError on Python 3.6. It may also silently lead to incorrect behaviour on Python 3.7. Please monkey-patch earlier. See https://github.com/gevent/gevent/issues/1016. Modules that had direct imports (NOT patched): ['urllib3.util (/opt/amazon/lib/python3.7/site-packages/urllib3/util/__init__.py)', 'urllib3.util.ssl_ (/opt/amazon/lib/python3.7/site-packages/urllib3/util/ssl_.py)']. \n",
      "  monkey.patch_all(subprocess=True)\u001b[0m\n",
      "\u001b[34m[2021-05-03:00:27:46:INFO] Model loaded successfully for worker : 23\u001b[0m\n",
      "\u001b[34m[2021-05-03:00:27:54:INFO] Sniff delimiter as ','\u001b[0m\n",
      "\u001b[34m[2021-05-03:00:27:54:INFO] Determined delimiter of CSV input is ','\u001b[0m\n",
      "\u001b[34m[2021-05-03:00:27:54:INFO] Sniff delimiter as ','\u001b[0m\n",
      "\u001b[34m[2021-05-03:00:27:54:INFO] Determined delimiter of CSV input is ','\u001b[0m\n",
      "\u001b[34m[2021-05-03:00:27:54:INFO] Sniff delimiter as ','\u001b[0m\n",
      "\u001b[34m[2021-05-03:00:27:54:INFO] Determined delimiter of CSV input is ','\u001b[0m\n",
      "\u001b[34m[2021-05-03:00:27:54:INFO] Sniff delimiter as ','\u001b[0m\n",
      "\u001b[34m[2021-05-03:00:27:54:INFO] Determined delimiter of CSV input is ','\u001b[0m\n",
      "\u001b[35m[2021-05-03:00:27:54:INFO] Sniff delimiter as ','\u001b[0m\n",
      "\u001b[35m[2021-05-03:00:27:54:INFO] Determined delimiter of CSV input is ','\u001b[0m\n",
      "\u001b[35m[2021-05-03:00:27:54:INFO] Sniff delimiter as ','\u001b[0m\n",
      "\u001b[35m[2021-05-03:00:27:54:INFO] Determined delimiter of CSV input is ','\u001b[0m\n",
      "\u001b[35m[2021-05-03:00:27:54:INFO] Sniff delimiter as ','\u001b[0m\n",
      "\u001b[35m[2021-05-03:00:27:54:INFO] Determined delimiter of CSV input is ','\u001b[0m\n",
      "\u001b[35m[2021-05-03:00:27:54:INFO] Sniff delimiter as ','\u001b[0m\n",
      "\u001b[35m[2021-05-03:00:27:54:INFO] Determined delimiter of CSV input is ','\u001b[0m\n",
      "\u001b[32m2021-05-03T00:27:50.150:[sagemaker logs]: MaxConcurrentTransforms=4, MaxPayloadInMB=6, BatchStrategy=MULTI_RECORD\u001b[0m\n",
      "\u001b[34m[2021-05-03:00:27:57:INFO] Sniff delimiter as ','\u001b[0m\n",
      "\u001b[34m[2021-05-03:00:27:57:INFO] Determined delimiter of CSV input is ','\u001b[0m\n",
      "\u001b[34m[2021-05-03:00:27:57:INFO] Sniff delimiter as ','\u001b[0m\n",
      "\u001b[34m[2021-05-03:00:27:57:INFO] Determined delimiter of CSV input is ','\u001b[0m\n",
      "\u001b[34m[2021-05-03:00:27:58:INFO] Sniff delimiter as ','\u001b[0m\n",
      "\u001b[34m[2021-05-03:00:27:58:INFO] Determined delimiter of CSV input is ','\u001b[0m\n",
      "\u001b[34m[2021-05-03:00:27:58:INFO] Sniff delimiter as ','\u001b[0m\n",
      "\u001b[34m[2021-05-03:00:27:58:INFO] Determined delimiter of CSV input is ','\u001b[0m\n",
      "\u001b[35m[2021-05-03:00:27:57:INFO] Sniff delimiter as ','\u001b[0m\n",
      "\u001b[35m[2021-05-03:00:27:57:INFO] Determined delimiter of CSV input is ','\u001b[0m\n",
      "\u001b[35m[2021-05-03:00:27:57:INFO] Sniff delimiter as ','\u001b[0m\n",
      "\u001b[35m[2021-05-03:00:27:57:INFO] Determined delimiter of CSV input is ','\u001b[0m\n",
      "\u001b[35m[2021-05-03:00:27:58:INFO] Sniff delimiter as ','\u001b[0m\n",
      "\u001b[35m[2021-05-03:00:27:58:INFO] Determined delimiter of CSV input is ','\u001b[0m\n",
      "\u001b[35m[2021-05-03:00:27:58:INFO] Sniff delimiter as ','\u001b[0m\n",
      "\u001b[35m[2021-05-03:00:27:58:INFO] Determined delimiter of CSV input is ','\u001b[0m\n",
      "\u001b[34m[2021-05-03:00:28:05:INFO] Sniff delimiter as ','\u001b[0m\n",
      "\u001b[34m[2021-05-03:00:28:05:INFO] Determined delimiter of CSV input is ','\u001b[0m\n",
      "\u001b[34m[2021-05-03:00:28:05:INFO] Sniff delimiter as ','\u001b[0m\n",
      "\u001b[34m[2021-05-03:00:28:05:INFO] Determined delimiter of CSV input is ','\u001b[0m\n",
      "\u001b[34m[2021-05-03:00:28:05:INFO] Sniff delimiter as ','\u001b[0m\n",
      "\u001b[34m[2021-05-03:00:28:05:INFO] Determined delimiter of CSV input is ','\u001b[0m\n",
      "\u001b[35m[2021-05-03:00:28:05:INFO] Sniff delimiter as ','\u001b[0m\n",
      "\u001b[35m[2021-05-03:00:28:05:INFO] Determined delimiter of CSV input is ','\u001b[0m\n",
      "\u001b[35m[2021-05-03:00:28:05:INFO] Sniff delimiter as ','\u001b[0m\n",
      "\u001b[35m[2021-05-03:00:28:05:INFO] Determined delimiter of CSV input is ','\u001b[0m\n",
      "\u001b[35m[2021-05-03:00:28:05:INFO] Sniff delimiter as ','\u001b[0m\n",
      "\u001b[35m[2021-05-03:00:28:05:INFO] Determined delimiter of CSV input is ','\u001b[0m\n",
      "\u001b[34m[2021-05-03:00:28:06:INFO] Sniff delimiter as ','\u001b[0m\n",
      "\u001b[34m[2021-05-03:00:28:06:INFO] Determined delimiter of CSV input is ','\u001b[0m\n",
      "\u001b[35m[2021-05-03:00:28:06:INFO] Sniff delimiter as ','\u001b[0m\n",
      "\u001b[35m[2021-05-03:00:28:06:INFO] Determined delimiter of CSV input is ','\u001b[0m\n",
      "\u001b[34m[2021-05-03:00:28:09:INFO] Sniff delimiter as ','\u001b[0m\n",
      "\u001b[34m[2021-05-03:00:28:09:INFO] Determined delimiter of CSV input is ','\u001b[0m\n",
      "\u001b[34m[2021-05-03:00:28:09:INFO] Sniff delimiter as ','\u001b[0m\n",
      "\u001b[34m[2021-05-03:00:28:09:INFO] Determined delimiter of CSV input is ','\u001b[0m\n",
      "\u001b[34m[2021-05-03:00:28:09:INFO] Sniff delimiter as ','\u001b[0m\n",
      "\u001b[34m[2021-05-03:00:28:09:INFO] Determined delimiter of CSV input is ','\u001b[0m\n",
      "\u001b[35m[2021-05-03:00:28:09:INFO] Sniff delimiter as ','\u001b[0m\n",
      "\u001b[35m[2021-05-03:00:28:09:INFO] Determined delimiter of CSV input is ','\u001b[0m\n",
      "\u001b[35m[2021-05-03:00:28:09:INFO] Sniff delimiter as ','\u001b[0m\n",
      "\u001b[35m[2021-05-03:00:28:09:INFO] Determined delimiter of CSV input is ','\u001b[0m\n",
      "\u001b[35m[2021-05-03:00:28:09:INFO] Sniff delimiter as ','\u001b[0m\n",
      "\u001b[35m[2021-05-03:00:28:09:INFO] Determined delimiter of CSV input is ','\u001b[0m\n",
      "\u001b[34m[2021-05-03:00:28:10:INFO] Sniff delimiter as ','\u001b[0m\n",
      "\u001b[34m[2021-05-03:00:28:10:INFO] Determined delimiter of CSV input is ','\u001b[0m\n",
      "\u001b[35m[2021-05-03:00:28:10:INFO] Sniff delimiter as ','\u001b[0m\n",
      "\u001b[35m[2021-05-03:00:28:10:INFO] Determined delimiter of CSV input is ','\u001b[0m\n",
      "\u001b[34m[2021-05-03:00:28:13:INFO] Sniff delimiter as ','\u001b[0m\n",
      "\u001b[34m[2021-05-03:00:28:13:INFO] Determined delimiter of CSV input is ','\u001b[0m\n",
      "\u001b[34m[2021-05-03:00:28:13:INFO] Sniff delimiter as ','\u001b[0m\n",
      "\u001b[34m[2021-05-03:00:28:13:INFO] Determined delimiter of CSV input is ','\u001b[0m\n",
      "\u001b[35m[2021-05-03:00:28:13:INFO] Sniff delimiter as ','\u001b[0m\n",
      "\u001b[35m[2021-05-03:00:28:13:INFO] Determined delimiter of CSV input is ','\u001b[0m\n",
      "\u001b[35m[2021-05-03:00:28:13:INFO] Sniff delimiter as ','\u001b[0m\n",
      "\u001b[35m[2021-05-03:00:28:13:INFO] Determined delimiter of CSV input is ','\u001b[0m\n",
      "\u001b[34m[2021-05-03:00:28:13:INFO] Sniff delimiter as ','\u001b[0m\n",
      "\u001b[34m[2021-05-03:00:28:13:INFO] Determined delimiter of CSV input is ','\u001b[0m\n",
      "\u001b[35m[2021-05-03:00:28:13:INFO] Sniff delimiter as ','\u001b[0m\n",
      "\u001b[35m[2021-05-03:00:28:13:INFO] Determined delimiter of CSV input is ','\u001b[0m\n",
      "\u001b[34m[2021-05-03:00:28:17:INFO] Sniff delimiter as ','\u001b[0m\n",
      "\u001b[34m[2021-05-03:00:28:17:INFO] Determined delimiter of CSV input is ','\u001b[0m\n",
      "\u001b[34m[2021-05-03:00:28:17:INFO] Sniff delimiter as ','\u001b[0m\n",
      "\u001b[34m[2021-05-03:00:28:17:INFO] Determined delimiter of CSV input is ','\u001b[0m\n",
      "\u001b[34m[2021-05-03:00:28:17:INFO] Sniff delimiter as ','\u001b[0m\n",
      "\u001b[34m[2021-05-03:00:28:17:INFO] Determined delimiter of CSV input is ','\u001b[0m\n",
      "\u001b[34m[2021-05-03:00:28:17:INFO] Sniff delimiter as ','\u001b[0m\n",
      "\u001b[34m[2021-05-03:00:28:17:INFO] Determined delimiter of CSV input is ','\u001b[0m\n",
      "\u001b[35m[2021-05-03:00:28:17:INFO] Sniff delimiter as ','\u001b[0m\n",
      "\u001b[35m[2021-05-03:00:28:17:INFO] Determined delimiter of CSV input is ','\u001b[0m\n",
      "\u001b[35m[2021-05-03:00:28:17:INFO] Sniff delimiter as ','\u001b[0m\n",
      "\u001b[35m[2021-05-03:00:28:17:INFO] Determined delimiter of CSV input is ','\u001b[0m\n",
      "\u001b[35m[2021-05-03:00:28:17:INFO] Sniff delimiter as ','\u001b[0m\n",
      "\u001b[35m[2021-05-03:00:28:17:INFO] Determined delimiter of CSV input is ','\u001b[0m\n",
      "\u001b[35m[2021-05-03:00:28:17:INFO] Sniff delimiter as ','\u001b[0m\n",
      "\u001b[35m[2021-05-03:00:28:17:INFO] Determined delimiter of CSV input is ','\u001b[0m\n",
      "\u001b[34m[2021-05-03:00:28:24:INFO] Sniff delimiter as ','\u001b[0m\n",
      "\u001b[35m[2021-05-03:00:28:24:INFO] Sniff delimiter as ','\u001b[0m\n",
      "\u001b[34m[2021-05-03:00:28:24:INFO] Determined delimiter of CSV input is ','\u001b[0m\n",
      "\u001b[34m[2021-05-03:00:28:24:INFO] Sniff delimiter as ','\u001b[0m\n",
      "\u001b[34m[2021-05-03:00:28:24:INFO] Determined delimiter of CSV input is ','\u001b[0m\n",
      "\u001b[35m[2021-05-03:00:28:24:INFO] Determined delimiter of CSV input is ','\u001b[0m\n",
      "\u001b[35m[2021-05-03:00:28:24:INFO] Sniff delimiter as ','\u001b[0m\n",
      "\u001b[35m[2021-05-03:00:28:24:INFO] Determined delimiter of CSV input is ','\u001b[0m\n",
      "\u001b[34m[2021-05-03:00:28:25:INFO] Sniff delimiter as ','\u001b[0m\n",
      "\u001b[34m[2021-05-03:00:28:25:INFO] Determined delimiter of CSV input is ','\u001b[0m\n",
      "\u001b[34m[2021-05-03:00:28:25:INFO] Sniff delimiter as ','\u001b[0m\n",
      "\u001b[34m[2021-05-03:00:28:25:INFO] Determined delimiter of CSV input is ','\u001b[0m\n",
      "\u001b[35m[2021-05-03:00:28:25:INFO] Sniff delimiter as ','\u001b[0m\n",
      "\u001b[35m[2021-05-03:00:28:25:INFO] Determined delimiter of CSV input is ','\u001b[0m\n",
      "\u001b[35m[2021-05-03:00:28:25:INFO] Sniff delimiter as ','\u001b[0m\n",
      "\u001b[35m[2021-05-03:00:28:25:INFO] Determined delimiter of CSV input is ','\u001b[0m\n",
      "\n",
      "\u001b[34m[2021-05-03:00:28:29:INFO] Sniff delimiter as ','\u001b[0m\n",
      "\u001b[34m[2021-05-03:00:28:29:INFO] Determined delimiter of CSV input is ','\u001b[0m\n",
      "\u001b[34m[2021-05-03:00:28:29:INFO] Sniff delimiter as ','\u001b[0m\n",
      "\u001b[34m[2021-05-03:00:28:29:INFO] Determined delimiter of CSV input is ','\u001b[0m\n",
      "\u001b[35m[2021-05-03:00:28:29:INFO] Sniff delimiter as ','\u001b[0m\n",
      "\u001b[35m[2021-05-03:00:28:29:INFO] Determined delimiter of CSV input is ','\u001b[0m\n",
      "\u001b[35m[2021-05-03:00:28:29:INFO] Sniff delimiter as ','\u001b[0m\n",
      "\u001b[35m[2021-05-03:00:28:29:INFO] Determined delimiter of CSV input is ','\u001b[0m\n"
     ]
    }
   ],
   "source": [
    "xgb_transformer.wait()"
   ]
  },
  {
   "cell_type": "markdown",
   "metadata": {},
   "source": [
    "Now the transform job has executed and the result, the estimated sentiment of each review, has been saved on S3. Since we would rather work on this file locally we can perform a bit of notebook magic to copy the file to the `data_dir`."
   ]
  },
  {
   "cell_type": "code",
   "execution_count": 29,
   "metadata": {},
   "outputs": [
    {
     "name": "stdout",
     "output_type": "stream",
     "text": [
      "download: s3://sagemaker-us-east-1-244864396415/xgboost-210502-2346-005-de7fe0f7-2021-05-03-00-22-40-151/test.csv.out to ../data/xgboost/test.csv.out\n"
     ]
    }
   ],
   "source": [
    "!aws s3 cp --recursive $xgb_transformer.output_path $data_dir"
   ]
  },
  {
   "cell_type": "markdown",
   "metadata": {},
   "source": [
    "The last step is now to read in the output from our model, convert the output to something a little more usable, in this case we want the sentiment to be either `1` (positive) or `0` (negative), and then compare to the ground truth labels."
   ]
  },
  {
   "cell_type": "code",
   "execution_count": 30,
   "metadata": {},
   "outputs": [],
   "source": [
    "predictions = pd.read_csv(os.path.join(data_dir, 'test.csv.out'), header=None)\n",
    "predictions = [round(num) for num in predictions.squeeze().values]"
   ]
  },
  {
   "cell_type": "code",
   "execution_count": 31,
   "metadata": {},
   "outputs": [
    {
     "data": {
      "text/plain": [
       "0.86572"
      ]
     },
     "execution_count": 31,
     "metadata": {},
     "output_type": "execute_result"
    }
   ],
   "source": [
    "from sklearn.metrics import accuracy_score\n",
    "accuracy_score(test_y, predictions)"
   ]
  },
  {
   "cell_type": "markdown",
   "metadata": {},
   "source": [
    "## Optional: Clean up\n",
    "\n",
    "The default notebook instance on SageMaker doesn't have a lot of excess disk space available. As you continue to complete and execute notebooks you will eventually fill up this disk space, leading to errors which can be difficult to diagnose. Once you are completely finished using a notebook it is a good idea to remove the files that you created along the way. Of course, you can do this from the terminal or from the notebook hub if you would like. The cell below contains some commands to clean up the created files from within the notebook."
   ]
  },
  {
   "cell_type": "code",
   "execution_count": 32,
   "metadata": {},
   "outputs": [],
   "source": [
    "# First we will remove all of the files contained in the data_dir directory\n",
    "!rm $data_dir/*\n",
    "\n",
    "# And then we delete the directory itself\n",
    "!rmdir $data_dir\n",
    "\n",
    "# Similarly we will remove the files in the cache_dir directory and the directory itself\n",
    "!rm $cache_dir/*\n",
    "!rmdir $cache_dir"
   ]
  },
  {
   "cell_type": "code",
   "execution_count": null,
   "metadata": {},
   "outputs": [],
   "source": []
  }
 ],
 "metadata": {
  "kernelspec": {
   "display_name": "conda_python3",
   "language": "python",
   "name": "conda_python3"
  },
  "language_info": {
   "codemirror_mode": {
    "name": "ipython",
    "version": 3
   },
   "file_extension": ".py",
   "mimetype": "text/x-python",
   "name": "python",
   "nbconvert_exporter": "python",
   "pygments_lexer": "ipython3",
   "version": "3.6.13"
  }
 },
 "nbformat": 4,
 "nbformat_minor": 4
}
