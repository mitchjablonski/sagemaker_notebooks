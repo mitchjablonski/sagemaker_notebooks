{
 "cells": [
  {
   "cell_type": "markdown",
   "metadata": {},
   "source": [
    "# Sentiment Analysis Web App\n",
    "\n",
    "_Deep Learning Nanodegree Program | Deployment_\n",
    "\n",
    "---\n",
    "\n",
    "In this notebook we will use Amazon's SageMaker service to construct a random tree model to predict the sentiment of a movie review. In addition, we will deploy this model to an endpoint and construct a very simple web app which will interact with our model's deployed endpoint.\n",
    "\n",
    "## General Outline\n",
    "\n",
    "Typically, when using a notebook instance with SageMaker, you will proceed through the following steps. Of course, not every step will need to be done with each project. Also, there is quite a lot of room for variation in many of the steps, as you will see throughout these lessons.\n",
    "\n",
    "1. Download or otherwise retrieve the data.\n",
    "2. Process / Prepare the data.\n",
    "3. Upload the processed data to S3.\n",
    "4. Train a chosen model.\n",
    "5. Test the trained model (typically using a batch transform job).\n",
    "6. Deploy the trained model.\n",
    "7. Use the deployed model.\n",
    "\n",
    "In this notebook we will progress through each of the steps above. We will also see that the final step, using the deployed model, can be quite challenging."
   ]
  },
  {
   "cell_type": "code",
   "execution_count": 1,
   "metadata": {},
   "outputs": [
    {
     "name": "stdout",
     "output_type": "stream",
     "text": [
      "Collecting sagemaker==1.72.0\n",
      "  Downloading sagemaker-1.72.0.tar.gz (297 kB)\n",
      "\u001b[K     |████████████████████████████████| 297 kB 19.3 MB/s eta 0:00:01\n",
      "\u001b[?25hRequirement already satisfied: boto3>=1.14.12 in /home/ec2-user/anaconda3/envs/amazonei_mxnet_p36/lib/python3.6/site-packages (from sagemaker==1.72.0) (1.17.55)\n",
      "Requirement already satisfied: numpy>=1.9.0 in /home/ec2-user/anaconda3/envs/amazonei_mxnet_p36/lib/python3.6/site-packages (from sagemaker==1.72.0) (1.19.5)\n",
      "Requirement already satisfied: protobuf>=3.1 in /home/ec2-user/anaconda3/envs/amazonei_mxnet_p36/lib/python3.6/site-packages (from sagemaker==1.72.0) (3.15.1)\n",
      "Requirement already satisfied: scipy>=0.19.0 in /home/ec2-user/anaconda3/envs/amazonei_mxnet_p36/lib/python3.6/site-packages (from sagemaker==1.72.0) (1.5.3)\n",
      "Requirement already satisfied: protobuf3-to-dict>=0.1.5 in /home/ec2-user/anaconda3/envs/amazonei_mxnet_p36/lib/python3.6/site-packages (from sagemaker==1.72.0) (0.1.5)\n",
      "Collecting smdebug-rulesconfig==0.1.4\n",
      "  Downloading smdebug_rulesconfig-0.1.4-py2.py3-none-any.whl (10 kB)\n",
      "Requirement already satisfied: importlib-metadata>=1.4.0 in /home/ec2-user/anaconda3/envs/amazonei_mxnet_p36/lib/python3.6/site-packages (from sagemaker==1.72.0) (3.6.0)\n",
      "Requirement already satisfied: packaging>=20.0 in /home/ec2-user/anaconda3/envs/amazonei_mxnet_p36/lib/python3.6/site-packages (from sagemaker==1.72.0) (20.9)\n",
      "Requirement already satisfied: jmespath<1.0.0,>=0.7.1 in /home/ec2-user/anaconda3/envs/amazonei_mxnet_p36/lib/python3.6/site-packages (from boto3>=1.14.12->sagemaker==1.72.0) (0.10.0)\n",
      "Requirement already satisfied: s3transfer<0.5.0,>=0.4.0 in /home/ec2-user/anaconda3/envs/amazonei_mxnet_p36/lib/python3.6/site-packages (from boto3>=1.14.12->sagemaker==1.72.0) (0.4.1)\n",
      "Requirement already satisfied: botocore<1.21.0,>=1.20.55 in /home/ec2-user/anaconda3/envs/amazonei_mxnet_p36/lib/python3.6/site-packages (from boto3>=1.14.12->sagemaker==1.72.0) (1.20.55)\n",
      "Requirement already satisfied: urllib3<1.27,>=1.25.4 in /home/ec2-user/anaconda3/envs/amazonei_mxnet_p36/lib/python3.6/site-packages (from botocore<1.21.0,>=1.20.55->boto3>=1.14.12->sagemaker==1.72.0) (1.26.4)\n",
      "Requirement already satisfied: python-dateutil<3.0.0,>=2.1 in /home/ec2-user/anaconda3/envs/amazonei_mxnet_p36/lib/python3.6/site-packages (from botocore<1.21.0,>=1.20.55->boto3>=1.14.12->sagemaker==1.72.0) (2.8.1)\n",
      "Requirement already satisfied: typing-extensions>=3.6.4 in /home/ec2-user/anaconda3/envs/amazonei_mxnet_p36/lib/python3.6/site-packages (from importlib-metadata>=1.4.0->sagemaker==1.72.0) (3.7.4.3)\n",
      "Requirement already satisfied: zipp>=0.5 in /home/ec2-user/anaconda3/envs/amazonei_mxnet_p36/lib/python3.6/site-packages (from importlib-metadata>=1.4.0->sagemaker==1.72.0) (3.4.0)\n",
      "Requirement already satisfied: pyparsing>=2.0.2 in /home/ec2-user/anaconda3/envs/amazonei_mxnet_p36/lib/python3.6/site-packages (from packaging>=20.0->sagemaker==1.72.0) (2.4.7)\n",
      "Requirement already satisfied: six>=1.9 in /home/ec2-user/anaconda3/envs/amazonei_mxnet_p36/lib/python3.6/site-packages (from protobuf>=3.1->sagemaker==1.72.0) (1.15.0)\n",
      "Building wheels for collected packages: sagemaker\n",
      "  Building wheel for sagemaker (setup.py) ... \u001b[?25ldone\n",
      "\u001b[?25h  Created wheel for sagemaker: filename=sagemaker-1.72.0-py2.py3-none-any.whl size=386358 sha256=2c1b8537bdb9adc424f25d4adafc21aebfc9f79838935f1fb15184700d89fdd5\n",
      "  Stored in directory: /home/ec2-user/.cache/pip/wheels/c3/58/70/85faf4437568bfaa4c419937569ba1fe54d44c5db42406bbd7\n",
      "Successfully built sagemaker\n",
      "Installing collected packages: smdebug-rulesconfig, sagemaker\n",
      "  Attempting uninstall: smdebug-rulesconfig\n",
      "    Found existing installation: smdebug-rulesconfig 1.0.1\n",
      "    Uninstalling smdebug-rulesconfig-1.0.1:\n",
      "      Successfully uninstalled smdebug-rulesconfig-1.0.1\n",
      "  Attempting uninstall: sagemaker\n",
      "    Found existing installation: sagemaker 2.38.0\n",
      "    Uninstalling sagemaker-2.38.0:\n",
      "      Successfully uninstalled sagemaker-2.38.0\n",
      "Successfully installed sagemaker-1.72.0 smdebug-rulesconfig-0.1.4\n"
     ]
    }
   ],
   "source": [
    "# Make sure that we use SageMaker 1.x\n",
    "!pip install sagemaker==1.72.0"
   ]
  },
  {
   "cell_type": "markdown",
   "metadata": {},
   "source": [
    "## Step 1: Downloading the data\n",
    "\n",
    "The dataset we are going to use is very popular among researchers in Natural Language Processing, usually referred to as the [IMDb dataset](http://ai.stanford.edu/~amaas/data/sentiment/). It consists of movie reviews from the website [imdb.com](http://www.imdb.com/), each labeled as either '**pos**itive', if the reviewer enjoyed the film, or '**neg**ative' otherwise.\n",
    "\n",
    "> Maas, Andrew L., et al. [Learning Word Vectors for Sentiment Analysis](http://ai.stanford.edu/~amaas/data/sentiment/). In _Proceedings of the 49th Annual Meeting of the Association for Computational Linguistics: Human Language Technologies_. Association for Computational Linguistics, 2011.\n",
    "\n",
    "We begin by using some Jupyter Notebook magic to download and extract the dataset."
   ]
  },
  {
   "cell_type": "code",
   "execution_count": 2,
   "metadata": {},
   "outputs": [
    {
     "name": "stdout",
     "output_type": "stream",
     "text": [
      "mkdir: cannot create directory ‘../data’: File exists\n",
      "--2021-05-02 14:01:00--  http://ai.stanford.edu/~amaas/data/sentiment/aclImdb_v1.tar.gz\n",
      "Resolving ai.stanford.edu (ai.stanford.edu)... 171.64.68.10\n",
      "Connecting to ai.stanford.edu (ai.stanford.edu)|171.64.68.10|:80... connected.\n",
      "HTTP request sent, awaiting response... 200 OK\n",
      "Length: 84125825 (80M) [application/x-gzip]\n",
      "Saving to: ‘../data/aclImdb_v1.tar.gz’\n",
      "\n",
      "../data/aclImdb_v1. 100%[===================>]  80.23M  23.2MB/s    in 4.5s    \n",
      "\n",
      "2021-05-02 14:01:05 (18.0 MB/s) - ‘../data/aclImdb_v1.tar.gz’ saved [84125825/84125825]\n",
      "\n"
     ]
    }
   ],
   "source": [
    "%mkdir ../data\n",
    "!wget -O ../data/aclImdb_v1.tar.gz http://ai.stanford.edu/~amaas/data/sentiment/aclImdb_v1.tar.gz\n",
    "!tar -zxf ../data/aclImdb_v1.tar.gz -C ../data"
   ]
  },
  {
   "cell_type": "markdown",
   "metadata": {},
   "source": [
    "## Step 2: Preparing and Processing the data\n",
    "\n",
    "The data we have downloaded is split into various files, each of which contains a single review. It will be much easier going forward if we combine these individual files into two large files, one for training and one for testing."
   ]
  },
  {
   "cell_type": "code",
   "execution_count": 3,
   "metadata": {},
   "outputs": [],
   "source": [
    "import os\n",
    "import glob\n",
    "\n",
    "def read_imdb_data(data_dir='../data/aclImdb'):\n",
    "    data = {}\n",
    "    labels = {}\n",
    "    \n",
    "    for data_type in ['train', 'test']:\n",
    "        data[data_type] = {}\n",
    "        labels[data_type] = {}\n",
    "        \n",
    "        for sentiment in ['pos', 'neg']:\n",
    "            data[data_type][sentiment] = []\n",
    "            labels[data_type][sentiment] = []\n",
    "            \n",
    "            path = os.path.join(data_dir, data_type, sentiment, '*.txt')\n",
    "            files = glob.glob(path)\n",
    "            \n",
    "            for f in files:\n",
    "                with open(f) as review:\n",
    "                    data[data_type][sentiment].append(review.read())\n",
    "                    # Here we represent a positive review by '1' and a negative review by '0'\n",
    "                    labels[data_type][sentiment].append(1 if sentiment == 'pos' else 0)\n",
    "                    \n",
    "            assert len(data[data_type][sentiment]) == len(labels[data_type][sentiment]), \\\n",
    "                    \"{}/{} data size does not match labels size\".format(data_type, sentiment)\n",
    "                \n",
    "    return data, labels"
   ]
  },
  {
   "cell_type": "code",
   "execution_count": 4,
   "metadata": {},
   "outputs": [
    {
     "name": "stdout",
     "output_type": "stream",
     "text": [
      "IMDB reviews: train = 12500 pos / 12500 neg, test = 12500 pos / 12500 neg\n"
     ]
    }
   ],
   "source": [
    "data, labels = read_imdb_data()\n",
    "print(\"IMDB reviews: train = {} pos / {} neg, test = {} pos / {} neg\".format(\n",
    "            len(data['train']['pos']), len(data['train']['neg']),\n",
    "            len(data['test']['pos']), len(data['test']['neg'])))"
   ]
  },
  {
   "cell_type": "code",
   "execution_count": 5,
   "metadata": {},
   "outputs": [],
   "source": [
    "from sklearn.utils import shuffle\n",
    "\n",
    "def prepare_imdb_data(data, labels):\n",
    "    \"\"\"Prepare training and test sets from IMDb movie reviews.\"\"\"\n",
    "    \n",
    "    #Combine positive and negative reviews and labels\n",
    "    data_train = data['train']['pos'] + data['train']['neg']\n",
    "    data_test = data['test']['pos'] + data['test']['neg']\n",
    "    labels_train = labels['train']['pos'] + labels['train']['neg']\n",
    "    labels_test = labels['test']['pos'] + labels['test']['neg']\n",
    "    \n",
    "    #Shuffle reviews and corresponding labels within training and test sets\n",
    "    data_train, labels_train = shuffle(data_train, labels_train)\n",
    "    data_test, labels_test = shuffle(data_test, labels_test)\n",
    "    \n",
    "    # Return a unified training data, test data, training labels, test labets\n",
    "    return data_train, data_test, labels_train, labels_test"
   ]
  },
  {
   "cell_type": "code",
   "execution_count": 6,
   "metadata": {},
   "outputs": [
    {
     "name": "stdout",
     "output_type": "stream",
     "text": [
      "IMDb reviews (combined): train = 25000, test = 25000\n"
     ]
    }
   ],
   "source": [
    "train_X, test_X, train_y, test_y = prepare_imdb_data(data, labels)\n",
    "print(\"IMDb reviews (combined): train = {}, test = {}\".format(len(train_X), len(test_X)))"
   ]
  },
  {
   "cell_type": "code",
   "execution_count": 7,
   "metadata": {},
   "outputs": [
    {
     "data": {
      "text/plain": [
       "\"This, despite not being the original - it began life as a play in Central Europe - has weathered the several incarnations that followed (MGM's own remake with period songs In The Good Old Summertime, the Broadway show She Loves Me, even the excellent theatre revival in Paris a couple of years ago) and remains the definitive version and the one they all have to beat. Several previous commenters have identified the contributing factors that make it so successful and memorable not least being the prevailing fashion in 30s and 40s Hollywood for lavishing attention and detail on ensemble playing rather than just two leads as so often happens today - try, for example, removing Ugarte, Ferrari, Renault etc from Casablanca and yes you'd still have Rick and Ilsa and Viktor Lazslo but they'd just be frosting without the rich cake mixture below. Jimmy Stewart and Maggie Sullavan WERE both ideal and irreplaceable leads but how much brighter they shine when their performances are reflected in those of Frank Morgan, Felix Bressart, Joseph Schildkraut and Andy Hardy's Sara Haden and this is BEFORE we factor in that Lubitsch 'touch'. Okay, maybe they WERE a tad more naive, innocent even, in that Jurassic Age but how many genuine film lovers, sated with scatology, screwing and in-your-face sex, turn back to those days of Stories, Style, Slickness and Skill and wallow in great movies like this one. By far the best thing about this technological age is not CSI but DVD that can at one and the same time make these classics available to nostalgics and show the Matrix freaks how the big boys used to do it.\""
      ]
     },
     "execution_count": 7,
     "metadata": {},
     "output_type": "execute_result"
    }
   ],
   "source": [
    "train_X[100]"
   ]
  },
  {
   "cell_type": "markdown",
   "metadata": {},
   "source": [
    "## Processing the data\n",
    "\n",
    "Now that we have our training and testing datasets merged and ready to use, we need to start processing the raw data into something that will be useable by our machine learning algorithm. To begin with, we remove any html formatting and any non-alpha numeric characters that may appear in the reviews. We will do this in a very simplistic way using Python's regular expression module. We will discuss the reason for this rather simplistic pre-processing later on."
   ]
  },
  {
   "cell_type": "code",
   "execution_count": 8,
   "metadata": {},
   "outputs": [],
   "source": [
    "import re\n",
    "\n",
    "REPLACE_NO_SPACE = re.compile(\"(\\.)|(\\;)|(\\:)|(\\!)|(\\')|(\\?)|(\\,)|(\\\")|(\\()|(\\))|(\\[)|(\\])\")\n",
    "REPLACE_WITH_SPACE = re.compile(\"(<br\\s*/><br\\s*/>)|(\\-)|(\\/)\")\n",
    "\n",
    "def review_to_words(review):\n",
    "    words = REPLACE_NO_SPACE.sub(\"\", review.lower())\n",
    "    words = REPLACE_WITH_SPACE.sub(\" \", words)\n",
    "    return words"
   ]
  },
  {
   "cell_type": "code",
   "execution_count": 9,
   "metadata": {},
   "outputs": [
    {
     "data": {
      "text/plain": [
       "'this despite not being the original   it began life as a play in central europe   has weathered the several incarnations that followed mgms own remake with period songs in the good old summertime the broadway show she loves me even the excellent theatre revival in paris a couple of years ago and remains the definitive version and the one they all have to beat several previous commenters have identified the contributing factors that make it so successful and memorable not least being the prevailing fashion in 30s and 40s hollywood for lavishing attention and detail on ensemble playing rather than just two leads as so often happens today   try for example removing ugarte ferrari renault etc from casablanca and yes youd still have rick and ilsa and viktor lazslo but theyd just be frosting without the rich cake mixture below jimmy stewart and maggie sullavan were both ideal and irreplaceable leads but how much brighter they shine when their performances are reflected in those of frank morgan felix bressart joseph schildkraut and andy hardys sara haden and this is before we factor in that lubitsch touch okay maybe they were a tad more naive innocent even in that jurassic age but how many genuine film lovers sated with scatology screwing and in your face sex turn back to those days of stories style slickness and skill and wallow in great movies like this one by far the best thing about this technological age is not csi but dvd that can at one and the same time make these classics available to nostalgics and show the matrix freaks how the big boys used to do it'"
      ]
     },
     "execution_count": 9,
     "metadata": {},
     "output_type": "execute_result"
    }
   ],
   "source": [
    "review_to_words(train_X[100])"
   ]
  },
  {
   "cell_type": "code",
   "execution_count": 10,
   "metadata": {},
   "outputs": [],
   "source": [
    "import pickle\n",
    "\n",
    "cache_dir = os.path.join(\"../cache\", \"sentiment_web_app\")  # where to store cache files\n",
    "os.makedirs(cache_dir, exist_ok=True)  # ensure cache directory exists\n",
    "\n",
    "def preprocess_data(data_train, data_test, labels_train, labels_test,\n",
    "                    cache_dir=cache_dir, cache_file=\"preprocessed_data.pkl\"):\n",
    "    \"\"\"Convert each review to words; read from cache if available.\"\"\"\n",
    "\n",
    "    # If cache_file is not None, try to read from it first\n",
    "    cache_data = None\n",
    "    if cache_file is not None:\n",
    "        try:\n",
    "            with open(os.path.join(cache_dir, cache_file), \"rb\") as f:\n",
    "                cache_data = pickle.load(f)\n",
    "            print(\"Read preprocessed data from cache file:\", cache_file)\n",
    "        except:\n",
    "            pass  # unable to read from cache, but that's okay\n",
    "    \n",
    "    # If cache is missing, then do the heavy lifting\n",
    "    if cache_data is None:\n",
    "        # Preprocess training and test data to obtain words for each review\n",
    "        #words_train = list(map(review_to_words, data_train))\n",
    "        #words_test = list(map(review_to_words, data_test))\n",
    "        words_train = [review_to_words(review) for review in data_train]\n",
    "        words_test = [review_to_words(review) for review in data_test]\n",
    "        \n",
    "        # Write to cache file for future runs\n",
    "        if cache_file is not None:\n",
    "            cache_data = dict(words_train=words_train, words_test=words_test,\n",
    "                              labels_train=labels_train, labels_test=labels_test)\n",
    "            with open(os.path.join(cache_dir, cache_file), \"wb\") as f:\n",
    "                pickle.dump(cache_data, f)\n",
    "            print(\"Wrote preprocessed data to cache file:\", cache_file)\n",
    "    else:\n",
    "        # Unpack data loaded from cache file\n",
    "        words_train, words_test, labels_train, labels_test = (cache_data['words_train'],\n",
    "                cache_data['words_test'], cache_data['labels_train'], cache_data['labels_test'])\n",
    "    \n",
    "    return words_train, words_test, labels_train, labels_test"
   ]
  },
  {
   "cell_type": "code",
   "execution_count": 11,
   "metadata": {},
   "outputs": [
    {
     "name": "stdout",
     "output_type": "stream",
     "text": [
      "Read preprocessed data from cache file: preprocessed_data.pkl\n"
     ]
    }
   ],
   "source": [
    "# Preprocess data\n",
    "train_X, test_X, train_y, test_y = preprocess_data(train_X, test_X, train_y, test_y)"
   ]
  },
  {
   "cell_type": "markdown",
   "metadata": {},
   "source": [
    "### Extract Bag-of-Words features\n",
    "\n",
    "For the model we will be implementing, rather than using the reviews directly, we are going to transform each review into a Bag-of-Words feature representation. Keep in mind that 'in the wild' we will only have access to the training set so our transformer can only use the training set to construct a representation."
   ]
  },
  {
   "cell_type": "code",
   "execution_count": 12,
   "metadata": {},
   "outputs": [],
   "source": [
    "import numpy as np\n",
    "from sklearn.feature_extraction.text import CountVectorizer\n",
    "\n",
    "# sklearn.externals.joblib is deprecated in 0.21 and will be removed in 0.23. \n",
    "# from sklearn.externals import joblib\n",
    "\n",
    "# Import joblib package directly\n",
    "import joblib\n",
    "# joblib is an enhanced version of pickle that is more efficient for storing NumPy arrays\n",
    "\n",
    "def extract_BoW_features(words_train, words_test, vocabulary_size=5000,\n",
    "                         cache_dir=cache_dir, cache_file=\"bow_features.pkl\"):\n",
    "    \"\"\"Extract Bag-of-Words for a given set of documents, already preprocessed into words.\"\"\"\n",
    "    \n",
    "    # If cache_file is not None, try to read from it first\n",
    "    cache_data = None\n",
    "    if cache_file is not None:\n",
    "        try:\n",
    "            with open(os.path.join(cache_dir, cache_file), \"rb\") as f:\n",
    "                cache_data = joblib.load(f)\n",
    "            print(\"Read features from cache file:\", cache_file)\n",
    "        except:\n",
    "            pass  # unable to read from cache, but that's okay\n",
    "    \n",
    "    # If cache is missing, then do the heavy lifting\n",
    "    if cache_data is None:\n",
    "        # Fit a vectorizer to training documents and use it to transform them\n",
    "        # NOTE: Training documents have already been preprocessed and tokenized into words;\n",
    "        #       pass in dummy functions to skip those steps, e.g. preprocessor=lambda x: x\n",
    "        vectorizer = CountVectorizer(max_features=vocabulary_size)\n",
    "        features_train = vectorizer.fit_transform(words_train).toarray()\n",
    "\n",
    "        # Apply the same vectorizer to transform the test documents (ignore unknown words)\n",
    "        features_test = vectorizer.transform(words_test).toarray()\n",
    "        \n",
    "        # NOTE: Remember to convert the features using .toarray() for a compact representation\n",
    "        \n",
    "        # Write to cache file for future runs (store vocabulary as well)\n",
    "        if cache_file is not None:\n",
    "            vocabulary = vectorizer.vocabulary_\n",
    "            cache_data = dict(features_train=features_train, features_test=features_test,\n",
    "                             vocabulary=vocabulary)\n",
    "            with open(os.path.join(cache_dir, cache_file), \"wb\") as f:\n",
    "                joblib.dump(cache_data, f)\n",
    "            print(\"Wrote features to cache file:\", cache_file)\n",
    "    else:\n",
    "        # Unpack data loaded from cache file\n",
    "        features_train, features_test, vocabulary = (cache_data['features_train'],\n",
    "                cache_data['features_test'], cache_data['vocabulary'])\n",
    "    \n",
    "    # Return both the extracted features as well as the vocabulary\n",
    "    return features_train, features_test, vocabulary"
   ]
  },
  {
   "cell_type": "code",
   "execution_count": 13,
   "metadata": {},
   "outputs": [
    {
     "name": "stdout",
     "output_type": "stream",
     "text": [
      "Read features from cache file: bow_features.pkl\n"
     ]
    }
   ],
   "source": [
    "# Extract Bag of Words features for both training and test datasets\n",
    "train_X, test_X, vocabulary = extract_BoW_features(train_X, test_X)"
   ]
  },
  {
   "cell_type": "code",
   "execution_count": 14,
   "metadata": {},
   "outputs": [
    {
     "data": {
      "text/plain": [
       "5000"
      ]
     },
     "execution_count": 14,
     "metadata": {},
     "output_type": "execute_result"
    }
   ],
   "source": [
    "len(train_X[100])"
   ]
  },
  {
   "cell_type": "markdown",
   "metadata": {},
   "source": [
    "## Step 3: Upload data to S3\n",
    "\n",
    "Now that we have created the feature representation of our training (and testing) data, it is time to start setting up and using the XGBoost classifier provided by SageMaker.\n",
    "\n",
    "### Writing the datasets\n",
    "\n",
    "The XGBoost classifier that we will be using requires the dataset to be written to a file and stored using Amazon S3. To do this, we will start by splitting the training dataset into two parts, the data we will train the model with and a validation set. Then, we will write those datasets to a file locally and then upload the files to S3. In addition, we will write the test set to a file and upload that file to S3. This is so that we can use SageMakers Batch Transform functionality to test our model once we've fit it."
   ]
  },
  {
   "cell_type": "code",
   "execution_count": 15,
   "metadata": {},
   "outputs": [],
   "source": [
    "import pandas as pd\n",
    "\n",
    "# Earlier we shuffled the training dataset so to make things simple we can just assign\n",
    "# the first 10 000 reviews to the validation set and use the remaining reviews for training.\n",
    "val_X = pd.DataFrame(train_X[:10000])\n",
    "train_X = pd.DataFrame(train_X[10000:])\n",
    "\n",
    "val_y = pd.DataFrame(train_y[:10000])\n",
    "train_y = pd.DataFrame(train_y[10000:])"
   ]
  },
  {
   "cell_type": "markdown",
   "metadata": {},
   "source": [
    "The documentation for the XGBoost algorithm in SageMaker requires that the training and validation datasets should contain no headers or index and that the label should occur first for each sample.\n",
    "\n",
    "For more information about this and other algorithms, the SageMaker developer documentation can be found on __[Amazon's website.](https://docs.aws.amazon.com/sagemaker/latest/dg/)__"
   ]
  },
  {
   "cell_type": "code",
   "execution_count": 16,
   "metadata": {},
   "outputs": [],
   "source": [
    "# First we make sure that the local directory in which we'd like to store the training and validation csv files exists.\n",
    "data_dir = '../data/sentiment_web_app'\n",
    "if not os.path.exists(data_dir):\n",
    "    os.makedirs(data_dir)"
   ]
  },
  {
   "cell_type": "code",
   "execution_count": 17,
   "metadata": {},
   "outputs": [],
   "source": [
    "pd.DataFrame(test_X).to_csv(os.path.join(data_dir, 'test.csv'), header=False, index=False)\n",
    "\n",
    "pd.concat([val_y, val_X], axis=1).to_csv(os.path.join(data_dir, 'validation.csv'), header=False, index=False)\n",
    "pd.concat([train_y, train_X], axis=1).to_csv(os.path.join(data_dir, 'train.csv'), header=False, index=False)"
   ]
  },
  {
   "cell_type": "code",
   "execution_count": 18,
   "metadata": {},
   "outputs": [],
   "source": [
    "# To save a bit of memory we can set text_X, train_X, val_X, train_y and val_y to None.\n",
    "\n",
    "test_X = train_X = val_X = train_y = val_y = None"
   ]
  },
  {
   "cell_type": "markdown",
   "metadata": {},
   "source": [
    "### Uploading Training / Validation files to S3\n",
    "\n",
    "Amazon's S3 service allows us to store files that can be accessed by both the built-in training models such as the XGBoost model we will be using as well as custom models such as the one we will see a little later.\n",
    "\n",
    "For this and most other tasks we will be doing using SageMaker, there are two methods we could use. The first is to use the low level functionality of SageMaker which requires knowing each of the objects involved in the SageMaker environment. The second is to use the high level functionality in which certain choices have been made on the user's behalf. The low level approach benefits from allowing the user a great deal of flexibility while the high level approach makes development much quicker. For our purposes we will opt to use the high level approach although using the low-level approach is certainly an option.\n",
    "\n",
    "Recall the method `upload_data()` which is a member of the object representing our current SageMaker session. What this method does is upload the data to the default bucket (which is created if it does not exist) into the path described by the key_prefix variable. To see this for yourself, once you have uploaded the data files, go to the S3 console and look to see where the files have been uploaded.\n",
    "\n",
    "For additional resources, see the __[SageMaker API documentation](http://sagemaker.readthedocs.io/en/latest/)__ and in addition the __[SageMaker Developer Guide.](https://docs.aws.amazon.com/sagemaker/latest/dg/)__"
   ]
  },
  {
   "cell_type": "code",
   "execution_count": 19,
   "metadata": {},
   "outputs": [],
   "source": [
    "import sagemaker\n",
    "\n",
    "session = sagemaker.Session() # Store the current SageMaker session\n",
    "\n",
    "# S3 prefix (which folder will we use)\n",
    "prefix = 'sentiment-web-app'\n",
    "\n",
    "test_location = session.upload_data(os.path.join(data_dir, 'test.csv'), key_prefix=prefix)\n",
    "val_location = session.upload_data(os.path.join(data_dir, 'validation.csv'), key_prefix=prefix)\n",
    "train_location = session.upload_data(os.path.join(data_dir, 'train.csv'), key_prefix=prefix)"
   ]
  },
  {
   "cell_type": "markdown",
   "metadata": {},
   "source": [
    "## Step 4: Creating the XGBoost model\n",
    "\n",
    "Now that the data has been uploaded it is time to create the XGBoost model. To begin with, we need to do some setup. At this point it is worth discussing what a model is in SageMaker. It is easiest to think of a model of comprising three different objects in the SageMaker ecosystem, which interact with one another.\n",
    "\n",
    "- Model Artifacts\n",
    "- Training Code (Container)\n",
    "- Inference Code (Container)\n",
    "\n",
    "The Model Artifacts are what you might think of as the actual model itself. For example, if you were building a neural network, the model artifacts would be the weights of the various layers. In our case, for an XGBoost model, the artifacts are the actual trees that are created during training.\n",
    "\n",
    "The other two objects, the training code and the inference code are then used to manipulate the training artifacts. More precisely, the training code uses the training data that is provided and creates the model artifacts, while the inference code uses the model artifacts to make predictions on new data.\n",
    "\n",
    "The way that SageMaker runs the training and inference code is by making use of Docker containers. For now, think of a container as being a way of packaging code up so that dependencies aren't an issue."
   ]
  },
  {
   "cell_type": "code",
   "execution_count": 20,
   "metadata": {},
   "outputs": [],
   "source": [
    "from sagemaker import get_execution_role\n",
    "\n",
    "# Our current execution role is required when creating the model as the training\n",
    "# and inference code will need to access the model artifacts.\n",
    "role = get_execution_role()"
   ]
  },
  {
   "cell_type": "code",
   "execution_count": 21,
   "metadata": {},
   "outputs": [
    {
     "name": "stderr",
     "output_type": "stream",
     "text": [
      "'get_image_uri' method will be deprecated in favor of 'ImageURIProvider' class in SageMaker Python SDK v2.\n",
      "There is a more up to date SageMaker XGBoost image. To use the newer image, please set 'repo_version'='1.0-1'. For example:\n",
      "\tget_image_uri(region, 'xgboost', '1.0-1').\n"
     ]
    }
   ],
   "source": [
    "# We need to retrieve the location of the container which is provided by Amazon for using XGBoost.\n",
    "# As a matter of convenience, the training and inference code both use the same container.\n",
    "from sagemaker.amazon.amazon_estimator import get_image_uri\n",
    "\n",
    "container = get_image_uri(session.boto_region_name, 'xgboost')"
   ]
  },
  {
   "cell_type": "code",
   "execution_count": 22,
   "metadata": {},
   "outputs": [
    {
     "name": "stderr",
     "output_type": "stream",
     "text": [
      "Parameter image_name will be renamed to image_uri in SageMaker Python SDK v2.\n"
     ]
    }
   ],
   "source": [
    "# First we create a SageMaker estimator object for our model.\n",
    "xgb = sagemaker.estimator.Estimator(container, # The location of the container we wish to use\n",
    "                                    role,                                    # What is our current IAM Role\n",
    "                                    train_instance_count=1,                  # How many compute instances\n",
    "                                    train_instance_type='ml.m4.xlarge',      # What kind of compute instances\n",
    "                                    output_path='s3://{}/{}/output'.format(session.default_bucket(), prefix),\n",
    "                                    sagemaker_session=session)\n",
    "\n",
    "# And then set the algorithm specific parameters.\n",
    "xgb.set_hyperparameters(max_depth=5,\n",
    "                        eta=0.2,\n",
    "                        gamma=4,\n",
    "                        min_child_weight=6,\n",
    "                        subsample=0.8,\n",
    "                        silent=0,\n",
    "                        objective='binary:logistic',\n",
    "                        early_stopping_rounds=10,\n",
    "                        num_round=500)"
   ]
  },
  {
   "cell_type": "markdown",
   "metadata": {},
   "source": [
    "### Fit the XGBoost model\n",
    "\n",
    "Now that our model has been set up we simply need to attach the training and validation datasets and then ask SageMaker to set up the computation."
   ]
  },
  {
   "cell_type": "code",
   "execution_count": 23,
   "metadata": {},
   "outputs": [
    {
     "name": "stderr",
     "output_type": "stream",
     "text": [
      "'s3_input' class will be renamed to 'TrainingInput' in SageMaker Python SDK v2.\n",
      "'s3_input' class will be renamed to 'TrainingInput' in SageMaker Python SDK v2.\n"
     ]
    }
   ],
   "source": [
    "s3_input_train = sagemaker.s3_input(s3_data=train_location, content_type='csv')\n",
    "s3_input_validation = sagemaker.s3_input(s3_data=val_location, content_type='csv')"
   ]
  },
  {
   "cell_type": "code",
   "execution_count": 24,
   "metadata": {},
   "outputs": [
    {
     "name": "stdout",
     "output_type": "stream",
     "text": [
      "2021-05-02 14:05:21 Starting - Starting the training job...\n",
      "2021-05-02 14:05:22 Starting - Launching requested ML instances......\n",
      "2021-05-02 14:06:49 Starting - Preparing the instances for training.........\n",
      "2021-05-02 14:08:11 Downloading - Downloading input data...\n",
      "2021-05-02 14:08:40 Training - Downloading the training image...\n",
      "2021-05-02 14:09:07 Training - Training image download completed. Training in progress.\u001b[34mArguments: train\u001b[0m\n",
      "\u001b[34m[2021-05-02:14:09:08:INFO] Running standalone xgboost training.\u001b[0m\n",
      "\u001b[34m[2021-05-02:14:09:08:INFO] File size need to be processed in the node: 238.5mb. Available memory size in the node: 8399.86mb\u001b[0m\n",
      "\u001b[34m[2021-05-02:14:09:08:INFO] Determined delimiter of CSV input is ','\u001b[0m\n",
      "\u001b[34m[14:09:08] S3DistributionType set as FullyReplicated\u001b[0m\n",
      "\u001b[34m[14:09:10] 15000x5000 matrix with 75000000 entries loaded from /opt/ml/input/data/train?format=csv&label_column=0&delimiter=,\u001b[0m\n",
      "\u001b[34m[2021-05-02:14:09:10:INFO] Determined delimiter of CSV input is ','\u001b[0m\n",
      "\u001b[34m[14:09:10] S3DistributionType set as FullyReplicated\u001b[0m\n",
      "\u001b[34m[14:09:11] 10000x5000 matrix with 50000000 entries loaded from /opt/ml/input/data/validation?format=csv&label_column=0&delimiter=,\u001b[0m\n",
      "\u001b[34m[14:09:15] src/tree/updater_prune.cc:74: tree pruning end, 1 roots, 46 extra nodes, 6 pruned nodes, max_depth=5\u001b[0m\n",
      "\u001b[34m[0]#011train-error:0.299733#011validation-error:0.3175\u001b[0m\n",
      "\u001b[34mMultiple eval metrics have been passed: 'validation-error' will be used for early stopping.\n",
      "\u001b[0m\n",
      "\u001b[34mWill train until validation-error hasn't improved in 10 rounds.\u001b[0m\n",
      "\u001b[34m[14:09:16] src/tree/updater_prune.cc:74: tree pruning end, 1 roots, 40 extra nodes, 4 pruned nodes, max_depth=5\u001b[0m\n",
      "\u001b[34m[1]#011train-error:0.301733#011validation-error:0.3181\u001b[0m\n",
      "\u001b[34m[14:09:18] src/tree/updater_prune.cc:74: tree pruning end, 1 roots, 42 extra nodes, 4 pruned nodes, max_depth=5\u001b[0m\n",
      "\u001b[34m[2]#011train-error:0.286#011validation-error:0.3058\u001b[0m\n",
      "\u001b[34m[14:09:20] src/tree/updater_prune.cc:74: tree pruning end, 1 roots, 30 extra nodes, 4 pruned nodes, max_depth=5\u001b[0m\n",
      "\u001b[34m[3]#011train-error:0.277267#011validation-error:0.298\u001b[0m\n",
      "\u001b[34m[14:09:21] src/tree/updater_prune.cc:74: tree pruning end, 1 roots, 46 extra nodes, 4 pruned nodes, max_depth=5\u001b[0m\n",
      "\u001b[34m[4]#011train-error:0.2702#011validation-error:0.2913\u001b[0m\n",
      "\u001b[34m[14:09:22] src/tree/updater_prune.cc:74: tree pruning end, 1 roots, 34 extra nodes, 2 pruned nodes, max_depth=5\u001b[0m\n",
      "\u001b[34m[5]#011train-error:0.2616#011validation-error:0.2845\u001b[0m\n",
      "\u001b[34m[14:09:24] src/tree/updater_prune.cc:74: tree pruning end, 1 roots, 38 extra nodes, 0 pruned nodes, max_depth=5\u001b[0m\n",
      "\u001b[34m[6]#011train-error:0.256#011validation-error:0.2803\u001b[0m\n",
      "\u001b[34m[14:09:25] src/tree/updater_prune.cc:74: tree pruning end, 1 roots, 26 extra nodes, 6 pruned nodes, max_depth=5\u001b[0m\n",
      "\u001b[34m[7]#011train-error:0.246933#011validation-error:0.2734\u001b[0m\n",
      "\u001b[34m[14:09:27] src/tree/updater_prune.cc:74: tree pruning end, 1 roots, 34 extra nodes, 6 pruned nodes, max_depth=5\u001b[0m\n",
      "\u001b[34m[8]#011train-error:0.235733#011validation-error:0.2631\u001b[0m\n",
      "\u001b[34m[14:09:28] src/tree/updater_prune.cc:74: tree pruning end, 1 roots, 34 extra nodes, 2 pruned nodes, max_depth=5\u001b[0m\n",
      "\u001b[34m[9]#011train-error:0.230467#011validation-error:0.2568\u001b[0m\n",
      "\u001b[34m[14:09:29] src/tree/updater_prune.cc:74: tree pruning end, 1 roots, 36 extra nodes, 2 pruned nodes, max_depth=5\u001b[0m\n",
      "\u001b[34m[10]#011train-error:0.219733#011validation-error:0.2472\u001b[0m\n",
      "\u001b[34m[14:09:31] src/tree/updater_prune.cc:74: tree pruning end, 1 roots, 16 extra nodes, 18 pruned nodes, max_depth=5\u001b[0m\n",
      "\u001b[34m[11]#011train-error:0.217667#011validation-error:0.245\u001b[0m\n",
      "\u001b[34m[14:09:32] src/tree/updater_prune.cc:74: tree pruning end, 1 roots, 30 extra nodes, 10 pruned nodes, max_depth=5\u001b[0m\n",
      "\u001b[34m[12]#011train-error:0.2152#011validation-error:0.2424\u001b[0m\n",
      "\u001b[34m[14:09:34] src/tree/updater_prune.cc:74: tree pruning end, 1 roots, 24 extra nodes, 6 pruned nodes, max_depth=5\u001b[0m\n",
      "\u001b[34m[13]#011train-error:0.210733#011validation-error:0.2393\u001b[0m\n",
      "\u001b[34m[14:09:35] src/tree/updater_prune.cc:74: tree pruning end, 1 roots, 22 extra nodes, 4 pruned nodes, max_depth=5\u001b[0m\n",
      "\u001b[34m[14]#011train-error:0.208333#011validation-error:0.2354\u001b[0m\n",
      "\u001b[34m[14:09:36] src/tree/updater_prune.cc:74: tree pruning end, 1 roots, 22 extra nodes, 8 pruned nodes, max_depth=5\u001b[0m\n",
      "\u001b[34m[15]#011train-error:0.203867#011validation-error:0.23\u001b[0m\n",
      "\u001b[34m[14:09:38] src/tree/updater_prune.cc:74: tree pruning end, 1 roots, 20 extra nodes, 12 pruned nodes, max_depth=5\u001b[0m\n",
      "\u001b[34m[16]#011train-error:0.200133#011validation-error:0.2263\u001b[0m\n",
      "\u001b[34m[14:09:39] src/tree/updater_prune.cc:74: tree pruning end, 1 roots, 30 extra nodes, 16 pruned nodes, max_depth=5\u001b[0m\n",
      "\u001b[34m[17]#011train-error:0.198733#011validation-error:0.2256\u001b[0m\n",
      "\u001b[34m[14:09:40] src/tree/updater_prune.cc:74: tree pruning end, 1 roots, 24 extra nodes, 6 pruned nodes, max_depth=5\u001b[0m\n",
      "\u001b[34m[18]#011train-error:0.195133#011validation-error:0.223\u001b[0m\n",
      "\u001b[34m[14:09:42] src/tree/updater_prune.cc:74: tree pruning end, 1 roots, 24 extra nodes, 14 pruned nodes, max_depth=5\u001b[0m\n",
      "\u001b[34m[19]#011train-error:0.192733#011validation-error:0.2207\u001b[0m\n",
      "\u001b[34m[14:09:43] src/tree/updater_prune.cc:74: tree pruning end, 1 roots, 36 extra nodes, 12 pruned nodes, max_depth=5\u001b[0m\n",
      "\u001b[34m[20]#011train-error:0.189#011validation-error:0.2183\u001b[0m\n",
      "\u001b[34m[14:09:44] src/tree/updater_prune.cc:74: tree pruning end, 1 roots, 22 extra nodes, 8 pruned nodes, max_depth=5\u001b[0m\n",
      "\u001b[34m[21]#011train-error:0.1862#011validation-error:0.2155\u001b[0m\n",
      "\u001b[34m[14:09:46] src/tree/updater_prune.cc:74: tree pruning end, 1 roots, 32 extra nodes, 0 pruned nodes, max_depth=5\u001b[0m\n",
      "\u001b[34m[22]#011train-error:0.1844#011validation-error:0.2138\u001b[0m\n",
      "\u001b[34m[14:09:47] src/tree/updater_prune.cc:74: tree pruning end, 1 roots, 30 extra nodes, 10 pruned nodes, max_depth=5\u001b[0m\n",
      "\u001b[34m[23]#011train-error:0.1836#011validation-error:0.2105\u001b[0m\n",
      "\u001b[34m[14:09:48] src/tree/updater_prune.cc:74: tree pruning end, 1 roots, 28 extra nodes, 6 pruned nodes, max_depth=5\u001b[0m\n",
      "\u001b[34m[24]#011train-error:0.182733#011validation-error:0.2087\u001b[0m\n",
      "\u001b[34m[14:09:50] src/tree/updater_prune.cc:74: tree pruning end, 1 roots, 40 extra nodes, 2 pruned nodes, max_depth=5\u001b[0m\n",
      "\u001b[34m[25]#011train-error:0.1782#011validation-error:0.2075\u001b[0m\n",
      "\u001b[34m[14:09:51] src/tree/updater_prune.cc:74: tree pruning end, 1 roots, 22 extra nodes, 8 pruned nodes, max_depth=5\u001b[0m\n",
      "\u001b[34m[26]#011train-error:0.175533#011validation-error:0.2062\u001b[0m\n",
      "\u001b[34m[14:09:53] src/tree/updater_prune.cc:74: tree pruning end, 1 roots, 16 extra nodes, 8 pruned nodes, max_depth=5\u001b[0m\n",
      "\u001b[34m[27]#011train-error:0.173933#011validation-error:0.2038\u001b[0m\n",
      "\u001b[34m[14:09:54] src/tree/updater_prune.cc:74: tree pruning end, 1 roots, 34 extra nodes, 2 pruned nodes, max_depth=5\u001b[0m\n",
      "\u001b[34m[28]#011train-error:0.170067#011validation-error:0.204\u001b[0m\n",
      "\u001b[34m[14:09:55] src/tree/updater_prune.cc:74: tree pruning end, 1 roots, 24 extra nodes, 4 pruned nodes, max_depth=5\u001b[0m\n",
      "\u001b[34m[29]#011train-error:0.1664#011validation-error:0.2017\u001b[0m\n",
      "\u001b[34m[14:09:57] src/tree/updater_prune.cc:74: tree pruning end, 1 roots, 26 extra nodes, 16 pruned nodes, max_depth=5\u001b[0m\n",
      "\u001b[34m[30]#011train-error:0.166467#011validation-error:0.2015\u001b[0m\n",
      "\u001b[34m[14:09:58] src/tree/updater_prune.cc:74: tree pruning end, 1 roots, 22 extra nodes, 14 pruned nodes, max_depth=5\u001b[0m\n",
      "\u001b[34m[31]#011train-error:0.163667#011validation-error:0.1987\u001b[0m\n",
      "\u001b[34m[14:09:59] src/tree/updater_prune.cc:74: tree pruning end, 1 roots, 26 extra nodes, 4 pruned nodes, max_depth=5\u001b[0m\n",
      "\u001b[34m[32]#011train-error:0.162333#011validation-error:0.1963\u001b[0m\n",
      "\u001b[34m[14:10:01] src/tree/updater_prune.cc:74: tree pruning end, 1 roots, 20 extra nodes, 8 pruned nodes, max_depth=5\u001b[0m\n",
      "\u001b[34m[33]#011train-error:0.161933#011validation-error:0.1953\u001b[0m\n",
      "\u001b[34m[14:10:02] src/tree/updater_prune.cc:74: tree pruning end, 1 roots, 16 extra nodes, 10 pruned nodes, max_depth=5\u001b[0m\n",
      "\u001b[34m[34]#011train-error:0.160267#011validation-error:0.1942\u001b[0m\n",
      "\u001b[34m[14:10:04] src/tree/updater_prune.cc:74: tree pruning end, 1 roots, 20 extra nodes, 12 pruned nodes, max_depth=5\u001b[0m\n",
      "\u001b[34m[35]#011train-error:0.159333#011validation-error:0.1946\u001b[0m\n",
      "\u001b[34m[14:10:06] src/tree/updater_prune.cc:74: tree pruning end, 1 roots, 20 extra nodes, 16 pruned nodes, max_depth=5\u001b[0m\n",
      "\u001b[34m[36]#011train-error:0.158867#011validation-error:0.1933\u001b[0m\n",
      "\u001b[34m[14:10:07] src/tree/updater_prune.cc:74: tree pruning end, 1 roots, 22 extra nodes, 6 pruned nodes, max_depth=5\u001b[0m\n",
      "\u001b[34m[37]#011train-error:0.157867#011validation-error:0.1931\u001b[0m\n",
      "\u001b[34m[14:10:08] src/tree/updater_prune.cc:74: tree pruning end, 1 roots, 38 extra nodes, 2 pruned nodes, max_depth=5\u001b[0m\n",
      "\u001b[34m[38]#011train-error:0.155333#011validation-error:0.1929\u001b[0m\n",
      "\u001b[34m[14:10:10] src/tree/updater_prune.cc:74: tree pruning end, 1 roots, 30 extra nodes, 8 pruned nodes, max_depth=5\u001b[0m\n",
      "\u001b[34m[39]#011train-error:0.153933#011validation-error:0.1899\u001b[0m\n",
      "\u001b[34m[14:10:11] src/tree/updater_prune.cc:74: tree pruning end, 1 roots, 28 extra nodes, 12 pruned nodes, max_depth=5\u001b[0m\n",
      "\u001b[34m[40]#011train-error:0.152467#011validation-error:0.1877\u001b[0m\n",
      "\u001b[34m[14:10:13] src/tree/updater_prune.cc:74: tree pruning end, 1 roots, 40 extra nodes, 2 pruned nodes, max_depth=5\u001b[0m\n",
      "\u001b[34m[41]#011train-error:0.150067#011validation-error:0.1879\u001b[0m\n",
      "\u001b[34m[14:10:14] src/tree/updater_prune.cc:74: tree pruning end, 1 roots, 16 extra nodes, 12 pruned nodes, max_depth=5\u001b[0m\n",
      "\u001b[34m[42]#011train-error:0.150133#011validation-error:0.1872\u001b[0m\n",
      "\u001b[34m[14:10:15] src/tree/updater_prune.cc:74: tree pruning end, 1 roots, 26 extra nodes, 10 pruned nodes, max_depth=5\u001b[0m\n",
      "\u001b[34m[43]#011train-error:0.149667#011validation-error:0.1858\u001b[0m\n",
      "\u001b[34m[14:10:17] src/tree/updater_prune.cc:74: tree pruning end, 1 roots, 26 extra nodes, 6 pruned nodes, max_depth=5\u001b[0m\n",
      "\u001b[34m[44]#011train-error:0.147733#011validation-error:0.1859\u001b[0m\n",
      "\u001b[34m[14:10:18] src/tree/updater_prune.cc:74: tree pruning end, 1 roots, 14 extra nodes, 8 pruned nodes, max_depth=5\u001b[0m\n",
      "\u001b[34m[45]#011train-error:0.1468#011validation-error:0.1848\u001b[0m\n",
      "\u001b[34m[14:10:19] src/tree/updater_prune.cc:74: tree pruning end, 1 roots, 26 extra nodes, 6 pruned nodes, max_depth=5\u001b[0m\n",
      "\u001b[34m[46]#011train-error:0.146133#011validation-error:0.1832\u001b[0m\n",
      "\u001b[34m[14:10:21] src/tree/updater_prune.cc:74: tree pruning end, 1 roots, 30 extra nodes, 10 pruned nodes, max_depth=5\u001b[0m\n",
      "\u001b[34m[47]#011train-error:0.145133#011validation-error:0.1825\u001b[0m\n",
      "\u001b[34m[14:10:22] src/tree/updater_prune.cc:74: tree pruning end, 1 roots, 18 extra nodes, 14 pruned nodes, max_depth=5\u001b[0m\n",
      "\u001b[34m[48]#011train-error:0.1442#011validation-error:0.1814\u001b[0m\n",
      "\u001b[34m[14:10:23] src/tree/updater_prune.cc:74: tree pruning end, 1 roots, 10 extra nodes, 16 pruned nodes, max_depth=5\u001b[0m\n",
      "\u001b[34m[49]#011train-error:0.1432#011validation-error:0.1814\u001b[0m\n",
      "\u001b[34m[14:10:25] src/tree/updater_prune.cc:74: tree pruning end, 1 roots, 34 extra nodes, 10 pruned nodes, max_depth=5\u001b[0m\n",
      "\u001b[34m[50]#011train-error:0.1412#011validation-error:0.1798\u001b[0m\n",
      "\u001b[34m[14:10:26] src/tree/updater_prune.cc:74: tree pruning end, 1 roots, 14 extra nodes, 12 pruned nodes, max_depth=5\u001b[0m\n",
      "\u001b[34m[51]#011train-error:0.1412#011validation-error:0.1799\u001b[0m\n",
      "\u001b[34m[14:10:27] src/tree/updater_prune.cc:74: tree pruning end, 1 roots, 16 extra nodes, 4 pruned nodes, max_depth=5\u001b[0m\n",
      "\u001b[34m[52]#011train-error:0.140933#011validation-error:0.1798\u001b[0m\n",
      "\u001b[34m[14:10:29] src/tree/updater_prune.cc:74: tree pruning end, 1 roots, 30 extra nodes, 12 pruned nodes, max_depth=5\u001b[0m\n",
      "\u001b[34m[53]#011train-error:0.139133#011validation-error:0.1791\u001b[0m\n",
      "\u001b[34m[14:10:30] src/tree/updater_prune.cc:74: tree pruning end, 1 roots, 32 extra nodes, 10 pruned nodes, max_depth=5\u001b[0m\n",
      "\u001b[34m[54]#011train-error:0.137733#011validation-error:0.1775\u001b[0m\n",
      "\u001b[34m[14:10:32] src/tree/updater_prune.cc:74: tree pruning end, 1 roots, 16 extra nodes, 12 pruned nodes, max_depth=5\u001b[0m\n",
      "\u001b[34m[55]#011train-error:0.1362#011validation-error:0.1772\u001b[0m\n",
      "\u001b[34m[14:10:33] src/tree/updater_prune.cc:74: tree pruning end, 1 roots, 28 extra nodes, 8 pruned nodes, max_depth=5\u001b[0m\n",
      "\u001b[34m[56]#011train-error:0.135267#011validation-error:0.1757\u001b[0m\n",
      "\u001b[34m[14:10:34] src/tree/updater_prune.cc:74: tree pruning end, 1 roots, 30 extra nodes, 8 pruned nodes, max_depth=5\u001b[0m\n",
      "\u001b[34m[57]#011train-error:0.133667#011validation-error:0.1731\u001b[0m\n",
      "\u001b[34m[14:10:36] src/tree/updater_prune.cc:74: tree pruning end, 1 roots, 22 extra nodes, 4 pruned nodes, max_depth=5\u001b[0m\n",
      "\u001b[34m[58]#011train-error:0.132333#011validation-error:0.1725\u001b[0m\n",
      "\u001b[34m[14:10:37] src/tree/updater_prune.cc:74: tree pruning end, 1 roots, 12 extra nodes, 10 pruned nodes, max_depth=5\u001b[0m\n",
      "\u001b[34m[59]#011train-error:0.132#011validation-error:0.1718\u001b[0m\n",
      "\u001b[34m[14:10:38] src/tree/updater_prune.cc:74: tree pruning end, 1 roots, 24 extra nodes, 14 pruned nodes, max_depth=5\u001b[0m\n",
      "\u001b[34m[60]#011train-error:0.131467#011validation-error:0.1711\u001b[0m\n",
      "\u001b[34m[14:10:40] src/tree/updater_prune.cc:74: tree pruning end, 1 roots, 36 extra nodes, 4 pruned nodes, max_depth=5\u001b[0m\n",
      "\u001b[34m[61]#011train-error:0.130533#011validation-error:0.17\u001b[0m\n",
      "\u001b[34m[14:10:41] src/tree/updater_prune.cc:74: tree pruning end, 1 roots, 22 extra nodes, 10 pruned nodes, max_depth=5\u001b[0m\n",
      "\u001b[34m[62]#011train-error:0.130067#011validation-error:0.1697\u001b[0m\n",
      "\u001b[34m[14:10:43] src/tree/updater_prune.cc:74: tree pruning end, 1 roots, 36 extra nodes, 10 pruned nodes, max_depth=5\u001b[0m\n",
      "\u001b[34m[63]#011train-error:0.127533#011validation-error:0.1695\u001b[0m\n",
      "\u001b[34m[14:10:44] src/tree/updater_prune.cc:74: tree pruning end, 1 roots, 20 extra nodes, 6 pruned nodes, max_depth=5\u001b[0m\n",
      "\u001b[34m[64]#011train-error:0.126467#011validation-error:0.1694\u001b[0m\n",
      "\u001b[34m[14:10:45] src/tree/updater_prune.cc:74: tree pruning end, 1 roots, 30 extra nodes, 10 pruned nodes, max_depth=5\u001b[0m\n",
      "\u001b[34m[65]#011train-error:0.1246#011validation-error:0.1685\u001b[0m\n",
      "\u001b[34m[14:10:47] src/tree/updater_prune.cc:74: tree pruning end, 1 roots, 18 extra nodes, 8 pruned nodes, max_depth=5\u001b[0m\n",
      "\u001b[34m[66]#011train-error:0.1238#011validation-error:0.1682\u001b[0m\n",
      "\u001b[34m[14:10:48] src/tree/updater_prune.cc:74: tree pruning end, 1 roots, 24 extra nodes, 12 pruned nodes, max_depth=5\u001b[0m\n",
      "\u001b[34m[67]#011train-error:0.1228#011validation-error:0.1691\u001b[0m\n",
      "\u001b[34m[14:10:49] src/tree/updater_prune.cc:74: tree pruning end, 1 roots, 26 extra nodes, 6 pruned nodes, max_depth=5\u001b[0m\n",
      "\u001b[34m[68]#011train-error:0.122267#011validation-error:0.1679\u001b[0m\n",
      "\u001b[34m[14:10:51] src/tree/updater_prune.cc:74: tree pruning end, 1 roots, 26 extra nodes, 6 pruned nodes, max_depth=5\u001b[0m\n",
      "\u001b[34m[69]#011train-error:0.121333#011validation-error:0.1667\u001b[0m\n",
      "\u001b[34m[14:10:52] src/tree/updater_prune.cc:74: tree pruning end, 1 roots, 22 extra nodes, 14 pruned nodes, max_depth=5\u001b[0m\n",
      "\u001b[34m[70]#011train-error:0.120667#011validation-error:0.168\u001b[0m\n",
      "\u001b[34m[14:10:53] src/tree/updater_prune.cc:74: tree pruning end, 1 roots, 16 extra nodes, 8 pruned nodes, max_depth=5\u001b[0m\n",
      "\u001b[34m[71]#011train-error:0.119133#011validation-error:0.1663\u001b[0m\n",
      "\u001b[34m[14:10:55] src/tree/updater_prune.cc:74: tree pruning end, 1 roots, 22 extra nodes, 12 pruned nodes, max_depth=5\u001b[0m\n",
      "\u001b[34m[72]#011train-error:0.119067#011validation-error:0.1665\u001b[0m\n",
      "\u001b[34m[14:10:56] src/tree/updater_prune.cc:74: tree pruning end, 1 roots, 14 extra nodes, 8 pruned nodes, max_depth=5\u001b[0m\n",
      "\u001b[34m[73]#011train-error:0.1186#011validation-error:0.1649\u001b[0m\n",
      "\u001b[34m[14:10:58] src/tree/updater_prune.cc:74: tree pruning end, 1 roots, 18 extra nodes, 8 pruned nodes, max_depth=5\u001b[0m\n",
      "\u001b[34m[74]#011train-error:0.118#011validation-error:0.1649\u001b[0m\n",
      "\u001b[34m[14:10:59] src/tree/updater_prune.cc:74: tree pruning end, 1 roots, 24 extra nodes, 4 pruned nodes, max_depth=5\u001b[0m\n",
      "\u001b[34m[75]#011train-error:0.117333#011validation-error:0.1644\u001b[0m\n",
      "\u001b[34m[14:11:00] src/tree/updater_prune.cc:74: tree pruning end, 1 roots, 14 extra nodes, 8 pruned nodes, max_depth=5\u001b[0m\n",
      "\u001b[34m[76]#011train-error:0.116933#011validation-error:0.1639\u001b[0m\n",
      "\u001b[34m[14:11:02] src/tree/updater_prune.cc:74: tree pruning end, 1 roots, 16 extra nodes, 10 pruned nodes, max_depth=5\u001b[0m\n",
      "\u001b[34m[77]#011train-error:0.1172#011validation-error:0.1629\u001b[0m\n",
      "\u001b[34m[14:11:03] src/tree/updater_prune.cc:74: tree pruning end, 1 roots, 34 extra nodes, 8 pruned nodes, max_depth=5\u001b[0m\n",
      "\u001b[34m[78]#011train-error:0.116667#011validation-error:0.1621\u001b[0m\n",
      "\u001b[34m[14:11:05] src/tree/updater_prune.cc:74: tree pruning end, 1 roots, 14 extra nodes, 12 pruned nodes, max_depth=5\u001b[0m\n",
      "\u001b[34m[79]#011train-error:0.1164#011validation-error:0.1634\u001b[0m\n",
      "\u001b[34m[14:11:07] src/tree/updater_prune.cc:74: tree pruning end, 1 roots, 12 extra nodes, 4 pruned nodes, max_depth=5\u001b[0m\n",
      "\u001b[34m[80]#011train-error:0.115867#011validation-error:0.1629\u001b[0m\n",
      "\u001b[34m[14:11:08] src/tree/updater_prune.cc:74: tree pruning end, 1 roots, 18 extra nodes, 8 pruned nodes, max_depth=5\u001b[0m\n",
      "\u001b[34m[81]#011train-error:0.114867#011validation-error:0.162\u001b[0m\n",
      "\u001b[34m[14:11:09] src/tree/updater_prune.cc:74: tree pruning end, 1 roots, 22 extra nodes, 4 pruned nodes, max_depth=5\u001b[0m\n",
      "\u001b[34m[82]#011train-error:0.114133#011validation-error:0.1624\u001b[0m\n",
      "\u001b[34m[14:11:11] src/tree/updater_prune.cc:74: tree pruning end, 1 roots, 22 extra nodes, 8 pruned nodes, max_depth=5\u001b[0m\n",
      "\u001b[34m[83]#011train-error:0.113333#011validation-error:0.163\u001b[0m\n",
      "\u001b[34m[14:11:12] src/tree/updater_prune.cc:74: tree pruning end, 1 roots, 16 extra nodes, 10 pruned nodes, max_depth=5\u001b[0m\n",
      "\u001b[34m[84]#011train-error:0.113467#011validation-error:0.1619\u001b[0m\n",
      "\u001b[34m[14:11:14] src/tree/updater_prune.cc:74: tree pruning end, 1 roots, 14 extra nodes, 4 pruned nodes, max_depth=5\u001b[0m\n",
      "\u001b[34m[85]#011train-error:0.112733#011validation-error:0.1613\u001b[0m\n",
      "\u001b[34m[14:11:15] src/tree/updater_prune.cc:74: tree pruning end, 1 roots, 24 extra nodes, 6 pruned nodes, max_depth=5\u001b[0m\n",
      "\u001b[34m[86]#011train-error:0.112267#011validation-error:0.1606\u001b[0m\n",
      "\u001b[34m[14:11:16] src/tree/updater_prune.cc:74: tree pruning end, 1 roots, 24 extra nodes, 14 pruned nodes, max_depth=5\u001b[0m\n",
      "\u001b[34m[87]#011train-error:0.111067#011validation-error:0.1609\u001b[0m\n",
      "\u001b[34m[14:11:18] src/tree/updater_prune.cc:74: tree pruning end, 1 roots, 22 extra nodes, 4 pruned nodes, max_depth=5\u001b[0m\n",
      "\u001b[34m[88]#011train-error:0.110933#011validation-error:0.1607\u001b[0m\n",
      "\u001b[34m[14:11:19] src/tree/updater_prune.cc:74: tree pruning end, 1 roots, 12 extra nodes, 4 pruned nodes, max_depth=5\u001b[0m\n",
      "\u001b[34m[89]#011train-error:0.1096#011validation-error:0.1604\u001b[0m\n",
      "\u001b[34m[14:11:20] src/tree/updater_prune.cc:74: tree pruning end, 1 roots, 24 extra nodes, 14 pruned nodes, max_depth=5\u001b[0m\n",
      "\u001b[34m[90]#011train-error:0.109933#011validation-error:0.1592\u001b[0m\n",
      "\u001b[34m[14:11:22] src/tree/updater_prune.cc:74: tree pruning end, 1 roots, 10 extra nodes, 18 pruned nodes, max_depth=5\u001b[0m\n",
      "\u001b[34m[91]#011train-error:0.109467#011validation-error:0.1587\u001b[0m\n",
      "\u001b[34m[14:11:23] src/tree/updater_prune.cc:74: tree pruning end, 1 roots, 18 extra nodes, 16 pruned nodes, max_depth=5\u001b[0m\n",
      "\u001b[34m[92]#011train-error:0.108867#011validation-error:0.1591\u001b[0m\n",
      "\u001b[34m[14:11:24] src/tree/updater_prune.cc:74: tree pruning end, 1 roots, 24 extra nodes, 0 pruned nodes, max_depth=5\u001b[0m\n",
      "\u001b[34m[93]#011train-error:0.1076#011validation-error:0.1593\u001b[0m\n",
      "\u001b[34m[14:11:26] src/tree/updater_prune.cc:74: tree pruning end, 1 roots, 28 extra nodes, 4 pruned nodes, max_depth=5\u001b[0m\n",
      "\u001b[34m[94]#011train-error:0.106533#011validation-error:0.16\u001b[0m\n",
      "\u001b[34m[14:11:27] src/tree/updater_prune.cc:74: tree pruning end, 1 roots, 16 extra nodes, 14 pruned nodes, max_depth=5\u001b[0m\n",
      "\u001b[34m[95]#011train-error:0.106067#011validation-error:0.1603\u001b[0m\n",
      "\u001b[34m[14:11:28] src/tree/updater_prune.cc:74: tree pruning end, 1 roots, 18 extra nodes, 2 pruned nodes, max_depth=5\u001b[0m\n",
      "\u001b[34m[96]#011train-error:0.105467#011validation-error:0.1597\u001b[0m\n",
      "\u001b[34m[14:11:30] src/tree/updater_prune.cc:74: tree pruning end, 1 roots, 18 extra nodes, 6 pruned nodes, max_depth=5\u001b[0m\n",
      "\u001b[34m[97]#011train-error:0.105467#011validation-error:0.1599\u001b[0m\n",
      "\u001b[34m[14:11:31] src/tree/updater_prune.cc:74: tree pruning end, 1 roots, 10 extra nodes, 2 pruned nodes, max_depth=5\u001b[0m\n",
      "\u001b[34m[98]#011train-error:0.105333#011validation-error:0.1597\u001b[0m\n",
      "\u001b[34m[14:11:33] src/tree/updater_prune.cc:74: tree pruning end, 1 roots, 16 extra nodes, 8 pruned nodes, max_depth=5\u001b[0m\n",
      "\u001b[34m[99]#011train-error:0.104533#011validation-error:0.1596\u001b[0m\n",
      "\u001b[34m[14:11:34] src/tree/updater_prune.cc:74: tree pruning end, 1 roots, 12 extra nodes, 22 pruned nodes, max_depth=5\u001b[0m\n",
      "\u001b[34m[100]#011train-error:0.1044#011validation-error:0.159\u001b[0m\n",
      "\u001b[34m[14:11:35] src/tree/updater_prune.cc:74: tree pruning end, 1 roots, 16 extra nodes, 8 pruned nodes, max_depth=5\u001b[0m\n",
      "\u001b[34m[101]#011train-error:0.104267#011validation-error:0.1576\u001b[0m\n",
      "\u001b[34m[14:11:37] src/tree/updater_prune.cc:74: tree pruning end, 1 roots, 20 extra nodes, 10 pruned nodes, max_depth=5\u001b[0m\n",
      "\u001b[34m[102]#011train-error:0.103867#011validation-error:0.1579\u001b[0m\n",
      "\u001b[34m[14:11:38] src/tree/updater_prune.cc:74: tree pruning end, 1 roots, 20 extra nodes, 14 pruned nodes, max_depth=5\u001b[0m\n",
      "\u001b[34m[103]#011train-error:0.102867#011validation-error:0.1585\u001b[0m\n",
      "\u001b[34m[14:11:39] src/tree/updater_prune.cc:74: tree pruning end, 1 roots, 12 extra nodes, 8 pruned nodes, max_depth=5\u001b[0m\n",
      "\u001b[34m[104]#011train-error:0.102933#011validation-error:0.1588\u001b[0m\n",
      "\u001b[34m[14:11:41] src/tree/updater_prune.cc:74: tree pruning end, 1 roots, 12 extra nodes, 2 pruned nodes, max_depth=5\u001b[0m\n",
      "\u001b[34m[105]#011train-error:0.102333#011validation-error:0.1578\u001b[0m\n",
      "\u001b[34m[14:11:42] src/tree/updater_prune.cc:74: tree pruning end, 1 roots, 14 extra nodes, 2 pruned nodes, max_depth=5\u001b[0m\n",
      "\u001b[34m[106]#011train-error:0.101533#011validation-error:0.1578\u001b[0m\n",
      "\u001b[34m[14:11:44] src/tree/updater_prune.cc:74: tree pruning end, 1 roots, 16 extra nodes, 12 pruned nodes, max_depth=5\u001b[0m\n",
      "\u001b[34m[107]#011train-error:0.101333#011validation-error:0.1573\u001b[0m\n",
      "\u001b[34m[14:11:45] src/tree/updater_prune.cc:74: tree pruning end, 1 roots, 14 extra nodes, 6 pruned nodes, max_depth=5\u001b[0m\n",
      "\u001b[34m[108]#011train-error:0.100867#011validation-error:0.1573\u001b[0m\n",
      "\u001b[34m[14:11:46] src/tree/updater_prune.cc:74: tree pruning end, 1 roots, 12 extra nodes, 8 pruned nodes, max_depth=5\u001b[0m\n",
      "\u001b[34m[109]#011train-error:0.100467#011validation-error:0.1571\u001b[0m\n",
      "\u001b[34m[14:11:48] src/tree/updater_prune.cc:74: tree pruning end, 1 roots, 24 extra nodes, 6 pruned nodes, max_depth=5\u001b[0m\n",
      "\u001b[34m[110]#011train-error:0.1002#011validation-error:0.1559\u001b[0m\n",
      "\u001b[34m[14:11:49] src/tree/updater_prune.cc:74: tree pruning end, 1 roots, 12 extra nodes, 6 pruned nodes, max_depth=5\u001b[0m\n",
      "\u001b[34m[111]#011train-error:0.100067#011validation-error:0.1554\u001b[0m\n",
      "\u001b[34m[14:11:50] src/tree/updater_prune.cc:74: tree pruning end, 1 roots, 12 extra nodes, 4 pruned nodes, max_depth=5\u001b[0m\n",
      "\u001b[34m[112]#011train-error:0.100067#011validation-error:0.1551\u001b[0m\n",
      "\u001b[34m[14:11:52] src/tree/updater_prune.cc:74: tree pruning end, 1 roots, 14 extra nodes, 10 pruned nodes, max_depth=5\u001b[0m\n",
      "\u001b[34m[113]#011train-error:0.1002#011validation-error:0.1553\u001b[0m\n",
      "\u001b[34m[14:11:53] src/tree/updater_prune.cc:74: tree pruning end, 1 roots, 22 extra nodes, 14 pruned nodes, max_depth=5\u001b[0m\n",
      "\u001b[34m[114]#011train-error:0.099533#011validation-error:0.1555\u001b[0m\n",
      "\u001b[34m[14:11:55] src/tree/updater_prune.cc:74: tree pruning end, 1 roots, 14 extra nodes, 10 pruned nodes, max_depth=5\u001b[0m\n",
      "\u001b[34m[115]#011train-error:0.0996#011validation-error:0.1559\u001b[0m\n",
      "\u001b[34m[14:11:56] src/tree/updater_prune.cc:74: tree pruning end, 1 roots, 14 extra nodes, 6 pruned nodes, max_depth=5\u001b[0m\n",
      "\u001b[34m[116]#011train-error:0.099#011validation-error:0.1553\u001b[0m\n",
      "\u001b[34m[14:11:57] src/tree/updater_prune.cc:74: tree pruning end, 1 roots, 20 extra nodes, 4 pruned nodes, max_depth=5\u001b[0m\n",
      "\u001b[34m[117]#011train-error:0.098667#011validation-error:0.1544\u001b[0m\n",
      "\u001b[34m[14:11:59] src/tree/updater_prune.cc:74: tree pruning end, 1 roots, 10 extra nodes, 0 pruned nodes, max_depth=5\u001b[0m\n",
      "\u001b[34m[118]#011train-error:0.097867#011validation-error:0.1546\u001b[0m\n",
      "\u001b[34m[14:12:00] src/tree/updater_prune.cc:74: tree pruning end, 1 roots, 12 extra nodes, 12 pruned nodes, max_depth=5\u001b[0m\n",
      "\u001b[34m[119]#011train-error:0.0978#011validation-error:0.1534\u001b[0m\n",
      "\u001b[34m[14:12:01] src/tree/updater_prune.cc:74: tree pruning end, 1 roots, 10 extra nodes, 12 pruned nodes, max_depth=5\u001b[0m\n",
      "\u001b[34m[120]#011train-error:0.0974#011validation-error:0.1532\u001b[0m\n",
      "\u001b[34m[14:12:03] src/tree/updater_prune.cc:74: tree pruning end, 1 roots, 10 extra nodes, 6 pruned nodes, max_depth=5\u001b[0m\n",
      "\u001b[34m[121]#011train-error:0.097267#011validation-error:0.1532\u001b[0m\n",
      "\u001b[34m[14:12:05] src/tree/updater_prune.cc:74: tree pruning end, 1 roots, 22 extra nodes, 8 pruned nodes, max_depth=5\u001b[0m\n",
      "\u001b[34m[122]#011train-error:0.096533#011validation-error:0.1511\u001b[0m\n",
      "\u001b[34m[14:12:07] src/tree/updater_prune.cc:74: tree pruning end, 1 roots, 18 extra nodes, 12 pruned nodes, max_depth=5\u001b[0m\n",
      "\u001b[34m[123]#011train-error:0.096#011validation-error:0.1515\u001b[0m\n",
      "\u001b[34m[14:12:08] src/tree/updater_prune.cc:74: tree pruning end, 1 roots, 10 extra nodes, 4 pruned nodes, max_depth=5\u001b[0m\n",
      "\u001b[34m[124]#011train-error:0.0956#011validation-error:0.1514\u001b[0m\n",
      "\u001b[34m[14:12:09] src/tree/updater_prune.cc:74: tree pruning end, 1 roots, 22 extra nodes, 10 pruned nodes, max_depth=5\u001b[0m\n",
      "\u001b[34m[125]#011train-error:0.094133#011validation-error:0.1518\u001b[0m\n",
      "\u001b[34m[14:12:11] src/tree/updater_prune.cc:74: tree pruning end, 1 roots, 14 extra nodes, 6 pruned nodes, max_depth=5\u001b[0m\n",
      "\u001b[34m[126]#011train-error:0.094133#011validation-error:0.1516\u001b[0m\n",
      "\u001b[34m[14:12:12] src/tree/updater_prune.cc:74: tree pruning end, 1 roots, 26 extra nodes, 4 pruned nodes, max_depth=5\u001b[0m\n",
      "\u001b[34m[127]#011train-error:0.092333#011validation-error:0.1516\u001b[0m\n",
      "\u001b[34m[14:12:13] src/tree/updater_prune.cc:74: tree pruning end, 1 roots, 18 extra nodes, 14 pruned nodes, max_depth=5\u001b[0m\n",
      "\u001b[34m[128]#011train-error:0.0922#011validation-error:0.1514\u001b[0m\n",
      "\u001b[34m[14:12:15] src/tree/updater_prune.cc:74: tree pruning end, 1 roots, 20 extra nodes, 8 pruned nodes, max_depth=5\u001b[0m\n",
      "\u001b[34m[129]#011train-error:0.091667#011validation-error:0.1499\u001b[0m\n",
      "\u001b[34m[14:12:16] src/tree/updater_prune.cc:74: tree pruning end, 1 roots, 16 extra nodes, 6 pruned nodes, max_depth=5\u001b[0m\n",
      "\u001b[34m[130]#011train-error:0.091533#011validation-error:0.1497\u001b[0m\n",
      "\u001b[34m[14:12:17] src/tree/updater_prune.cc:74: tree pruning end, 1 roots, 26 extra nodes, 8 pruned nodes, max_depth=5\u001b[0m\n",
      "\u001b[34m[131]#011train-error:0.091133#011validation-error:0.1495\u001b[0m\n",
      "\u001b[34m[14:12:19] src/tree/updater_prune.cc:74: tree pruning end, 1 roots, 14 extra nodes, 10 pruned nodes, max_depth=5\u001b[0m\n",
      "\u001b[34m[132]#011train-error:0.090867#011validation-error:0.1494\u001b[0m\n",
      "\u001b[34m[14:12:20] src/tree/updater_prune.cc:74: tree pruning end, 1 roots, 10 extra nodes, 6 pruned nodes, max_depth=5\u001b[0m\n",
      "\u001b[34m[133]#011train-error:0.090267#011validation-error:0.1494\u001b[0m\n",
      "\u001b[34m[14:12:21] src/tree/updater_prune.cc:74: tree pruning end, 1 roots, 26 extra nodes, 6 pruned nodes, max_depth=5\u001b[0m\n",
      "\u001b[34m[134]#011train-error:0.089867#011validation-error:0.15\u001b[0m\n",
      "\u001b[34m[14:12:23] src/tree/updater_prune.cc:74: tree pruning end, 1 roots, 16 extra nodes, 10 pruned nodes, max_depth=5\u001b[0m\n",
      "\u001b[34m[135]#011train-error:0.090267#011validation-error:0.1496\u001b[0m\n",
      "\u001b[34m[14:12:24] src/tree/updater_prune.cc:74: tree pruning end, 1 roots, 16 extra nodes, 0 pruned nodes, max_depth=5\u001b[0m\n",
      "\u001b[34m[136]#011train-error:0.0896#011validation-error:0.1492\u001b[0m\n",
      "\u001b[34m[14:12:26] src/tree/updater_prune.cc:74: tree pruning end, 1 roots, 22 extra nodes, 6 pruned nodes, max_depth=5\u001b[0m\n",
      "\u001b[34m[137]#011train-error:0.089333#011validation-error:0.1494\u001b[0m\n",
      "\u001b[34m[14:12:27] src/tree/updater_prune.cc:74: tree pruning end, 1 roots, 14 extra nodes, 16 pruned nodes, max_depth=5\u001b[0m\n",
      "\u001b[34m[138]#011train-error:0.088733#011validation-error:0.1498\u001b[0m\n",
      "\u001b[34m[14:12:28] src/tree/updater_prune.cc:74: tree pruning end, 1 roots, 10 extra nodes, 6 pruned nodes, max_depth=5\u001b[0m\n",
      "\u001b[34m[139]#011train-error:0.088533#011validation-error:0.1494\u001b[0m\n",
      "\u001b[34m[14:12:30] src/tree/updater_prune.cc:74: tree pruning end, 1 roots, 14 extra nodes, 12 pruned nodes, max_depth=5\u001b[0m\n",
      "\u001b[34m[140]#011train-error:0.088267#011validation-error:0.1489\u001b[0m\n",
      "\u001b[34m[14:12:31] src/tree/updater_prune.cc:74: tree pruning end, 1 roots, 22 extra nodes, 4 pruned nodes, max_depth=5\u001b[0m\n",
      "\u001b[34m[141]#011train-error:0.088733#011validation-error:0.1487\u001b[0m\n",
      "\u001b[34m[14:12:32] src/tree/updater_prune.cc:74: tree pruning end, 1 roots, 12 extra nodes, 0 pruned nodes, max_depth=5\u001b[0m\n",
      "\u001b[34m[142]#011train-error:0.088933#011validation-error:0.1489\u001b[0m\n",
      "\u001b[34m[14:12:34] src/tree/updater_prune.cc:74: tree pruning end, 1 roots, 20 extra nodes, 6 pruned nodes, max_depth=5\u001b[0m\n",
      "\u001b[34m[143]#011train-error:0.088733#011validation-error:0.1486\u001b[0m\n",
      "\u001b[34m[14:12:35] src/tree/updater_prune.cc:74: tree pruning end, 1 roots, 12 extra nodes, 12 pruned nodes, max_depth=5\u001b[0m\n",
      "\u001b[34m[144]#011train-error:0.089#011validation-error:0.1485\u001b[0m\n",
      "\u001b[34m[14:12:36] src/tree/updater_prune.cc:74: tree pruning end, 1 roots, 12 extra nodes, 16 pruned nodes, max_depth=5\u001b[0m\n",
      "\u001b[34m[145]#011train-error:0.0884#011validation-error:0.1477\u001b[0m\n",
      "\u001b[34m[14:12:38] src/tree/updater_prune.cc:74: tree pruning end, 1 roots, 18 extra nodes, 14 pruned nodes, max_depth=5\u001b[0m\n",
      "\u001b[34m[146]#011train-error:0.0882#011validation-error:0.1469\u001b[0m\n",
      "\u001b[34m[14:12:39] src/tree/updater_prune.cc:74: tree pruning end, 1 roots, 20 extra nodes, 6 pruned nodes, max_depth=5\u001b[0m\n",
      "\u001b[34m[147]#011train-error:0.087467#011validation-error:0.1473\u001b[0m\n",
      "\u001b[34m[14:12:41] src/tree/updater_prune.cc:74: tree pruning end, 1 roots, 30 extra nodes, 6 pruned nodes, max_depth=5\u001b[0m\n",
      "\u001b[34m[148]#011train-error:0.086933#011validation-error:0.1474\u001b[0m\n",
      "\u001b[34m[14:12:42] src/tree/updater_prune.cc:74: tree pruning end, 1 roots, 12 extra nodes, 4 pruned nodes, max_depth=5\u001b[0m\n",
      "\u001b[34m[149]#011train-error:0.086733#011validation-error:0.1475\u001b[0m\n",
      "\u001b[34m[14:12:43] src/tree/updater_prune.cc:74: tree pruning end, 1 roots, 18 extra nodes, 6 pruned nodes, max_depth=5\u001b[0m\n",
      "\u001b[34m[150]#011train-error:0.086267#011validation-error:0.1471\u001b[0m\n",
      "\u001b[34m[14:12:45] src/tree/updater_prune.cc:74: tree pruning end, 1 roots, 12 extra nodes, 6 pruned nodes, max_depth=5\u001b[0m\n",
      "\u001b[34m[151]#011train-error:0.085933#011validation-error:0.1459\u001b[0m\n",
      "\u001b[34m[14:12:46] src/tree/updater_prune.cc:74: tree pruning end, 1 roots, 16 extra nodes, 2 pruned nodes, max_depth=5\u001b[0m\n",
      "\u001b[34m[152]#011train-error:0.085533#011validation-error:0.1475\u001b[0m\n",
      "\u001b[34m[14:12:47] src/tree/updater_prune.cc:74: tree pruning end, 1 roots, 14 extra nodes, 6 pruned nodes, max_depth=5\u001b[0m\n",
      "\u001b[34m[153]#011train-error:0.085467#011validation-error:0.1473\u001b[0m\n",
      "\u001b[34m[14:12:49] src/tree/updater_prune.cc:74: tree pruning end, 1 roots, 14 extra nodes, 10 pruned nodes, max_depth=5\u001b[0m\n",
      "\u001b[34m[154]#011train-error:0.085133#011validation-error:0.1474\u001b[0m\n",
      "\u001b[34m[14:12:50] src/tree/updater_prune.cc:74: tree pruning end, 1 roots, 12 extra nodes, 8 pruned nodes, max_depth=5\u001b[0m\n",
      "\u001b[34m[155]#011train-error:0.0848#011validation-error:0.1466\u001b[0m\n",
      "\u001b[34m[14:12:51] src/tree/updater_prune.cc:74: tree pruning end, 1 roots, 10 extra nodes, 2 pruned nodes, max_depth=5\u001b[0m\n",
      "\u001b[34m[156]#011train-error:0.0846#011validation-error:0.1458\u001b[0m\n",
      "\u001b[34m[14:12:53] src/tree/updater_prune.cc:74: tree pruning end, 1 roots, 28 extra nodes, 10 pruned nodes, max_depth=5\u001b[0m\n",
      "\u001b[34m[157]#011train-error:0.0838#011validation-error:0.1454\u001b[0m\n",
      "\u001b[34m[14:12:54] src/tree/updater_prune.cc:74: tree pruning end, 1 roots, 12 extra nodes, 8 pruned nodes, max_depth=5\u001b[0m\n",
      "\u001b[34m[158]#011train-error:0.083333#011validation-error:0.1454\u001b[0m\n",
      "\u001b[34m[14:12:56] src/tree/updater_prune.cc:74: tree pruning end, 1 roots, 18 extra nodes, 8 pruned nodes, max_depth=5\u001b[0m\n",
      "\u001b[34m[159]#011train-error:0.083333#011validation-error:0.1452\u001b[0m\n",
      "\u001b[34m[14:12:57] src/tree/updater_prune.cc:74: tree pruning end, 1 roots, 20 extra nodes, 12 pruned nodes, max_depth=5\u001b[0m\n",
      "\u001b[34m[160]#011train-error:0.0828#011validation-error:0.1452\u001b[0m\n",
      "\u001b[34m[14:12:58] src/tree/updater_prune.cc:74: tree pruning end, 1 roots, 34 extra nodes, 6 pruned nodes, max_depth=5\u001b[0m\n",
      "\u001b[34m[161]#011train-error:0.0814#011validation-error:0.144\u001b[0m\n",
      "\u001b[34m[14:13:00] src/tree/updater_prune.cc:74: tree pruning end, 1 roots, 14 extra nodes, 2 pruned nodes, max_depth=5\u001b[0m\n",
      "\u001b[34m[162]#011train-error:0.081933#011validation-error:0.1435\u001b[0m\n",
      "\u001b[34m[14:13:01] src/tree/updater_prune.cc:74: tree pruning end, 1 roots, 14 extra nodes, 6 pruned nodes, max_depth=5\u001b[0m\n",
      "\u001b[34m[163]#011train-error:0.0814#011validation-error:0.1433\u001b[0m\n",
      "\u001b[34m[14:13:03] src/tree/updater_prune.cc:74: tree pruning end, 1 roots, 12 extra nodes, 8 pruned nodes, max_depth=5\u001b[0m\n",
      "\u001b[34m[164]#011train-error:0.0802#011validation-error:0.1433\u001b[0m\n",
      "\u001b[34m[14:13:04] src/tree/updater_prune.cc:74: tree pruning end, 1 roots, 22 extra nodes, 14 pruned nodes, max_depth=5\u001b[0m\n",
      "\u001b[34m[165]#011train-error:0.079867#011validation-error:0.1425\u001b[0m\n",
      "\u001b[34m[14:13:06] src/tree/updater_prune.cc:74: tree pruning end, 1 roots, 12 extra nodes, 6 pruned nodes, max_depth=5\u001b[0m\n",
      "\u001b[34m[166]#011train-error:0.0794#011validation-error:0.1423\u001b[0m\n",
      "\u001b[34m[14:13:08] src/tree/updater_prune.cc:74: tree pruning end, 1 roots, 12 extra nodes, 8 pruned nodes, max_depth=5\u001b[0m\n",
      "\u001b[34m[167]#011train-error:0.0792#011validation-error:0.1425\u001b[0m\n",
      "\u001b[34m[14:13:09] src/tree/updater_prune.cc:74: tree pruning end, 1 roots, 10 extra nodes, 2 pruned nodes, max_depth=5\u001b[0m\n",
      "\u001b[34m[168]#011train-error:0.079067#011validation-error:0.1428\u001b[0m\n",
      "\u001b[34m[14:13:10] src/tree/updater_prune.cc:74: tree pruning end, 1 roots, 14 extra nodes, 4 pruned nodes, max_depth=5\u001b[0m\n",
      "\u001b[34m[169]#011train-error:0.0788#011validation-error:0.1417\u001b[0m\n",
      "\u001b[34m[14:13:12] src/tree/updater_prune.cc:74: tree pruning end, 1 roots, 16 extra nodes, 6 pruned nodes, max_depth=5\u001b[0m\n",
      "\u001b[34m[170]#011train-error:0.0786#011validation-error:0.1419\u001b[0m\n",
      "\u001b[34m[14:13:13] src/tree/updater_prune.cc:74: tree pruning end, 1 roots, 16 extra nodes, 8 pruned nodes, max_depth=5\u001b[0m\n",
      "\u001b[34m[171]#011train-error:0.0788#011validation-error:0.1419\u001b[0m\n",
      "\u001b[34m[14:13:14] src/tree/updater_prune.cc:74: tree pruning end, 1 roots, 12 extra nodes, 2 pruned nodes, max_depth=5\u001b[0m\n",
      "\u001b[34m[172]#011train-error:0.0784#011validation-error:0.1419\u001b[0m\n",
      "\u001b[34m[14:13:16] src/tree/updater_prune.cc:74: tree pruning end, 1 roots, 14 extra nodes, 18 pruned nodes, max_depth=5\u001b[0m\n",
      "\u001b[34m[173]#011train-error:0.079133#011validation-error:0.1421\u001b[0m\n",
      "\u001b[34m[14:13:17] src/tree/updater_prune.cc:74: tree pruning end, 1 roots, 18 extra nodes, 12 pruned nodes, max_depth=5\u001b[0m\n",
      "\u001b[34m[174]#011train-error:0.078333#011validation-error:0.142\u001b[0m\n",
      "\u001b[34m[14:13:18] src/tree/updater_prune.cc:74: tree pruning end, 1 roots, 24 extra nodes, 2 pruned nodes, max_depth=5\u001b[0m\n",
      "\u001b[34m[175]#011train-error:0.0778#011validation-error:0.1424\u001b[0m\n",
      "\u001b[34m[14:13:20] src/tree/updater_prune.cc:74: tree pruning end, 1 roots, 14 extra nodes, 18 pruned nodes, max_depth=5\u001b[0m\n",
      "\u001b[34m[176]#011train-error:0.0774#011validation-error:0.1423\u001b[0m\n",
      "\u001b[34m[14:13:21] src/tree/updater_prune.cc:74: tree pruning end, 1 roots, 12 extra nodes, 16 pruned nodes, max_depth=5\u001b[0m\n",
      "\u001b[34m[177]#011train-error:0.0778#011validation-error:0.1423\u001b[0m\n",
      "\u001b[34m[14:13:23] src/tree/updater_prune.cc:74: tree pruning end, 1 roots, 12 extra nodes, 12 pruned nodes, max_depth=5\u001b[0m\n",
      "\u001b[34m[178]#011train-error:0.0778#011validation-error:0.1414\u001b[0m\n",
      "\u001b[34m[14:13:24] src/tree/updater_prune.cc:74: tree pruning end, 1 roots, 14 extra nodes, 8 pruned nodes, max_depth=5\u001b[0m\n",
      "\u001b[34m[179]#011train-error:0.077533#011validation-error:0.1406\u001b[0m\n",
      "\u001b[34m[14:13:25] src/tree/updater_prune.cc:74: tree pruning end, 1 roots, 10 extra nodes, 12 pruned nodes, max_depth=5\u001b[0m\n",
      "\u001b[34m[180]#011train-error:0.077667#011validation-error:0.1407\u001b[0m\n",
      "\u001b[34m[14:13:27] src/tree/updater_prune.cc:74: tree pruning end, 1 roots, 12 extra nodes, 6 pruned nodes, max_depth=5\u001b[0m\n",
      "\u001b[34m[181]#011train-error:0.077133#011validation-error:0.1415\u001b[0m\n",
      "\u001b[34m[14:13:28] src/tree/updater_prune.cc:74: tree pruning end, 1 roots, 16 extra nodes, 6 pruned nodes, max_depth=5\u001b[0m\n",
      "\u001b[34m[182]#011train-error:0.077067#011validation-error:0.1416\u001b[0m\n",
      "\u001b[34m[14:13:29] src/tree/updater_prune.cc:74: tree pruning end, 1 roots, 12 extra nodes, 4 pruned nodes, max_depth=5\u001b[0m\n",
      "\u001b[34m[183]#011train-error:0.0766#011validation-error:0.1414\u001b[0m\n",
      "\u001b[34m[14:13:31] src/tree/updater_prune.cc:74: tree pruning end, 1 roots, 14 extra nodes, 2 pruned nodes, max_depth=5\u001b[0m\n",
      "\u001b[34m[184]#011train-error:0.076867#011validation-error:0.1406\u001b[0m\n",
      "\u001b[34m[14:13:32] src/tree/updater_prune.cc:74: tree pruning end, 1 roots, 10 extra nodes, 4 pruned nodes, max_depth=5\u001b[0m\n",
      "\u001b[34m[185]#011train-error:0.076667#011validation-error:0.1411\u001b[0m\n",
      "\u001b[34m[14:13:33] src/tree/updater_prune.cc:74: tree pruning end, 1 roots, 12 extra nodes, 4 pruned nodes, max_depth=5\u001b[0m\n",
      "\u001b[34m[186]#011train-error:0.0762#011validation-error:0.1408\u001b[0m\n",
      "\u001b[34m[14:13:35] src/tree/updater_prune.cc:74: tree pruning end, 1 roots, 22 extra nodes, 6 pruned nodes, max_depth=5\u001b[0m\n",
      "\u001b[34m[187]#011train-error:0.0752#011validation-error:0.1405\u001b[0m\n",
      "\u001b[34m[14:13:36] src/tree/updater_prune.cc:74: tree pruning end, 1 roots, 12 extra nodes, 4 pruned nodes, max_depth=5\u001b[0m\n",
      "\u001b[34m[188]#011train-error:0.074933#011validation-error:0.1404\u001b[0m\n",
      "\u001b[34m[14:13:37] src/tree/updater_prune.cc:74: tree pruning end, 1 roots, 16 extra nodes, 12 pruned nodes, max_depth=5\u001b[0m\n",
      "\u001b[34m[189]#011train-error:0.074933#011validation-error:0.1408\u001b[0m\n",
      "\u001b[34m[14:13:39] src/tree/updater_prune.cc:74: tree pruning end, 1 roots, 12 extra nodes, 8 pruned nodes, max_depth=5\u001b[0m\n",
      "\u001b[34m[190]#011train-error:0.074733#011validation-error:0.1405\u001b[0m\n",
      "\u001b[34m[14:13:40] src/tree/updater_prune.cc:74: tree pruning end, 1 roots, 12 extra nodes, 0 pruned nodes, max_depth=5\u001b[0m\n",
      "\u001b[34m[191]#011train-error:0.074533#011validation-error:0.1403\u001b[0m\n",
      "\u001b[34m[14:13:42] src/tree/updater_prune.cc:74: tree pruning end, 1 roots, 24 extra nodes, 8 pruned nodes, max_depth=5\u001b[0m\n",
      "\u001b[34m[192]#011train-error:0.074533#011validation-error:0.1401\u001b[0m\n",
      "\u001b[34m[14:13:43] src/tree/updater_prune.cc:74: tree pruning end, 1 roots, 10 extra nodes, 2 pruned nodes, max_depth=5\u001b[0m\n",
      "\u001b[34m[193]#011train-error:0.074533#011validation-error:0.1398\u001b[0m\n",
      "\u001b[34m[14:13:44] src/tree/updater_prune.cc:74: tree pruning end, 1 roots, 10 extra nodes, 12 pruned nodes, max_depth=5\u001b[0m\n",
      "\u001b[34m[194]#011train-error:0.074133#011validation-error:0.1402\u001b[0m\n",
      "\u001b[34m[14:13:46] src/tree/updater_prune.cc:74: tree pruning end, 1 roots, 14 extra nodes, 8 pruned nodes, max_depth=5\u001b[0m\n",
      "\u001b[34m[195]#011train-error:0.073867#011validation-error:0.1403\u001b[0m\n",
      "\u001b[34m[14:13:47] src/tree/updater_prune.cc:74: tree pruning end, 1 roots, 18 extra nodes, 12 pruned nodes, max_depth=5\u001b[0m\n",
      "\u001b[34m[196]#011train-error:0.073467#011validation-error:0.1402\u001b[0m\n",
      "\u001b[34m[14:13:48] src/tree/updater_prune.cc:74: tree pruning end, 1 roots, 12 extra nodes, 6 pruned nodes, max_depth=5\u001b[0m\n",
      "\u001b[34m[197]#011train-error:0.0732#011validation-error:0.14\u001b[0m\n",
      "\u001b[34m[14:13:50] src/tree/updater_prune.cc:74: tree pruning end, 1 roots, 10 extra nodes, 10 pruned nodes, max_depth=5\u001b[0m\n",
      "\u001b[34m[198]#011train-error:0.072933#011validation-error:0.1392\u001b[0m\n",
      "\u001b[34m[14:13:51] src/tree/updater_prune.cc:74: tree pruning end, 1 roots, 22 extra nodes, 14 pruned nodes, max_depth=5\u001b[0m\n",
      "\u001b[34m[199]#011train-error:0.072733#011validation-error:0.1393\u001b[0m\n",
      "\u001b[34m[14:13:52] src/tree/updater_prune.cc:74: tree pruning end, 1 roots, 12 extra nodes, 4 pruned nodes, max_depth=5\u001b[0m\n",
      "\u001b[34m[200]#011train-error:0.072533#011validation-error:0.1387\u001b[0m\n",
      "\u001b[34m[14:13:54] src/tree/updater_prune.cc:74: tree pruning end, 1 roots, 12 extra nodes, 4 pruned nodes, max_depth=5\u001b[0m\n",
      "\u001b[34m[201]#011train-error:0.0724#011validation-error:0.1387\u001b[0m\n",
      "\u001b[34m[14:13:55] src/tree/updater_prune.cc:74: tree pruning end, 1 roots, 22 extra nodes, 8 pruned nodes, max_depth=5\u001b[0m\n",
      "\u001b[34m[202]#011train-error:0.071533#011validation-error:0.1392\u001b[0m\n",
      "\u001b[34m[14:13:56] src/tree/updater_prune.cc:74: tree pruning end, 1 roots, 10 extra nodes, 10 pruned nodes, max_depth=5\u001b[0m\n",
      "\u001b[34m[203]#011train-error:0.071533#011validation-error:0.1389\u001b[0m\n",
      "\u001b[34m[14:13:58] src/tree/updater_prune.cc:74: tree pruning end, 1 roots, 16 extra nodes, 6 pruned nodes, max_depth=5\u001b[0m\n",
      "\u001b[34m[204]#011train-error:0.070933#011validation-error:0.1379\u001b[0m\n",
      "\u001b[34m[14:13:59] src/tree/updater_prune.cc:74: tree pruning end, 1 roots, 20 extra nodes, 12 pruned nodes, max_depth=5\u001b[0m\n",
      "\u001b[34m[205]#011train-error:0.070467#011validation-error:0.1379\u001b[0m\n",
      "\u001b[34m[14:14:00] src/tree/updater_prune.cc:74: tree pruning end, 1 roots, 22 extra nodes, 18 pruned nodes, max_depth=5\u001b[0m\n",
      "\u001b[34m[206]#011train-error:0.0698#011validation-error:0.1387\u001b[0m\n",
      "\u001b[34m[14:14:02] src/tree/updater_prune.cc:74: tree pruning end, 1 roots, 12 extra nodes, 0 pruned nodes, max_depth=5\u001b[0m\n",
      "\u001b[34m[207]#011train-error:0.069533#011validation-error:0.1384\u001b[0m\n",
      "\u001b[34m[14:14:03] src/tree/updater_prune.cc:74: tree pruning end, 1 roots, 12 extra nodes, 10 pruned nodes, max_depth=5\u001b[0m\n",
      "\u001b[34m[208]#011train-error:0.069467#011validation-error:0.138\u001b[0m\n",
      "\u001b[34m[14:14:05] src/tree/updater_prune.cc:74: tree pruning end, 1 roots, 14 extra nodes, 10 pruned nodes, max_depth=5\u001b[0m\n",
      "\u001b[34m[209]#011train-error:0.069267#011validation-error:0.1381\u001b[0m\n",
      "\u001b[34m[14:14:07] src/tree/updater_prune.cc:74: tree pruning end, 1 roots, 12 extra nodes, 10 pruned nodes, max_depth=5\u001b[0m\n",
      "\u001b[34m[210]#011train-error:0.0696#011validation-error:0.1377\u001b[0m\n",
      "\u001b[34m[14:14:08] src/tree/updater_prune.cc:74: tree pruning end, 1 roots, 10 extra nodes, 8 pruned nodes, max_depth=5\u001b[0m\n",
      "\u001b[34m[211]#011train-error:0.069333#011validation-error:0.1374\u001b[0m\n",
      "\u001b[34m[14:14:10] src/tree/updater_prune.cc:74: tree pruning end, 1 roots, 16 extra nodes, 6 pruned nodes, max_depth=5\u001b[0m\n",
      "\u001b[34m[212]#011train-error:0.069067#011validation-error:0.1381\u001b[0m\n",
      "\u001b[34m[14:14:11] src/tree/updater_prune.cc:74: tree pruning end, 1 roots, 10 extra nodes, 6 pruned nodes, max_depth=5\u001b[0m\n",
      "\u001b[34m[213]#011train-error:0.068867#011validation-error:0.1384\u001b[0m\n",
      "\u001b[34m[14:14:12] src/tree/updater_prune.cc:74: tree pruning end, 1 roots, 14 extra nodes, 6 pruned nodes, max_depth=5\u001b[0m\n",
      "\u001b[34m[214]#011train-error:0.068#011validation-error:0.1376\u001b[0m\n",
      "\u001b[34m[14:14:14] src/tree/updater_prune.cc:74: tree pruning end, 1 roots, 16 extra nodes, 2 pruned nodes, max_depth=5\u001b[0m\n",
      "\u001b[34m[215]#011train-error:0.068#011validation-error:0.1374\u001b[0m\n",
      "\u001b[34m[14:14:15] src/tree/updater_prune.cc:74: tree pruning end, 1 roots, 14 extra nodes, 8 pruned nodes, max_depth=5\u001b[0m\n",
      "\u001b[34m[216]#011train-error:0.068#011validation-error:0.1376\u001b[0m\n",
      "\u001b[34m[14:14:16] src/tree/updater_prune.cc:74: tree pruning end, 1 roots, 10 extra nodes, 4 pruned nodes, max_depth=5\u001b[0m\n",
      "\u001b[34m[217]#011train-error:0.067867#011validation-error:0.1374\u001b[0m\n",
      "\u001b[34m[14:14:18] src/tree/updater_prune.cc:74: tree pruning end, 1 roots, 16 extra nodes, 4 pruned nodes, max_depth=5\u001b[0m\n",
      "\u001b[34m[218]#011train-error:0.067467#011validation-error:0.1377\u001b[0m\n",
      "\u001b[34m[14:14:19] src/tree/updater_prune.cc:74: tree pruning end, 1 roots, 20 extra nodes, 6 pruned nodes, max_depth=5\u001b[0m\n",
      "\u001b[34m[219]#011train-error:0.067667#011validation-error:0.1373\u001b[0m\n",
      "\u001b[34m[14:14:21] src/tree/updater_prune.cc:74: tree pruning end, 1 roots, 10 extra nodes, 6 pruned nodes, max_depth=5\u001b[0m\n",
      "\u001b[34m[220]#011train-error:0.067267#011validation-error:0.1374\u001b[0m\n",
      "\u001b[34m[14:14:22] src/tree/updater_prune.cc:74: tree pruning end, 1 roots, 24 extra nodes, 14 pruned nodes, max_depth=5\u001b[0m\n",
      "\u001b[34m[221]#011train-error:0.066733#011validation-error:0.1379\u001b[0m\n",
      "\u001b[34m[14:14:23] src/tree/updater_prune.cc:74: tree pruning end, 1 roots, 14 extra nodes, 2 pruned nodes, max_depth=5\u001b[0m\n",
      "\u001b[34m[222]#011train-error:0.0664#011validation-error:0.1376\u001b[0m\n",
      "\u001b[34m[14:14:25] src/tree/updater_prune.cc:74: tree pruning end, 1 roots, 10 extra nodes, 8 pruned nodes, max_depth=5\u001b[0m\n",
      "\u001b[34m[223]#011train-error:0.066467#011validation-error:0.138\u001b[0m\n",
      "\u001b[34m[14:14:26] src/tree/updater_prune.cc:74: tree pruning end, 1 roots, 14 extra nodes, 10 pruned nodes, max_depth=5\u001b[0m\n",
      "\u001b[34m[224]#011train-error:0.0664#011validation-error:0.1379\u001b[0m\n",
      "\u001b[34m[14:14:27] src/tree/updater_prune.cc:74: tree pruning end, 1 roots, 12 extra nodes, 0 pruned nodes, max_depth=5\u001b[0m\n",
      "\u001b[34m[225]#011train-error:0.0662#011validation-error:0.1378\u001b[0m\n",
      "\u001b[34m[14:14:29] src/tree/updater_prune.cc:74: tree pruning end, 1 roots, 26 extra nodes, 16 pruned nodes, max_depth=5\u001b[0m\n",
      "\u001b[34m[226]#011train-error:0.065067#011validation-error:0.1379\u001b[0m\n",
      "\u001b[34m[14:14:30] src/tree/updater_prune.cc:74: tree pruning end, 1 roots, 12 extra nodes, 2 pruned nodes, max_depth=5\u001b[0m\n",
      "\u001b[34m[227]#011train-error:0.065133#011validation-error:0.138\u001b[0m\n",
      "\u001b[34m[14:14:31] src/tree/updater_prune.cc:74: tree pruning end, 1 roots, 10 extra nodes, 16 pruned nodes, max_depth=5\u001b[0m\n",
      "\u001b[34m[228]#011train-error:0.0648#011validation-error:0.1382\u001b[0m\n",
      "\u001b[34m[14:14:33] src/tree/updater_prune.cc:74: tree pruning end, 1 roots, 16 extra nodes, 14 pruned nodes, max_depth=5\u001b[0m\n",
      "\u001b[34m[229]#011train-error:0.064533#011validation-error:0.1385\u001b[0m\n",
      "\u001b[34mStopping. Best iteration:\u001b[0m\n",
      "\u001b[34m[219]#011train-error:0.067667#011validation-error:0.1373\n",
      "\u001b[0m\n",
      "\n",
      "2021-05-02 14:14:41 Uploading - Uploading generated training model\n",
      "2021-05-02 14:14:41 Completed - Training job completed\n",
      "Training seconds: 390\n",
      "Billable seconds: 390\n"
     ]
    }
   ],
   "source": [
    "xgb.fit({'train': s3_input_train, 'validation': s3_input_validation})"
   ]
  },
  {
   "cell_type": "markdown",
   "metadata": {},
   "source": [
    "## Step 5: Testing the model\n",
    "\n",
    "Now that we've fit our XGBoost model, it's time to see how well it performs. To do this we will use SageMakers Batch Transform functionality. Batch Transform is a convenient way to perform inference on a large dataset in a way that is not realtime. That is, we don't necessarily need to use our model's results immediately and instead we can perform inference on a large number of samples. An example of this in industry might be performing an end of month report. This method of inference can also be useful to us as it means that we can perform inference on our entire test set. \n",
    "\n",
    "To perform a Batch Transformation we need to first create a transformer objects from our trained estimator object."
   ]
  },
  {
   "cell_type": "code",
   "execution_count": 25,
   "metadata": {},
   "outputs": [
    {
     "name": "stderr",
     "output_type": "stream",
     "text": [
      "Parameter image will be renamed to image_uri in SageMaker Python SDK v2.\n"
     ]
    }
   ],
   "source": [
    "xgb_transformer = xgb.transformer(instance_count = 1, instance_type = 'ml.m4.xlarge')"
   ]
  },
  {
   "cell_type": "markdown",
   "metadata": {},
   "source": [
    "Next we actually perform the transform job. When doing so we need to make sure to specify the type of data we are sending so that it is serialized correctly in the background. In our case we are providing our model with csv data so we specify `text/csv`. Also, if the test data that we have provided is too large to process all at once then we need to specify how the data file should be split up. Since each line is a single entry in our data set we tell SageMaker that it can split the input on each line."
   ]
  },
  {
   "cell_type": "code",
   "execution_count": 26,
   "metadata": {},
   "outputs": [],
   "source": [
    "xgb_transformer.transform(test_location, content_type='text/csv', split_type='Line')"
   ]
  },
  {
   "cell_type": "markdown",
   "metadata": {},
   "source": [
    "Currently the transform job is running but it is doing so in the background. Since we wish to wait until the transform job is done and we would like a bit of feedback we can run the `wait()` method."
   ]
  },
  {
   "cell_type": "code",
   "execution_count": 27,
   "metadata": {},
   "outputs": [
    {
     "name": "stdout",
     "output_type": "stream",
     "text": [
      ".............................\u001b[34mArguments: serve\u001b[0m\n",
      "\u001b[34m[2021-05-02 14:19:47 +0000] [1] [INFO] Starting gunicorn 19.9.0\u001b[0m\n",
      "\u001b[34m[2021-05-02 14:19:47 +0000] [1] [INFO] Listening at: http://0.0.0.0:8080 (1)\u001b[0m\n",
      "\u001b[34m[2021-05-02 14:19:47 +0000] [1] [INFO] Using worker: gevent\u001b[0m\n",
      "\u001b[34m[2021-05-02 14:19:47 +0000] [21] [INFO] Booting worker with pid: 21\u001b[0m\n",
      "\u001b[34m[2021-05-02 14:19:47 +0000] [22] [INFO] Booting worker with pid: 22\u001b[0m\n",
      "\u001b[34m/opt/amazon/lib/python3.7/site-packages/gunicorn/workers/ggevent.py:65: MonkeyPatchWarning: Monkey-patching ssl after ssl has already been imported may lead to errors, including RecursionError on Python 3.6. It may also silently lead to incorrect behaviour on Python 3.7. Please monkey-patch earlier. See https://github.com/gevent/gevent/issues/1016. Modules that had direct imports (NOT patched): ['urllib3.util.ssl_ (/opt/amazon/lib/python3.7/site-packages/urllib3/util/ssl_.py)', 'urllib3.util (/opt/amazon/lib/python3.7/site-packages/urllib3/util/__init__.py)']. \n",
      "  monkey.patch_all(subprocess=True)\u001b[0m\n",
      "\u001b[34m[2021-05-02:14:19:48:INFO] Model loaded successfully for worker : 21\u001b[0m\n",
      "\u001b[34m/opt/amazon/lib/python3.7/site-packages/gunicorn/workers/ggevent.py:65: MonkeyPatchWarning: Monkey-patching ssl after ssl has already been imported may lead to errors, including RecursionError on Python 3.6. It may also silently lead to incorrect behaviour on Python 3.7. Please monkey-patch earlier. See https://github.com/gevent/gevent/issues/1016. Modules that had direct imports (NOT patched): ['urllib3.util.ssl_ (/opt/amazon/lib/python3.7/site-packages/urllib3/util/ssl_.py)', 'urllib3.util (/opt/amazon/lib/python3.7/site-packages/urllib3/util/__init__.py)']. \n",
      "  monkey.patch_all(subprocess=True)\u001b[0m\n",
      "\u001b[34m[2021-05-02 14:19:48 +0000] [23] [INFO] Booting worker with pid: 23\u001b[0m\n",
      "\u001b[34m[2021-05-02:14:19:48:INFO] Model loaded successfully for worker : 22\u001b[0m\n",
      "\u001b[34m/opt/amazon/lib/python3.7/site-packages/gunicorn/workers/ggevent.py:65: MonkeyPatchWarning: Monkey-patching ssl after ssl has already been imported may lead to errors, including RecursionError on Python 3.6. It may also silently lead to incorrect behaviour on Python 3.7. Please monkey-patch earlier. See https://github.com/gevent/gevent/issues/1016. Modules that had direct imports (NOT patched): ['urllib3.util.ssl_ (/opt/amazon/lib/python3.7/site-packages/urllib3/util/ssl_.py)', 'urllib3.util (/opt/amazon/lib/python3.7/site-packages/urllib3/util/__init__.py)']. \n",
      "  monkey.patch_all(subprocess=True)\u001b[0m\n",
      "\u001b[34m[2021-05-02:14:19:48:INFO] Model loaded successfully for worker : 23\u001b[0m\n",
      "\u001b[34m[2021-05-02 14:19:48 +0000] [24] [INFO] Booting worker with pid: 24\u001b[0m\n",
      "\u001b[34m/opt/amazon/lib/python3.7/site-packages/gunicorn/workers/ggevent.py:65: MonkeyPatchWarning: Monkey-patching ssl after ssl has already been imported may lead to errors, including RecursionError on Python 3.6. It may also silently lead to incorrect behaviour on Python 3.7. Please monkey-patch earlier. See https://github.com/gevent/gevent/issues/1016. Modules that had direct imports (NOT patched): ['urllib3.util.ssl_ (/opt/amazon/lib/python3.7/site-packages/urllib3/util/ssl_.py)', 'urllib3.util (/opt/amazon/lib/python3.7/site-packages/urllib3/util/__init__.py)']. \n",
      "  monkey.patch_all(subprocess=True)\u001b[0m\n",
      "\u001b[34m[2021-05-02:14:19:48:INFO] Model loaded successfully for worker : 24\u001b[0m\n",
      "\u001b[35mArguments: serve\u001b[0m\n",
      "\u001b[35m[2021-05-02 14:19:47 +0000] [1] [INFO] Starting gunicorn 19.9.0\u001b[0m\n",
      "\u001b[35m[2021-05-02 14:19:47 +0000] [1] [INFO] Listening at: http://0.0.0.0:8080 (1)\u001b[0m\n",
      "\u001b[35m[2021-05-02 14:19:47 +0000] [1] [INFO] Using worker: gevent\u001b[0m\n",
      "\u001b[35m[2021-05-02 14:19:47 +0000] [21] [INFO] Booting worker with pid: 21\u001b[0m\n",
      "\u001b[35m[2021-05-02 14:19:47 +0000] [22] [INFO] Booting worker with pid: 22\u001b[0m\n",
      "\u001b[35m/opt/amazon/lib/python3.7/site-packages/gunicorn/workers/ggevent.py:65: MonkeyPatchWarning: Monkey-patching ssl after ssl has already been imported may lead to errors, including RecursionError on Python 3.6. It may also silently lead to incorrect behaviour on Python 3.7. Please monkey-patch earlier. See https://github.com/gevent/gevent/issues/1016. Modules that had direct imports (NOT patched): ['urllib3.util.ssl_ (/opt/amazon/lib/python3.7/site-packages/urllib3/util/ssl_.py)', 'urllib3.util (/opt/amazon/lib/python3.7/site-packages/urllib3/util/__init__.py)']. \n",
      "  monkey.patch_all(subprocess=True)\u001b[0m\n",
      "\u001b[35m[2021-05-02:14:19:48:INFO] Model loaded successfully for worker : 21\u001b[0m\n",
      "\u001b[35m/opt/amazon/lib/python3.7/site-packages/gunicorn/workers/ggevent.py:65: MonkeyPatchWarning: Monkey-patching ssl after ssl has already been imported may lead to errors, including RecursionError on Python 3.6. It may also silently lead to incorrect behaviour on Python 3.7. Please monkey-patch earlier. See https://github.com/gevent/gevent/issues/1016. Modules that had direct imports (NOT patched): ['urllib3.util.ssl_ (/opt/amazon/lib/python3.7/site-packages/urllib3/util/ssl_.py)', 'urllib3.util (/opt/amazon/lib/python3.7/site-packages/urllib3/util/__init__.py)']. \n",
      "  monkey.patch_all(subprocess=True)\u001b[0m\n",
      "\u001b[35m[2021-05-02 14:19:48 +0000] [23] [INFO] Booting worker with pid: 23\u001b[0m\n",
      "\u001b[35m[2021-05-02:14:19:48:INFO] Model loaded successfully for worker : 22\u001b[0m\n",
      "\u001b[35m/opt/amazon/lib/python3.7/site-packages/gunicorn/workers/ggevent.py:65: MonkeyPatchWarning: Monkey-patching ssl after ssl has already been imported may lead to errors, including RecursionError on Python 3.6. It may also silently lead to incorrect behaviour on Python 3.7. Please monkey-patch earlier. See https://github.com/gevent/gevent/issues/1016. Modules that had direct imports (NOT patched): ['urllib3.util.ssl_ (/opt/amazon/lib/python3.7/site-packages/urllib3/util/ssl_.py)', 'urllib3.util (/opt/amazon/lib/python3.7/site-packages/urllib3/util/__init__.py)']. \n",
      "  monkey.patch_all(subprocess=True)\u001b[0m\n",
      "\u001b[35m[2021-05-02:14:19:48:INFO] Model loaded successfully for worker : 23\u001b[0m\n",
      "\u001b[35m[2021-05-02 14:19:48 +0000] [24] [INFO] Booting worker with pid: 24\u001b[0m\n",
      "\u001b[35m/opt/amazon/lib/python3.7/site-packages/gunicorn/workers/ggevent.py:65: MonkeyPatchWarning: Monkey-patching ssl after ssl has already been imported may lead to errors, including RecursionError on Python 3.6. It may also silently lead to incorrect behaviour on Python 3.7. Please monkey-patch earlier. See https://github.com/gevent/gevent/issues/1016. Modules that had direct imports (NOT patched): ['urllib3.util.ssl_ (/opt/amazon/lib/python3.7/site-packages/urllib3/util/ssl_.py)', 'urllib3.util (/opt/amazon/lib/python3.7/site-packages/urllib3/util/__init__.py)']. \n",
      "  monkey.patch_all(subprocess=True)\u001b[0m\n",
      "\u001b[35m[2021-05-02:14:19:48:INFO] Model loaded successfully for worker : 24\u001b[0m\n",
      "\u001b[32m2021-05-02T14:19:51.859:[sagemaker logs]: MaxConcurrentTransforms=4, MaxPayloadInMB=6, BatchStrategy=MULTI_RECORD\u001b[0m\n",
      "\u001b[34m[2021-05-02:14:19:55:INFO] Sniff delimiter as ','\u001b[0m\n",
      "\u001b[34m[2021-05-02:14:19:55:INFO] Determined delimiter of CSV input is ','\u001b[0m\n",
      "\u001b[34m[2021-05-02:14:19:55:INFO] Sniff delimiter as ','\u001b[0m\n",
      "\u001b[34m[2021-05-02:14:19:55:INFO] Determined delimiter of CSV input is ','\u001b[0m\n",
      "\u001b[35m[2021-05-02:14:19:55:INFO] Sniff delimiter as ','\u001b[0m\n",
      "\u001b[35m[2021-05-02:14:19:55:INFO] Determined delimiter of CSV input is ','\u001b[0m\n",
      "\u001b[35m[2021-05-02:14:19:55:INFO] Sniff delimiter as ','\u001b[0m\n",
      "\u001b[35m[2021-05-02:14:19:55:INFO] Determined delimiter of CSV input is ','\u001b[0m\n",
      "\u001b[34m[2021-05-02:14:19:55:INFO] Sniff delimiter as ','\u001b[0m\n",
      "\u001b[35m[2021-05-02:14:19:55:INFO] Sniff delimiter as ','\u001b[0m\n",
      "\u001b[34m[2021-05-02:14:19:55:INFO] Determined delimiter of CSV input is ','\u001b[0m\n",
      "\u001b[34m[2021-05-02:14:19:55:INFO] Sniff delimiter as ','\u001b[0m\n",
      "\u001b[34m[2021-05-02:14:19:55:INFO] Determined delimiter of CSV input is ','\u001b[0m\n",
      "\u001b[35m[2021-05-02:14:19:55:INFO] Determined delimiter of CSV input is ','\u001b[0m\n",
      "\u001b[35m[2021-05-02:14:19:55:INFO] Sniff delimiter as ','\u001b[0m\n",
      "\u001b[35m[2021-05-02:14:19:55:INFO] Determined delimiter of CSV input is ','\u001b[0m\n",
      "\u001b[34m[2021-05-02:14:19:59:INFO] Sniff delimiter as ','\u001b[0m\n",
      "\u001b[34m[2021-05-02:14:19:59:INFO] Determined delimiter of CSV input is ','\u001b[0m\n",
      "\u001b[34m[2021-05-02:14:19:59:INFO] Sniff delimiter as ','\u001b[0m\n",
      "\u001b[34m[2021-05-02:14:19:59:INFO] Determined delimiter of CSV input is ','\u001b[0m\n",
      "\u001b[35m[2021-05-02:14:19:59:INFO] Sniff delimiter as ','\u001b[0m\n",
      "\u001b[35m[2021-05-02:14:19:59:INFO] Determined delimiter of CSV input is ','\u001b[0m\n",
      "\u001b[35m[2021-05-02:14:19:59:INFO] Sniff delimiter as ','\u001b[0m\n",
      "\u001b[35m[2021-05-02:14:19:59:INFO] Determined delimiter of CSV input is ','\u001b[0m\n",
      "\u001b[34m[2021-05-02:14:20:02:INFO] Sniff delimiter as ','\u001b[0m\n",
      "\u001b[34m[2021-05-02:14:20:02:INFO] Determined delimiter of CSV input is ','\u001b[0m\n",
      "\u001b[34m[2021-05-02:14:20:03:INFO] Sniff delimiter as ','\u001b[0m\n",
      "\u001b[34m[2021-05-02:14:20:03:INFO] Determined delimiter of CSV input is ','\u001b[0m\n",
      "\u001b[34m[2021-05-02:14:20:03:INFO] Sniff delimiter as ','\u001b[0m\n",
      "\u001b[34m[2021-05-02:14:20:03:INFO] Determined delimiter of CSV input is ','\u001b[0m\n",
      "\u001b[35m[2021-05-02:14:20:02:INFO] Sniff delimiter as ','\u001b[0m\n",
      "\u001b[35m[2021-05-02:14:20:02:INFO] Determined delimiter of CSV input is ','\u001b[0m\n",
      "\u001b[35m[2021-05-02:14:20:03:INFO] Sniff delimiter as ','\u001b[0m\n",
      "\u001b[35m[2021-05-02:14:20:03:INFO] Determined delimiter of CSV input is ','\u001b[0m\n",
      "\u001b[35m[2021-05-02:14:20:03:INFO] Sniff delimiter as ','\u001b[0m\n",
      "\u001b[35m[2021-05-02:14:20:03:INFO] Determined delimiter of CSV input is ','\u001b[0m\n",
      "\u001b[34m[2021-05-02:14:20:03:INFO] Sniff delimiter as ','\u001b[0m\n",
      "\u001b[35m[2021-05-02:14:20:03:INFO] Sniff delimiter as ','\u001b[0m\n",
      "\u001b[34m[2021-05-02:14:20:03:INFO] Determined delimiter of CSV input is ','\u001b[0m\n",
      "\u001b[35m[2021-05-02:14:20:03:INFO] Determined delimiter of CSV input is ','\u001b[0m\n",
      "\u001b[34m[2021-05-02:14:20:06:INFO] Determined delimiter of CSV input is ','\u001b[0m\n",
      "\u001b[34m[2021-05-02:14:20:07:INFO] Sniff delimiter as ','\u001b[0m\n",
      "\u001b[34m[2021-05-02:14:20:07:INFO] Determined delimiter of CSV input is ','\u001b[0m\n",
      "\u001b[34m[2021-05-02:14:20:07:INFO] Sniff delimiter as ','\u001b[0m\n",
      "\u001b[34m[2021-05-02:14:20:07:INFO] Determined delimiter of CSV input is ','\u001b[0m\n",
      "\u001b[34m[2021-05-02:14:20:07:INFO] Sniff delimiter as ','\u001b[0m\n",
      "\u001b[34m[2021-05-02:14:20:07:INFO] Determined delimiter of CSV input is ','\u001b[0m\n",
      "\u001b[35m[2021-05-02:14:20:06:INFO] Determined delimiter of CSV input is ','\u001b[0m\n",
      "\u001b[35m[2021-05-02:14:20:07:INFO] Sniff delimiter as ','\u001b[0m\n",
      "\u001b[35m[2021-05-02:14:20:07:INFO] Determined delimiter of CSV input is ','\u001b[0m\n",
      "\u001b[35m[2021-05-02:14:20:07:INFO] Sniff delimiter as ','\u001b[0m\n",
      "\u001b[35m[2021-05-02:14:20:07:INFO] Determined delimiter of CSV input is ','\u001b[0m\n",
      "\u001b[35m[2021-05-02:14:20:07:INFO] Sniff delimiter as ','\u001b[0m\n",
      "\u001b[35m[2021-05-02:14:20:07:INFO] Determined delimiter of CSV input is ','\u001b[0m\n",
      "\u001b[34m[2021-05-02:14:20:10:INFO] Sniff delimiter as ','\u001b[0m\n",
      "\u001b[34m[2021-05-02:14:20:10:INFO] Determined delimiter of CSV input is ','\u001b[0m\n",
      "\u001b[34m[2021-05-02:14:20:10:INFO] Sniff delimiter as ','\u001b[0m\n",
      "\u001b[34m[2021-05-02:14:20:10:INFO] Determined delimiter of CSV input is ','\u001b[0m\n",
      "\u001b[34m[2021-05-02:14:20:11:INFO] Sniff delimiter as ','\u001b[0m\n",
      "\u001b[34m[2021-05-02:14:20:11:INFO] Determined delimiter of CSV input is ','\u001b[0m\n",
      "\u001b[34m[2021-05-02:14:20:11:INFO] Sniff delimiter as ','\u001b[0m\n",
      "\u001b[34m[2021-05-02:14:20:11:INFO] Determined delimiter of CSV input is ','\u001b[0m\n",
      "\u001b[35m[2021-05-02:14:20:10:INFO] Sniff delimiter as ','\u001b[0m\n",
      "\u001b[35m[2021-05-02:14:20:10:INFO] Determined delimiter of CSV input is ','\u001b[0m\n",
      "\u001b[35m[2021-05-02:14:20:10:INFO] Sniff delimiter as ','\u001b[0m\n",
      "\u001b[35m[2021-05-02:14:20:10:INFO] Determined delimiter of CSV input is ','\u001b[0m\n",
      "\u001b[35m[2021-05-02:14:20:11:INFO] Sniff delimiter as ','\u001b[0m\n",
      "\u001b[35m[2021-05-02:14:20:11:INFO] Determined delimiter of CSV input is ','\u001b[0m\n",
      "\u001b[35m[2021-05-02:14:20:11:INFO] Sniff delimiter as ','\u001b[0m\n",
      "\u001b[35m[2021-05-02:14:20:11:INFO] Determined delimiter of CSV input is ','\u001b[0m\n",
      "\u001b[34m[2021-05-02:14:20:14:INFO] Sniff delimiter as ','\u001b[0m\n",
      "\u001b[34m[2021-05-02:14:20:14:INFO] Determined delimiter of CSV input is ','\u001b[0m\n",
      "\u001b[35m[2021-05-02:14:20:14:INFO] Sniff delimiter as ','\u001b[0m\n",
      "\u001b[35m[2021-05-02:14:20:14:INFO] Determined delimiter of CSV input is ','\u001b[0m\n",
      "\u001b[34m[2021-05-02:14:20:14:INFO] Sniff delimiter as ','\u001b[0m\n",
      "\u001b[34m[2021-05-02:14:20:14:INFO] Determined delimiter of CSV input is ','\u001b[0m\n",
      "\u001b[34m[2021-05-02:14:20:15:INFO] Sniff delimiter as ','\u001b[0m\n",
      "\u001b[34m[2021-05-02:14:20:15:INFO] Determined delimiter of CSV input is ','\u001b[0m\n",
      "\u001b[34m[2021-05-02:14:20:15:INFO] Sniff delimiter as ','\u001b[0m\n",
      "\u001b[34m[2021-05-02:14:20:15:INFO] Determined delimiter of CSV input is ','\u001b[0m\n",
      "\u001b[35m[2021-05-02:14:20:14:INFO] Sniff delimiter as ','\u001b[0m\n",
      "\u001b[35m[2021-05-02:14:20:14:INFO] Determined delimiter of CSV input is ','\u001b[0m\n",
      "\u001b[35m[2021-05-02:14:20:15:INFO] Sniff delimiter as ','\u001b[0m\n",
      "\u001b[35m[2021-05-02:14:20:15:INFO] Determined delimiter of CSV input is ','\u001b[0m\n",
      "\u001b[35m[2021-05-02:14:20:15:INFO] Sniff delimiter as ','\u001b[0m\n",
      "\u001b[35m[2021-05-02:14:20:15:INFO] Determined delimiter of CSV input is ','\u001b[0m\n",
      "\u001b[34m[2021-05-02:14:20:18:INFO] Sniff delimiter as ','\u001b[0m\n",
      "\u001b[34m[2021-05-02:14:20:18:INFO] Determined delimiter of CSV input is ','\u001b[0m\n",
      "\u001b[35m[2021-05-02:14:20:18:INFO] Sniff delimiter as ','\u001b[0m\n",
      "\u001b[35m[2021-05-02:14:20:18:INFO] Determined delimiter of CSV input is ','\u001b[0m\n",
      "\u001b[34m[2021-05-02:14:20:18:INFO] Sniff delimiter as ','\u001b[0m\n",
      "\u001b[34m[2021-05-02:14:20:18:INFO] Determined delimiter of CSV input is ','\u001b[0m\n",
      "\u001b[34m[2021-05-02:14:20:19:INFO] Sniff delimiter as ','\u001b[0m\n",
      "\u001b[34m[2021-05-02:14:20:19:INFO] Determined delimiter of CSV input is ','\u001b[0m\n",
      "\u001b[35m[2021-05-02:14:20:18:INFO] Sniff delimiter as ','\u001b[0m\n",
      "\u001b[35m[2021-05-02:14:20:18:INFO] Determined delimiter of CSV input is ','\u001b[0m\n",
      "\u001b[35m[2021-05-02:14:20:19:INFO] Sniff delimiter as ','\u001b[0m\n",
      "\u001b[35m[2021-05-02:14:20:19:INFO] Determined delimiter of CSV input is ','\u001b[0m\n",
      "\u001b[34m[2021-05-02:14:20:22:INFO] Sniff delimiter as ','\u001b[0m\n",
      "\u001b[34m[2021-05-02:14:20:22:INFO] Determined delimiter of CSV input is ','\u001b[0m\n",
      "\u001b[35m[2021-05-02:14:20:22:INFO] Sniff delimiter as ','\u001b[0m\n",
      "\u001b[35m[2021-05-02:14:20:22:INFO] Determined delimiter of CSV input is ','\u001b[0m\n",
      "\u001b[34m[2021-05-02:14:20:22:INFO] Sniff delimiter as ','\u001b[0m\n",
      "\u001b[34m[2021-05-02:14:20:22:INFO] Determined delimiter of CSV input is ','\u001b[0m\n",
      "\u001b[34m[2021-05-02:14:20:22:INFO] Sniff delimiter as ','\u001b[0m\n",
      "\u001b[34m[2021-05-02:14:20:22:INFO] Determined delimiter of CSV input is ','\u001b[0m\n",
      "\u001b[34m[2021-05-02:14:20:23:INFO] Sniff delimiter as ','\u001b[0m\n",
      "\u001b[34m[2021-05-02:14:20:23:INFO] Determined delimiter of CSV input is ','\u001b[0m\n",
      "\u001b[35m[2021-05-02:14:20:22:INFO] Sniff delimiter as ','\u001b[0m\n",
      "\u001b[35m[2021-05-02:14:20:22:INFO] Determined delimiter of CSV input is ','\u001b[0m\n",
      "\u001b[35m[2021-05-02:14:20:22:INFO] Sniff delimiter as ','\u001b[0m\n",
      "\u001b[35m[2021-05-02:14:20:22:INFO] Determined delimiter of CSV input is ','\u001b[0m\n",
      "\u001b[35m[2021-05-02:14:20:23:INFO] Sniff delimiter as ','\u001b[0m\n",
      "\u001b[35m[2021-05-02:14:20:23:INFO] Determined delimiter of CSV input is ','\u001b[0m\n",
      "\u001b[34m[2021-05-02:14:20:26:INFO] Sniff delimiter as ','\u001b[0m\n",
      "\u001b[34m[2021-05-02:14:20:26:INFO] Determined delimiter of CSV input is ','\u001b[0m\n",
      "\u001b[34m[2021-05-02:14:20:26:INFO] Sniff delimiter as ','\u001b[0m\n",
      "\u001b[34m[2021-05-02:14:20:26:INFO] Determined delimiter of CSV input is ','\u001b[0m\n",
      "\u001b[35m[2021-05-02:14:20:26:INFO] Sniff delimiter as ','\u001b[0m\n",
      "\u001b[35m[2021-05-02:14:20:26:INFO] Determined delimiter of CSV input is ','\u001b[0m\n",
      "\u001b[35m[2021-05-02:14:20:26:INFO] Sniff delimiter as ','\u001b[0m\n",
      "\u001b[35m[2021-05-02:14:20:26:INFO] Determined delimiter of CSV input is ','\u001b[0m\n",
      "\u001b[34m[2021-05-02:14:20:26:INFO] Sniff delimiter as ','\u001b[0m\n",
      "\u001b[34m[2021-05-02:14:20:26:INFO] Determined delimiter of CSV input is ','\u001b[0m\n",
      "\u001b[34m[2021-05-02:14:20:26:INFO] Sniff delimiter as ','\u001b[0m\n",
      "\u001b[34m[2021-05-02:14:20:26:INFO] Determined delimiter of CSV input is ','\u001b[0m\n",
      "\u001b[35m[2021-05-02:14:20:26:INFO] Sniff delimiter as ','\u001b[0m\n",
      "\u001b[35m[2021-05-02:14:20:26:INFO] Determined delimiter of CSV input is ','\u001b[0m\n",
      "\u001b[35m[2021-05-02:14:20:26:INFO] Sniff delimiter as ','\u001b[0m\n",
      "\u001b[35m[2021-05-02:14:20:26:INFO] Determined delimiter of CSV input is ','\u001b[0m\n",
      "\u001b[34m[2021-05-02:14:20:30:INFO] Sniff delimiter as ','\u001b[0m\n",
      "\u001b[34m[2021-05-02:14:20:30:INFO] Determined delimiter of CSV input is ','\u001b[0m\n",
      "\u001b[34m[2021-05-02:14:20:30:INFO] Sniff delimiter as ','\u001b[0m\n",
      "\u001b[34m[2021-05-02:14:20:30:INFO] Determined delimiter of CSV input is ','\u001b[0m\n",
      "\u001b[34m[2021-05-02:14:20:30:INFO] Sniff delimiter as ','\u001b[0m\n",
      "\u001b[34m[2021-05-02:14:20:30:INFO] Determined delimiter of CSV input is ','\u001b[0m\n",
      "\u001b[34m[2021-05-02:14:20:30:INFO] Sniff delimiter as ','\u001b[0m\n",
      "\u001b[34m[2021-05-02:14:20:30:INFO] Determined delimiter of CSV input is ','\u001b[0m\n",
      "\u001b[35m[2021-05-02:14:20:30:INFO] Sniff delimiter as ','\u001b[0m\n",
      "\u001b[35m[2021-05-02:14:20:30:INFO] Determined delimiter of CSV input is ','\u001b[0m\n",
      "\u001b[35m[2021-05-02:14:20:30:INFO] Sniff delimiter as ','\u001b[0m\n",
      "\u001b[35m[2021-05-02:14:20:30:INFO] Determined delimiter of CSV input is ','\u001b[0m\n",
      "\u001b[35m[2021-05-02:14:20:30:INFO] Sniff delimiter as ','\u001b[0m\n",
      "\u001b[35m[2021-05-02:14:20:30:INFO] Determined delimiter of CSV input is ','\u001b[0m\n",
      "\u001b[35m[2021-05-02:14:20:30:INFO] Sniff delimiter as ','\u001b[0m\n",
      "\u001b[35m[2021-05-02:14:20:30:INFO] Determined delimiter of CSV input is ','\u001b[0m\n",
      "\n"
     ]
    }
   ],
   "source": [
    "xgb_transformer.wait()"
   ]
  },
  {
   "cell_type": "markdown",
   "metadata": {},
   "source": [
    "Now the transform job has executed and the result, the estimated sentiment of each review, has been saved on S3. Since we would rather work on this file locally we can perform a bit of notebook magic to copy the file to the `data_dir`."
   ]
  },
  {
   "cell_type": "code",
   "execution_count": 28,
   "metadata": {},
   "outputs": [
    {
     "name": "stdout",
     "output_type": "stream",
     "text": [
      "download: s3://sagemaker-us-east-1-244864396415/xgboost-2021-05-02-14-15-09-374/test.csv.out to ../data/sentiment_web_app/test.csv.out\n"
     ]
    }
   ],
   "source": [
    "!aws s3 cp --recursive $xgb_transformer.output_path $data_dir"
   ]
  },
  {
   "cell_type": "markdown",
   "metadata": {},
   "source": [
    "The last step is now to read in the output from our model, convert the output to something a little more usable, in this case we want the sentiment to be either `1` (positive) or `0` (negative), and then compare to the ground truth labels."
   ]
  },
  {
   "cell_type": "code",
   "execution_count": 29,
   "metadata": {},
   "outputs": [],
   "source": [
    "predictions = pd.read_csv(os.path.join(data_dir, 'test.csv.out'), header=None)\n",
    "predictions = [round(num) for num in predictions.squeeze().values]"
   ]
  },
  {
   "cell_type": "code",
   "execution_count": 30,
   "metadata": {},
   "outputs": [
    {
     "data": {
      "text/plain": [
       "0.86492"
      ]
     },
     "execution_count": 30,
     "metadata": {},
     "output_type": "execute_result"
    }
   ],
   "source": [
    "from sklearn.metrics import accuracy_score\n",
    "accuracy_score(test_y, predictions)"
   ]
  },
  {
   "cell_type": "markdown",
   "metadata": {},
   "source": [
    "## Step 6: Deploying the model\n",
    "\n",
    "Once we construct and fit our model, SageMaker stores the resulting model artifacts and we can use those to deploy an endpoint (inference code). To see this, look in the SageMaker console and you should see that a model has been created along with a link to the S3 location where the model artifacts have been stored.\n",
    "\n",
    "Deploying an endpoint is a lot like training the model with a few important differences. The first is that a deployed model doesn't change the model artifacts, so as you send it various testing instances the model won't change. Another difference is that since we aren't performing a fixed computation, as we were in the training step or while performing a batch transform, the compute instance that gets started stays running until we tell it to stop. This is important to note as if we forget and leave it running we will be charged the entire time.\n",
    "\n",
    "In other words **If you are no longer using a deployed endpoint, shut it down!**"
   ]
  },
  {
   "cell_type": "code",
   "execution_count": 31,
   "metadata": {},
   "outputs": [
    {
     "name": "stderr",
     "output_type": "stream",
     "text": [
      "Parameter image will be renamed to image_uri in SageMaker Python SDK v2.\n",
      "Using already existing model: xgboost-2021-05-02-14-05-20-962\n"
     ]
    },
    {
     "name": "stdout",
     "output_type": "stream",
     "text": [
      "---------------!"
     ]
    }
   ],
   "source": [
    "xgb_predictor = xgb.deploy(initial_instance_count = 1, instance_type = 'ml.m4.xlarge')"
   ]
  },
  {
   "cell_type": "markdown",
   "metadata": {},
   "source": [
    "### Testing the model (again)\n",
    "\n",
    "Now that we have deployed our endpoint, we can send the testing data to it and get back the inference results. We already did this earlier using the batch transform functionality of SageMaker, however, we will test our model again using the newly deployed endpoint so that we can make sure that it works properly and to get a bit of a feel for how the endpoint works.\n",
    "\n",
    "When using the created endpoint it is important to know that we are limited in the amount of information we can send in each call so we need to break the testing data up into chunks and then send each chunk. Also, we need to serialize our data before we send it to the endpoint to ensure that our data is transmitted properly. Fortunately, SageMaker can do the serialization part for us provided we tell it the format of our data."
   ]
  },
  {
   "cell_type": "code",
   "execution_count": 32,
   "metadata": {},
   "outputs": [],
   "source": [
    "from sagemaker.predictor import csv_serializer\n",
    "\n",
    "# We need to tell the endpoint what format the data we are sending is in so that SageMaker can perform the serialization.\n",
    "xgb_predictor.content_type = 'text/csv'\n",
    "xgb_predictor.serializer = csv_serializer"
   ]
  },
  {
   "cell_type": "code",
   "execution_count": 33,
   "metadata": {},
   "outputs": [],
   "source": [
    "# We split the data into chunks and send each chunk seperately, accumulating the results.\n",
    "\n",
    "def predict(data, rows=512):\n",
    "    split_array = np.array_split(data, int(data.shape[0] / float(rows) + 1))\n",
    "    predictions = ''\n",
    "    for array in split_array:\n",
    "        predictions = ','.join([predictions, xgb_predictor.predict(array).decode('utf-8')])\n",
    "    \n",
    "    return np.fromstring(predictions[1:], sep=',')"
   ]
  },
  {
   "cell_type": "code",
   "execution_count": 34,
   "metadata": {},
   "outputs": [],
   "source": [
    "test_X = pd.read_csv(os.path.join(data_dir, 'test.csv'), header=None).values\n",
    "\n",
    "predictions = predict(test_X)\n",
    "predictions = [round(num) for num in predictions]"
   ]
  },
  {
   "cell_type": "markdown",
   "metadata": {},
   "source": [
    "Lastly, we check to see what the accuracy of our model is."
   ]
  },
  {
   "cell_type": "code",
   "execution_count": 35,
   "metadata": {},
   "outputs": [
    {
     "data": {
      "text/plain": [
       "0.86492"
      ]
     },
     "execution_count": 35,
     "metadata": {},
     "output_type": "execute_result"
    }
   ],
   "source": [
    "from sklearn.metrics import accuracy_score\n",
    "accuracy_score(test_y, predictions)"
   ]
  },
  {
   "cell_type": "markdown",
   "metadata": {},
   "source": [
    "And the results here should agree with the model testing that we did earlier using the batch transform job.\n",
    "\n",
    "### Cleaning up\n",
    "\n",
    "Now that we've determined that deploying our model works as expected, we are going to shut it down. Remember that the longer the endpoint is left running, the greater the cost and since we have a bit more work to do before we are able to use our endpoint with our simple web app, we should shut everything down."
   ]
  },
  {
   "cell_type": "code",
   "execution_count": 36,
   "metadata": {},
   "outputs": [],
   "source": [
    "xgb_predictor.delete_endpoint()"
   ]
  },
  {
   "cell_type": "markdown",
   "metadata": {},
   "source": [
    "## Step 7: Putting our model to work\n",
    "\n",
    "As we've mentioned a few times now, our goal is to have our model deployed and then access it using a very simple web app. The intent is for this web app to take some user submitted data (a review), send it off to our endpoint (the model) and then display the result.\n",
    "\n",
    "However, there is a small catch. Currently the only way we can access the endpoint to send it data is using the SageMaker API. We can, if we wish, expose the actual URL that our model's endpoint is receiving data from, however, if we just send it data ourselves we will not get anything in return. This is because the endpoint created by SageMaker requires the entity accessing it have the correct permissions. So, we would need to somehow authenticate our web app with AWS.\n",
    "\n",
    "Having a website that authenticates to AWS seems a bit beyond the scope of this lesson so we will opt for an alternative approach. Namely, we will create a new endpoint which does not require authentication and which acts as a proxy for the SageMaker endpoint.\n",
    "\n",
    "As an additional constraint, we will try to avoid doing any data processing in the web app itself. Remember that when we constructed and tested our model we started with a movie review, then we simplified it by removing any html formatting and punctuation, then we constructed a bag of words embedding and the resulting vector is what we sent to our model. All of this needs to be done to our user input as well.\n",
    "\n",
    "Fortunately we can do all of this data processing in the backend, using Amazon's Lambda service.\n",
    "\n",
    "<img src=\"Web App Diagram.svg\">\n",
    "\n",
    "The diagram above gives an overview of how the various services will work together. On the far right is the model which we trained above and which will be deployed using SageMaker. On the far left is our web app that collects a user's movie review, sends it off and expects a positive or negative sentiment in return.\n",
    "\n",
    "In the middle is where some of the magic happens. We will construct a Lambda function, which you can think of as a straightforward Python function that can be executed whenever a specified event occurs. This Python function will do the data processing we need to perform on a user submitted review. In addition, we will give this function permission to send and recieve data from a SageMaker endpoint.\n",
    "\n",
    "Lastly, the method we will use to execute the Lambda function is a new endpoint that we will create using API Gateway. This endpoint will be a url that listens for data to be sent to it. Once it gets some data it will pass that data on to the Lambda function and then return whatever the Lambda function returns. Essentially it will act as an interface that lets our web app communicate with the Lambda function.\n",
    "\n",
    "### Processing a single review\n",
    "\n",
    "For now, suppose we are given a movie review by our user in the form of a string, like so:"
   ]
  },
  {
   "cell_type": "code",
   "execution_count": 37,
   "metadata": {},
   "outputs": [],
   "source": [
    "test_review = \"Nothing but a disgusting materialistic pageant of glistening abed remote control greed zombies, totally devoid of any heart or heat. A romantic comedy that has zero romantic chemestry and zero laughs!\""
   ]
  },
  {
   "cell_type": "markdown",
   "metadata": {},
   "source": [
    "How do we go from this string to the bag of words feature vector that is expected by our model?\n",
    "\n",
    "If we recall at the beginning of this notebook, the first step is to remove any unnecessary characters using the `review_to_words` method. Remember that we intentionally did this in a very simplistic way. This is because we are going to have to copy this method to our (eventual) Lambda function (we will go into more detail later) and this means it needs to be rather simplistic."
   ]
  },
  {
   "cell_type": "code",
   "execution_count": 38,
   "metadata": {},
   "outputs": [
    {
     "name": "stdout",
     "output_type": "stream",
     "text": [
      "nothing but a disgusting materialistic pageant of glistening abed remote control greed zombies totally devoid of any heart or heat a romantic comedy that has zero romantic chemestry and zero laughs\n"
     ]
    }
   ],
   "source": [
    "test_words = review_to_words(test_review)\n",
    "print(test_words)"
   ]
  },
  {
   "cell_type": "markdown",
   "metadata": {},
   "source": [
    "Next, we need to construct a bag of words embedding of the `test_words` string. To do this, remember that a bag of words embedding uses a `vocabulary` consisting of the most frequently appearing words in a set of documents. Then, for each word in the vocabulary we record the number of times that word appears in `test_words`. We constructed the `vocabulary` earlier using the training set for our problem so encoding `test_words` is relatively straightforward."
   ]
  },
  {
   "cell_type": "code",
   "execution_count": 39,
   "metadata": {},
   "outputs": [],
   "source": [
    "def bow_encoding(words, vocabulary):\n",
    "    bow = [0] * len(vocabulary) # Start by setting the count for each word in the vocabulary to zero.\n",
    "    for word in words.split():  # For each word in the string\n",
    "        if word in vocabulary:  # If the word is one that occurs in the vocabulary, increase its count.\n",
    "            bow[vocabulary[word]] += 1\n",
    "    return bow"
   ]
  },
  {
   "cell_type": "code",
   "execution_count": 40,
   "metadata": {},
   "outputs": [
    {
     "name": "stdout",
     "output_type": "stream",
     "text": [
      "[0, 0, 0, 0, 0, 0, 0, 0, 0, 0, 0, 0, 0, 0, 0, 0, 0, 0, 0, 0, 0, 0, 0, 0, 0, 0, 0, 0, 0, 0, 0, 0, 0, 0, 0, 0, 0, 0, 0, 0, 0, 0, 0, 0, 0, 0, 0, 0, 0, 0, 0, 0, 0, 0, 0, 0, 0, 0, 0, 0, 0, 0, 0, 0, 0, 0, 0, 0, 0, 0, 0, 0, 0, 0, 0, 0, 0, 0, 0, 0, 0, 0, 0, 0, 0, 0, 0, 0, 0, 0, 0, 0, 0, 0, 0, 0, 0, 0, 0, 0, 0, 0, 0, 0, 0, 0, 0, 0, 0, 0, 0, 0, 0, 0, 0, 0, 0, 0, 0, 0, 0, 0, 0, 0, 0, 0, 0, 0, 0, 0, 0, 0, 0, 0, 0, 0, 0, 0, 0, 0, 0, 0, 0, 0, 0, 0, 0, 0, 0, 0, 0, 0, 0, 0, 0, 0, 0, 0, 0, 0, 0, 0, 0, 0, 0, 0, 0, 0, 0, 0, 0, 0, 0, 0, 0, 0, 0, 0, 0, 0, 0, 0, 0, 0, 0, 0, 0, 0, 0, 0, 0, 0, 0, 0, 0, 0, 0, 0, 0, 0, 0, 0, 0, 0, 0, 0, 0, 0, 0, 0, 0, 0, 0, 0, 0, 0, 0, 0, 0, 0, 0, 0, 0, 0, 0, 0, 1, 0, 0, 0, 0, 0, 0, 0, 0, 0, 0, 0, 0, 0, 0, 0, 0, 0, 0, 0, 0, 0, 0, 0, 0, 0, 0, 0, 0, 0, 1, 0, 0, 0, 0, 0, 0, 0, 0, 0, 0, 0, 0, 0, 0, 0, 0, 0, 0, 0, 0, 0, 0, 0, 0, 0, 0, 0, 0, 0, 0, 0, 0, 0, 0, 0, 0, 0, 0, 0, 0, 0, 0, 0, 0, 0, 0, 0, 0, 0, 0, 0, 0, 0, 0, 0, 0, 0, 0, 0, 0, 0, 0, 0, 0, 0, 0, 0, 0, 0, 0, 0, 0, 0, 0, 0, 0, 0, 0, 0, 0, 0, 0, 0, 0, 0, 0, 0, 0, 0, 0, 0, 0, 0, 0, 0, 0, 0, 0, 0, 0, 0, 0, 0, 0, 0, 0, 0, 0, 0, 0, 0, 0, 0, 0, 0, 0, 0, 0, 0, 0, 0, 0, 0, 0, 0, 0, 0, 0, 0, 0, 0, 0, 0, 0, 0, 0, 0, 0, 0, 0, 0, 0, 0, 0, 0, 0, 0, 0, 0, 0, 0, 0, 0, 0, 0, 0, 0, 0, 0, 0, 0, 0, 0, 0, 0, 0, 0, 0, 0, 0, 0, 0, 0, 0, 0, 0, 0, 0, 0, 0, 0, 0, 0, 0, 0, 0, 0, 0, 0, 0, 0, 0, 0, 0, 0, 0, 0, 0, 0, 0, 0, 0, 0, 0, 0, 0, 0, 0, 0, 0, 0, 0, 0, 0, 0, 0, 0, 0, 0, 0, 0, 0, 0, 0, 0, 0, 0, 0, 0, 0, 0, 0, 0, 0, 0, 0, 0, 0, 0, 0, 0, 0, 0, 0, 0, 0, 0, 0, 0, 0, 0, 0, 0, 0, 0, 0, 0, 0, 0, 0, 0, 0, 0, 0, 0, 0, 0, 0, 0, 0, 0, 0, 0, 0, 0, 0, 0, 0, 0, 0, 0, 0, 0, 0, 0, 0, 0, 0, 0, 0, 0, 0, 0, 0, 0, 0, 0, 0, 0, 0, 0, 0, 0, 0, 0, 0, 0, 0, 0, 0, 0, 0, 0, 0, 0, 0, 0, 0, 0, 0, 0, 0, 0, 0, 0, 0, 0, 0, 0, 0, 0, 0, 0, 0, 0, 0, 0, 0, 0, 0, 0, 0, 0, 0, 0, 0, 0, 0, 0, 0, 0, 0, 0, 0, 0, 0, 0, 0, 0, 0, 0, 0, 0, 0, 0, 0, 0, 0, 0, 0, 0, 0, 0, 0, 0, 0, 0, 0, 0, 1, 0, 0, 0, 0, 0, 0, 0, 0, 0, 0, 0, 0, 0, 0, 0, 0, 0, 0, 0, 0, 0, 0, 0, 0, 0, 0, 0, 0, 0, 0, 0, 0, 0, 0, 0, 0, 0, 0, 0, 0, 0, 0, 0, 0, 0, 0, 0, 0, 0, 0, 0, 0, 0, 0, 0, 0, 0, 0, 0, 0, 0, 0, 0, 0, 0, 0, 0, 0, 0, 0, 0, 0, 0, 0, 0, 0, 0, 0, 0, 0, 0, 0, 0, 0, 0, 0, 0, 0, 0, 0, 0, 0, 0, 0, 0, 0, 0, 0, 0, 0, 0, 0, 0, 0, 0, 0, 0, 0, 0, 0, 0, 0, 0, 0, 0, 0, 0, 0, 0, 0, 0, 0, 0, 0, 0, 0, 0, 0, 0, 0, 0, 0, 0, 0, 0, 0, 0, 0, 0, 0, 0, 0, 0, 0, 0, 0, 0, 0, 0, 0, 0, 0, 0, 0, 0, 0, 0, 0, 0, 0, 0, 0, 0, 0, 0, 0, 0, 0, 0, 0, 0, 0, 0, 0, 0, 0, 0, 0, 0, 0, 0, 0, 0, 0, 0, 0, 0, 0, 0, 0, 0, 0, 0, 0, 0, 0, 0, 0, 0, 0, 0, 0, 0, 0, 0, 0, 0, 0, 0, 0, 0, 0, 0, 0, 0, 0, 0, 0, 0, 0, 0, 0, 0, 0, 0, 0, 0, 0, 0, 0, 0, 0, 0, 0, 0, 0, 0, 0, 0, 0, 0, 0, 0, 0, 0, 0, 0, 0, 0, 0, 0, 0, 0, 1, 0, 0, 0, 0, 0, 0, 0, 0, 0, 0, 0, 0, 0, 0, 0, 0, 0, 0, 0, 0, 0, 0, 0, 0, 0, 0, 0, 0, 0, 0, 0, 0, 0, 0, 0, 0, 0, 0, 0, 0, 0, 0, 0, 0, 0, 0, 0, 0, 0, 0, 0, 0, 0, 0, 0, 0, 0, 0, 0, 0, 0, 0, 0, 0, 0, 0, 0, 0, 0, 0, 0, 0, 0, 0, 0, 0, 0, 0, 0, 0, 0, 0, 0, 0, 0, 0, 1, 0, 0, 0, 0, 0, 0, 0, 0, 0, 0, 0, 0, 0, 0, 0, 0, 0, 0, 0, 0, 0, 0, 0, 0, 0, 0, 0, 0, 0, 0, 0, 0, 0, 0, 0, 0, 0, 0, 0, 0, 0, 0, 0, 0, 0, 0, 0, 0, 0, 0, 0, 0, 0, 0, 0, 0, 0, 0, 0, 0, 0, 0, 0, 0, 0, 0, 0, 0, 0, 0, 0, 0, 0, 0, 0, 0, 0, 0, 0, 0, 0, 0, 0, 0, 0, 0, 0, 0, 0, 0, 0, 0, 0, 0, 0, 0, 0, 0, 0, 0, 0, 0, 0, 0, 0, 0, 0, 0, 0, 0, 0, 0, 0, 0, 0, 0, 0, 0, 0, 0, 0, 0, 0, 0, 0, 0, 0, 0, 0, 0, 0, 0, 0, 0, 0, 0, 0, 0, 0, 0, 0, 0, 0, 0, 0, 0, 0, 0, 0, 0, 0, 0, 0, 0, 0, 0, 0, 0, 0, 0, 0, 0, 0, 0, 0, 0, 0, 0, 0, 0, 0, 0, 0, 0, 0, 0, 0, 0, 0, 0, 0, 0, 0, 0, 0, 0, 0, 0, 0, 0, 0, 0, 0, 0, 0, 0, 0, 0, 0, 0, 0, 0, 0, 0, 0, 0, 0, 0, 0, 0, 0, 0, 0, 0, 0, 0, 0, 0, 0, 0, 0, 0, 0, 0, 0, 0, 0, 0, 0, 0, 0, 0, 0, 0, 0, 0, 0, 0, 0, 0, 0, 0, 0, 0, 0, 0, 0, 0, 0, 0, 0, 0, 1, 0, 0, 0, 0, 0, 0, 0, 0, 0, 0, 0, 0, 0, 0, 0, 0, 0, 0, 0, 0, 0, 0, 0, 0, 0, 0, 0, 0, 0, 0, 0, 0, 0, 0, 0, 0, 0, 0, 0, 0, 0, 0, 0, 0, 0, 0, 0, 0, 0, 0, 0, 0, 0, 0, 0, 1, 0, 0, 0, 0, 0, 0, 0, 0, 0, 0, 0, 0, 0, 0, 0, 0, 0, 0, 0, 0, 0, 0, 0, 0, 0, 0, 0, 0, 0, 0, 0, 0, 0, 0, 0, 0, 0, 0, 0, 0, 0, 0, 0, 0, 0, 0, 0, 0, 0, 0, 0, 0, 0, 0, 0, 0, 0, 0, 0, 0, 0, 0, 0, 0, 0, 0, 0, 0, 0, 0, 0, 0, 0, 0, 0, 0, 0, 0, 0, 0, 0, 0, 0, 0, 0, 0, 0, 0, 0, 0, 0, 0, 0, 0, 0, 0, 0, 0, 0, 0, 0, 0, 0, 0, 0, 0, 0, 0, 0, 0, 0, 0, 0, 0, 0, 0, 0, 0, 0, 0, 0, 0, 0, 0, 0, 0, 0, 0, 0, 0, 0, 0, 0, 0, 0, 0, 0, 0, 0, 0, 0, 0, 0, 0, 0, 0, 0, 0, 0, 0, 0, 0, 0, 0, 0, 0, 0, 0, 0, 0, 0, 0, 0, 0, 0, 0, 0, 0, 0, 0, 0, 0, 0, 0, 0, 0, 0, 0, 0, 0, 0, 0, 0, 0, 0, 0, 0, 0, 0, 0, 0, 0, 0, 0, 0, 0, 0, 0, 0, 0, 0, 0, 0, 0, 0, 0, 0, 0, 0, 0, 0, 0, 0, 0, 0, 0, 0, 0, 0, 0, 0, 0, 0, 0, 0, 0, 0, 0, 0, 0, 0, 0, 0, 0, 0, 0, 0, 0, 0, 0, 0, 0, 0, 0, 0, 0, 0, 0, 0, 0, 0, 0, 0, 0, 0, 0, 0, 0, 0, 0, 0, 0, 0, 0, 0, 0, 0, 0, 0, 0, 0, 0, 0, 0, 0, 0, 0, 0, 0, 0, 0, 0, 0, 0, 0, 0, 0, 0, 0, 0, 0, 0, 0, 0, 0, 0, 0, 0, 0, 0, 0, 0, 0, 0, 0, 0, 0, 0, 0, 0, 0, 0, 0, 0, 0, 0, 0, 0, 0, 0, 0, 0, 0, 0, 0, 0, 0, 0, 0, 0, 0, 0, 0, 0, 0, 0, 0, 0, 0, 0, 0, 0, 0, 0, 0, 0, 0, 0, 0, 0, 0, 0, 0, 0, 0, 0, 0, 0, 0, 0, 0, 0, 0, 0, 0, 0, 0, 0, 0, 0, 0, 0, 0, 0, 0, 0, 0, 0, 0, 0, 0, 0, 0, 0, 0, 0, 0, 0, 0, 0, 0, 0, 0, 0, 0, 0, 0, 0, 0, 0, 0, 0, 0, 0, 0, 0, 0, 0, 0, 0, 0, 0, 0, 0, 0, 0, 0, 0, 0, 0, 0, 0, 0, 0, 0, 0, 0, 0, 0, 0, 0, 0, 0, 0, 0, 0, 0, 0, 0, 0, 0, 0, 0, 0, 0, 0, 0, 0, 0, 0, 0, 0, 0, 0, 0, 0, 0, 0, 0, 0, 0, 0, 0, 0, 0, 0, 0, 0, 0, 0, 0, 0, 0, 0, 0, 0, 0, 0, 0, 0, 0, 0, 0, 0, 0, 0, 0, 0, 0, 0, 0, 0, 0, 0, 0, 0, 0, 0, 0, 0, 0, 0, 0, 0, 0, 0, 0, 0, 0, 0, 0, 0, 0, 0, 0, 0, 0, 0, 0, 0, 0, 0, 0, 0, 0, 0, 0, 0, 0, 0, 0, 0, 0, 0, 0, 0, 0, 0, 0, 0, 0, 0, 0, 0, 0, 0, 0, 0, 0, 0, 0, 0, 0, 0, 0, 0, 0, 0, 0, 0, 0, 0, 0, 0, 0, 0, 0, 0, 0, 0, 0, 0, 0, 0, 0, 0, 0, 0, 0, 0, 0, 0, 0, 0, 0, 0, 0, 0, 0, 0, 0, 0, 0, 0, 0, 0, 0, 0, 0, 0, 0, 0, 0, 0, 0, 0, 0, 0, 0, 0, 0, 0, 0, 0, 0, 0, 0, 0, 0, 0, 0, 0, 0, 0, 0, 0, 0, 0, 0, 0, 0, 0, 0, 0, 0, 0, 0, 0, 0, 0, 0, 0, 0, 0, 0, 0, 0, 0, 0, 0, 0, 0, 0, 0, 0, 0, 0, 0, 0, 0, 0, 0, 0, 0, 0, 0, 0, 0, 0, 0, 0, 0, 0, 0, 0, 0, 0, 0, 0, 0, 0, 1, 0, 0, 0, 0, 0, 0, 0, 0, 0, 0, 0, 0, 0, 0, 0, 0, 0, 0, 0, 0, 0, 0, 0, 0, 0, 0, 0, 0, 0, 0, 0, 0, 0, 0, 0, 0, 0, 0, 0, 0, 0, 0, 0, 0, 0, 0, 0, 0, 0, 0, 0, 0, 0, 0, 0, 0, 0, 0, 0, 0, 0, 0, 0, 0, 0, 0, 0, 0, 0, 0, 0, 0, 0, 0, 1, 0, 0, 0, 0, 0, 0, 0, 0, 0, 0, 0, 0, 0, 0, 0, 0, 0, 0, 0, 0, 1, 0, 0, 1, 0, 0, 0, 0, 0, 0, 0, 0, 0, 0, 0, 0, 0, 0, 0, 0, 0, 0, 0, 0, 0, 0, 0, 0, 0, 0, 0, 0, 0, 0, 0, 0, 0, 0, 0, 0, 0, 0, 0, 0, 0, 0, 0, 0, 0, 0, 0, 0, 0, 0, 0, 0, 0, 0, 0, 0, 0, 0, 0, 0, 0, 0, 0, 0, 0, 0, 0, 0, 0, 0, 0, 0, 0, 0, 0, 0, 0, 0, 0, 0, 0, 0, 0, 0, 0, 0, 0, 0, 0, 0, 0, 0, 0, 0, 0, 0, 0, 0, 0, 0, 0, 0, 0, 0, 0, 0, 0, 0, 0, 0, 0, 0, 0, 0, 0, 0, 0, 0, 0, 0, 0, 0, 0, 0, 0, 0, 0, 0, 0, 0, 0, 0, 0, 0, 0, 0, 0, 0, 0, 0, 0, 0, 0, 0, 0, 0, 0, 0, 0, 0, 0, 0, 0, 0, 0, 0, 0, 0, 0, 0, 0, 0, 0, 0, 0, 0, 0, 0, 0, 0, 0, 0, 0, 0, 0, 0, 0, 0, 0, 0, 0, 0, 0, 0, 0, 0, 0, 0, 0, 0, 0, 0, 0, 0, 0, 0, 0, 0, 0, 0, 0, 0, 0, 0, 0, 0, 0, 0, 0, 0, 0, 0, 0, 0, 0, 0, 0, 0, 0, 0, 0, 0, 0, 0, 0, 0, 0, 0, 0, 0, 0, 0, 0, 0, 0, 0, 0, 0, 0, 0, 0, 0, 0, 0, 0, 0, 0, 0, 0, 0, 0, 0, 0, 0, 0, 0, 0, 0, 0, 0, 0, 0, 0, 0, 0, 0, 0, 0, 0, 0, 0, 0, 0, 0, 0, 0, 0, 0, 0, 0, 0, 0, 0, 0, 0, 0, 0, 0, 0, 0, 0, 0, 0, 0, 0, 0, 0, 0, 0, 0, 0, 0, 0, 0, 0, 0, 0, 0, 0, 0, 0, 0, 0, 0, 0, 0, 0, 0, 0, 0, 0, 0, 0, 0, 0, 0, 0, 0, 0, 0, 0, 0, 0, 0, 0, 0, 0, 0, 0, 0, 0, 0, 0, 0, 0, 0, 0, 0, 0, 0, 0, 0, 0, 0, 0, 0, 0, 0, 0, 0, 0, 0, 0, 0, 0, 0, 0, 0, 0, 0, 0, 0, 0, 0, 0, 0, 0, 0, 0, 0, 0, 0, 0, 0, 0, 0, 0, 0, 0, 0, 0, 0, 0, 0, 0, 0, 0, 0, 0, 0, 0, 0, 0, 0, 0, 0, 0, 0, 0, 0, 0, 0, 0, 0, 0, 0, 0, 0, 0, 0, 0, 0, 0, 0, 0, 0, 0, 0, 0, 0, 0, 0, 0, 0, 0, 0, 0, 0, 0, 0, 0, 0, 0, 0, 0, 0, 0, 0, 0, 0, 0, 0, 0, 0, 0, 0, 0, 0, 0, 0, 0, 0, 0, 0, 0, 0, 1, 0, 0, 0, 0, 0, 0, 0, 0, 0, 0, 0, 0, 0, 0, 0, 0, 0, 0, 0, 0, 0, 0, 0, 0, 0, 0, 0, 0, 0, 0, 0, 0, 0, 0, 0, 0, 0, 0, 0, 0, 0, 0, 0, 0, 0, 0, 0, 0, 0, 0, 0, 0, 0, 0, 0, 0, 0, 0, 0, 0, 0, 0, 0, 0, 0, 0, 0, 0, 0, 0, 0, 0, 0, 0, 0, 0, 0, 0, 0, 0, 0, 0, 0, 0, 0, 0, 0, 0, 0, 0, 0, 0, 0, 0, 0, 0, 0, 0, 0, 0, 0, 0, 0, 0, 0, 0, 0, 0, 0, 0, 0, 0, 0, 0, 0, 0, 0, 0, 0, 0, 0, 0, 0, 0, 0, 0, 0, 0, 0, 0, 0, 0, 0, 0, 0, 0, 0, 0, 0, 0, 0, 0, 0, 0, 0, 0, 0, 0, 0, 0, 0, 0, 0, 0, 0, 0, 0, 0, 0, 0, 0, 0, 0, 0, 0, 0, 0, 0, 0, 0, 0, 0, 0, 0, 0, 0, 0, 0, 0, 0, 0, 0, 0, 0, 0, 0, 0, 0, 0, 0, 0, 0, 0, 0, 0, 0, 0, 0, 0, 0, 0, 0, 0, 0, 0, 0, 0, 0, 0, 0, 0, 0, 0, 0, 0, 0, 0, 0, 0, 0, 0, 0, 0, 0, 0, 0, 0, 0, 0, 0, 0, 0, 0, 0, 0, 0, 0, 0, 0, 0, 0, 0, 0, 0, 0, 0, 0, 0, 0, 0, 0, 0, 0, 0, 0, 0, 0, 0, 0, 0, 0, 0, 0, 0, 0, 0, 0, 0, 0, 0, 0, 0, 0, 0, 0, 0, 0, 0, 0, 0, 0, 0, 0, 0, 0, 0, 0, 0, 0, 0, 0, 0, 0, 0, 0, 0, 0, 0, 0, 0, 0, 0, 0, 0, 0, 0, 0, 0, 0, 0, 0, 0, 0, 0, 0, 0, 0, 0, 0, 0, 0, 0, 0, 0, 0, 0, 0, 0, 0, 0, 0, 0, 0, 0, 0, 0, 0, 0, 0, 0, 0, 0, 0, 0, 0, 0, 0, 0, 0, 0, 0, 0, 0, 0, 0, 0, 0, 0, 0, 0, 0, 0, 0, 0, 0, 0, 0, 0, 0, 0, 0, 0, 0, 0, 0, 0, 0, 0, 0, 0, 0, 0, 0, 0, 0, 0, 0, 0, 0, 0, 0, 0, 0, 0, 0, 0, 0, 0, 0, 0, 0, 0, 0, 0, 0, 0, 0, 0, 0, 0, 0, 0, 0, 0, 0, 0, 0, 0, 0, 0, 0, 0, 0, 0, 0, 0, 0, 0, 0, 0, 0, 0, 0, 0, 0, 0, 0, 0, 0, 0, 0, 0, 0, 0, 0, 0, 0, 0, 0, 0, 0, 0, 0, 0, 0, 0, 0, 0, 0, 0, 0, 0, 0, 0, 0, 0, 0, 0, 0, 0, 0, 0, 0, 0, 0, 0, 0, 0, 0, 0, 0, 0, 0, 0, 0, 0, 0, 0, 0, 0, 0, 0, 0, 0, 0, 0, 0, 0, 0, 0, 0, 0, 0, 0, 0, 0, 0, 0, 0, 0, 0, 0, 1, 0, 0, 0, 0, 0, 0, 0, 0, 0, 0, 0, 0, 0, 0, 0, 0, 0, 0, 0, 0, 0, 0, 0, 0, 0, 0, 0, 0, 0, 0, 0, 0, 0, 0, 0, 2, 0, 0, 0, 0, 0, 0, 0, 0, 0, 0, 0, 0, 0, 0, 0, 0, 0, 0, 0, 0, 0, 0, 0, 0, 0, 0, 0, 0, 0, 0, 0, 0, 0, 0, 0, 0, 0, 0, 0, 0, 1, 0, 0, 0, 0, 0, 0, 0, 0, 0, 0, 0, 0, 0, 0, 0, 0, 0, 0, 0, 0, 0, 0, 0, 0, 0, 0, 0, 0, 0, 0, 0, 0, 0, 0, 0, 0, 0, 0, 0, 0, 0, 0, 0, 0, 0, 0, 0, 0, 0, 0, 0, 0, 0, 0, 0, 0, 0, 0, 0, 0, 0, 0, 0, 0, 0, 0, 0, 0, 0, 0, 0, 0, 0, 0, 0, 0, 0, 0, 0, 0, 0, 0, 0, 0, 0, 0, 0, 0, 0, 0, 0, 0, 0, 0, 0, 0, 0, 0, 0, 0, 0, 0, 0, 0, 0, 0, 0, 0, 0, 0, 0, 0, 0, 0, 0, 0, 0, 0, 0, 0, 0, 0, 0, 0, 0, 0, 0, 0, 0, 0, 0, 0, 0, 0, 0, 0, 0, 0, 0, 0, 0, 0, 0, 0, 0, 0, 0, 0, 0, 0, 0, 0, 0, 0, 0, 0, 0, 0, 0, 0, 0, 0, 0, 0, 0, 0, 0, 0, 0, 0, 0, 0, 0, 0, 0, 0, 0, 0, 0, 0, 0, 0, 0, 0, 0, 0, 0, 0, 0, 0, 0, 0, 0, 0, 0, 0, 0, 0, 0, 0, 0, 0, 0, 0, 0, 0, 0, 0, 0, 0, 0, 0, 0, 0, 0, 0, 0, 0, 0, 0, 0, 0, 0, 0, 0, 0, 0, 0, 0, 0, 0, 0, 0, 0, 0, 0, 0, 0, 0, 0, 0, 0, 0, 0, 0, 0, 0, 0, 0, 0, 0, 0, 0, 0, 0, 0, 0, 0, 0, 0, 0, 0, 0, 0, 0, 0, 0, 0, 0, 0, 0, 0, 0, 0, 0, 0, 0, 0, 0, 0, 0, 0, 0, 0, 0, 0, 0, 0, 0, 0, 0, 0, 0, 0, 0, 0, 0, 0, 0, 0, 0, 0, 0, 0, 0, 0, 0, 0, 0, 0, 0, 0, 0, 0, 0, 0, 0, 0, 0, 0, 0, 0, 0, 0, 0, 0, 0, 0, 0, 0, 0, 0, 0, 0, 0, 0, 0, 0, 0, 0, 0, 0, 0, 0, 0, 0, 0, 0, 0, 0, 0, 0, 0, 0, 0, 0, 0, 0, 0, 0, 0, 0, 0, 0, 0, 0, 0, 0, 0, 0, 0, 0, 0, 0, 0, 0, 0, 0, 0, 0, 0, 0, 0, 0, 0, 0, 0, 0, 0, 0, 0, 0, 0, 0, 0, 0, 0, 0, 0, 0, 0, 0, 0, 0, 0, 0, 0, 0, 0, 0, 0, 0, 0, 0, 0, 0, 0, 0, 0, 0, 0, 0, 0, 0, 0, 0, 0, 0, 0, 0, 0, 0, 0, 0, 0, 0, 0, 0, 0, 0, 0, 0, 0, 0, 0, 0, 0, 0, 0, 0, 0, 0, 0, 0, 0, 0, 0, 0, 0, 0, 0, 0, 0, 0, 0, 0, 0, 0, 0, 0, 0, 0, 0, 0, 0, 0, 0, 0, 0, 0, 0, 0, 0, 0, 0, 0, 0, 0, 0, 0, 0, 0, 0, 0, 0, 0, 0, 1, 0, 0, 0, 0, 0, 0, 0, 0, 0, 0, 0, 0, 0, 0, 0, 0, 0, 0, 0, 0, 0, 0, 0, 0, 0, 0, 0, 0, 0, 0, 0, 0, 0, 0, 0, 0, 0, 0, 0, 0, 0, 0, 0, 0, 0, 0, 0, 0, 0, 0, 0, 0, 0, 0, 0, 0, 0, 0, 0, 0, 0, 0, 0, 0, 0, 0, 0, 0, 0, 0, 0, 0, 0, 0, 0, 0, 0, 0, 0, 0, 0, 0, 0, 0, 0, 0, 0, 0, 0, 0, 0, 0, 0, 0, 0, 0, 0, 0, 0, 0, 0, 0, 0, 0, 0, 0, 0, 0, 0, 0, 2, 0, 0, 0, 0, 0, 0, 0, 0, 0, 0, 0, 0, 0, 0, 0, 0, 0, 0, 0, 0, 0, 0, 0, 0, 0, 0, 0, 0, 0, 0, 0, 0, 0, 0, 0, 0, 0, 0, 0, 0, 0, 0, 0, 0, 0, 0, 0, 0, 0, 0, 0, 0, 0, 0, 0, 0, 0, 0, 0, 0, 0, 0, 0, 0, 0, 0, 0, 0, 0, 0, 0, 0, 0, 0, 0, 0, 0, 0, 0, 0, 0, 0, 0, 0, 0, 0, 0, 0, 0, 0, 0, 0, 0, 0, 0, 0, 0, 0, 0, 0, 0, 0, 0, 0, 0, 0, 0, 0, 0, 0, 0, 0, 0, 0, 0, 0, 0, 0, 0, 0, 0, 0, 0, 0, 0, 0, 0, 0, 0, 0, 0, 0, 0, 0, 0, 0, 0, 0, 0, 0, 0, 0, 0, 0, 0, 0, 0, 0, 0, 0, 0, 0, 0, 0, 0, 0, 0, 0, 0, 0, 0, 0, 0, 0, 0, 0, 0, 0, 0, 0, 0, 0, 0, 0, 0, 0, 0, 0, 0, 0, 0, 0, 0, 0, 0, 0, 0, 0, 0, 0, 0, 0, 0, 0, 0, 0, 0, 0, 0, 0, 0, 0, 0, 0, 0, 0, 0, 0, 0, 0, 0, 0, 0, 0, 0, 0, 0, 0, 0, 0, 0, 0, 0, 0, 0, 0, 0, 0, 0, 0, 0, 0, 0, 0, 0, 0, 0, 0, 0, 0, 0, 0, 0, 0, 0, 0, 0, 0, 0, 0, 0, 0, 0, 0, 0, 0, 0, 0, 0, 0, 0, 0, 0, 0, 0, 0, 0, 0, 0, 0, 0, 0, 0, 0, 0, 0, 0, 0, 0, 0, 0, 0, 0, 0, 0, 0, 0, 0, 0, 0, 0, 0, 0, 0, 0, 0, 0, 0, 0, 0, 0, 0, 0, 0, 0, 0, 0, 0, 0, 0, 0, 0, 0, 0, 0, 0, 0, 0, 0, 0, 0, 0, 0, 0, 0, 0, 0, 0, 0, 0, 0, 0, 0, 0, 0, 0, 0, 0, 0, 0, 0, 0, 0, 0, 0, 0, 0, 0, 0, 0, 0, 0, 0, 0, 0, 0, 0, 0, 0, 0, 0, 0, 0, 0, 0, 0, 0, 0, 0, 0, 0, 0, 0, 0, 0, 0, 0, 0, 0, 0, 0, 0, 0, 0, 0, 0, 0, 0, 0, 0, 0, 0, 0, 0, 0, 0, 0, 0, 0, 0, 0, 0, 0, 0, 0, 0, 0, 0, 0, 0, 0, 0, 0, 0, 0, 0, 0, 0, 0, 0, 0, 0, 0, 0, 0, 0, 0, 0, 0, 0, 0, 0, 0, 0, 0, 0, 0, 0, 0, 0, 0, 0, 0, 0, 0, 0, 0, 0, 0, 0, 0, 0, 0, 0, 0, 0, 0, 0, 0, 0, 0, 0, 0, 0, 0, 0, 0, 0, 0, 0, 0, 0, 0, 0, 0, 0, 0, 0, 0, 0, 0, 0, 0, 0, 0, 0, 0, 0, 0, 0, 0, 0, 0, 0, 0, 0, 0, 0, 0, 0, 0, 0, 0, 0, 0, 0, 0, 0, 0, 0, 0, 0, 0, 0, 0, 0, 0, 0, 0, 0, 0, 0, 0, 0, 0, 0, 0, 0, 0, 0, 0, 0, 0, 0, 0, 0, 0, 0, 0, 0, 0, 0, 0, 0, 0, 0, 0, 0, 0, 0, 0, 0, 0, 0, 0, 0, 0, 0, 0, 0, 0, 0, 0, 0, 0, 0, 0, 0, 0, 0, 0, 0, 0, 0, 0, 0, 0, 0, 0, 0, 0, 0, 0, 0, 0, 0, 0, 0, 0, 0, 0, 0, 0, 0, 0, 0, 0, 0, 0, 0, 0, 0, 0, 0, 0, 0, 0, 0, 0, 0, 0, 0, 0, 0, 0, 0, 0, 0, 0, 0, 0, 0, 0, 0, 0, 0, 0, 0, 0, 0, 0, 0, 0, 0, 0, 0, 0, 0, 0, 0, 0, 0, 0, 0, 0, 0, 0, 0, 0, 0, 0, 0, 0, 0, 0, 0, 0, 0, 0, 0, 0, 0, 0, 0, 0, 0, 0, 0, 0, 0, 0, 0, 0, 0, 0, 0, 0, 0, 0, 0, 0, 0, 0, 0, 0, 0, 0, 0, 0, 0, 1, 0, 0, 0, 0, 0, 0, 0, 0, 0, 0, 0, 0, 0, 0, 0, 0, 0, 0, 0, 0, 0, 0, 0, 0, 0, 0, 0, 0, 0, 0, 0, 0, 0, 0, 0, 0, 0, 0, 0, 0, 0, 0, 0, 0, 0, 0, 0, 0, 0, 0, 0, 0, 0, 0, 0, 0, 0, 0, 0, 0, 0, 0, 0, 0, 0, 0, 0, 0, 0, 0, 0, 0, 0, 0, 0, 0, 0, 0, 0, 0, 0, 0, 0, 0, 0, 0, 0, 0, 0, 0, 0, 0, 0, 0, 0, 0, 0, 0, 0, 0, 0, 0, 0, 0, 0, 0, 0, 1, 0, 0, 0, 0, 0, 0, 0, 0, 0, 0, 0, 0, 0, 0, 0, 0, 0, 0, 0, 0, 0, 0, 0, 0, 0, 0, 0, 0, 0, 0, 0, 0, 0, 0, 0, 0, 0, 0, 0, 0, 0, 0, 0, 0, 0, 0, 0, 0, 0, 0, 0, 0, 0, 0, 0, 0, 0, 0, 0, 0, 0, 0, 0, 0, 0, 0, 0, 0, 0, 0, 0, 0, 0, 0, 0, 0, 0, 0, 0, 0, 0, 0, 0, 0, 0, 0, 0, 0, 0, 0, 0, 0, 0, 0, 0, 0, 0, 0, 0, 0, 0, 0, 0, 0, 0, 0, 0, 0, 0, 0, 0, 0, 0, 0, 0, 0, 0, 0, 0, 0, 0, 0, 0, 0, 0, 0, 0, 0, 0, 0, 0, 0, 0, 0, 0, 0, 0, 0, 0, 0, 0, 0, 0, 0, 0, 0, 0, 0, 0, 0, 0, 0, 0, 0, 0, 0, 0, 0, 0, 0, 0, 0, 0, 0, 0, 0, 0, 0, 0, 0, 0, 0, 0, 0, 0, 0, 0, 0, 0, 0, 0, 0, 0, 0, 0, 0, 0, 0, 0, 0, 0, 0, 0, 0, 0, 0, 0, 0, 0, 0, 0, 0, 0, 0, 0, 0, 0, 0, 0, 0, 0, 0, 0, 0, 0, 0, 0, 0, 0, 0, 0, 0, 0, 0, 0, 0, 0, 0, 0, 0, 0, 0, 0, 0, 0, 0, 0, 0, 0, 0, 0, 0, 0, 0, 0, 0, 0, 0, 0, 0, 0, 0, 0, 0, 0, 0, 0, 0, 0, 0, 0, 0, 0, 0, 0, 0, 0, 0, 0, 0, 0, 0, 0, 0, 0, 0, 0, 0, 0, 0, 0, 0, 0, 0, 0, 0, 0, 0, 0, 0, 0, 0, 0, 0, 0, 0, 0, 0, 0, 0, 0, 0, 0, 0, 0, 0, 0, 0, 0, 0, 0, 0, 0, 0, 0, 0, 0, 0, 0, 0, 0, 0, 0, 0, 0, 0, 0, 0, 0, 0, 0, 0, 0, 0, 0, 0, 0, 0, 0, 0, 0, 0, 0, 0, 0, 0, 0, 0, 0, 0, 0, 0, 0, 0, 0, 0, 0, 0, 0, 0, 0, 0, 0, 0, 0, 0, 0, 0, 0, 0, 0, 0, 0, 0, 0, 0, 0, 0, 0, 0, 0, 0, 0, 0, 0, 0, 0, 0, 0, 0, 0, 0, 0, 0, 0, 0, 0, 0, 0, 0, 0, 0, 0, 0, 0, 0, 0, 0, 0, 0, 0, 0, 0, 0, 0, 0, 0, 0, 0, 0, 0, 0, 0, 0, 0, 0, 0, 0, 0, 0, 0, 0, 0, 0, 0, 0, 0, 0, 0, 0, 0, 0, 0, 0, 0, 0, 0, 0, 0, 0, 0, 0, 0, 0, 0, 0, 0, 0, 0, 0, 0, 0, 0, 2, 0, 1, 0]\n"
     ]
    }
   ],
   "source": [
    "test_bow = bow_encoding(test_words, vocabulary)\n",
    "print(test_bow)"
   ]
  },
  {
   "cell_type": "code",
   "execution_count": 41,
   "metadata": {},
   "outputs": [
    {
     "data": {
      "text/plain": [
       "5000"
      ]
     },
     "execution_count": 41,
     "metadata": {},
     "output_type": "execute_result"
    }
   ],
   "source": [
    "len(test_bow)"
   ]
  },
  {
   "cell_type": "markdown",
   "metadata": {},
   "source": [
    "So now we know how to construct a bag of words encoding of a user provided review, how to we send it to our endpoint? First, we need to start the endpoint back up."
   ]
  },
  {
   "cell_type": "code",
   "execution_count": 42,
   "metadata": {},
   "outputs": [
    {
     "name": "stderr",
     "output_type": "stream",
     "text": [
      "Parameter image will be renamed to image_uri in SageMaker Python SDK v2.\n",
      "Using already existing model: xgboost-2021-05-02-14-05-20-962\n"
     ]
    },
    {
     "name": "stdout",
     "output_type": "stream",
     "text": [
      "---------------!"
     ]
    }
   ],
   "source": [
    "xgb_predictor = xgb.deploy(initial_instance_count = 1, instance_type = 'ml.m4.xlarge')"
   ]
  },
  {
   "cell_type": "markdown",
   "metadata": {},
   "source": [
    "At this point we could just do the same thing that we did earlier when we tested our deployed model and send `test_bow` to our endpoint using the `xgb_predictor` object. However, when we eventually construct our Lambda function we won't have access to this object, so how do we call a SageMaker endpoint?\n",
    "\n",
    "It turns out that Python functions that are used in Lambda have access to another Amazon library called `boto3`. This library provides an API for working with Amazon services, including SageMaker. To start with, we need to get a handle to the SageMaker runtime."
   ]
  },
  {
   "cell_type": "code",
   "execution_count": 43,
   "metadata": {},
   "outputs": [],
   "source": [
    "import boto3\n",
    "\n",
    "runtime = boto3.Session().client('sagemaker-runtime')"
   ]
  },
  {
   "cell_type": "markdown",
   "metadata": {},
   "source": [
    "And now that we have access to the SageMaker runtime, we can ask it to make use of (invoke) an endpoint that has already been created. However, we need to provide SageMaker with the name of the deployed endpoint. To find this out we can print it out using the `xgb_predictor` object."
   ]
  },
  {
   "cell_type": "code",
   "execution_count": 44,
   "metadata": {},
   "outputs": [
    {
     "data": {
      "text/plain": [
       "'xgboost-2021-05-02-14-05-20-962'"
      ]
     },
     "execution_count": 44,
     "metadata": {},
     "output_type": "execute_result"
    }
   ],
   "source": [
    "xgb_predictor.endpoint"
   ]
  },
  {
   "cell_type": "markdown",
   "metadata": {},
   "source": [
    "Using the SageMaker runtime and the name of our endpoint, we can invoke the endpoint and send it the `test_bow` data."
   ]
  },
  {
   "cell_type": "code",
   "execution_count": 45,
   "metadata": {},
   "outputs": [
    {
     "ename": "ParamValidationError",
     "evalue": "Parameter validation failed:\nInvalid type for parameter Body, value: [0, 0, 0, 0, 0, 0, 0, 0, 0, 0, 0, 0, 0, 0, 0, 0, 0, 0, 0, 0, 0, 0, 0, 0, 0, 0, 0, 0, 0, 0, 0, 0, 0, 0, 0, 0, 0, 0, 0, 0, 0, 0, 0, 0, 0, 0, 0, 0, 0, 0, 0, 0, 0, 0, 0, 0, 0, 0, 0, 0, 0, 0, 0, 0, 0, 0, 0, 0, 0, 0, 0, 0, 0, 0, 0, 0, 0, 0, 0, 0, 0, 0, 0, 0, 0, 0, 0, 0, 0, 0, 0, 0, 0, 0, 0, 0, 0, 0, 0, 0, 0, 0, 0, 0, 0, 0, 0, 0, 0, 0, 0, 0, 0, 0, 0, 0, 0, 0, 0, 0, 0, 0, 0, 0, 0, 0, 0, 0, 0, 0, 0, 0, 0, 0, 0, 0, 0, 0, 0, 0, 0, 0, 0, 0, 0, 0, 0, 0, 0, 0, 0, 0, 0, 0, 0, 0, 0, 0, 0, 0, 0, 0, 0, 0, 0, 0, 0, 0, 0, 0, 0, 0, 0, 0, 0, 0, 0, 0, 0, 0, 0, 0, 0, 0, 0, 0, 0, 0, 0, 0, 0, 0, 0, 0, 0, 0, 0, 0, 0, 0, 0, 0, 0, 0, 0, 0, 0, 0, 0, 0, 0, 0, 0, 0, 0, 0, 0, 0, 0, 0, 0, 0, 0, 0, 0, 0, 1, 0, 0, 0, 0, 0, 0, 0, 0, 0, 0, 0, 0, 0, 0, 0, 0, 0, 0, 0, 0, 0, 0, 0, 0, 0, 0, 0, 0, 0, 1, 0, 0, 0, 0, 0, 0, 0, 0, 0, 0, 0, 0, 0, 0, 0, 0, 0, 0, 0, 0, 0, 0, 0, 0, 0, 0, 0, 0, 0, 0, 0, 0, 0, 0, 0, 0, 0, 0, 0, 0, 0, 0, 0, 0, 0, 0, 0, 0, 0, 0, 0, 0, 0, 0, 0, 0, 0, 0, 0, 0, 0, 0, 0, 0, 0, 0, 0, 0, 0, 0, 0, 0, 0, 0, 0, 0, 0, 0, 0, 0, 0, 0, 0, 0, 0, 0, 0, 0, 0, 0, 0, 0, 0, 0, 0, 0, 0, 0, 0, 0, 0, 0, 0, 0, 0, 0, 0, 0, 0, 0, 0, 0, 0, 0, 0, 0, 0, 0, 0, 0, 0, 0, 0, 0, 0, 0, 0, 0, 0, 0, 0, 0, 0, 0, 0, 0, 0, 0, 0, 0, 0, 0, 0, 0, 0, 0, 0, 0, 0, 0, 0, 0, 0, 0, 0, 0, 0, 0, 0, 0, 0, 0, 0, 0, 0, 0, 0, 0, 0, 0, 0, 0, 0, 0, 0, 0, 0, 0, 0, 0, 0, 0, 0, 0, 0, 0, 0, 0, 0, 0, 0, 0, 0, 0, 0, 0, 0, 0, 0, 0, 0, 0, 0, 0, 0, 0, 0, 0, 0, 0, 0, 0, 0, 0, 0, 0, 0, 0, 0, 0, 0, 0, 0, 0, 0, 0, 0, 0, 0, 0, 0, 0, 0, 0, 0, 0, 0, 0, 0, 0, 0, 0, 0, 0, 0, 0, 0, 0, 0, 0, 0, 0, 0, 0, 0, 0, 0, 0, 0, 0, 0, 0, 0, 0, 0, 0, 0, 0, 0, 0, 0, 0, 0, 0, 0, 0, 0, 0, 0, 0, 0, 0, 0, 0, 0, 0, 0, 0, 0, 0, 0, 0, 0, 0, 0, 0, 0, 0, 0, 0, 0, 0, 0, 0, 0, 0, 0, 0, 0, 0, 0, 0, 0, 0, 0, 0, 0, 0, 0, 0, 0, 0, 0, 0, 0, 0, 0, 0, 0, 0, 0, 0, 0, 0, 0, 0, 0, 0, 0, 0, 0, 0, 0, 0, 0, 0, 0, 0, 0, 0, 0, 0, 0, 0, 0, 0, 0, 0, 0, 0, 0, 0, 0, 0, 0, 0, 0, 0, 0, 0, 0, 0, 0, 0, 0, 0, 0, 0, 0, 1, 0, 0, 0, 0, 0, 0, 0, 0, 0, 0, 0, 0, 0, 0, 0, 0, 0, 0, 0, 0, 0, 0, 0, 0, 0, 0, 0, 0, 0, 0, 0, 0, 0, 0, 0, 0, 0, 0, 0, 0, 0, 0, 0, 0, 0, 0, 0, 0, 0, 0, 0, 0, 0, 0, 0, 0, 0, 0, 0, 0, 0, 0, 0, 0, 0, 0, 0, 0, 0, 0, 0, 0, 0, 0, 0, 0, 0, 0, 0, 0, 0, 0, 0, 0, 0, 0, 0, 0, 0, 0, 0, 0, 0, 0, 0, 0, 0, 0, 0, 0, 0, 0, 0, 0, 0, 0, 0, 0, 0, 0, 0, 0, 0, 0, 0, 0, 0, 0, 0, 0, 0, 0, 0, 0, 0, 0, 0, 0, 0, 0, 0, 0, 0, 0, 0, 0, 0, 0, 0, 0, 0, 0, 0, 0, 0, 0, 0, 0, 0, 0, 0, 0, 0, 0, 0, 0, 0, 0, 0, 0, 0, 0, 0, 0, 0, 0, 0, 0, 0, 0, 0, 0, 0, 0, 0, 0, 0, 0, 0, 0, 0, 0, 0, 0, 0, 0, 0, 0, 0, 0, 0, 0, 0, 0, 0, 0, 0, 0, 0, 0, 0, 0, 0, 0, 0, 0, 0, 0, 0, 0, 0, 0, 0, 0, 0, 0, 0, 0, 0, 0, 0, 0, 0, 0, 0, 0, 0, 0, 0, 0, 0, 0, 0, 0, 0, 0, 0, 0, 0, 0, 0, 0, 0, 0, 0, 0, 0, 0, 0, 0, 0, 0, 0, 1, 0, 0, 0, 0, 0, 0, 0, 0, 0, 0, 0, 0, 0, 0, 0, 0, 0, 0, 0, 0, 0, 0, 0, 0, 0, 0, 0, 0, 0, 0, 0, 0, 0, 0, 0, 0, 0, 0, 0, 0, 0, 0, 0, 0, 0, 0, 0, 0, 0, 0, 0, 0, 0, 0, 0, 0, 0, 0, 0, 0, 0, 0, 0, 0, 0, 0, 0, 0, 0, 0, 0, 0, 0, 0, 0, 0, 0, 0, 0, 0, 0, 0, 0, 0, 0, 0, 1, 0, 0, 0, 0, 0, 0, 0, 0, 0, 0, 0, 0, 0, 0, 0, 0, 0, 0, 0, 0, 0, 0, 0, 0, 0, 0, 0, 0, 0, 0, 0, 0, 0, 0, 0, 0, 0, 0, 0, 0, 0, 0, 0, 0, 0, 0, 0, 0, 0, 0, 0, 0, 0, 0, 0, 0, 0, 0, 0, 0, 0, 0, 0, 0, 0, 0, 0, 0, 0, 0, 0, 0, 0, 0, 0, 0, 0, 0, 0, 0, 0, 0, 0, 0, 0, 0, 0, 0, 0, 0, 0, 0, 0, 0, 0, 0, 0, 0, 0, 0, 0, 0, 0, 0, 0, 0, 0, 0, 0, 0, 0, 0, 0, 0, 0, 0, 0, 0, 0, 0, 0, 0, 0, 0, 0, 0, 0, 0, 0, 0, 0, 0, 0, 0, 0, 0, 0, 0, 0, 0, 0, 0, 0, 0, 0, 0, 0, 0, 0, 0, 0, 0, 0, 0, 0, 0, 0, 0, 0, 0, 0, 0, 0, 0, 0, 0, 0, 0, 0, 0, 0, 0, 0, 0, 0, 0, 0, 0, 0, 0, 0, 0, 0, 0, 0, 0, 0, 0, 0, 0, 0, 0, 0, 0, 0, 0, 0, 0, 0, 0, 0, 0, 0, 0, 0, 0, 0, 0, 0, 0, 0, 0, 0, 0, 0, 0, 0, 0, 0, 0, 0, 0, 0, 0, 0, 0, 0, 0, 0, 0, 0, 0, 0, 0, 0, 0, 0, 0, 0, 0, 0, 0, 0, 0, 0, 0, 0, 0, 0, 0, 0, 0, 1, 0, 0, 0, 0, 0, 0, 0, 0, 0, 0, 0, 0, 0, 0, 0, 0, 0, 0, 0, 0, 0, 0, 0, 0, 0, 0, 0, 0, 0, 0, 0, 0, 0, 0, 0, 0, 0, 0, 0, 0, 0, 0, 0, 0, 0, 0, 0, 0, 0, 0, 0, 0, 0, 0, 0, 1, 0, 0, 0, 0, 0, 0, 0, 0, 0, 0, 0, 0, 0, 0, 0, 0, 0, 0, 0, 0, 0, 0, 0, 0, 0, 0, 0, 0, 0, 0, 0, 0, 0, 0, 0, 0, 0, 0, 0, 0, 0, 0, 0, 0, 0, 0, 0, 0, 0, 0, 0, 0, 0, 0, 0, 0, 0, 0, 0, 0, 0, 0, 0, 0, 0, 0, 0, 0, 0, 0, 0, 0, 0, 0, 0, 0, 0, 0, 0, 0, 0, 0, 0, 0, 0, 0, 0, 0, 0, 0, 0, 0, 0, 0, 0, 0, 0, 0, 0, 0, 0, 0, 0, 0, 0, 0, 0, 0, 0, 0, 0, 0, 0, 0, 0, 0, 0, 0, 0, 0, 0, 0, 0, 0, 0, 0, 0, 0, 0, 0, 0, 0, 0, 0, 0, 0, 0, 0, 0, 0, 0, 0, 0, 0, 0, 0, 0, 0, 0, 0, 0, 0, 0, 0, 0, 0, 0, 0, 0, 0, 0, 0, 0, 0, 0, 0, 0, 0, 0, 0, 0, 0, 0, 0, 0, 0, 0, 0, 0, 0, 0, 0, 0, 0, 0, 0, 0, 0, 0, 0, 0, 0, 0, 0, 0, 0, 0, 0, 0, 0, 0, 0, 0, 0, 0, 0, 0, 0, 0, 0, 0, 0, 0, 0, 0, 0, 0, 0, 0, 0, 0, 0, 0, 0, 0, 0, 0, 0, 0, 0, 0, 0, 0, 0, 0, 0, 0, 0, 0, 0, 0, 0, 0, 0, 0, 0, 0, 0, 0, 0, 0, 0, 0, 0, 0, 0, 0, 0, 0, 0, 0, 0, 0, 0, 0, 0, 0, 0, 0, 0, 0, 0, 0, 0, 0, 0, 0, 0, 0, 0, 0, 0, 0, 0, 0, 0, 0, 0, 0, 0, 0, 0, 0, 0, 0, 0, 0, 0, 0, 0, 0, 0, 0, 0, 0, 0, 0, 0, 0, 0, 0, 0, 0, 0, 0, 0, 0, 0, 0, 0, 0, 0, 0, 0, 0, 0, 0, 0, 0, 0, 0, 0, 0, 0, 0, 0, 0, 0, 0, 0, 0, 0, 0, 0, 0, 0, 0, 0, 0, 0, 0, 0, 0, 0, 0, 0, 0, 0, 0, 0, 0, 0, 0, 0, 0, 0, 0, 0, 0, 0, 0, 0, 0, 0, 0, 0, 0, 0, 0, 0, 0, 0, 0, 0, 0, 0, 0, 0, 0, 0, 0, 0, 0, 0, 0, 0, 0, 0, 0, 0, 0, 0, 0, 0, 0, 0, 0, 0, 0, 0, 0, 0, 0, 0, 0, 0, 0, 0, 0, 0, 0, 0, 0, 0, 0, 0, 0, 0, 0, 0, 0, 0, 0, 0, 0, 0, 0, 0, 0, 0, 0, 0, 0, 0, 0, 0, 0, 0, 0, 0, 0, 0, 0, 0, 0, 0, 0, 0, 0, 0, 0, 0, 0, 0, 0, 0, 0, 0, 0, 0, 0, 0, 0, 0, 0, 0, 0, 0, 0, 0, 0, 0, 0, 0, 0, 0, 0, 0, 0, 0, 0, 0, 0, 0, 0, 0, 0, 0, 0, 0, 0, 0, 0, 0, 0, 0, 0, 0, 0, 0, 0, 0, 0, 0, 0, 0, 0, 0, 0, 0, 0, 0, 0, 0, 0, 0, 0, 0, 0, 0, 0, 0, 0, 0, 0, 0, 0, 0, 0, 0, 0, 0, 0, 0, 0, 0, 0, 0, 0, 0, 0, 0, 0, 0, 0, 0, 0, 0, 0, 0, 0, 0, 0, 0, 0, 0, 0, 0, 0, 0, 0, 0, 0, 0, 0, 0, 0, 0, 0, 0, 0, 0, 0, 0, 0, 0, 0, 0, 0, 0, 0, 0, 0, 0, 0, 0, 0, 0, 0, 0, 0, 0, 0, 0, 0, 0, 0, 0, 0, 0, 0, 0, 0, 0, 0, 0, 0, 0, 0, 0, 0, 0, 0, 0, 0, 0, 0, 0, 0, 0, 0, 0, 0, 0, 0, 0, 0, 0, 0, 0, 0, 0, 0, 0, 0, 0, 0, 0, 0, 0, 0, 0, 0, 0, 0, 0, 0, 0, 0, 0, 0, 0, 0, 0, 0, 0, 0, 0, 0, 0, 0, 0, 0, 0, 0, 0, 0, 0, 0, 0, 0, 1, 0, 0, 0, 0, 0, 0, 0, 0, 0, 0, 0, 0, 0, 0, 0, 0, 0, 0, 0, 0, 0, 0, 0, 0, 0, 0, 0, 0, 0, 0, 0, 0, 0, 0, 0, 0, 0, 0, 0, 0, 0, 0, 0, 0, 0, 0, 0, 0, 0, 0, 0, 0, 0, 0, 0, 0, 0, 0, 0, 0, 0, 0, 0, 0, 0, 0, 0, 0, 0, 0, 0, 0, 0, 0, 1, 0, 0, 0, 0, 0, 0, 0, 0, 0, 0, 0, 0, 0, 0, 0, 0, 0, 0, 0, 0, 1, 0, 0, 1, 0, 0, 0, 0, 0, 0, 0, 0, 0, 0, 0, 0, 0, 0, 0, 0, 0, 0, 0, 0, 0, 0, 0, 0, 0, 0, 0, 0, 0, 0, 0, 0, 0, 0, 0, 0, 0, 0, 0, 0, 0, 0, 0, 0, 0, 0, 0, 0, 0, 0, 0, 0, 0, 0, 0, 0, 0, 0, 0, 0, 0, 0, 0, 0, 0, 0, 0, 0, 0, 0, 0, 0, 0, 0, 0, 0, 0, 0, 0, 0, 0, 0, 0, 0, 0, 0, 0, 0, 0, 0, 0, 0, 0, 0, 0, 0, 0, 0, 0, 0, 0, 0, 0, 0, 0, 0, 0, 0, 0, 0, 0, 0, 0, 0, 0, 0, 0, 0, 0, 0, 0, 0, 0, 0, 0, 0, 0, 0, 0, 0, 0, 0, 0, 0, 0, 0, 0, 0, 0, 0, 0, 0, 0, 0, 0, 0, 0, 0, 0, 0, 0, 0, 0, 0, 0, 0, 0, 0, 0, 0, 0, 0, 0, 0, 0, 0, 0, 0, 0, 0, 0, 0, 0, 0, 0, 0, 0, 0, 0, 0, 0, 0, 0, 0, 0, 0, 0, 0, 0, 0, 0, 0, 0, 0, 0, 0, 0, 0, 0, 0, 0, 0, 0, 0, 0, 0, 0, 0, 0, 0, 0, 0, 0, 0, 0, 0, 0, 0, 0, 0, 0, 0, 0, 0, 0, 0, 0, 0, 0, 0, 0, 0, 0, 0, 0, 0, 0, 0, 0, 0, 0, 0, 0, 0, 0, 0, 0, 0, 0, 0, 0, 0, 0, 0, 0, 0, 0, 0, 0, 0, 0, 0, 0, 0, 0, 0, 0, 0, 0, 0, 0, 0, 0, 0, 0, 0, 0, 0, 0, 0, 0, 0, 0, 0, 0, 0, 0, 0, 0, 0, 0, 0, 0, 0, 0, 0, 0, 0, 0, 0, 0, 0, 0, 0, 0, 0, 0, 0, 0, 0, 0, 0, 0, 0, 0, 0, 0, 0, 0, 0, 0, 0, 0, 0, 0, 0, 0, 0, 0, 0, 0, 0, 0, 0, 0, 0, 0, 0, 0, 0, 0, 0, 0, 0, 0, 0, 0, 0, 0, 0, 0, 0, 0, 0, 0, 0, 0, 0, 0, 0, 0, 0, 0, 0, 0, 0, 0, 0, 0, 0, 0, 0, 0, 0, 0, 0, 0, 0, 0, 0, 0, 0, 0, 0, 0, 0, 0, 0, 0, 0, 0, 0, 0, 0, 0, 0, 0, 0, 0, 0, 0, 0, 0, 0, 0, 0, 0, 0, 0, 0, 0, 0, 0, 0, 0, 0, 0, 0, 0, 0, 0, 0, 0, 0, 0, 0, 0, 0, 0, 0, 0, 0, 0, 0, 0, 0, 0, 0, 0, 0, 0, 0, 0, 0, 0, 0, 0, 0, 0, 0, 0, 0, 0, 0, 0, 0, 0, 0, 0, 0, 0, 0, 0, 0, 0, 0, 1, 0, 0, 0, 0, 0, 0, 0, 0, 0, 0, 0, 0, 0, 0, 0, 0, 0, 0, 0, 0, 0, 0, 0, 0, 0, 0, 0, 0, 0, 0, 0, 0, 0, 0, 0, 0, 0, 0, 0, 0, 0, 0, 0, 0, 0, 0, 0, 0, 0, 0, 0, 0, 0, 0, 0, 0, 0, 0, 0, 0, 0, 0, 0, 0, 0, 0, 0, 0, 0, 0, 0, 0, 0, 0, 0, 0, 0, 0, 0, 0, 0, 0, 0, 0, 0, 0, 0, 0, 0, 0, 0, 0, 0, 0, 0, 0, 0, 0, 0, 0, 0, 0, 0, 0, 0, 0, 0, 0, 0, 0, 0, 0, 0, 0, 0, 0, 0, 0, 0, 0, 0, 0, 0, 0, 0, 0, 0, 0, 0, 0, 0, 0, 0, 0, 0, 0, 0, 0, 0, 0, 0, 0, 0, 0, 0, 0, 0, 0, 0, 0, 0, 0, 0, 0, 0, 0, 0, 0, 0, 0, 0, 0, 0, 0, 0, 0, 0, 0, 0, 0, 0, 0, 0, 0, 0, 0, 0, 0, 0, 0, 0, 0, 0, 0, 0, 0, 0, 0, 0, 0, 0, 0, 0, 0, 0, 0, 0, 0, 0, 0, 0, 0, 0, 0, 0, 0, 0, 0, 0, 0, 0, 0, 0, 0, 0, 0, 0, 0, 0, 0, 0, 0, 0, 0, 0, 0, 0, 0, 0, 0, 0, 0, 0, 0, 0, 0, 0, 0, 0, 0, 0, 0, 0, 0, 0, 0, 0, 0, 0, 0, 0, 0, 0, 0, 0, 0, 0, 0, 0, 0, 0, 0, 0, 0, 0, 0, 0, 0, 0, 0, 0, 0, 0, 0, 0, 0, 0, 0, 0, 0, 0, 0, 0, 0, 0, 0, 0, 0, 0, 0, 0, 0, 0, 0, 0, 0, 0, 0, 0, 0, 0, 0, 0, 0, 0, 0, 0, 0, 0, 0, 0, 0, 0, 0, 0, 0, 0, 0, 0, 0, 0, 0, 0, 0, 0, 0, 0, 0, 0, 0, 0, 0, 0, 0, 0, 0, 0, 0, 0, 0, 0, 0, 0, 0, 0, 0, 0, 0, 0, 0, 0, 0, 0, 0, 0, 0, 0, 0, 0, 0, 0, 0, 0, 0, 0, 0, 0, 0, 0, 0, 0, 0, 0, 0, 0, 0, 0, 0, 0, 0, 0, 0, 0, 0, 0, 0, 0, 0, 0, 0, 0, 0, 0, 0, 0, 0, 0, 0, 0, 0, 0, 0, 0, 0, 0, 0, 0, 0, 0, 0, 0, 0, 0, 0, 0, 0, 0, 0, 0, 0, 0, 0, 0, 0, 0, 0, 0, 0, 0, 0, 0, 0, 0, 0, 0, 0, 0, 0, 0, 0, 0, 0, 0, 0, 0, 0, 0, 0, 0, 0, 0, 0, 0, 0, 0, 0, 0, 0, 0, 0, 0, 0, 0, 0, 0, 0, 0, 0, 0, 0, 0, 0, 0, 0, 0, 0, 0, 0, 0, 0, 0, 0, 0, 0, 0, 0, 0, 0, 0, 0, 0, 0, 0, 0, 0, 0, 0, 0, 0, 0, 0, 0, 0, 0, 0, 0, 0, 0, 0, 0, 0, 0, 1, 0, 0, 0, 0, 0, 0, 0, 0, 0, 0, 0, 0, 0, 0, 0, 0, 0, 0, 0, 0, 0, 0, 0, 0, 0, 0, 0, 0, 0, 0, 0, 0, 0, 0, 0, 2, 0, 0, 0, 0, 0, 0, 0, 0, 0, 0, 0, 0, 0, 0, 0, 0, 0, 0, 0, 0, 0, 0, 0, 0, 0, 0, 0, 0, 0, 0, 0, 0, 0, 0, 0, 0, 0, 0, 0, 0, 1, 0, 0, 0, 0, 0, 0, 0, 0, 0, 0, 0, 0, 0, 0, 0, 0, 0, 0, 0, 0, 0, 0, 0, 0, 0, 0, 0, 0, 0, 0, 0, 0, 0, 0, 0, 0, 0, 0, 0, 0, 0, 0, 0, 0, 0, 0, 0, 0, 0, 0, 0, 0, 0, 0, 0, 0, 0, 0, 0, 0, 0, 0, 0, 0, 0, 0, 0, 0, 0, 0, 0, 0, 0, 0, 0, 0, 0, 0, 0, 0, 0, 0, 0, 0, 0, 0, 0, 0, 0, 0, 0, 0, 0, 0, 0, 0, 0, 0, 0, 0, 0, 0, 0, 0, 0, 0, 0, 0, 0, 0, 0, 0, 0, 0, 0, 0, 0, 0, 0, 0, 0, 0, 0, 0, 0, 0, 0, 0, 0, 0, 0, 0, 0, 0, 0, 0, 0, 0, 0, 0, 0, 0, 0, 0, 0, 0, 0, 0, 0, 0, 0, 0, 0, 0, 0, 0, 0, 0, 0, 0, 0, 0, 0, 0, 0, 0, 0, 0, 0, 0, 0, 0, 0, 0, 0, 0, 0, 0, 0, 0, 0, 0, 0, 0, 0, 0, 0, 0, 0, 0, 0, 0, 0, 0, 0, 0, 0, 0, 0, 0, 0, 0, 0, 0, 0, 0, 0, 0, 0, 0, 0, 0, 0, 0, 0, 0, 0, 0, 0, 0, 0, 0, 0, 0, 0, 0, 0, 0, 0, 0, 0, 0, 0, 0, 0, 0, 0, 0, 0, 0, 0, 0, 0, 0, 0, 0, 0, 0, 0, 0, 0, 0, 0, 0, 0, 0, 0, 0, 0, 0, 0, 0, 0, 0, 0, 0, 0, 0, 0, 0, 0, 0, 0, 0, 0, 0, 0, 0, 0, 0, 0, 0, 0, 0, 0, 0, 0, 0, 0, 0, 0, 0, 0, 0, 0, 0, 0, 0, 0, 0, 0, 0, 0, 0, 0, 0, 0, 0, 0, 0, 0, 0, 0, 0, 0, 0, 0, 0, 0, 0, 0, 0, 0, 0, 0, 0, 0, 0, 0, 0, 0, 0, 0, 0, 0, 0, 0, 0, 0, 0, 0, 0, 0, 0, 0, 0, 0, 0, 0, 0, 0, 0, 0, 0, 0, 0, 0, 0, 0, 0, 0, 0, 0, 0, 0, 0, 0, 0, 0, 0, 0, 0, 0, 0, 0, 0, 0, 0, 0, 0, 0, 0, 0, 0, 0, 0, 0, 0, 0, 0, 0, 0, 0, 0, 0, 0, 0, 0, 0, 0, 0, 0, 0, 0, 0, 0, 0, 0, 0, 0, 0, 0, 0, 0, 0, 0, 0, 0, 0, 0, 0, 0, 0, 0, 0, 0, 0, 0, 0, 0, 0, 0, 0, 0, 0, 0, 0, 0, 0, 0, 0, 0, 0, 0, 0, 0, 0, 0, 0, 0, 0, 0, 0, 0, 0, 0, 0, 0, 0, 0, 0, 0, 0, 0, 0, 0, 0, 0, 0, 0, 0, 0, 0, 0, 0, 0, 0, 0, 0, 0, 0, 0, 0, 0, 0, 0, 0, 0, 0, 0, 0, 0, 0, 0, 0, 0, 0, 1, 0, 0, 0, 0, 0, 0, 0, 0, 0, 0, 0, 0, 0, 0, 0, 0, 0, 0, 0, 0, 0, 0, 0, 0, 0, 0, 0, 0, 0, 0, 0, 0, 0, 0, 0, 0, 0, 0, 0, 0, 0, 0, 0, 0, 0, 0, 0, 0, 0, 0, 0, 0, 0, 0, 0, 0, 0, 0, 0, 0, 0, 0, 0, 0, 0, 0, 0, 0, 0, 0, 0, 0, 0, 0, 0, 0, 0, 0, 0, 0, 0, 0, 0, 0, 0, 0, 0, 0, 0, 0, 0, 0, 0, 0, 0, 0, 0, 0, 0, 0, 0, 0, 0, 0, 0, 0, 0, 0, 0, 0, 2, 0, 0, 0, 0, 0, 0, 0, 0, 0, 0, 0, 0, 0, 0, 0, 0, 0, 0, 0, 0, 0, 0, 0, 0, 0, 0, 0, 0, 0, 0, 0, 0, 0, 0, 0, 0, 0, 0, 0, 0, 0, 0, 0, 0, 0, 0, 0, 0, 0, 0, 0, 0, 0, 0, 0, 0, 0, 0, 0, 0, 0, 0, 0, 0, 0, 0, 0, 0, 0, 0, 0, 0, 0, 0, 0, 0, 0, 0, 0, 0, 0, 0, 0, 0, 0, 0, 0, 0, 0, 0, 0, 0, 0, 0, 0, 0, 0, 0, 0, 0, 0, 0, 0, 0, 0, 0, 0, 0, 0, 0, 0, 0, 0, 0, 0, 0, 0, 0, 0, 0, 0, 0, 0, 0, 0, 0, 0, 0, 0, 0, 0, 0, 0, 0, 0, 0, 0, 0, 0, 0, 0, 0, 0, 0, 0, 0, 0, 0, 0, 0, 0, 0, 0, 0, 0, 0, 0, 0, 0, 0, 0, 0, 0, 0, 0, 0, 0, 0, 0, 0, 0, 0, 0, 0, 0, 0, 0, 0, 0, 0, 0, 0, 0, 0, 0, 0, 0, 0, 0, 0, 0, 0, 0, 0, 0, 0, 0, 0, 0, 0, 0, 0, 0, 0, 0, 0, 0, 0, 0, 0, 0, 0, 0, 0, 0, 0, 0, 0, 0, 0, 0, 0, 0, 0, 0, 0, 0, 0, 0, 0, 0, 0, 0, 0, 0, 0, 0, 0, 0, 0, 0, 0, 0, 0, 0, 0, 0, 0, 0, 0, 0, 0, 0, 0, 0, 0, 0, 0, 0, 0, 0, 0, 0, 0, 0, 0, 0, 0, 0, 0, 0, 0, 0, 0, 0, 0, 0, 0, 0, 0, 0, 0, 0, 0, 0, 0, 0, 0, 0, 0, 0, 0, 0, 0, 0, 0, 0, 0, 0, 0, 0, 0, 0, 0, 0, 0, 0, 0, 0, 0, 0, 0, 0, 0, 0, 0, 0, 0, 0, 0, 0, 0, 0, 0, 0, 0, 0, 0, 0, 0, 0, 0, 0, 0, 0, 0, 0, 0, 0, 0, 0, 0, 0, 0, 0, 0, 0, 0, 0, 0, 0, 0, 0, 0, 0, 0, 0, 0, 0, 0, 0, 0, 0, 0, 0, 0, 0, 0, 0, 0, 0, 0, 0, 0, 0, 0, 0, 0, 0, 0, 0, 0, 0, 0, 0, 0, 0, 0, 0, 0, 0, 0, 0, 0, 0, 0, 0, 0, 0, 0, 0, 0, 0, 0, 0, 0, 0, 0, 0, 0, 0, 0, 0, 0, 0, 0, 0, 0, 0, 0, 0, 0, 0, 0, 0, 0, 0, 0, 0, 0, 0, 0, 0, 0, 0, 0, 0, 0, 0, 0, 0, 0, 0, 0, 0, 0, 0, 0, 0, 0, 0, 0, 0, 0, 0, 0, 0, 0, 0, 0, 0, 0, 0, 0, 0, 0, 0, 0, 0, 0, 0, 0, 0, 0, 0, 0, 0, 0, 0, 0, 0, 0, 0, 0, 0, 0, 0, 0, 0, 0, 0, 0, 0, 0, 0, 0, 0, 0, 0, 0, 0, 0, 0, 0, 0, 0, 0, 0, 0, 0, 0, 0, 0, 0, 0, 0, 0, 0, 0, 0, 0, 0, 0, 0, 0, 0, 0, 0, 0, 0, 0, 0, 0, 0, 0, 0, 0, 0, 0, 0, 0, 0, 0, 0, 0, 0, 0, 0, 0, 0, 0, 0, 0, 0, 0, 0, 0, 0, 0, 0, 0, 0, 0, 0, 0, 0, 0, 0, 0, 0, 0, 0, 0, 0, 0, 0, 0, 0, 0, 0, 0, 0, 0, 0, 0, 0, 0, 0, 0, 0, 0, 0, 0, 0, 0, 0, 0, 0, 0, 0, 0, 0, 0, 0, 0, 0, 0, 0, 0, 0, 0, 0, 0, 0, 0, 0, 0, 0, 0, 0, 0, 0, 0, 0, 0, 0, 0, 0, 0, 0, 0, 0, 0, 0, 0, 0, 0, 0, 0, 0, 0, 0, 0, 0, 0, 0, 0, 0, 0, 0, 0, 0, 0, 0, 0, 0, 0, 0, 0, 0, 0, 0, 0, 0, 0, 0, 0, 0, 0, 0, 0, 0, 0, 0, 0, 0, 0, 0, 0, 0, 0, 0, 0, 0, 0, 0, 0, 0, 0, 0, 1, 0, 0, 0, 0, 0, 0, 0, 0, 0, 0, 0, 0, 0, 0, 0, 0, 0, 0, 0, 0, 0, 0, 0, 0, 0, 0, 0, 0, 0, 0, 0, 0, 0, 0, 0, 0, 0, 0, 0, 0, 0, 0, 0, 0, 0, 0, 0, 0, 0, 0, 0, 0, 0, 0, 0, 0, 0, 0, 0, 0, 0, 0, 0, 0, 0, 0, 0, 0, 0, 0, 0, 0, 0, 0, 0, 0, 0, 0, 0, 0, 0, 0, 0, 0, 0, 0, 0, 0, 0, 0, 0, 0, 0, 0, 0, 0, 0, 0, 0, 0, 0, 0, 0, 0, 0, 0, 0, 1, 0, 0, 0, 0, 0, 0, 0, 0, 0, 0, 0, 0, 0, 0, 0, 0, 0, 0, 0, 0, 0, 0, 0, 0, 0, 0, 0, 0, 0, 0, 0, 0, 0, 0, 0, 0, 0, 0, 0, 0, 0, 0, 0, 0, 0, 0, 0, 0, 0, 0, 0, 0, 0, 0, 0, 0, 0, 0, 0, 0, 0, 0, 0, 0, 0, 0, 0, 0, 0, 0, 0, 0, 0, 0, 0, 0, 0, 0, 0, 0, 0, 0, 0, 0, 0, 0, 0, 0, 0, 0, 0, 0, 0, 0, 0, 0, 0, 0, 0, 0, 0, 0, 0, 0, 0, 0, 0, 0, 0, 0, 0, 0, 0, 0, 0, 0, 0, 0, 0, 0, 0, 0, 0, 0, 0, 0, 0, 0, 0, 0, 0, 0, 0, 0, 0, 0, 0, 0, 0, 0, 0, 0, 0, 0, 0, 0, 0, 0, 0, 0, 0, 0, 0, 0, 0, 0, 0, 0, 0, 0, 0, 0, 0, 0, 0, 0, 0, 0, 0, 0, 0, 0, 0, 0, 0, 0, 0, 0, 0, 0, 0, 0, 0, 0, 0, 0, 0, 0, 0, 0, 0, 0, 0, 0, 0, 0, 0, 0, 0, 0, 0, 0, 0, 0, 0, 0, 0, 0, 0, 0, 0, 0, 0, 0, 0, 0, 0, 0, 0, 0, 0, 0, 0, 0, 0, 0, 0, 0, 0, 0, 0, 0, 0, 0, 0, 0, 0, 0, 0, 0, 0, 0, 0, 0, 0, 0, 0, 0, 0, 0, 0, 0, 0, 0, 0, 0, 0, 0, 0, 0, 0, 0, 0, 0, 0, 0, 0, 0, 0, 0, 0, 0, 0, 0, 0, 0, 0, 0, 0, 0, 0, 0, 0, 0, 0, 0, 0, 0, 0, 0, 0, 0, 0, 0, 0, 0, 0, 0, 0, 0, 0, 0, 0, 0, 0, 0, 0, 0, 0, 0, 0, 0, 0, 0, 0, 0, 0, 0, 0, 0, 0, 0, 0, 0, 0, 0, 0, 0, 0, 0, 0, 0, 0, 0, 0, 0, 0, 0, 0, 0, 0, 0, 0, 0, 0, 0, 0, 0, 0, 0, 0, 0, 0, 0, 0, 0, 0, 0, 0, 0, 0, 0, 0, 0, 0, 0, 0, 0, 0, 0, 0, 0, 0, 0, 0, 0, 0, 0, 0, 0, 0, 0, 0, 0, 0, 0, 0, 0, 0, 0, 0, 0, 0, 0, 0, 0, 0, 0, 0, 0, 0, 0, 0, 0, 0, 0, 0, 0, 0, 0, 0, 0, 0, 0, 0, 0, 0, 0, 0, 0, 0, 0, 0, 0, 0, 0, 0, 0, 0, 0, 0, 0, 0, 0, 0, 0, 0, 0, 0, 0, 0, 0, 0, 0, 0, 0, 0, 0, 0, 0, 0, 0, 0, 0, 0, 0, 0, 0, 0, 0, 0, 0, 0, 2, 0, 1, 0], type: <class 'list'>, valid types: <class 'bytes'>, <class 'bytearray'>, file-like object",
     "output_type": "error",
     "traceback": [
      "\u001b[0;31m---------------------------------------------------------------------------\u001b[0m",
      "\u001b[0;31mParamValidationError\u001b[0m                      Traceback (most recent call last)",
      "\u001b[0;32m<ipython-input-45-c9ab54ae3a48>\u001b[0m in \u001b[0;36m<module>\u001b[0;34m\u001b[0m\n\u001b[1;32m      1\u001b[0m response = runtime.invoke_endpoint(EndpointName = xgb_predictor.endpoint, # The name of the endpoint we created\n\u001b[1;32m      2\u001b[0m                                        \u001b[0mContentType\u001b[0m \u001b[0;34m=\u001b[0m \u001b[0;34m'text/csv'\u001b[0m\u001b[0;34m,\u001b[0m                     \u001b[0;31m# The data format that is expected\u001b[0m\u001b[0;34m\u001b[0m\u001b[0;34m\u001b[0m\u001b[0m\n\u001b[0;32m----> 3\u001b[0;31m                                        Body = test_bow)\n\u001b[0m",
      "\u001b[0;32m~/anaconda3/envs/amazonei_mxnet_p36/lib/python3.6/site-packages/botocore/client.py\u001b[0m in \u001b[0;36m_api_call\u001b[0;34m(self, *args, **kwargs)\u001b[0m\n\u001b[1;32m    355\u001b[0m                     \"%s() only accepts keyword arguments.\" % py_operation_name)\n\u001b[1;32m    356\u001b[0m             \u001b[0;31m# The \"self\" in this scope is referring to the BaseClient.\u001b[0m\u001b[0;34m\u001b[0m\u001b[0;34m\u001b[0m\u001b[0;34m\u001b[0m\u001b[0m\n\u001b[0;32m--> 357\u001b[0;31m             \u001b[0;32mreturn\u001b[0m \u001b[0mself\u001b[0m\u001b[0;34m.\u001b[0m\u001b[0m_make_api_call\u001b[0m\u001b[0;34m(\u001b[0m\u001b[0moperation_name\u001b[0m\u001b[0;34m,\u001b[0m \u001b[0mkwargs\u001b[0m\u001b[0;34m)\u001b[0m\u001b[0;34m\u001b[0m\u001b[0;34m\u001b[0m\u001b[0m\n\u001b[0m\u001b[1;32m    358\u001b[0m \u001b[0;34m\u001b[0m\u001b[0m\n\u001b[1;32m    359\u001b[0m         \u001b[0m_api_call\u001b[0m\u001b[0;34m.\u001b[0m\u001b[0m__name__\u001b[0m \u001b[0;34m=\u001b[0m \u001b[0mstr\u001b[0m\u001b[0;34m(\u001b[0m\u001b[0mpy_operation_name\u001b[0m\u001b[0;34m)\u001b[0m\u001b[0;34m\u001b[0m\u001b[0;34m\u001b[0m\u001b[0m\n",
      "\u001b[0;32m~/anaconda3/envs/amazonei_mxnet_p36/lib/python3.6/site-packages/botocore/client.py\u001b[0m in \u001b[0;36m_make_api_call\u001b[0;34m(self, operation_name, api_params)\u001b[0m\n\u001b[1;32m    647\u001b[0m         }\n\u001b[1;32m    648\u001b[0m         request_dict = self._convert_to_request_dict(\n\u001b[0;32m--> 649\u001b[0;31m             api_params, operation_model, context=request_context)\n\u001b[0m\u001b[1;32m    650\u001b[0m \u001b[0;34m\u001b[0m\u001b[0m\n\u001b[1;32m    651\u001b[0m         \u001b[0mservice_id\u001b[0m \u001b[0;34m=\u001b[0m \u001b[0mself\u001b[0m\u001b[0;34m.\u001b[0m\u001b[0m_service_model\u001b[0m\u001b[0;34m.\u001b[0m\u001b[0mservice_id\u001b[0m\u001b[0;34m.\u001b[0m\u001b[0mhyphenize\u001b[0m\u001b[0;34m(\u001b[0m\u001b[0;34m)\u001b[0m\u001b[0;34m\u001b[0m\u001b[0;34m\u001b[0m\u001b[0m\n",
      "\u001b[0;32m~/anaconda3/envs/amazonei_mxnet_p36/lib/python3.6/site-packages/botocore/client.py\u001b[0m in \u001b[0;36m_convert_to_request_dict\u001b[0;34m(self, api_params, operation_model, context)\u001b[0m\n\u001b[1;32m    695\u001b[0m             api_params, operation_model, context)\n\u001b[1;32m    696\u001b[0m         request_dict = self._serializer.serialize_to_request(\n\u001b[0;32m--> 697\u001b[0;31m             api_params, operation_model)\n\u001b[0m\u001b[1;32m    698\u001b[0m         \u001b[0;32mif\u001b[0m \u001b[0;32mnot\u001b[0m \u001b[0mself\u001b[0m\u001b[0;34m.\u001b[0m\u001b[0m_client_config\u001b[0m\u001b[0;34m.\u001b[0m\u001b[0minject_host_prefix\u001b[0m\u001b[0;34m:\u001b[0m\u001b[0;34m\u001b[0m\u001b[0;34m\u001b[0m\u001b[0m\n\u001b[1;32m    699\u001b[0m             \u001b[0mrequest_dict\u001b[0m\u001b[0;34m.\u001b[0m\u001b[0mpop\u001b[0m\u001b[0;34m(\u001b[0m\u001b[0;34m'host_prefix'\u001b[0m\u001b[0;34m,\u001b[0m \u001b[0;32mNone\u001b[0m\u001b[0;34m)\u001b[0m\u001b[0;34m\u001b[0m\u001b[0;34m\u001b[0m\u001b[0m\n",
      "\u001b[0;32m~/anaconda3/envs/amazonei_mxnet_p36/lib/python3.6/site-packages/botocore/validate.py\u001b[0m in \u001b[0;36mserialize_to_request\u001b[0;34m(self, parameters, operation_model)\u001b[0m\n\u001b[1;32m    291\u001b[0m                                                     operation_model.input_shape)\n\u001b[1;32m    292\u001b[0m             \u001b[0;32mif\u001b[0m \u001b[0mreport\u001b[0m\u001b[0;34m.\u001b[0m\u001b[0mhas_errors\u001b[0m\u001b[0;34m(\u001b[0m\u001b[0;34m)\u001b[0m\u001b[0;34m:\u001b[0m\u001b[0;34m\u001b[0m\u001b[0;34m\u001b[0m\u001b[0m\n\u001b[0;32m--> 293\u001b[0;31m                 \u001b[0;32mraise\u001b[0m \u001b[0mParamValidationError\u001b[0m\u001b[0;34m(\u001b[0m\u001b[0mreport\u001b[0m\u001b[0;34m=\u001b[0m\u001b[0mreport\u001b[0m\u001b[0;34m.\u001b[0m\u001b[0mgenerate_report\u001b[0m\u001b[0;34m(\u001b[0m\u001b[0;34m)\u001b[0m\u001b[0;34m)\u001b[0m\u001b[0;34m\u001b[0m\u001b[0;34m\u001b[0m\u001b[0m\n\u001b[0m\u001b[1;32m    294\u001b[0m         return self._serializer.serialize_to_request(parameters,\n\u001b[1;32m    295\u001b[0m                                                      operation_model)\n",
      "\u001b[0;31mParamValidationError\u001b[0m: Parameter validation failed:\nInvalid type for parameter Body, value: [0, 0, 0, 0, 0, 0, 0, 0, 0, 0, 0, 0, 0, 0, 0, 0, 0, 0, 0, 0, 0, 0, 0, 0, 0, 0, 0, 0, 0, 0, 0, 0, 0, 0, 0, 0, 0, 0, 0, 0, 0, 0, 0, 0, 0, 0, 0, 0, 0, 0, 0, 0, 0, 0, 0, 0, 0, 0, 0, 0, 0, 0, 0, 0, 0, 0, 0, 0, 0, 0, 0, 0, 0, 0, 0, 0, 0, 0, 0, 0, 0, 0, 0, 0, 0, 0, 0, 0, 0, 0, 0, 0, 0, 0, 0, 0, 0, 0, 0, 0, 0, 0, 0, 0, 0, 0, 0, 0, 0, 0, 0, 0, 0, 0, 0, 0, 0, 0, 0, 0, 0, 0, 0, 0, 0, 0, 0, 0, 0, 0, 0, 0, 0, 0, 0, 0, 0, 0, 0, 0, 0, 0, 0, 0, 0, 0, 0, 0, 0, 0, 0, 0, 0, 0, 0, 0, 0, 0, 0, 0, 0, 0, 0, 0, 0, 0, 0, 0, 0, 0, 0, 0, 0, 0, 0, 0, 0, 0, 0, 0, 0, 0, 0, 0, 0, 0, 0, 0, 0, 0, 0, 0, 0, 0, 0, 0, 0, 0, 0, 0, 0, 0, 0, 0, 0, 0, 0, 0, 0, 0, 0, 0, 0, 0, 0, 0, 0, 0, 0, 0, 0, 0, 0, 0, 0, 0, 1, 0, 0, 0, 0, 0, 0, 0, 0, 0, 0, 0, 0, 0, 0, 0, 0, 0, 0, 0, 0, 0, 0, 0, 0, 0, 0, 0, 0, 0, 1, 0, 0, 0, 0, 0, 0, 0, 0, 0, 0, 0, 0, 0, 0, 0, 0, 0, 0, 0, 0, 0, 0, 0, 0, 0, 0, 0, 0, 0, 0, 0, 0, 0, 0, 0, 0, 0, 0, 0, 0, 0, 0, 0, 0, 0, 0, 0, 0, 0, 0, 0, 0, 0, 0, 0, 0, 0, 0, 0, 0, 0, 0, 0, 0, 0, 0, 0, 0, 0, 0, 0, 0, 0, 0, 0, 0, 0, 0, 0, 0, 0, 0, 0, 0, 0, 0, 0, 0, 0, 0, 0, 0, 0, 0, 0, 0, 0, 0, 0, 0, 0, 0, 0, 0, 0, 0, 0, 0, 0, 0, 0, 0, 0, 0, 0, 0, 0, 0, 0, 0, 0, 0, 0, 0, 0, 0, 0, 0, 0, 0, 0, 0, 0, 0, 0, 0, 0, 0, 0, 0, 0, 0, 0, 0, 0, 0, 0, 0, 0, 0, 0, 0, 0, 0, 0, 0, 0, 0, 0, 0, 0, 0, 0, 0, 0, 0, 0, 0, 0, 0, 0, 0, 0, 0, 0, 0, 0, 0, 0, 0, 0, 0, 0, 0, 0, 0, 0, 0, 0, 0, 0, 0, 0, 0, 0, 0, 0, 0, 0, 0, 0, 0, 0, 0, 0, 0, 0, 0, 0, 0, 0, 0, 0, 0, 0, 0, 0, 0, 0, 0, 0, 0, 0, 0, 0, 0, 0, 0, 0, 0, 0, 0, 0, 0, 0, 0, 0, 0, 0, 0, 0, 0, 0, 0, 0, 0, 0, 0, 0, 0, 0, 0, 0, 0, 0, 0, 0, 0, 0, 0, 0, 0, 0, 0, 0, 0, 0, 0, 0, 0, 0, 0, 0, 0, 0, 0, 0, 0, 0, 0, 0, 0, 0, 0, 0, 0, 0, 0, 0, 0, 0, 0, 0, 0, 0, 0, 0, 0, 0, 0, 0, 0, 0, 0, 0, 0, 0, 0, 0, 0, 0, 0, 0, 0, 0, 0, 0, 0, 0, 0, 0, 0, 0, 0, 0, 0, 0, 0, 0, 0, 0, 0, 0, 0, 0, 0, 0, 0, 0, 0, 0, 0, 0, 0, 0, 0, 0, 0, 0, 0, 0, 0, 0, 0, 0, 0, 0, 0, 0, 0, 0, 0, 0, 0, 0, 0, 0, 0, 0, 0, 0, 0, 0, 0, 0, 0, 0, 0, 0, 1, 0, 0, 0, 0, 0, 0, 0, 0, 0, 0, 0, 0, 0, 0, 0, 0, 0, 0, 0, 0, 0, 0, 0, 0, 0, 0, 0, 0, 0, 0, 0, 0, 0, 0, 0, 0, 0, 0, 0, 0, 0, 0, 0, 0, 0, 0, 0, 0, 0, 0, 0, 0, 0, 0, 0, 0, 0, 0, 0, 0, 0, 0, 0, 0, 0, 0, 0, 0, 0, 0, 0, 0, 0, 0, 0, 0, 0, 0, 0, 0, 0, 0, 0, 0, 0, 0, 0, 0, 0, 0, 0, 0, 0, 0, 0, 0, 0, 0, 0, 0, 0, 0, 0, 0, 0, 0, 0, 0, 0, 0, 0, 0, 0, 0, 0, 0, 0, 0, 0, 0, 0, 0, 0, 0, 0, 0, 0, 0, 0, 0, 0, 0, 0, 0, 0, 0, 0, 0, 0, 0, 0, 0, 0, 0, 0, 0, 0, 0, 0, 0, 0, 0, 0, 0, 0, 0, 0, 0, 0, 0, 0, 0, 0, 0, 0, 0, 0, 0, 0, 0, 0, 0, 0, 0, 0, 0, 0, 0, 0, 0, 0, 0, 0, 0, 0, 0, 0, 0, 0, 0, 0, 0, 0, 0, 0, 0, 0, 0, 0, 0, 0, 0, 0, 0, 0, 0, 0, 0, 0, 0, 0, 0, 0, 0, 0, 0, 0, 0, 0, 0, 0, 0, 0, 0, 0, 0, 0, 0, 0, 0, 0, 0, 0, 0, 0, 0, 0, 0, 0, 0, 0, 0, 0, 0, 0, 0, 0, 0, 0, 0, 0, 0, 0, 1, 0, 0, 0, 0, 0, 0, 0, 0, 0, 0, 0, 0, 0, 0, 0, 0, 0, 0, 0, 0, 0, 0, 0, 0, 0, 0, 0, 0, 0, 0, 0, 0, 0, 0, 0, 0, 0, 0, 0, 0, 0, 0, 0, 0, 0, 0, 0, 0, 0, 0, 0, 0, 0, 0, 0, 0, 0, 0, 0, 0, 0, 0, 0, 0, 0, 0, 0, 0, 0, 0, 0, 0, 0, 0, 0, 0, 0, 0, 0, 0, 0, 0, 0, 0, 0, 0, 1, 0, 0, 0, 0, 0, 0, 0, 0, 0, 0, 0, 0, 0, 0, 0, 0, 0, 0, 0, 0, 0, 0, 0, 0, 0, 0, 0, 0, 0, 0, 0, 0, 0, 0, 0, 0, 0, 0, 0, 0, 0, 0, 0, 0, 0, 0, 0, 0, 0, 0, 0, 0, 0, 0, 0, 0, 0, 0, 0, 0, 0, 0, 0, 0, 0, 0, 0, 0, 0, 0, 0, 0, 0, 0, 0, 0, 0, 0, 0, 0, 0, 0, 0, 0, 0, 0, 0, 0, 0, 0, 0, 0, 0, 0, 0, 0, 0, 0, 0, 0, 0, 0, 0, 0, 0, 0, 0, 0, 0, 0, 0, 0, 0, 0, 0, 0, 0, 0, 0, 0, 0, 0, 0, 0, 0, 0, 0, 0, 0, 0, 0, 0, 0, 0, 0, 0, 0, 0, 0, 0, 0, 0, 0, 0, 0, 0, 0, 0, 0, 0, 0, 0, 0, 0, 0, 0, 0, 0, 0, 0, 0, 0, 0, 0, 0, 0, 0, 0, 0, 0, 0, 0, 0, 0, 0, 0, 0, 0, 0, 0, 0, 0, 0, 0, 0, 0, 0, 0, 0, 0, 0, 0, 0, 0, 0, 0, 0, 0, 0, 0, 0, 0, 0, 0, 0, 0, 0, 0, 0, 0, 0, 0, 0, 0, 0, 0, 0, 0, 0, 0, 0, 0, 0, 0, 0, 0, 0, 0, 0, 0, 0, 0, 0, 0, 0, 0, 0, 0, 0, 0, 0, 0, 0, 0, 0, 0, 0, 0, 0, 0, 0, 0, 1, 0, 0, 0, 0, 0, 0, 0, 0, 0, 0, 0, 0, 0, 0, 0, 0, 0, 0, 0, 0, 0, 0, 0, 0, 0, 0, 0, 0, 0, 0, 0, 0, 0, 0, 0, 0, 0, 0, 0, 0, 0, 0, 0, 0, 0, 0, 0, 0, 0, 0, 0, 0, 0, 0, 0, 1, 0, 0, 0, 0, 0, 0, 0, 0, 0, 0, 0, 0, 0, 0, 0, 0, 0, 0, 0, 0, 0, 0, 0, 0, 0, 0, 0, 0, 0, 0, 0, 0, 0, 0, 0, 0, 0, 0, 0, 0, 0, 0, 0, 0, 0, 0, 0, 0, 0, 0, 0, 0, 0, 0, 0, 0, 0, 0, 0, 0, 0, 0, 0, 0, 0, 0, 0, 0, 0, 0, 0, 0, 0, 0, 0, 0, 0, 0, 0, 0, 0, 0, 0, 0, 0, 0, 0, 0, 0, 0, 0, 0, 0, 0, 0, 0, 0, 0, 0, 0, 0, 0, 0, 0, 0, 0, 0, 0, 0, 0, 0, 0, 0, 0, 0, 0, 0, 0, 0, 0, 0, 0, 0, 0, 0, 0, 0, 0, 0, 0, 0, 0, 0, 0, 0, 0, 0, 0, 0, 0, 0, 0, 0, 0, 0, 0, 0, 0, 0, 0, 0, 0, 0, 0, 0, 0, 0, 0, 0, 0, 0, 0, 0, 0, 0, 0, 0, 0, 0, 0, 0, 0, 0, 0, 0, 0, 0, 0, 0, 0, 0, 0, 0, 0, 0, 0, 0, 0, 0, 0, 0, 0, 0, 0, 0, 0, 0, 0, 0, 0, 0, 0, 0, 0, 0, 0, 0, 0, 0, 0, 0, 0, 0, 0, 0, 0, 0, 0, 0, 0, 0, 0, 0, 0, 0, 0, 0, 0, 0, 0, 0, 0, 0, 0, 0, 0, 0, 0, 0, 0, 0, 0, 0, 0, 0, 0, 0, 0, 0, 0, 0, 0, 0, 0, 0, 0, 0, 0, 0, 0, 0, 0, 0, 0, 0, 0, 0, 0, 0, 0, 0, 0, 0, 0, 0, 0, 0, 0, 0, 0, 0, 0, 0, 0, 0, 0, 0, 0, 0, 0, 0, 0, 0, 0, 0, 0, 0, 0, 0, 0, 0, 0, 0, 0, 0, 0, 0, 0, 0, 0, 0, 0, 0, 0, 0, 0, 0, 0, 0, 0, 0, 0, 0, 0, 0, 0, 0, 0, 0, 0, 0, 0, 0, 0, 0, 0, 0, 0, 0, 0, 0, 0, 0, 0, 0, 0, 0, 0, 0, 0, 0, 0, 0, 0, 0, 0, 0, 0, 0, 0, 0, 0, 0, 0, 0, 0, 0, 0, 0, 0, 0, 0, 0, 0, 0, 0, 0, 0, 0, 0, 0, 0, 0, 0, 0, 0, 0, 0, 0, 0, 0, 0, 0, 0, 0, 0, 0, 0, 0, 0, 0, 0, 0, 0, 0, 0, 0, 0, 0, 0, 0, 0, 0, 0, 0, 0, 0, 0, 0, 0, 0, 0, 0, 0, 0, 0, 0, 0, 0, 0, 0, 0, 0, 0, 0, 0, 0, 0, 0, 0, 0, 0, 0, 0, 0, 0, 0, 0, 0, 0, 0, 0, 0, 0, 0, 0, 0, 0, 0, 0, 0, 0, 0, 0, 0, 0, 0, 0, 0, 0, 0, 0, 0, 0, 0, 0, 0, 0, 0, 0, 0, 0, 0, 0, 0, 0, 0, 0, 0, 0, 0, 0, 0, 0, 0, 0, 0, 0, 0, 0, 0, 0, 0, 0, 0, 0, 0, 0, 0, 0, 0, 0, 0, 0, 0, 0, 0, 0, 0, 0, 0, 0, 0, 0, 0, 0, 0, 0, 0, 0, 0, 0, 0, 0, 0, 0, 0, 0, 0, 0, 0, 0, 0, 0, 0, 0, 0, 0, 0, 0, 0, 0, 0, 0, 0, 0, 0, 0, 0, 0, 0, 0, 0, 0, 0, 0, 0, 0, 0, 0, 0, 0, 0, 0, 0, 0, 0, 0, 0, 0, 0, 0, 0, 0, 0, 0, 0, 0, 0, 0, 0, 0, 0, 0, 0, 0, 0, 0, 0, 0, 0, 0, 0, 0, 0, 0, 0, 0, 0, 0, 0, 0, 0, 0, 0, 0, 0, 0, 0, 0, 0, 0, 0, 0, 0, 0, 0, 0, 0, 0, 0, 0, 0, 0, 0, 0, 0, 0, 0, 0, 0, 0, 0, 0, 0, 0, 0, 0, 0, 0, 0, 0, 0, 0, 0, 0, 0, 0, 0, 0, 0, 0, 0, 0, 0, 0, 0, 0, 0, 0, 0, 0, 0, 0, 0, 0, 0, 0, 0, 0, 0, 1, 0, 0, 0, 0, 0, 0, 0, 0, 0, 0, 0, 0, 0, 0, 0, 0, 0, 0, 0, 0, 0, 0, 0, 0, 0, 0, 0, 0, 0, 0, 0, 0, 0, 0, 0, 0, 0, 0, 0, 0, 0, 0, 0, 0, 0, 0, 0, 0, 0, 0, 0, 0, 0, 0, 0, 0, 0, 0, 0, 0, 0, 0, 0, 0, 0, 0, 0, 0, 0, 0, 0, 0, 0, 0, 1, 0, 0, 0, 0, 0, 0, 0, 0, 0, 0, 0, 0, 0, 0, 0, 0, 0, 0, 0, 0, 1, 0, 0, 1, 0, 0, 0, 0, 0, 0, 0, 0, 0, 0, 0, 0, 0, 0, 0, 0, 0, 0, 0, 0, 0, 0, 0, 0, 0, 0, 0, 0, 0, 0, 0, 0, 0, 0, 0, 0, 0, 0, 0, 0, 0, 0, 0, 0, 0, 0, 0, 0, 0, 0, 0, 0, 0, 0, 0, 0, 0, 0, 0, 0, 0, 0, 0, 0, 0, 0, 0, 0, 0, 0, 0, 0, 0, 0, 0, 0, 0, 0, 0, 0, 0, 0, 0, 0, 0, 0, 0, 0, 0, 0, 0, 0, 0, 0, 0, 0, 0, 0, 0, 0, 0, 0, 0, 0, 0, 0, 0, 0, 0, 0, 0, 0, 0, 0, 0, 0, 0, 0, 0, 0, 0, 0, 0, 0, 0, 0, 0, 0, 0, 0, 0, 0, 0, 0, 0, 0, 0, 0, 0, 0, 0, 0, 0, 0, 0, 0, 0, 0, 0, 0, 0, 0, 0, 0, 0, 0, 0, 0, 0, 0, 0, 0, 0, 0, 0, 0, 0, 0, 0, 0, 0, 0, 0, 0, 0, 0, 0, 0, 0, 0, 0, 0, 0, 0, 0, 0, 0, 0, 0, 0, 0, 0, 0, 0, 0, 0, 0, 0, 0, 0, 0, 0, 0, 0, 0, 0, 0, 0, 0, 0, 0, 0, 0, 0, 0, 0, 0, 0, 0, 0, 0, 0, 0, 0, 0, 0, 0, 0, 0, 0, 0, 0, 0, 0, 0, 0, 0, 0, 0, 0, 0, 0, 0, 0, 0, 0, 0, 0, 0, 0, 0, 0, 0, 0, 0, 0, 0, 0, 0, 0, 0, 0, 0, 0, 0, 0, 0, 0, 0, 0, 0, 0, 0, 0, 0, 0, 0, 0, 0, 0, 0, 0, 0, 0, 0, 0, 0, 0, 0, 0, 0, 0, 0, 0, 0, 0, 0, 0, 0, 0, 0, 0, 0, 0, 0, 0, 0, 0, 0, 0, 0, 0, 0, 0, 0, 0, 0, 0, 0, 0, 0, 0, 0, 0, 0, 0, 0, 0, 0, 0, 0, 0, 0, 0, 0, 0, 0, 0, 0, 0, 0, 0, 0, 0, 0, 0, 0, 0, 0, 0, 0, 0, 0, 0, 0, 0, 0, 0, 0, 0, 0, 0, 0, 0, 0, 0, 0, 0, 0, 0, 0, 0, 0, 0, 0, 0, 0, 0, 0, 0, 0, 0, 0, 0, 0, 0, 0, 0, 0, 0, 0, 0, 0, 0, 0, 0, 0, 0, 0, 0, 0, 0, 0, 0, 0, 0, 0, 0, 0, 0, 0, 0, 0, 0, 0, 0, 0, 0, 0, 0, 0, 0, 0, 0, 0, 0, 0, 0, 0, 0, 0, 0, 0, 0, 0, 0, 0, 0, 0, 0, 0, 0, 0, 0, 0, 0, 0, 0, 0, 0, 0, 0, 0, 0, 0, 0, 0, 0, 0, 0, 0, 0, 0, 0, 0, 0, 1, 0, 0, 0, 0, 0, 0, 0, 0, 0, 0, 0, 0, 0, 0, 0, 0, 0, 0, 0, 0, 0, 0, 0, 0, 0, 0, 0, 0, 0, 0, 0, 0, 0, 0, 0, 0, 0, 0, 0, 0, 0, 0, 0, 0, 0, 0, 0, 0, 0, 0, 0, 0, 0, 0, 0, 0, 0, 0, 0, 0, 0, 0, 0, 0, 0, 0, 0, 0, 0, 0, 0, 0, 0, 0, 0, 0, 0, 0, 0, 0, 0, 0, 0, 0, 0, 0, 0, 0, 0, 0, 0, 0, 0, 0, 0, 0, 0, 0, 0, 0, 0, 0, 0, 0, 0, 0, 0, 0, 0, 0, 0, 0, 0, 0, 0, 0, 0, 0, 0, 0, 0, 0, 0, 0, 0, 0, 0, 0, 0, 0, 0, 0, 0, 0, 0, 0, 0, 0, 0, 0, 0, 0, 0, 0, 0, 0, 0, 0, 0, 0, 0, 0, 0, 0, 0, 0, 0, 0, 0, 0, 0, 0, 0, 0, 0, 0, 0, 0, 0, 0, 0, 0, 0, 0, 0, 0, 0, 0, 0, 0, 0, 0, 0, 0, 0, 0, 0, 0, 0, 0, 0, 0, 0, 0, 0, 0, 0, 0, 0, 0, 0, 0, 0, 0, 0, 0, 0, 0, 0, 0, 0, 0, 0, 0, 0, 0, 0, 0, 0, 0, 0, 0, 0, 0, 0, 0, 0, 0, 0, 0, 0, 0, 0, 0, 0, 0, 0, 0, 0, 0, 0, 0, 0, 0, 0, 0, 0, 0, 0, 0, 0, 0, 0, 0, 0, 0, 0, 0, 0, 0, 0, 0, 0, 0, 0, 0, 0, 0, 0, 0, 0, 0, 0, 0, 0, 0, 0, 0, 0, 0, 0, 0, 0, 0, 0, 0, 0, 0, 0, 0, 0, 0, 0, 0, 0, 0, 0, 0, 0, 0, 0, 0, 0, 0, 0, 0, 0, 0, 0, 0, 0, 0, 0, 0, 0, 0, 0, 0, 0, 0, 0, 0, 0, 0, 0, 0, 0, 0, 0, 0, 0, 0, 0, 0, 0, 0, 0, 0, 0, 0, 0, 0, 0, 0, 0, 0, 0, 0, 0, 0, 0, 0, 0, 0, 0, 0, 0, 0, 0, 0, 0, 0, 0, 0, 0, 0, 0, 0, 0, 0, 0, 0, 0, 0, 0, 0, 0, 0, 0, 0, 0, 0, 0, 0, 0, 0, 0, 0, 0, 0, 0, 0, 0, 0, 0, 0, 0, 0, 0, 0, 0, 0, 0, 0, 0, 0, 0, 0, 0, 0, 0, 0, 0, 0, 0, 0, 0, 0, 0, 0, 0, 0, 0, 0, 0, 0, 0, 0, 0, 0, 0, 0, 0, 0, 0, 0, 0, 0, 0, 0, 0, 0, 0, 0, 0, 0, 0, 0, 0, 0, 0, 0, 0, 0, 0, 0, 0, 0, 0, 0, 0, 0, 0, 0, 0, 0, 0, 0, 0, 0, 0, 0, 0, 0, 0, 0, 0, 0, 0, 0, 0, 0, 0, 0, 0, 0, 0, 0, 0, 0, 0, 0, 0, 0, 0, 0, 0, 0, 0, 0, 0, 0, 0, 0, 0, 0, 0, 0, 0, 0, 0, 0, 1, 0, 0, 0, 0, 0, 0, 0, 0, 0, 0, 0, 0, 0, 0, 0, 0, 0, 0, 0, 0, 0, 0, 0, 0, 0, 0, 0, 0, 0, 0, 0, 0, 0, 0, 0, 2, 0, 0, 0, 0, 0, 0, 0, 0, 0, 0, 0, 0, 0, 0, 0, 0, 0, 0, 0, 0, 0, 0, 0, 0, 0, 0, 0, 0, 0, 0, 0, 0, 0, 0, 0, 0, 0, 0, 0, 0, 1, 0, 0, 0, 0, 0, 0, 0, 0, 0, 0, 0, 0, 0, 0, 0, 0, 0, 0, 0, 0, 0, 0, 0, 0, 0, 0, 0, 0, 0, 0, 0, 0, 0, 0, 0, 0, 0, 0, 0, 0, 0, 0, 0, 0, 0, 0, 0, 0, 0, 0, 0, 0, 0, 0, 0, 0, 0, 0, 0, 0, 0, 0, 0, 0, 0, 0, 0, 0, 0, 0, 0, 0, 0, 0, 0, 0, 0, 0, 0, 0, 0, 0, 0, 0, 0, 0, 0, 0, 0, 0, 0, 0, 0, 0, 0, 0, 0, 0, 0, 0, 0, 0, 0, 0, 0, 0, 0, 0, 0, 0, 0, 0, 0, 0, 0, 0, 0, 0, 0, 0, 0, 0, 0, 0, 0, 0, 0, 0, 0, 0, 0, 0, 0, 0, 0, 0, 0, 0, 0, 0, 0, 0, 0, 0, 0, 0, 0, 0, 0, 0, 0, 0, 0, 0, 0, 0, 0, 0, 0, 0, 0, 0, 0, 0, 0, 0, 0, 0, 0, 0, 0, 0, 0, 0, 0, 0, 0, 0, 0, 0, 0, 0, 0, 0, 0, 0, 0, 0, 0, 0, 0, 0, 0, 0, 0, 0, 0, 0, 0, 0, 0, 0, 0, 0, 0, 0, 0, 0, 0, 0, 0, 0, 0, 0, 0, 0, 0, 0, 0, 0, 0, 0, 0, 0, 0, 0, 0, 0, 0, 0, 0, 0, 0, 0, 0, 0, 0, 0, 0, 0, 0, 0, 0, 0, 0, 0, 0, 0, 0, 0, 0, 0, 0, 0, 0, 0, 0, 0, 0, 0, 0, 0, 0, 0, 0, 0, 0, 0, 0, 0, 0, 0, 0, 0, 0, 0, 0, 0, 0, 0, 0, 0, 0, 0, 0, 0, 0, 0, 0, 0, 0, 0, 0, 0, 0, 0, 0, 0, 0, 0, 0, 0, 0, 0, 0, 0, 0, 0, 0, 0, 0, 0, 0, 0, 0, 0, 0, 0, 0, 0, 0, 0, 0, 0, 0, 0, 0, 0, 0, 0, 0, 0, 0, 0, 0, 0, 0, 0, 0, 0, 0, 0, 0, 0, 0, 0, 0, 0, 0, 0, 0, 0, 0, 0, 0, 0, 0, 0, 0, 0, 0, 0, 0, 0, 0, 0, 0, 0, 0, 0, 0, 0, 0, 0, 0, 0, 0, 0, 0, 0, 0, 0, 0, 0, 0, 0, 0, 0, 0, 0, 0, 0, 0, 0, 0, 0, 0, 0, 0, 0, 0, 0, 0, 0, 0, 0, 0, 0, 0, 0, 0, 0, 0, 0, 0, 0, 0, 0, 0, 0, 0, 0, 0, 0, 0, 0, 0, 0, 0, 0, 0, 0, 0, 0, 0, 0, 0, 0, 0, 0, 0, 0, 0, 0, 0, 0, 0, 0, 0, 0, 0, 0, 0, 0, 0, 0, 0, 0, 0, 0, 0, 0, 0, 0, 0, 0, 0, 0, 0, 0, 0, 0, 0, 0, 0, 0, 0, 0, 0, 0, 0, 0, 0, 0, 0, 0, 0, 0, 0, 0, 0, 0, 0, 0, 0, 0, 0, 1, 0, 0, 0, 0, 0, 0, 0, 0, 0, 0, 0, 0, 0, 0, 0, 0, 0, 0, 0, 0, 0, 0, 0, 0, 0, 0, 0, 0, 0, 0, 0, 0, 0, 0, 0, 0, 0, 0, 0, 0, 0, 0, 0, 0, 0, 0, 0, 0, 0, 0, 0, 0, 0, 0, 0, 0, 0, 0, 0, 0, 0, 0, 0, 0, 0, 0, 0, 0, 0, 0, 0, 0, 0, 0, 0, 0, 0, 0, 0, 0, 0, 0, 0, 0, 0, 0, 0, 0, 0, 0, 0, 0, 0, 0, 0, 0, 0, 0, 0, 0, 0, 0, 0, 0, 0, 0, 0, 0, 0, 0, 2, 0, 0, 0, 0, 0, 0, 0, 0, 0, 0, 0, 0, 0, 0, 0, 0, 0, 0, 0, 0, 0, 0, 0, 0, 0, 0, 0, 0, 0, 0, 0, 0, 0, 0, 0, 0, 0, 0, 0, 0, 0, 0, 0, 0, 0, 0, 0, 0, 0, 0, 0, 0, 0, 0, 0, 0, 0, 0, 0, 0, 0, 0, 0, 0, 0, 0, 0, 0, 0, 0, 0, 0, 0, 0, 0, 0, 0, 0, 0, 0, 0, 0, 0, 0, 0, 0, 0, 0, 0, 0, 0, 0, 0, 0, 0, 0, 0, 0, 0, 0, 0, 0, 0, 0, 0, 0, 0, 0, 0, 0, 0, 0, 0, 0, 0, 0, 0, 0, 0, 0, 0, 0, 0, 0, 0, 0, 0, 0, 0, 0, 0, 0, 0, 0, 0, 0, 0, 0, 0, 0, 0, 0, 0, 0, 0, 0, 0, 0, 0, 0, 0, 0, 0, 0, 0, 0, 0, 0, 0, 0, 0, 0, 0, 0, 0, 0, 0, 0, 0, 0, 0, 0, 0, 0, 0, 0, 0, 0, 0, 0, 0, 0, 0, 0, 0, 0, 0, 0, 0, 0, 0, 0, 0, 0, 0, 0, 0, 0, 0, 0, 0, 0, 0, 0, 0, 0, 0, 0, 0, 0, 0, 0, 0, 0, 0, 0, 0, 0, 0, 0, 0, 0, 0, 0, 0, 0, 0, 0, 0, 0, 0, 0, 0, 0, 0, 0, 0, 0, 0, 0, 0, 0, 0, 0, 0, 0, 0, 0, 0, 0, 0, 0, 0, 0, 0, 0, 0, 0, 0, 0, 0, 0, 0, 0, 0, 0, 0, 0, 0, 0, 0, 0, 0, 0, 0, 0, 0, 0, 0, 0, 0, 0, 0, 0, 0, 0, 0, 0, 0, 0, 0, 0, 0, 0, 0, 0, 0, 0, 0, 0, 0, 0, 0, 0, 0, 0, 0, 0, 0, 0, 0, 0, 0, 0, 0, 0, 0, 0, 0, 0, 0, 0, 0, 0, 0, 0, 0, 0, 0, 0, 0, 0, 0, 0, 0, 0, 0, 0, 0, 0, 0, 0, 0, 0, 0, 0, 0, 0, 0, 0, 0, 0, 0, 0, 0, 0, 0, 0, 0, 0, 0, 0, 0, 0, 0, 0, 0, 0, 0, 0, 0, 0, 0, 0, 0, 0, 0, 0, 0, 0, 0, 0, 0, 0, 0, 0, 0, 0, 0, 0, 0, 0, 0, 0, 0, 0, 0, 0, 0, 0, 0, 0, 0, 0, 0, 0, 0, 0, 0, 0, 0, 0, 0, 0, 0, 0, 0, 0, 0, 0, 0, 0, 0, 0, 0, 0, 0, 0, 0, 0, 0, 0, 0, 0, 0, 0, 0, 0, 0, 0, 0, 0, 0, 0, 0, 0, 0, 0, 0, 0, 0, 0, 0, 0, 0, 0, 0, 0, 0, 0, 0, 0, 0, 0, 0, 0, 0, 0, 0, 0, 0, 0, 0, 0, 0, 0, 0, 0, 0, 0, 0, 0, 0, 0, 0, 0, 0, 0, 0, 0, 0, 0, 0, 0, 0, 0, 0, 0, 0, 0, 0, 0, 0, 0, 0, 0, 0, 0, 0, 0, 0, 0, 0, 0, 0, 0, 0, 0, 0, 0, 0, 0, 0, 0, 0, 0, 0, 0, 0, 0, 0, 0, 0, 0, 0, 0, 0, 0, 0, 0, 0, 0, 0, 0, 0, 0, 0, 0, 0, 0, 0, 0, 0, 0, 0, 0, 0, 0, 0, 0, 0, 0, 0, 0, 0, 0, 0, 0, 0, 0, 0, 0, 0, 0, 0, 0, 0, 0, 0, 0, 0, 0, 0, 0, 0, 0, 0, 0, 0, 0, 0, 0, 0, 0, 0, 0, 0, 0, 0, 0, 0, 0, 0, 0, 0, 0, 0, 0, 0, 0, 0, 0, 0, 0, 0, 0, 0, 0, 0, 0, 0, 0, 0, 0, 0, 0, 0, 0, 0, 0, 0, 0, 0, 0, 0, 0, 0, 0, 0, 0, 0, 0, 0, 0, 0, 0, 0, 0, 0, 0, 0, 0, 0, 0, 0, 0, 0, 0, 0, 0, 0, 0, 0, 0, 0, 0, 0, 0, 0, 0, 0, 0, 0, 0, 0, 0, 0, 0, 0, 0, 0, 0, 0, 0, 0, 0, 0, 0, 0, 0, 1, 0, 0, 0, 0, 0, 0, 0, 0, 0, 0, 0, 0, 0, 0, 0, 0, 0, 0, 0, 0, 0, 0, 0, 0, 0, 0, 0, 0, 0, 0, 0, 0, 0, 0, 0, 0, 0, 0, 0, 0, 0, 0, 0, 0, 0, 0, 0, 0, 0, 0, 0, 0, 0, 0, 0, 0, 0, 0, 0, 0, 0, 0, 0, 0, 0, 0, 0, 0, 0, 0, 0, 0, 0, 0, 0, 0, 0, 0, 0, 0, 0, 0, 0, 0, 0, 0, 0, 0, 0, 0, 0, 0, 0, 0, 0, 0, 0, 0, 0, 0, 0, 0, 0, 0, 0, 0, 0, 1, 0, 0, 0, 0, 0, 0, 0, 0, 0, 0, 0, 0, 0, 0, 0, 0, 0, 0, 0, 0, 0, 0, 0, 0, 0, 0, 0, 0, 0, 0, 0, 0, 0, 0, 0, 0, 0, 0, 0, 0, 0, 0, 0, 0, 0, 0, 0, 0, 0, 0, 0, 0, 0, 0, 0, 0, 0, 0, 0, 0, 0, 0, 0, 0, 0, 0, 0, 0, 0, 0, 0, 0, 0, 0, 0, 0, 0, 0, 0, 0, 0, 0, 0, 0, 0, 0, 0, 0, 0, 0, 0, 0, 0, 0, 0, 0, 0, 0, 0, 0, 0, 0, 0, 0, 0, 0, 0, 0, 0, 0, 0, 0, 0, 0, 0, 0, 0, 0, 0, 0, 0, 0, 0, 0, 0, 0, 0, 0, 0, 0, 0, 0, 0, 0, 0, 0, 0, 0, 0, 0, 0, 0, 0, 0, 0, 0, 0, 0, 0, 0, 0, 0, 0, 0, 0, 0, 0, 0, 0, 0, 0, 0, 0, 0, 0, 0, 0, 0, 0, 0, 0, 0, 0, 0, 0, 0, 0, 0, 0, 0, 0, 0, 0, 0, 0, 0, 0, 0, 0, 0, 0, 0, 0, 0, 0, 0, 0, 0, 0, 0, 0, 0, 0, 0, 0, 0, 0, 0, 0, 0, 0, 0, 0, 0, 0, 0, 0, 0, 0, 0, 0, 0, 0, 0, 0, 0, 0, 0, 0, 0, 0, 0, 0, 0, 0, 0, 0, 0, 0, 0, 0, 0, 0, 0, 0, 0, 0, 0, 0, 0, 0, 0, 0, 0, 0, 0, 0, 0, 0, 0, 0, 0, 0, 0, 0, 0, 0, 0, 0, 0, 0, 0, 0, 0, 0, 0, 0, 0, 0, 0, 0, 0, 0, 0, 0, 0, 0, 0, 0, 0, 0, 0, 0, 0, 0, 0, 0, 0, 0, 0, 0, 0, 0, 0, 0, 0, 0, 0, 0, 0, 0, 0, 0, 0, 0, 0, 0, 0, 0, 0, 0, 0, 0, 0, 0, 0, 0, 0, 0, 0, 0, 0, 0, 0, 0, 0, 0, 0, 0, 0, 0, 0, 0, 0, 0, 0, 0, 0, 0, 0, 0, 0, 0, 0, 0, 0, 0, 0, 0, 0, 0, 0, 0, 0, 0, 0, 0, 0, 0, 0, 0, 0, 0, 0, 0, 0, 0, 0, 0, 0, 0, 0, 0, 0, 0, 0, 0, 0, 0, 0, 0, 0, 0, 0, 0, 0, 0, 0, 0, 0, 0, 0, 0, 0, 0, 0, 0, 0, 0, 0, 0, 0, 0, 0, 0, 0, 0, 0, 0, 0, 0, 0, 0, 0, 0, 0, 0, 0, 0, 0, 0, 0, 0, 0, 0, 0, 0, 0, 0, 0, 0, 0, 0, 0, 0, 0, 0, 0, 0, 0, 0, 0, 0, 0, 0, 0, 0, 0, 0, 0, 0, 0, 0, 2, 0, 1, 0], type: <class 'list'>, valid types: <class 'bytes'>, <class 'bytearray'>, file-like object"
     ]
    }
   ],
   "source": [
    "response = runtime.invoke_endpoint(EndpointName = xgb_predictor.endpoint, # The name of the endpoint we created\n",
    "                                       ContentType = 'text/csv',                     # The data format that is expected\n",
    "                                       Body = test_bow)"
   ]
  },
  {
   "cell_type": "markdown",
   "metadata": {},
   "source": [
    "So why did we get an error?\n",
    "\n",
    "Because we tried to send the endpoint a list of integers but it expected us to send data of type `text/csv`. So, we need to convert it."
   ]
  },
  {
   "cell_type": "code",
   "execution_count": 46,
   "metadata": {},
   "outputs": [],
   "source": [
    "response = runtime.invoke_endpoint(EndpointName = xgb_predictor.endpoint, # The name of the endpoint we created\n",
    "                                       ContentType = 'text/csv',                     # The data format that is expected\n",
    "                                       Body = ','.join([str(val) for val in test_bow]).encode('utf-8'))"
   ]
  },
  {
   "cell_type": "code",
   "execution_count": 47,
   "metadata": {},
   "outputs": [
    {
     "name": "stdout",
     "output_type": "stream",
     "text": [
      "{'ResponseMetadata': {'RequestId': '5c649aaa-b216-4d74-833c-a7e01ccf3b38', 'HTTPStatusCode': 200, 'HTTPHeaders': {'x-amzn-requestid': '5c649aaa-b216-4d74-833c-a7e01ccf3b38', 'x-amzn-invoked-production-variant': 'AllTraffic', 'date': 'Sun, 02 May 2021 15:06:47 GMT', 'content-type': 'text/csv; charset=utf-8', 'content-length': '18'}, 'RetryAttempts': 0}, 'ContentType': 'text/csv; charset=utf-8', 'InvokedProductionVariant': 'AllTraffic', 'Body': <botocore.response.StreamingBody object at 0x7fc1383f2ac8>}\n"
     ]
    }
   ],
   "source": [
    "print(response)"
   ]
  },
  {
   "cell_type": "markdown",
   "metadata": {},
   "source": [
    "As we can see, the response from our model is a somewhat complicated looking dict that contains a bunch of information. The bit that we are most interested in is `'Body'` object which is a streaming object that we need to `read` in order to make use of."
   ]
  },
  {
   "cell_type": "code",
   "execution_count": 48,
   "metadata": {},
   "outputs": [
    {
     "name": "stdout",
     "output_type": "stream",
     "text": [
      "0.4185399115085602\n"
     ]
    }
   ],
   "source": [
    "response = response['Body'].read().decode('utf-8')\n",
    "print(response)"
   ]
  },
  {
   "cell_type": "markdown",
   "metadata": {},
   "source": [
    "Now that we know how to process the incoming user data we can start setting up the infrastructure to make our simple web app work. To do this we will make use of two different services. Amazon's Lambda and API Gateway services.\n",
    "\n",
    "Lambda is a service which allows someone to write some relatively simple code and have it executed whenever a chosen trigger occurs. For example, you may want to update a database whenever new data is uploaded to a folder stored on S3.\n",
    "\n",
    "API Gateway is a service that allows you to create HTTP endpoints (url addresses) which are connected to other AWS services. One of the benefits to this is that you get to decide what credentials, if any, are required to access these endpoints.\n",
    "\n",
    "In our case we are going to set up an HTTP endpoint through API Gateway which is open to the public. Then, whenever anyone sends data to our public endpoint we will trigger a Lambda function which will send the input (in our case a review) to our model's endpoint and then return the result."
   ]
  },
  {
   "cell_type": "markdown",
   "metadata": {},
   "source": [
    "### Setting up a Lambda function\n",
    "\n",
    "The first thing we are going to do is set up a Lambda function. This Lambda function will be executed whenever our public API has data sent to it. When it is executed it will receive the data, perform any sort of processing that is required, send the data (the review) to the SageMaker endpoint we've created and then return the result.\n",
    "\n",
    "#### Part A: Create an IAM Role for the Lambda function\n",
    "\n",
    "Since we want the Lambda function to call a SageMaker endpoint, we need to make sure that it has permission to do so. To do this, we will construct a role that we can later give the Lambda function.\n",
    "\n",
    "Using the AWS Console, navigate to the **IAM** page and click on **Roles**. Then, click on **Create role**. Make sure that the **AWS service** is the type of trusted entity selected and choose **Lambda** as the service that will use this role, then click **Next: Permissions**.\n",
    "\n",
    "In the search box type `sagemaker` and select the check box next to the **AmazonSageMakerFullAccess** policy. Then, click on **Next: Review**.\n",
    "\n",
    "Lastly, give this role a name. Make sure you use a name that you will remember later on, for example `LambdaSageMakerRole`. Then, click on **Create role**."
   ]
  },
  {
   "cell_type": "markdown",
   "metadata": {},
   "source": [
    "#### Part B: Create a Lambda function\n",
    "\n",
    "Now it is time to actually create the Lambda function. Remember from earlier that in order to process the user provided input and send it to our endpoint we need to gather two pieces of information:\n",
    "\n",
    " - The name of the endpoint, and\n",
    " - the vocabulary object.\n",
    "\n",
    "We will copy these pieces of information to our Lambda function after we create it.\n",
    "\n",
    "To start, using the AWS Console, navigate to the AWS Lambda page and click on **Create a function**. When you get to the next page, make sure that **Author from scratch** is selected. Now, name your Lambda function, using a name that you will remember later on, for example `sentiment_analysis_xgboost_func`. Make sure that the **Python 3.6** runtime is selected and then choose the role that you created in the previous part. Then, click on **Create Function**.\n",
    "\n",
    "On the next page you will see some information about the Lambda function you've just created. If you scroll down you should see an editor in which you can write the code that will be executed when your Lambda function is triggered. Collecting the code we wrote above to process a single review and adding it to the provided example `lambda_handler` we arrive at the following.\n",
    "\n",
    "```python\n",
    "# We need to use the low-level library to interact with SageMaker since the SageMaker API\n",
    "# is not available natively through Lambda.\n",
    "import boto3\n",
    "\n",
    "# And we need the regular expression library to do some of the data processing\n",
    "import re\n",
    "\n",
    "REPLACE_NO_SPACE = re.compile(\"(\\.)|(\\;)|(\\:)|(\\!)|(\\')|(\\?)|(\\,)|(\\\")|(\\()|(\\))|(\\[)|(\\])\")\n",
    "REPLACE_WITH_SPACE = re.compile(\"(<br\\s*/><br\\s*/>)|(\\-)|(\\/)\")\n",
    "\n",
    "def review_to_words(review):\n",
    "    words = REPLACE_NO_SPACE.sub(\"\", review.lower())\n",
    "    words = REPLACE_WITH_SPACE.sub(\" \", words)\n",
    "    return words\n",
    "    \n",
    "def bow_encoding(words, vocabulary):\n",
    "    bow = [0] * len(vocabulary) # Start by setting the count for each word in the vocabulary to zero.\n",
    "    for word in words.split():  # For each word in the string\n",
    "        if word in vocabulary:  # If the word is one that occurs in the vocabulary, increase its count.\n",
    "            bow[vocabulary[word]] += 1\n",
    "    return bow\n",
    "\n",
    "\n",
    "def lambda_handler(event, context):\n",
    "    \n",
    "    vocab = \"*** ACTUAL VOCABULARY GOES HERE ***\"\n",
    "    \n",
    "    words = review_to_words(event['body'])\n",
    "    bow = bow_encoding(words, vocab)\n",
    "\n",
    "    # The SageMaker runtime is what allows us to invoke the endpoint that we've created.\n",
    "    runtime = boto3.Session().client('sagemaker-runtime')\n",
    "\n",
    "    # Now we use the SageMaker runtime to invoke our endpoint, sending the review we were given\n",
    "    response = runtime.invoke_endpoint(EndpointName = '***ENDPOINT NAME HERE***',# The name of the endpoint we created\n",
    "                                       ContentType = 'text/csv',                 # The data format that is expected\n",
    "                                       Body = ','.join([str(val) for val in bow]).encode('utf-8')) # The actual review\n",
    "\n",
    "    # The response is an HTTP response whose body contains the result of our inference\n",
    "    result = response['Body'].read().decode('utf-8')\n",
    "    \n",
    "    # Round the result so that our web app only gets '1' or '0' as a response.\n",
    "    result = round(float(result))\n",
    "\n",
    "    return {\n",
    "        'statusCode' : 200,\n",
    "        'headers' : { 'Content-Type' : 'text/plain', 'Access-Control-Allow-Origin' : '*' },\n",
    "        'body' : str(result)\n",
    "    }\n",
    "```"
   ]
  },
  {
   "cell_type": "markdown",
   "metadata": {},
   "source": [
    "Once you have copy and pasted the code above into the Lambda code editor, replace the `**ENDPOINT NAME HERE**` portion with the name of the endpoint that we deployed earlier. You can determine the name of the endpoint using the code cell below."
   ]
  },
  {
   "cell_type": "code",
   "execution_count": 49,
   "metadata": {},
   "outputs": [
    {
     "data": {
      "text/plain": [
       "'xgboost-2021-05-02-14-05-20-962'"
      ]
     },
     "execution_count": 49,
     "metadata": {},
     "output_type": "execute_result"
    }
   ],
   "source": [
    "xgb_predictor.endpoint"
   ]
  },
  {
   "cell_type": "markdown",
   "metadata": {},
   "source": [
    "In addition, you will need to copy the vocabulary dict to the appropriate place in the code at the beginning of the `lambda_handler` method. The cell below prints out the vocabulary dict in a way that is easy to copy and paste."
   ]
  },
  {
   "cell_type": "code",
   "execution_count": 50,
   "metadata": {},
   "outputs": [
    {
     "name": "stdout",
     "output_type": "stream",
     "text": [
      "{'life': 2592, 'stinks': 4192, 'was': 4805, 'step': 4175, 'below': 462, 'mel': 2796, 'brooks': 596, 'other': 3135, 'productions': 3420, 'he': 2056, 'stars': 4155, 'as': 311, 'rich': 3685, 'man': 2721, 'who': 4871, 'an': 223, 'insane': 2296, 'with': 4911, 'his': 2118, 'friends': 1837, 'claims': 830, 'that': 4424, 'can': 665, 'like': 2599, 'homeless': 2143, 'for': 1784, 'month': 2896, 'shocked': 3939, 'and': 226, 'accept': 80, 'this': 4457, 'unusual': 4681, 'during': 1387, 'stay': 4166, 'in': 2257, 'the': 4426, 'meets': 2795, 'bunch': 623, 'of': 3083, 'odd': 3080, 'people': 3221, 'one': 3107, 'them': 4432, 'catches': 715, 'fancy': 1649, 'ann': 244, 'warren': 4801, 'they': 4442, 'strike': 4224, 'up': 4683, 'friendship': 1838, 'she': 3923, 'him': 2110, 'many': 2732, 'tricks': 4583, 'learned': 2551, 'whilst': 4869, 'living': 2629, 'on': 3105, 'street': 4216, 'mr': 2929, 'survive': 4321, 'own': 3158, 'without': 4913, 'being': 448, 'will': 4886, 'win': 4892, 'are': 285, 'true': 4596, 'find': 1726, 'out': 3141, 'when': 4862, 'you': 4986, 'watch': 4811, 'to': 4507, 'film': 1716, 'has': 2043, 'been': 438, 'sure': 4308, 'its': 2370, 'not': 3040, 'classic': 835, 'earlier': 1399, 'films': 1721, 'but': 636, 'still': 4188, 'enjoyable': 1485, 'liked': 2600, 'way': 4820, 'pays': 3218, 'homage': 2141, 'charles': 764, 'chaplin': 756, 'if': 2222, 'have': 2052, 'watched': 4813, 'silent': 3975, 'then': 4436, 'youll': 4988, 'get': 1899, 'humor': 2192, 'well': 4843, 'recommended': 3572, 'fans': 1650, 'saw': 3798, 'it': 2366, 'first': 1736, 'came': 656, 'high': 2100, 'school': 3813, 'took': 4523, 'date': 1118, 'see': 3855, 'didnt': 1242, 'any': 256, 'needless': 2989, 'say': 3799, 'because': 432, 'so': 4046, 'bad': 382, 'joan': 2404, 'career': 686, 'never': 3001, 'badly': 383, 'deserved': 1200, 'after': 143, 'making': 2718, 'awful': 372, 'unfunny': 4655, 'crap': 1031, 'fact': 1621, 'isnt': 2362, 'severe': 3906, 'enough': 1491, 'term': 4405, 'is': 2360, 'anti': 254, 'funny': 1852, 'walk': 4775, 'feeling': 1685, 'laughter': 2535, 'might': 2835, 'occurred': 3077, 'beaten': 424, 'before': 440, 'could': 1007, 'happen': 2026, 'worth': 4953, 'watching': 4815, 'curiosity': 1082, 'or': 3124, 'sense': 3877, 'good': 1937, 'even': 1533, 'gang': 1867, 'at': 331, 'mst3k': 2932, 'couldve': 1009, 'made': 2697, 'billy': 482, 'survived': 4322, 'early': 1400, 'suicide': 4283, 'attempt': 340, 'miracle': 2860, 'takes': 4351, 'what': 4858, 'idea': 2213, '2000': 30, 'year': 4978, 'old': 3100, 'witch': 4909, 'completely': 922, 'jim': 2402, 'go': 1924, 'ireland': 2352, 'dry': 1377, 'her': 2085, 'uncle': 4636, 'discovered': 1280, 'form': 1798, 'cannot': 670, 'be': 418, 'killed': 2469, 'pity': 3281, 'however': 2183, 'works': 4945, 'do': 1302, 'gothic': 1945, 'horror': 2168, 'movie': 2926, 'done': 1322, 'cheap': 774, 'mess': 2818, 'ask': 316, 'why': 4878, 'anyone': 259, 'would': 4957, 'want': 4788, 'make': 2713, 'such': 4268, 'am': 204, 'learn': 2550, 'order': 3126, 'disappear': 1270, 'avoid': 363, 'all': 187, 'costs': 1004, 'had': 2003, 'few': 1700, 'problems': 3409, 'heard': 2062, 'lot': 2661, 'saying': 3800, 'overrated': 3156, 'over': 3148, 'three': 4469, 'hours': 2177, 'long': 2644, 'amazed': 208, 'goes': 1930, 'by': 642, 'quickly': 3491, 'dont': 1324, 'think': 4452, 'imdb': 2240, 'rating': 3529, 'perfectly': 3226, 'decent': 1147, 'looks': 2649, 'gorgeous': 1942, 'costumes': 1006, 'excellent': 1555, 'effects': 1431, 'direction': 1261, 'from': 1840, 'james': 2378, 'cameron': 661, 'rarely': 3524, 'focus': 1766, 'gives': 1914, 'best': 469, 'performances': 3229, 'jack': 2373, 'kate': 2446, 'lovely': 2671, 'rose': 3739, 'david': 1124, 'warner': 4799, 'great': 1964, 'actor': 103, 'steals': 4172, 'every': 1539, 'scene': 3809, 'hes': 2093, 'story': 4207, 'very': 4723, 'detail': 1217, 'hot': 2174, 'character': 758, 'development': 1225, 'obvious': 3071, 'love': 2669, 'which': 4867, 'moving': 2928, 'needs': 2990, 'though': 4461, 'bit': 488, 'little': 2624, 'slow': 4031, 'last': 2521, 'hour': 2176, 'extremely': 1610, 'riveting': 3708, 'edge': 1418, 'my': 2951, 'seat': 3845, 'titanic': 4503, 'also': 199, 'five': 1743, 'minutes': 2859, 'were': 4848, 'music': 2946, 'score': 3822, 'huge': 2185, 'fan': 1648, 'song': 4071, 'heart': 2064, '1996': 26, 'suffered': 4276, 'some': 4061, 'historical': 2119, 'overall': 3150, 'give': 1912, '10': 0, 'cox': 1026, 'frank': 1821, 'wonders': 4931, 'keeping': 2450, 'blood': 512, 'through': 4477, 'our': 3139, 'responsibility': 3655, 'magnificent': 2705, 'mid': 2832, '1950s': 14, 'bell': 458, 'science': 3816, 'hollywood': 2137, 'director': 1264, 'produce': 3413, 'series': 3890, 'television': 4394, 'public': 3460, 'about': 67, 'universe': 4666, 'around': 297, 'far': 1653, 'cry': 1073, 'dreary': 1356, 'black': 493, 'white': 4870, 'often': 3095, 'off': 3084, 'young': 4989, 'both': 547, 'entertain': 1497, 'lively': 2627, 'scripts': 3836, 'eye': 1611, 'catching': 716, 'visuals': 4759, 'shown': 3959, 'four': 1812, 'sun': 4292, 'strange': 4211, 'case': 707, 'became': 431, 'favorites': 1672, 'where': 4864, 'format': 1799, 'star': 4150, 'dr': 1340, 'english': 1483, 'professor': 3422, 'university': 4667, 'southern': 4088, 'california': 650, 'proved': 3446, 'perfect': 3224, 'audience': 352, 'sometimes': 4067, 'complex': 923, 'facts': 1624, 'manner': 2729, 'seem': 3861, 'dull': 1384, 'boring': 543, 'won': 4925, 'award': 366, 'continued': 970, 'quality': 3484, 'produced': 3414, 'written': 4972, 'directed': 1259, 'human': 2188, 'system': 4345, 'using': 4698, 'animation': 242, 'gentle': 1890, 'richard': 3686, 'appears': 278, 'fiction': 1702, 'writer': 4968, 'helping': 2081, 'tell': 4395, 'tale': 4353, 'recognize': 3569, 'part': 3193, 'tv': 4610, 'production': 3419, 'crew': 1053, 'voices': 4763, 'miller': 2846, 'june': 2433, 'various': 4715, 'cartoon': 704, 'characters': 760, 'begins': 444, 'tune': 4602, 'tone': 4517, 'forget': 1793, 'events': 1536, 'lead': 2545, 'just': 2437, 'seems': 3864, 'tragic': 4552, 'told': 4513, 'powers': 3361, 'performance': 3228, 'leader': 2546, 'jones': 2418, 'until': 4680, 'total': 4531, 'madness': 2698, 'academy': 77, 'easily': 1406, 'released': 3603, 'theaters': 4428, 'kind': 2476, 'mini': 2854, 'wont': 4932, 'images': 2235, 'control': 977, 'rise': 3702, 'fall': 1637, 'threat': 4467, 'outside': 3146, 'world': 4946, 'destroy': 1213, 'considered': 951, 'mass': 2753, 'horrifying': 2167, 'almost': 193, 'unreal': 4676, 'imagination': 2236, 'went': 4847, 'orders': 3127, 'these': 4441, 'anymore': 258, 'left': 2561, 'open': 3112, 'know': 2489, 'happened': 2027, 'others': 3136, 'must': 2950, 'disappointed': 1273, 'episodes': 1508, 'having': 2054, 'faith': 1633, 'show': 3953, 'talent': 4354, 'im': 2232, 'now': 3054, 'glad': 1916, 'did': 1241, 'develop': 1222, 'quite': 3495, 'strong': 4229, 'base': 402, 'most': 2909, 'information': 2288, 'missing': 2869, 'only': 3110, 'thing': 4450, 'fault': 1668, 'somewhat': 4068, 'annoying': 249, 'voice': 4761, 'possessed': 3347, 'acting': 99, 'stellar': 4174, 'plot': 3309, 'really': 3556, 'gets': 1900, 'line': 2610, 'heres': 2087, 'hoping': 2160, 'another': 250, 'season': 3843, 'sounded': 4082, 'premise': 3370, 'facing': 1620, 'their': 4431, 'fears': 1677, 'million': 2847, 'dollars': 1315, 'unfortunately': 4654, 'turn': 4605, 'there': 4438, 'several': 3905, 'scenes': 3811, 'too': 4522, 'pointless': 3318, 'dancing': 1107, 'excuse': 1564, 'point': 3316, 'camera': 659, 'female': 1693, 'body': 527, 'parts': 3199, 'lines': 2612, 'amusing': 221, 'whats': 4860, 'towards': 4540, 'end': 1468, 'turns': 4609, 'into': 2332, 'minute': 2858, 'western': 4853, 'twists': 4619, 'rest': 3657, 'seemed': 3862, 'added': 116, 'stuff': 4243, 'thought': 4462, 'look': 2646, 'cool': 989, 'while': 4868, 'creepy': 1052, 'down': 1335, 'hall': 2009, 'doesnt': 1309, 'come': 886, 'close': 853, 'guy': 2000, 'noble': 3021, 'effort': 1432, 'beat': 423, 'raped': 3522, 'kicked': 2461, 'shot': 3949, 'upon': 4684, 'dead': 1132, 'dreadful': 1353, 'reminiscent': 3621, 'al': 170, 'gore': 1941, 'speaking': 4095, 'remake': 3612, 'wife': 4884, 'fair': 1630, 'job': 2405, 'ever': 1538, 're': 3535, 'shoot': 3942, 'opportunity': 3121, 'away': 369, 'your': 4991, 'extended': 1604, 'bugs': 613, 'time': 4495, 'couldnt': 1008, 'help': 2079, 'years': 4979, 'happy': 2032, 'feet': 1688, 'main': 2707, 'storyline': 4208, 'similar': 3978, 'doing': 1312, 'fit': 1740, 'attempting': 342, 'special': 4097, 'how': 2181, 'much': 2934, 'better': 472, 'liberal': 2588, 'conclusion': 936, 'disagree': 1269, 'me': 2778, 'manage': 2722, 'capture': 676, 'toy': 4542, 'nor': 3032, 'top': 4525, 'notch': 3043, 'wonderful': 4928, 'spend': 4105, 'plenty': 3307, 'laughs': 2534, 'moral': 2902, 'center': 732, 'boot': 538, 'studios': 4241, 'classics': 837, 'finding': 1727, 'strength': 4219, 'within': 4912, 'odds': 3082, 'here': 2086, 'between': 475, 'flick': 1754, 'keep': 2449, 'self': 3869, 'save': 3794, 'eyes': 1613, 'onto': 3111, 'new': 3003, 'future': 1856, 'more': 2904, 'than': 4420, 'everyone': 1542, 'villain': 4744, 'hopper': 2161, 'fully': 1847, 'menacing': 2807, 'right': 3696, 'reasons': 3560, 'mean': 2779, 'instead': 2307, '100': 1, 'fear': 1676, 'worry': 4950, 'truth': 4599, 'circle': 821, 'cant': 671, 'ages': 152, 'thinking': 4453, 'actually': 109, 'compared': 912, 'rival': 3706, 'realistic': 3550, 'less': 2575, 'water': 4816, 'nicely': 3009, 'further': 1853, 'despite': 1211, 'smooth': 4041, 'shows': 3960, 'realism': 3549, 'crafted': 1029, 'flies': 1756, 'city': 825, 'crazy': 1035, 'mix': 2876, 'creatures': 1046, 'whether': 4866, 'small': 4033, 'role': 3726, 'we': 4823, 'island': 2361, 'nice': 3008, 'contains': 964, 'garbage': 1870, 'buildings': 616, 'showing': 3958, 'used': 4693, 'everything': 1544, 'ice': 2210, 'cube': 1076, 'stands': 4147, 'animal': 239, 'box': 555, 'complete': 921, 'full': 1846, 'guide': 1993, 'side': 3965, 'create': 1036, 'times': 4497, 'square': 4136, 'credit': 1049, 'delivery': 1173, 'inspired': 2301, 'choices': 798, 'no': 3020, 'male': 2719, 'dennis': 1179, 'wit': 4908, 'dare': 1113, 'someone': 4064, 'leads': 2548, 'dave': 1123, 'julia': 2427, 'louis': 2665, 'princess': 3397, 'always': 203, 'fantastic': 1651, 'kevin': 2457, 'stage': 4139, 'credits': 1050, 'yes': 4982, 'animated': 241, 'tradition': 4549, 'tongue': 4518, 'cheek': 779, 'jokes': 2415, 'throughout': 4478, 'props': 3439, 'supporting': 4304, 'cast': 710, 'those': 4460, 'actors': 104, 'brad': 560, 'late': 2523, 'joe': 2407, 'bring': 585, 'biggest': 480, 'may': 2775, 'brought': 600, 'screen': 3829, 'numerous': 3062, 'fresh': 1833, 'deliver': 1169, 'experience': 1580, 'moments': 2887, 'sad': 3767, 'action': 100, 'packed': 3166, 'suspense': 4330, 'birds': 485, 'coming': 896, 'join': 2412, 'fun': 1848, 'couple': 1016, 'favorite': 1671, 'roll': 3728, 'got': 1944, 'charismatic': 763, 'reality': 3551, 'pass': 3201, 'script': 3834, 'consider': 949, 'sorry': 4076, 'felt': 1692, 'stand': 4143, 'comedy': 890, 'club': 863, 'dying': 1393, 'sitting': 4007, 'enjoying': 1487, 'trying': 4601, 'id': 2212, 'budget': 610, 'guess': 1989, 'low': 2676, 'poor': 3328, 'write': 4967, 'appeal': 271, 'youd': 4987, 'wrote': 4974, 'imagine': 2238, 'green': 1971, 'lit': 2621, 'thats': 4425, 'impressive': 2253, 'aka': 168, 'castle': 712, 'scream': 3826, 'demon': 1177, 'spoiler': 4123, 'drive': 1363, 'feature': 1678, 'co': 867, 'vampire': 4711, 'spanish': 4092, 'italian': 2367, 'women': 4923, 'village': 4743, 'murdered': 2940, 'same': 3778, 'local': 2634, 'count': 1010, 'named': 2961, 'seen': 3865, 'riding': 3695, 'eating': 1413, 'dog': 1310, 'behind': 447, 'already': 197, 'suspect': 4327, 'burned': 626, 'murders': 2943, 'began': 441, 'older': 3101, 'brother': 598, 'horribly': 2164, 'lab': 2501, 'accident': 84, 'woman': 4921, 'hired': 2117, 'death': 1141, 'experiments': 1584, 'agrees': 157, 'hire': 2116, 'place': 3282, 'together': 4511, 'seek': 3858, 'wants': 4791, 'corpse': 999, 'back': 378, 'course': 1019, 'alive': 186, 'although': 201, 'killing': 2472, 'face': 1616, 'appear': 273, 'points': 3319, 'whole': 4873, 'fight': 1707, 'burning': 627, 'falling': 1639, 'bed': 436, 'meeting': 2794, 'yet': 4984, 'final': 1722, 'dvd': 1391, 'taken': 4350, 'vhs': 4725, 'source': 4086, 'trailer': 4554, 'extras': 1608, 'included': 2262, 'found': 1811, 'fairly': 1631, 'predictable': 3367, 'excitement': 1562, 'mystery': 2956, 'whatsoever': 4861, 'looking': 2648, 'mind': 2849, 'under': 4639, 'naked': 2959, 'marie': 2737, 'falls': 1640, 'asleep': 320, 'wishes': 4906, 'movies': 2927, 'awards': 367, 'intense': 2316, 'interest': 2323, 'comments': 901, 'bizarre': 492, 'results': 3662, 'difficult': 1249, 'explain': 1586, 'cold': 872, 'picture': 3269, 'especially': 1520, 'unwatchable': 4682, 'rex': 3683, 'disaster': 1276, 'powerful': 3360, 'adaptation': 113, 'non': 3027, 'novel': 3052, 'ability': 65, 'viewers': 4739, 'attention': 345, 'leave': 2555, 'nothing': 3047, 'particularly': 3195, 'graphic': 1958, 'gruesome': 1986, 'definitely': 1162, 'adult': 125, 'material': 2766, 'based': 404, 'multiple': 2936, 'murder': 2939, 'filmed': 1717, 'actual': 108, 'locations': 2636, 'master': 2757, 'cinematographer': 819, 'demand': 1174, 'correct': 1000, 'aspect': 321, 'unsettling': 4679, 'work': 4940, 'should': 3951, 'above': 68, 'title': 4504, 'screenplay': 3831, 'built': 618, 'fine': 1729, 'scott': 3824, 'wilson': 4891, 'charm': 767, 'robert': 3713, 'blake': 498, 'two': 4620, 'killers': 2471, 'inside': 2297, 'joke': 2414, 'speaks': 4096, 'treasure': 4571, 'duo': 1386, 'driving': 1368, 'mexico': 2827, 'child': 789, 'sold': 4052, 'ticket': 4487, 'john': 2409, 'book': 535, 'capital': 673, 'punishment': 3467, 'does': 1308, 'criminals': 1058, 'backgrounds': 381, 'lives': 2628, 'family': 1645, 'literally': 2622, 'middle': 2833, 'night': 3013, 'across': 96, 'dimensional': 1253, 'lack': 2502, 'balance': 387, 'comes': 891, 'spent': 4108, 'row': 3744, 'apparently': 270, 'depth': 1190, 'whatever': 4859, 'feelings': 1686, 'against': 147, 'deep': 1154, 'thoughts': 4464, 'run': 3755, 'double': 1331, 'bill': 481, 'walking': 4779, 'speak': 4094, 'days': 1130, 'rather': 3528, 'entertaining': 1499, 'concerning': 933, 'different': 1248, 'brothers': 599, 'called': 652, 'fire': 1734, 'stephen': 4176, 'kings': 2481, 'fest': 1696, 'name': 2960, 'forever': 1792, 'each': 1395, 'nasty': 2968, 'quirky': 3493, 'pretty': 3384, 'talented': 4355, 'trio': 4587, 'interesting': 2325, 'oddly': 3081, 'appropriate': 283, 'soundtrack': 4085, 'ultimately': 4628, 'unique': 4662, 'treat': 4572, 'personal': 3240, 'note': 3044, 'dollar': 1314, 'bin': 483, 'video': 4733, 'rental': 3627, 'store': 4204, 'guys': 2001, 'lets': 2580, '50': 51, 'getting': 1901, 'cause': 723, 'battle': 414, 'team': 4378, '40': 48, 'costume': 1005, 'supposed': 4306, 'cliche': 843, 'loved': 2670, 'present': 3374, 'hal': 2006, 'short': 3946, 'tough': 4537, 'winter': 4900, 'showcase': 3954, 'comic': 893, 'going': 1931, 'letter': 2581, 'mail': 2706, 'read': 3543, 'since': 3990, 'day': 1129, 'happens': 2029, 'ears': 1402, 'hear': 2061, 'room': 3735, 'mary': 2751, 'radio': 3504, 'keeps': 2451, 'running': 3756, 'forth': 1804, 'kitchen': 2485, 'misses': 2868, 'lady': 2507, 'confusing': 942, 'jackie': 2374, 'themselves': 4435, 'substance': 4258, 'stuck': 4237, 'walls': 4783, 'result': 3660, 'try': 4600, 'clean': 838, 'basement': 405, 'rings': 3699, 'plays': 3301, 'ive': 2372, 'described': 1195, 'nature': 2975, 'served': 3894, 'pilot': 3276, 'potential': 3355, 'characterization': 759, 'lazy': 2543, 'highly': 2105, 'offensive': 3086, 'today': 4508, 'sequence': 3887, 'blah': 496, 'summary': 4290, 'seeing': 3857, 'least': 2554, 'once': 3106, 'real': 3547, 'lincoln': 2608, 'perry': 3237, 'shall': 3916, 'waste': 4808, 'writing': 4971, 'anything': 260, 'started': 4157, 'wide': 4880, 'boy': 557, 'gangster': 1868, 'numbers': 3061, 'bore': 540, 'utter': 4701, 'anybody': 257, 'hidden': 2096, 'masterpiece': 2759, 'kidding': 2465, 'week': 4837, 'cinema': 816, 'pulled': 3462, 'sticks': 4186, 'terrible': 4407, 'indeed': 2271, 'reason': 3557, 'eddie': 1416, 'appeared': 276, 'second': 3846, 'heavy': 2070, 'hands': 2020, 'bar': 396, 'former': 1800, 'holiday': 2134, 'camp': 662, 'barry': 401, 'absolutely': 72, 'recently': 3567, 'joined': 2413, 'nobody': 3022, 'required': 3641, 'remember': 3616, 'disappeared': 1271, 'fast': 1661, 'renting': 3629, 'advise': 134, 'put': 3480, 'red': 3576, 'probably': 3407, 'painful': 3171, 'big': 478, 'studio': 4240, 'product': 3418, 'forced': 1787, 'us': 4690, 'bother': 548, 'kept': 2456, 'importance': 2246, 'children': 792, 'violence': 4747, 'environment': 1505, 'history': 2121, 'surface': 4310, 'technically': 4382, 'call': 651, 'monster': 2892, 'take': 4349, 'physical': 3262, 'beliefs': 452, 'happening': 2028, 'legendary': 2565, 'spirit': 4113, 'beast': 422, 'standard': 4144, 'thriller': 4472, 'elements': 1443, 'creature': 1045, 'successfully': 4267, 'continues': 971, 'george': 1893, 'genre': 1888, 'discussion': 1284, 'sign': 3970, 'opening': 3114, 'hook': 2152, 'force': 1786, 'terrorist': 4413, 'type': 4621, 'introduction': 2339, 'russell': 3761, 'says': 3801, 'third': 4455, 'large': 2517, 'number': 3060, 'supernatural': 4302, 'thrillers': 4473, 'pleasure': 3306, 'turned': 4606, 'stood': 4199, 'myself': 2953, 'caring': 691, 'matt': 2768, 'itself': 2371, 'achievement': 94, 'considering': 952, 'guessing': 1991, 'totally': 4532, 'tiny': 4500, 'attractive': 351, 'jesse': 2397, 'blockbuster': 509, 'let': 2579, 'worse': 4951, 'checking': 778, 'regret': 3591, 'rented': 3628, 'tape': 4365, 'enjoyed': 1486, 'purchase': 3469, 'weeks': 4839, 'ago': 154, 'agree': 155, 'said': 3774, 'indian': 2274, 'summer': 4291, 'nostalgic': 3039, 'wish': 4904, '14': 6, 'again': 146, 'extent': 1605, 'wisdom': 4902, 'knowledge': 2491, 'adults': 126, 'wouldnt': 4958, 'parents': 3188, 'parent': 3187, 'etc': 1527, 'jump': 2429, 'de': 1131, 'version': 4720, 'sports': 4130, 'training': 4558, 'position': 3345, 'string': 4227, 'members': 2801, 'featuring': 1681, 'alex': 179, 'mike': 2838, 'entire': 1502, 'finds': 1728, 'writers': 4969, 'game': 1864, 'debut': 1143, 'helped': 2080, 'besides': 468, '1968': 16, 'includes': 2263, 'ray': 3533, 'robinson': 3716, 'roy': 3745, 'march': 2734, 'directs': 1267, 'review': 3676, 'expressed': 1601, 'view': 4736, 'ending': 1471, 'taking': 4352, 'drugs': 1374, 'talking': 4360, 'trash': 4565, 'person': 3238, 'stone': 4197, 'wanted': 4789, 'war': 4792, 'grand': 1953, 'finale': 1723, 'standing': 4146, 'oscar': 3133, 'hunting': 2201, 'image': 2233, 'liking': 2604, 'problem': 3408, 'makers': 2715, 'fail': 1625, 'understand': 4643, 'simply': 3986, 'concept': 930, 'depicting': 1184, 'terribly': 4408, 'bloody': 513, 'deadly': 1133, 'prove': 3445, 'reflect': 3584, 'moment': 2886, 'iraq': 2351, 'youre': 4992, 'truly': 4597, 'surviving': 4323, 'soldiers': 4054, 'alone': 194, 'convince': 983, 'horrors': 2169, 'vietnam': 4735, 'wrong': 4973, 'instance': 2304, 'personally': 3243, 'support': 4303, 'americas': 215, 'decision': 1151, 'certainly': 738, 'died': 1244, 'theory': 4437, 'motivations': 2915, 'twist': 4617, 'stupid': 4247, 'stones': 4198, 'wall': 4781, '30': 42, 'ended': 1470, 'hardly': 2036, 'matters': 2770, 'gave': 1875, 'mark': 2739, 'virtually': 4751, 'unless': 4669, 'fell': 1690, 'domino': 1319, 'investigate': 2342, 'contemporary': 965, 'draw': 1349, 'author': 359, 'knew': 2486, 'lee': 2559, 'harvey': 2042, 'earl': 1398, 'arthur': 305, 'maybe': 2776, 'timothy': 4499, 'mention': 2810, 'conspiracy': 956, 'scenario': 3808, 'involving': 2349, 'business': 633, 'political': 3324, 'convoluted': 987, 'causes': 725, 'loss': 2659, 'sleep': 4024, 'word': 4937, 'keaton': 2448, 'twilight': 4614, 'choice': 797, 'comedian': 887, 'age': 148, 'chance': 747, 'display': 1291, 'talents': 4356, 'travel': 4567, 'hooked': 2153, 'modern': 2882, 'becomes': 434, 'able': 66, 'sight': 3969, 'gags': 1862, 'believe': 454, 'beach': 419, 'party': 3200, 'playing': 3300, 'bucks': 606, 'respect': 3652, 'portrayed': 3342, 'something': 4066, 'usual': 4699, 'creating': 1039, 'office': 3091, 'success': 4265, 'hitting': 2126, 'artistic': 308, 'deals': 1137, 'marketing': 2741, 'mere': 2814, 'opinion': 3118, 'sole': 4055, 'purpose': 3474, 'money': 2888, 'touching': 4536, 'sensitive': 3879, 'mostly': 2910, 'native': 2972, 'country': 1014, 'provide': 3448, 'brief': 579, 'definition': 1163, 'meant': 2784, 'near': 2979, 'theatrical': 4430, 'background': 380, 'tried': 4584, 'hard': 2033, 'lacked': 2503, 'roles': 3727, 'experienced': 1581, 'ones': 3108, 'deserves': 1201, 'appreciation': 281, 'knows': 2493, 'choose': 799, 'media': 2789, 'monkey': 2890, 'himself': 2111, 'art': 304, 'solely': 4056, 'consists': 955, 'dealing': 1136, 'half': 2007, 'waiting': 4772, 'next': 3007, 'hope': 2155, 'achieve': 92, 'approach': 282, 'single': 3996, 'disney': 1289, 'pictures': 3270, 'possible': 3350, 'liners': 2611, 'social': 4049, 'kids': 2467, 'everybody': 1540, 'praise': 3364, 'mexican': 2826, 'proud': 3444, 'mainstream': 2709, 'hand': 2015, 'reviews': 3679, 'focuses': 1768, 'subtle': 4260, 'bottom': 551, 'pleasant': 3302, 'american': 213, 'producers': 3416, 'suffering': 4277, 'attack': 337, 'september': 3884, 'need': 2987, 'message': 2819, 'east': 1407, 'crying': 1074, 'crimes': 1056, 'committed': 905, 'pay': 3216, 'angry': 238, 'evil': 1548, 'poverty': 3357, 'aids': 161, 'sean': 3840, 'twin': 4615, 'makes': 2716, 'lonely': 2643, 'power': 3359, 'greed': 1968, 'letting': 2583, 'remarkable': 3613, 'irony': 2357, 'ken': 2453, 'clearly': 840, 'straight': 4210, 'attacked': 338, 'forces': 1788, 'latin': 2527, 'americans': 214, 'worst': 4952, 'creative': 1041, 'project': 3427, 'america': 212, 'become': 433, 'victim': 4729, 'pain': 3170, 'taste': 4369, 'french': 1830, 'showed': 3956, 'sympathy': 4343, 'slap': 4018, 'state': 4160, 'equal': 1509, 'century': 736, 'scary': 3807, 'examples': 1554, '80s': 59, 'franchise': 1817, 'hit': 2122, 'miss': 2866, 'elvira': 1450, 'mistress': 2874, 'dark': 1115, 'saturday': 3792, 'sequel': 3885, 'types': 4622, 'major': 2711, 'corny': 997, 'catch': 714, 'theme': 4433, 'tedious': 4387, 'pacing': 3163, 'cut': 1089, 'monsters': 2893, 'given': 1913, 'spoof': 4127, 'lame': 2510, 'likely': 2601, 'bits': 490, 'comedies': 889, 'floor': 1759, 'bay': 416, 'tired': 4501, 'junk': 2436, 'ill': 2228, 'admit': 122, 'ironic': 2355, 'christmas': 810, 'successful': 4266, 'general': 1880, 'ron': 3734, 'childhood': 790, 'incident': 2260, 'whos': 4876, 'caught': 722, 'lou': 2663, 'played': 3297, 'taylor': 4372, 'ambitious': 211, 'emotional': 1459, 'punch': 3466, 'chuck': 812, 'carrey': 696, 'grinch': 1975, 'dialogue': 1234, 'initial': 2290, 'transformation': 4560, 'bitter': 491, 'convincingly': 986, 'amazing': 209, 'beyond': 476, 'technical': 4381, 'theres': 4440, 'element': 1442, 'soul': 4079, '25': 40, 'howard': 2182, 'feels': 1687, 'capable': 672, 'winning': 4898, 'combination': 883, 'weak': 4824, 'length': 2569, 'rent': 3626, 'bigger': 479, 'rated': 3527, 'unintentional': 4658, 'scale': 3802, 'figure': 1711, 'care': 684, 'minimum': 2856, 'filming': 1718, 'matter': 2769, 'sit': 4003, 'beginning': 443, 'confused': 941, 'enjoyment': 1488, 'beating': 425, 'doctor': 1304, 'treatment': 4574, 'genius': 1887, 'normally': 3034, 'feel': 1684, 'warn': 4797, 'wasting': 4810, 'finished': 1733, 'horrible': 2163, 'values': 4710, 'level': 2584, 'saved': 3795, 'purposes': 3475, 'occurs': 3078, 'effective': 1429, 'reasonably': 3559, 'disturbing': 1300, 'minimal': 2855, 'content': 966, 'impossible': 2249, 'spare': 4093, 'teenage': 4389, 'girls': 1911, 'isolated': 2363, 'area': 286, '20': 29, 'previously': 3388, 'car': 680, 'breaks': 571, 'house': 2178, 'whom': 4875, 'psychotic': 3459, 'killer': 2470, 'eventually': 1537, 'paced': 3162, 'nonsense': 3030, 'things': 4451, 'please': 3304, 'buy': 640, 'fooled': 1780, 'description': 1197, 'class': 833, 'drama': 1346, 'revolution': 3680, 'la': 2500, 'apart': 264, 'fabulous': 1615, 'achieved': 93, 'piece': 3272, 'rate': 3526, '75': 57, 'dislike': 1288, 'response': 3654, 'endless': 1473, 'following': 1774, '90': 60, 'banned': 395, 'somewhere': 4069, 'watchable': 4812, 'credible': 1048, 'addition': 118, 'lots': 2662, 'places': 3284, 'drink': 1361, 'spoilers': 4124, 'devoid': 1230, 'narrative': 2966, 'russian': 3762, 'bullet': 620, 'chasing': 772, 'brain': 562, 'kinda': 2477, 'vague': 4705, 'leaving': 2557, 'viewer': 4738, 'allows': 192, 'minds': 2852, 'vengeance': 4719, 'desire': 1205, 'god': 1926, 'forgive': 1795, 'weve': 4856, 'question': 3487, 'men': 2805, 'answer': 251, 'trained': 4557, 'denzel': 1181, 'washington': 4806, 'honestly': 2147, 'thoroughly': 4459, 'recommend': 3571, 'silly': 3976, 'period': 3236, 'curious': 1083, 'henry': 2084, 'fonda': 1777, 'wasnt': 4807, 'warm': 4794, 'bored': 541, 'handled': 2019, 'original': 3129, 'hero': 2088, 'dies': 1245, 'fighter': 1708, 'subject': 4253, 'mother': 2911, 'acted': 98, 'bbc': 417, 'somebody': 4062, 'satire': 3788, 'post': 3352, 'ran': 3513, 'league': 2549, 'government': 1948, 'front': 1841, 'sends': 3876, 'situation': 4008, 'realise': 3548, 'british': 589, 'foreign': 1790, 'exactly': 1551, 'recall': 3562, 'follows': 1775, 'section': 3853, 'traditional': 4550, 'repeated': 3631, 'dance': 1103, 'solo': 4058, 'sleeping': 4025, 'beauty': 430, 'chose': 804, 'relationship': 3597, 'growing': 1983, 'tree': 4576, 'shortly': 3947, 'somehow': 4063, '12': 3, 'insult': 2309, 'appreciate': 279, 'disturbed': 1299, 'storytelling': 4209, 'unpredictable': 4675, 'scares': 3806, 'delivered': 1170, 'via': 4726, 'convincing': 985, 'directors': 1266, 'past': 3207, 'sell': 3871, 'episode': 1507, '1980s': 21, 'blame': 499, 'boys': 559, 'certain': 737, 'likes': 2602, 'carpenter': 694, 'asked': 317, 'perhaps': 3235, 'finger': 1731, 'creator': 1043, 'whose': 4877, 'include': 2261, 'logic': 2638, 'stanley': 4148, 'shining': 3933, 'sloppy': 4030, 'sets': 3899, 'sadly': 3769, 'adding': 117, 'comment': 898, 'argue': 290, 'faults': 1669, 'merits': 2817, 'lacking': 2504, 'merit': 2816, 'exception': 1557, 'warning': 4800, 'havent': 2053, 'start': 4156, 'masters': 2761, 'theyd': 4443, 'allowed': 190, 'degree': 1164, 'ideal': 2214, 'romantic': 3733, 'anime': 243, 'dubbed': 1379, '1999': 27, 'paulie': 3215, 'touched': 4534, 'witty': 4917, 'becoming': 435, '2004': 34, 'superb': 4296, 'son': 4070, 'bird': 484, 'company': 910, 'followed': 1773, 'tony': 4521, 'hearted': 2065, 'root': 3737, 'buying': 641, 'explosion': 1596, 'channels': 754, 'hundred': 2195, 'station': 4164, 'gun': 1996, 'typical': 4623, 'melodrama': 2797, 'pre': 3365, 'wwii': 4975, 'relies': 3606, 'historically': 2120, 'absence': 70, 'thus': 4486, 'struggling': 4236, 'emotionally': 1460, 'horse': 2170, 'wondering': 4930, 'hell': 2077, 'sort': 4077, 'stronger': 4230, 'boat': 523, 'either': 1438, 'cable': 644, 'san': 3780, 'aired': 165, 'alternate': 200, 'destroyed': 1214, 'references': 3583, 'replaced': 3634, 'bag': 384, 'drops': 1372, 'conversation': 980, 'remains': 3611, '3000': 43, 'subplot': 4255, 'clips': 852, 'aliens': 184, 'ship': 3934, 'space': 4090, 'else': 1448, 'created': 1037, 'friendly': 1836, 'network': 3000, 'hello': 2078, 'basically': 407, 'girl': 1909, 'independent': 2272, '90s': 61, 'chick': 786, 'along': 195, 'mature': 2773, 'searching': 3842, 'skills': 4014, 'maintain': 2710, 'throwing': 4480, 'parties': 3196, 'parker': 3191, 'viewings': 4741, 'plots': 3310, 'oh': 3096, 'explained': 1587, 'shes': 3930, 'mine': 2853, 'cuba': 1075, 'price': 3389, 'lion': 2614, 'memories': 2803, 'benefit': 465, 'hearing': 2063, 'abandoned': 62, 'wise': 4903, 'persona': 3239, 'later': 2525, 'buddy': 609, 'goofy': 1939, 'relatively': 3600, 'powell': 3358, 'greatest': 1966, 'dancer': 1104, 'ok': 3098, 'nudity': 3059, 'hey': 2095, 'free': 1827, 'porn': 3336, 'internet': 2327, 'frame': 1815, 'embarrassed': 1453, 'dramatic': 1348, 'pie': 3271, 'drunk': 1375, '13': 4, 'obsessed': 3069, 'acceptable': 81, 'otherwise': 3137, 'flash': 1745, 'neo': 2998, 'bourne': 554, 'heroes': 2089, 'rambo': 3511, 'teenagers': 4391, 'set': 3898, 'pieces': 3273, 'challenge': 743, 'explains': 1589, 'silver': 3977, 'screens': 3832, 'rocky': 3723, 'die': 1243, 'walked': 4776, 'promising': 3433, 'theater': 4427, 'decade': 1144, 'france': 1816, 'pile': 3275, 'reach': 3536, 'words': 4938, 'le': 2544, 'popular': 3333, 'pleased': 3305, 'pushing': 3479, '2003': 33, '2006': 36, 'marvelous': 2750, 'worlds': 4947, 'brian': 576, 'previous': 3387, 'fantasy': 1652, 'kinds': 2478, 'colorful': 878, 'exaggerated': 1552, 'expect': 1575, 'unrealistic': 4677, 'unexpected': 4650, 'situations': 4009, 'expected': 1577, 'usually': 4700, 'gift': 1906, 'curse': 1086, 'sweet': 4336, 'ned': 2986, 'pace': 3161, 'simple': 3983, 'touch': 4533, 'live': 2625, 'touches': 4535, 'stops': 4203, 'brings': 587, 'instantly': 2306, 'unfortunate': 4653, 'grown': 1984, 'afraid': 140, 'lose': 2654, 'till': 4493, 'finally': 1724, 'anna': 245, 'loves': 2674, 'kiss': 2483, 'beautiful': 428, 'starts': 4159, 'familiar': 1643, 'tribute': 4581, 'tim': 4494, 'burton': 630, 'adventure': 130, 'fish': 1738, 'charlie': 765, 'factory': 1623, '2005': 35, 'hole': 2132, 'stories': 4205, 'detective': 1220, 'solve': 4060, 'common': 906, 'thru': 4483, 'surrounding': 4319, 'colors': 879, 'tender': 4401, 'soft': 4051, 'contained': 963, 'asks': 319, 'ellen': 1446, 'shines': 3932, 'performing': 3233, 'clown': 862, 'dialogs': 1233, 'expressions': 1603, 'naturally': 2974, 'aside': 315, 'bright': 581, 'chemistry': 782, 'express': 1600, 'claimed': 829, 'daring': 1114, 'forward': 1808, 'terms': 4406, 'entertainment': 1500, 'sudden': 4272, 'except': 1556, 'air': 164, 'sent': 3880, 'letters': 2582, 'criminal': 1057, 'worked': 4941, 'fred': 1825, 'diamond': 1236, 'william': 4887, 'theyre': 4445, 'meet': 2793, 'obscure': 3068, 'montana': 2895, 'town': 4541, 'picked': 3266, 'police': 3322, 'group': 1980, 'involved': 2346, 'charge': 761, 'fortune': 1806, 'pair': 3176, 'ed': 1415, 'daniel': 1111, 'drop': 1369, 'escapes': 1519, 'finish': 1732, 'fascinating': 1658, 'sheriff': 3929, 'watches': 4814, 'unfolds': 4651, 'crime': 1055, 'players': 3299, 'soon': 4074, 'ironically': 2356, 'none': 3028, 'per': 3223, 'light': 2595, 'directing': 1260, 'known': 2492, 'murphy': 2944, 'sisters': 4002, 'law': 2538, 'divorce': 1301, 'style': 4249, 'stated': 4161, 'glimpse': 1919, 'court': 1020, 'iran': 2350, 'theyve': 4446, 'africa': 141, 'anyways': 262, 'deal': 1135, 'society': 4050, 'legal': 2563, 'womens': 4924, 'rights': 3697, 'recognized': 3570, 'prime': 3395, 'abuse': 74, 'aunt': 355, 'fury': 1855, 'justice': 2438, 'carry': 700, 'ya': 4976, 'nonetheless': 3029, 'angela': 232, 'brown': 601, 'brilliant': 583, 'paul': 3214, 'cute': 1090, 'songs': 4072, 'sea': 3838, 'outstanding': 3147, 'magic': 2703, 'highlights': 2104, 'sequences': 3888, 'favourite': 1673, 'football': 1783, 'match': 2762, 'hilarious': 2106, 'criticism': 1063, 'theatre': 4429, 'stopped': 4202, 'pit': 3278, 'door': 1328, 'including': 2264, 'experiment': 1583, 'alas': 172, 'grow': 1982, 'seventies': 3904, 'bergman': 466, 'inner': 2292, 'worried': 4949, 'commercial': 902, 'intended': 2315, 'fool': 1779, 'festival': 1697, 'critics': 1064, 'use': 4692, 'desperation': 1210, 'steal': 4170, 'porno': 3337, 'neighbor': 2992, 'actress': 105, 'comfortable': 892, 'ends': 1474, 'sexual': 3908, 'talk': 4358, 'musical': 2947, '60': 53, 'dialog': 1232, 'sex': 3907, 'selfish': 3870, 'industry': 2280, 'pseudo': 3454, 'shocking': 3940, 'limits': 2607, 'subjects': 4254, 'anywhere': 263, 'important': 2247, 'originally': 3131, 'empty': 1465, 'nights': 3016, 'sexuality': 3909, 'received': 3564, 'featured': 1679, 'fond': 1776, 'everyday': 1541, 'arent': 288, '2007': 37, 'features': 1680, 'youve': 4995, 'tells': 4397, 'therefore': 4439, 'effectively': 1430, 'cinematic': 818, 'mainly': 2708, 'offer': 3087, 'scare': 3803, 'teen': 4388, 'due': 1382, 'visual': 4757, 'authentic': 358, 'individual': 2277, 'themes': 4434, 'possibilities': 3348, 'tension': 4404, 'threw': 4470, 'evening': 1534, 'superficial': 4298, 'mistake': 2871, 'ten': 4399, 'play': 3296, 'missed': 2867, 'chances': 748, 'conflict': 939, 'among': 217, 'easy': 1410, 'cost': 1003, 'documentary': 1307, 'nyc': 3065, 'drag': 1342, 'hold': 2129, 'balls': 390, 'dress': 1357, 'strikes': 4225, 'gay': 1876, 'queen': 3485, 'accepted': 82, 'whoever': 4872, 'cuts': 1091, 'changed': 750, 'sounds': 4084, 'depressing': 1188, 'aware': 368, 'houses': 2180, 'mothers': 2912, 'community': 908, '1990': 24, 'controversial': 978, 'nominated': 3025, 'racism': 3502, 'longer': 2645, 'exists': 1573, 'held': 2074, 'gone': 1935, '15': 7, 'definite': 1161, 'exploration': 1593, 'victims': 4730, 'filmmakers': 1720, 'christian': 808, 'hitler': 2124, 'politics': 3326, 'minor': 2857, 'errors': 1516, 'natural': 2973, 'contain': 962, 'disappoint': 1272, 'believes': 456, 'fits': 1741, 'cares': 690, 'anyway': 261, 'passionate': 3206, 'super': 4295, 'perspective': 3245, 'tons': 4520, 'negative': 2991, 'emotions': 1461, 'mad': 2696, 'methods': 2825, 'rough': 3741, 'flow': 1762, 'actions': 101, 'jewish': 2401, 'reaction': 3541, 'limited': 2606, 'struggles': 4235, 'journalist': 2420, 'streets': 4217, 'hatred': 2049, 'ideas': 2215, 'giving': 1915, 'change': 749, 'cash': 709, 'personality': 3242, 'technology': 4385, 'larry': 2520, 'norman': 3035, 'married': 2744, 'raise': 3507, 'pretentious': 3383, 'purple': 3473, 'dinosaur': 1255, 'tea': 4373, 'service': 3896, 'culture': 1079, 'respected': 3653, 'japanese': 2382, 'giant': 1905, 'composed': 926, 'clothes': 860, 'holy': 2140, 'mountain': 2917, 'thin': 4449, 'fake': 1635, 'stolen': 4195, 'stop': 4201, 'lost': 2660, 'financial': 1725, 'lawyer': 2541, 'rip': 3700, 'college': 875, 'filmmaker': 1719, 'interested': 2324, 'ring': 3698, 'looked': 2647, 'sarah': 3785, 'sees': 3866, 'laughing': 2533, 'racist': 3503, 'crude': 1069, 'centered': 733, 'value': 4709, 'jesus': 2399, 'explaining': 1588, 'language': 2516, 'working': 4944, 'assault': 324, 'statement': 4162, 'someones': 4065, 'suggest': 4280, 'smart': 4035, 'hate': 2046, 'enthusiasm': 1501, 'impression': 2252, 'program': 3424, 'creators': 1044, 'loaded': 2632, 'dream': 1354, 'putting': 3482, 'fill': 1714, 'mission': 2870, 'arrested': 298, 'hearts': 2066, 'pleasantly': 3303, 'surprised': 4313, 'flashback': 1746, 'concerns': 934, 'normal': 3033, 'decide': 1148, 'awesome': 371, 'solid': 4057, 'dad': 1095, 'demons': 1178, 'exist': 1569, 'viewing': 4740, 'album': 175, 'rock': 3720, 'repetitive': 3633, 'energy': 1478, 'corporate': 998, 'psycho': 3457, 'thank': 4421, 'distant': 1295, 'passed': 3202, 'board': 522, 'presentation': 3375, 'ancient': 225, 'rendition': 3625, 'haunting': 2051, 'poem': 3312, 'striking': 4226, 'cinematography': 820, 'combined': 885, 'collection': 874, 'efforts': 1433, 'epic': 1506, 'famous': 1647, 'artists': 309, 'michael': 2829, 'narration': 2965, 'students': 4239, 'explore': 1594, 'poetry': 3314, 'rare': 3523, 'student': 4238, 'literature': 2623, 'critic': 1061, 'fourth': 1813, '1983': 22, 'gerard': 1895, 'surprising': 4315, 'pages': 3168, 'reading': 3544, 'symbolism': 4341, 'generally': 1881, 'explicit': 1591, 'home': 2142, 'mixed': 2877, 'supposedly': 4307, 'gratuitous': 1961, 'nevertheless': 3002, 'intriguing': 2335, 'round': 3742, 'hoffman': 2128, 'particular': 3194, 'signs': 3973, 'grade': 1951, 'lighting': 2596, 'picks': 3268, 'head': 2057, 'pan': 3180, 'bet': 470, 'uncomfortable': 4637, 'wearing': 4831, 'neck': 2985, 'table': 4346, 'tries': 4585, 'torn': 4528, 'skill': 4013, 'silence': 3974, 'poignant': 3315, 'west': 4852, 'holds': 2131, 'managed': 2723, 'mirror': 2861, 'neither': 2996, 'tom': 4514, 'loving': 2675, 'evident': 1547, 'deeply': 1156, 'education': 1424, 'health': 2060, 'spoke': 4125, 'experiences': 1582, 'daily': 1097, 'basis': 408, 'eat': 1411, 'mindless': 2851, 'weapon': 4828, 'everywhere': 1545, 'phone': 3255, 'enjoy': 1484, 'noticed': 3049, 'shower': 3957, '17': 9, '18': 10, 'friend': 1835, 'weird': 4841, 'decided': 1149, 'endure': 1475, 'torture': 4529, 'justify': 2439, 'pop': 3330, 'breaking': 570, 'glass': 1917, 'womans': 4922, 'quest': 3486, 'captures': 678, 'punk': 3468, 'fashion': 1659, 'styles': 4250, 'britain': 588, '1980': 20, 'cultural': 1078, 'landscape': 2513, 'trashy': 4566, 'sequels': 3886, 'worthy': 4956, 'concerned': 932, 'return': 3665, 'moves': 2925, 'thrilling': 4474, 'engaging': 1481, 'dentist': 1180, 'tiger': 4491, 'surprisingly': 4316, 'discovers': 1281, 'affair': 135, 'pool': 3327, 'patients': 3212, 'anger': 235, 'central': 735, 'cover': 1022, 'impress': 2250, 'parody': 3192, 'upper': 4685, 'tied': 4489, 'casting': 711, 'dawn': 1127, 'jobs': 2406, 'offers': 3090, 'refreshing': 3586, 'slasher': 4020, 'okay': 3099, 'usa': 4691, '60s': 54, 'color': 877, 'compare': 911, 'example': 1553, 'generation': 1883, 'opinions': 3119, 'techniques': 4384, 'developed': 1223, 'suddenly': 4273, 'impressed': 2251, 'directly': 1263, 'sat': 3786, 'roger': 3724, 'moore': 2901, 'trust': 4598, 'thanks': 4423, 'artificial': 306, 'sorts': 4078, 'secondly': 3847, 'desperate': 1208, 'sacrifice': 3766, 'realize': 3552, 'bull': 619, 'victor': 4731, 'irish': 2353, 'mighty': 2836, 'empire': 1464, 'troops': 4591, 'rebel': 3561, 'wallace': 4782, 'ford': 1789, 'soldier': 4053, 'luck': 2681, 'girlfriend': 1910, 'herself': 2092, 'wake': 4774, 'telling': 4396, 'poster': 3353, 'flop': 1760, 'mrs': 2930, 'sister': 4001, 'angel': 231, 'safe': 3771, 'unit': 4663, 'secretly': 3851, 'chief': 788, 'thirty': 4456, 'enemy': 1477, 'guilty': 1995, 'army': 295, 'trial': 4580, 'drinking': 1362, 'minded': 2850, 'act': 97, 'innocent': 2294, 'donald': 1321, 'exposed': 1598, 'guilt': 1994, 'ridden': 3691, 'drawn': 1351, 'chapter': 757, 'unforgettable': 4652, 'obnoxious': 3067, 'dumb': 1385, 'ass': 323, 'poorly': 3329, 'executed': 1565, 'disneys': 1290, 'arrogant': 303, 'creativity': 1042, 'johnny': 2410, 'test': 4416, 'stayed': 4167, 'constantly': 958, 'news': 3005, 'immediately': 2242, 'pointed': 3317, 'anne': 246, 'revealed': 3671, 'behavior': 446, 'details': 1219, 'add': 115, 'met': 2822, 'necessary': 2984, 'absolute': 71, 'moved': 2922, 'positive': 3346, 'sound': 4081, 'existence': 1571, 'mildly': 2840, 'tie': 4488, 'ships': 3935, 'scientific': 3817, 'visit': 4755, 'site': 4005, 'annoyed': 248, 'werent': 4849, 'presented': 3376, 'initially': 2291, 'disjointed': 1287, 'related': 3594, 'downright': 1337, 'wedding': 4836, 'laughable': 2530, 'ludicrous': 2685, 'member': 2800, 'uses': 4697, 'offended': 3085, 'listen': 2619, 'abysmal': 76, 'unbelievable': 4634, 'portraying': 3343, 'trap': 4563, 'suspenseful': 4331, 'walken': 4777, 'meanwhile': 2785, 'meaning': 2780, 'trail': 4553, 'actresses': 106, 'useless': 4695, 'cartoons': 705, 'goodness': 1938, 'link': 2613, 'ridiculous': 3693, 'ugly': 4625, 'sake': 3775, 'laugh': 2529, 'track': 4544, 'barely': 399, 'exercise': 1568, 'apparent': 269, 'intellectual': 2312, 'jon': 2416, 'stewart': 4184, 'dozen': 1338, 'depicts': 1186, 'individuals': 2278, 'models': 2881, 'fairy': 1632, 'tales': 4357, 'model': 2880, 'task': 4368, 'considerable': 950, 'suitable': 4285, 'specifically': 4100, 'specific': 4099, 'chooses': 800, 'chosen': 805, 'sci': 3815, 'fi': 1701, 'solution': 4059, 'reached': 3537, 'computer': 927, 'research': 3644, 'remotely': 3623, 'bang': 393, 'fbi': 1675, 'incompetent': 2266, 'charisma': 762, 'martin': 2748, 'frustrated': 1842, 'artist': 307, 'manages': 2725, 'philosophical': 3253, 'key': 2458, 'basic': 406, 'suggests': 4282, 'wonder': 4926, 'shock': 3938, 'kid': 2464, 'morning': 2906, 'reminded': 3619, 'chase': 769, 'amongst': 218, 'obviously': 3072, 'hadnt': 2004, 'sucked': 4270, 'pat': 3208, 'mentioned': 2811, 'agreed': 156, 'absurd': 73, 'train': 4556, 'wreck': 4965, 'stylish': 4251, 'masses': 2755, 'amateur': 206, 'baby': 376, 'king': 2479, 'appearing': 277, 'earth': 1403, 'bland': 500, 'thumbs': 4485, 'kapoor': 2443, 'veteran': 4724, 'akshay': 169, 'saving': 3797, 'grace': 1950, 'stunning': 4244, 'leaves': 2556, 'khan': 2459, 'wasted': 4809, 'failure': 1629, 'seriously': 3892, 'heaven': 2068, 'promises': 3432, 'cliché': 844, 'countryside': 1015, 'folks': 1771, 'farm': 1656, 'heroic': 2090, 'hide': 2097, 'brady': 561, 'nazis': 2978, 'spots': 4132, 'ladies': 2506, 'max': 2774, 'explosions': 1597, 'york': 4985, 'executive': 1567, 'conflicts': 940, 'todd': 4510, 'humanity': 2189, 'gripping': 1976, 'ways': 4822, 'peoples': 3222, 'means': 2783, 'kudos': 2497, 'kurt': 2499, 'rocket': 3721, 'mars': 2746, 'planet': 3289, 'host': 2173, 'eyed': 1612, 'plus': 3311, 'process': 3412, 'intensity': 2317, 'practically': 3362, 'cheese': 780, 'lovers': 2673, 'yourself': 4993, 'todays': 4509, 'standards': 4145, 'ps': 3453, 'careful': 688, 'acts': 107, 'father': 1666, 'alcoholic': 177, 'moon': 2900, 'similarities': 3979, 'sir': 4000, 'stole': 4194, 'endearing': 1469, 'sentence': 3881, 'vehicle': 4718, 'nonsensical': 3031, 'drags': 1345, 'amount': 219, 'ready': 3546, 'joy': 2422, 'happiness': 2031, 'tragedy': 4551, 'incredibly': 2270, 'sick': 3963, 'faces': 1618, 'smile': 4036, 'mysterious': 2955, 'serious': 3891, 'expression': 1602, 'shadow': 3912, 'doubt': 1332, 'countless': 1012, 'majority': 2712, 'field': 1704, 'dogs': 1311, 'delight': 1167, 'comical': 894, 'satisfying': 3791, 'fellow': 1691, 'returns': 3668, 'realizes': 3554, 'react': 3540, 'nude': 3058, 'blown': 516, 'truck': 4595, 'johnson': 2411, 'jennifer': 2392, 'stomach': 4196, 'creep': 1051, 'exact': 1550, 'horrific': 2166, 'smoke': 4039, 'rising': 3703, 'bedroom': 437, 'bus': 631, 'pick': 3265, 'device': 1227, 'seemingly': 3863, 'meaningless': 2782, 'terror': 4412, 'memory': 2804, 'spends': 4107, 'staring': 4152, 'blank': 501, 'page': 3167, 'reporter': 3636, 'channel': 753, 'decides': 1150, 'ex': 1549, 'officer': 3092, 'babe': 375, 'dating': 1120, 'private': 3404, 'progresses': 3426, 'investigation': 2343, 'editing': 1421, 'petty': 3249, 'cardboard': 682, 'miles': 2843, 'obsession': 3070, 'meaningful': 2781, 'genuine': 1891, 'elaborate': 1439, 'suffice': 4279, 'intention': 2319, 'according': 88, 'current': 1084, 'trilogy': 4586, 'opposed': 3122, 'existent': 1572, 'compelling': 916, 'zero': 4996, 'twelve': 4611, 'thousand': 4465, 'blair': 497, 'spike': 4111, 'lees': 2560, 'sam': 3777, 'clear': 839, 'sleazy': 4023, 'unpleasant': 4674, 'filled': 1715, 'redeeming': 3577, 'dramas': 1347, 'ryan': 3765, 'list': 2617, 'serves': 3895, 'goal': 1925, 'merely': 2815, 'believing': 457, 'serving': 3897, 'commentary': 899, 'serve': 3893, 'stereotypes': 4179, 'impact': 2244, 'north': 3036, 'neighborhood': 2993, 'personalities': 3241, 'stereotype': 4178, 'ignorant': 2223, 'split': 4120, 'ruby': 3749, 'african': 142, 'andy': 230, 'blatant': 502, 'importantly': 2248, 'stereotypical': 4180, 'attempts': 343, 'uninspired': 4657, 'notable': 3041, 'stale': 4141, 'comedic': 888, 'fever': 1699, 'miscast': 2862, 'serial': 3889, 'frightening': 1839, 'paying': 3217, 'troubled': 4593, 'sincere': 3991, 'typically': 4624, '80': 58, 'twice': 4613, 'entirely': 1503, 'disappointment': 1275, 'aging': 153, 'recent': 3566, 'teenager': 4390, 'duty': 1390, 'shop': 3945, 'cabin': 643, 'romance': 3732, 'amounts': 220, 'turning': 4608, 'attitude': 346, 'draws': 1352, 'sentimental': 3882, 'suppose': 4305, 'photography': 3260, 'cared': 685, 'wars': 4804, 'annie': 247, 'utterly': 4702, 'screaming': 3827, 'hills': 2109, 'huh': 2187, 'changing': 752, 'consequences': 947, 'claim': 828, 'starting': 4158, 'younger': 4990, 'teens': 4392, 'increasingly': 2268, 'steve': 4181, 'gotten': 1947, 'extreme': 1609, 'surprise': 4312, 'inappropriate': 2259, 'failed': 1626, 'discover': 1279, 'secret': 3849, 'virgin': 4749, 'advice': 133, 'misery': 2865, 'laid': 2508, 'hopeless': 2158, 'shy': 3962, 'perfection': 3225, 'revelation': 3674, 'gradually': 1952, 'grows': 1985, 'catherine': 719, 'finest': 1730, 'clever': 841, 'designed': 1203, 'conservative': 948, 'confidence': 938, 'improvement': 2256, 'consistently': 954, 'throw': 4479, 'propaganda': 3435, 'disease': 1285, 'believable': 453, 'seconds': 3848, 'sheer': 3925, 'briefly': 580, 'object': 3066, 'lesson': 2577, 'cg': 739, 'kung': 2498, 'fu': 1844, 'flicks': 1755, 'gods': 1928, 'vs': 4767, 'fallen': 1638, 'incredible': 2269, 'fighting': 1709, 'generated': 1882, 'protagonist': 3441, 'deserve': 1199, 'integrity': 2311, 'storm': 4206, 'aspects': 322, 'singing': 3995, 'timeless': 4496, 'portray': 3340, 'beautifully': 429, 'performs': 3234, 'choreography': 802, 'displayed': 1292, 'lengthy': 2570, 'jason': 2383, 'alexander': 180, 'seven': 3903, 'realized': 3553, 'nation': 2969, 'circumstances': 822, 'relation': 3595, 'raised': 3508, 'share': 3920, 'names': 2963, 'belong': 459, 'critical': 1062, 'loyal': 2679, 'emotion': 1458, 'lived': 2626, 'loose': 2650, 'visually': 4758, 'delightful': 1168, 'clichéd': 845, 'genuinely': 1892, 'messed': 2821, 'francisco': 1819, 'danger': 1109, 'yeah': 4977, 'plausible': 3295, 'regard': 3588, 'alien': 183, 'nuclear': 3057, 'weapons': 4829, 'wouldve': 4959, 'era': 1513, 'direct': 1258, 'president': 3378, 'defense': 1159, 'soviet': 4089, 'union': 4661, 'massive': 2756, 'arms': 294, 'build': 614, 'wait': 4770, 'returned': 3666, 'creation': 1040, 'civilization': 827, 'wow': 4962, 'glory': 1922, 'flat': 1748, 'contrast': 975, 'ego': 1435, 'intelligent': 2314, 'determined': 1221, 'ranks': 3519, 'quick': 3490, 'tense': 4403, 'psychological': 3458, 'interviews': 2330, 'prison': 3401, 'suck': 4269, 'defeat': 1157, 'del': 1165, 'splendid': 4119, 'building': 615, 'icon': 2211, 'revolutionary': 3681, 'regardless': 3590, 'legend': 2564, 'succeeded': 4263, 'hamlet': 2013, 'listed': 2618, 'scenery': 3810, 'santa': 3783, 'closet': 858, 'senseless': 3878, 'erotic': 1515, 'eva': 1531, 'beats': 426, 'martial': 2747, 'arts': 310, 'woods': 4935, 'handed': 2016, 'copy': 994, 'kills': 2474, 'wrap': 4963, 'affect': 136, 'persons': 3244, 'hasnt': 2044, 'tears': 4380, 'kick': 2460, 'kay': 2447, 'swedish': 4335, 'crowd': 1067, 'cynical': 1093, 'continuity': 972, 'runs': 3757, 'messages': 2820, 'firstly': 1737, 'strangers': 4214, 'bringing': 586, 'rural': 3758, 'scope': 3821, 'exposure': 1599, 'allowing': 191, 'break': 569, 'similarly': 3980, 'focused': 1767, 'formula': 1802, 'spite': 4117, 'stranger': 4213, 'visits': 4756, 'range': 3516, 'broken': 594, 'nearly': 2981, 'businessman': 634, 'domestic': 1318, 'jealous': 2388, 'check': 777, 'sings': 3997, 'elderly': 1440, 'proves': 3447, 'sing': 3992, 'sub': 4252, 'closely': 855, 'holes': 2133, 'awkward': 374, 'cutting': 1092, 'fare': 1655, 'seeking': 3859, 'welcome': 4842, 'alright': 198, 'comics': 895, 'spider': 4109, 'gas': 1874, 'doc': 1303, 'photo': 3257, 'cameos': 658, 'villains': 4745, 'fights': 1710, 'web': 4833, 'sky': 4017, 'prepared': 3371, 'wild': 4885, 'ride': 3692, 'superhero': 4299, 'covers': 1024, 'hang': 2022, 'levels': 2585, 'boss': 546, 'shouldnt': 3952, 'books': 536, 'mans': 2730, '3rd': 47, 'harder': 2035, 'guessed': 1990, 'spoil': 4121, 'accurate': 90, 'flying': 1764, 'hopefully': 2157, 'darker': 1116, 'granted': 1957, 'funniest': 1851, 'funnier': 1850, 'batman': 413, 'peter': 3247, 'sellers': 3872, 'hippie': 2115, 'cinderella': 815, 'context': 968, 'carefully': 689, 'harris': 2038, 'beatty': 427, 'requires': 3642, 'cruel': 1070, 'stock': 4193, 'bat': 410, 'shots': 3950, 'hanging': 2023, 'forty': 1807, 'vacation': 4704, 'ruined': 3751, 'synopsis': 4344, 'reference': 3582, 'stick': 4185, 'mouth': 2920, 'covered': 1023, 'behave': 445, 'essential': 1522, 'study': 4242, 'fifteen': 1706, 'twenty': 4612, 'journey': 2421, 'cop': 991, 'forgettable': 1794, 'ms': 2931, 'danny': 1112, 'bollywood': 530, 'ahead': 159, 'godfather': 1927, 'follow': 1772, 'block': 508, 'retired': 3664, 'security': 3854, 'amitabh': 216, 'precious': 3366, 'restored': 3659, 'barbara': 397, 'stanwyck': 4149, 'lily': 2605, 'blows': 517, 'ground': 1979, 'proceeds': 3411, 'candy': 668, 'daddy': 1096, 'terrific': 4409, 'paris': 3189, 'marry': 2745, 'code': 869, 'tremendous': 4579, 'sin': 3988, 'ignored': 2225, 'ultra': 4629, 'belief': 451, 'fisher': 1739, 'navy': 2976, 'psychiatrist': 3455, 'helps': 2082, 'troubles': 4594, 'shed': 3924, 'tear': 4379, 'issues': 2365, 'foster': 1809, 'winner': 4897, 'directorial': 1265, 'dreams': 1355, 'search': 3841, 'answers': 252, 'questions': 3489, 'priceless': 3390, 'represented': 3638, 'presence': 3373, 'derek': 1192, 'luke': 2687, 'sunshine': 4294, 'nelson': 2997, 'involves': 2348, 'responsible': 3656, 'audiences': 353, 'whenever': 4863, 'montage': 2894, 'fields': 1705, 'indie': 2276, 'mood': 2898, 'neil': 2995, 'press': 3379, 'craft': 1028, 'significant': 3972, 'technique': 4383, 'lyrics': 2692, 'agent': 150, 'london': 2641, 'destiny': 1212, 'dangerous': 1110, 'hyde': 2206, 'lucy': 2684, 'england': 1482, 'connection': 946, 'revealing': 3672, 'appealing': 272, 'fatal': 1664, 'vampires': 4712, 'pal': 3177, 'boyfriend': 558, 'mentions': 2813, 'partner': 3198, 'jail': 2376, 'led': 2558, 'delivers': 1172, 'campy': 664, 'choreographed': 801, 'audio': 354, 'recorded': 3574, 'edited': 1420, 'uk': 4626, 'wendy': 4846, 'cooper': 990, 'available': 361, 'australia': 356, 'drew': 1360, 'daughter': 1121, 'insight': 2298, 'gonna': 1936, 'bruce': 602, 'unhappy': 4656, 'thinks': 4454, 'losing': 2658, 'loses': 2657, 'learns': 2553, 'needed': 2988, 'occur': 3076, 'humble': 2191, 'ourselves': 3140, 'downhill': 1336, 'unlikely': 4671, 'popcorn': 3331, 'drug': 1373, 'lord': 2652, '1970s': 17, 'wooden': 4934, 'print': 3399, 'flynn': 1765, 'breath': 573, 'vivid': 4760, 'mild': 2839, 'smith': 4038, 'sidekick': 3966, 'alan': 171, 'measure': 2786, 'cameo': 657, 'westerns': 4854, 'anthony': 253, 'mann': 2728, 'river': 3707, 'mill': 2845, 'jimmy': 2403, 'walter': 4784, 'corrupt': 1001, 'judge': 2424, 'halfway': 2008, 'arrive': 300, 'sandra': 3782, 'starred': 4153, 'opposite': 3123, 'jerry': 2396, 'lewis': 2586, 'niro': 3019, 'underrated': 4642, 'doll': 1313, 'dinner': 1254, 'rush': 3759, 'undoubtedly': 4648, 'broadway': 592, 'staged': 4140, 'diana': 1237, 'talks': 4361, 'burt': 629, 'prince': 3396, 'tour': 4538, 'sexy': 3911, 'influenced': 2287, 'begin': 442, 'heroine': 2091, 'menace': 2806, 'constant': 957, 'strangely': 4212, 'gory': 1943, 'unbearable': 4633, 'killings': 2473, 'willing': 4889, 'irrelevant': 2358, 'struggle': 4234, 'dressed': 1358, 'claire': 831, 'danes': 1108, 'struck': 4232, 'raw': 3532, 'attempted': 341, 'chinese': 796, 'caliber': 649, 'partly': 3197, 'pearl': 3220, 'buck': 605, 'prize': 3405, 'china': 795, 'closer': 856, 'matched': 2763, 'comparing': 913, 'difference': 1246, 'slave': 4022, 'bears': 421, 'sons': 4073, 'plague': 3285, 'oscars': 3134, 'record': 3573, 'leading': 2547, 'player': 3298, 'facial': 1619, 'subtitles': 4259, 'mentally': 2809, 'retarded': 3663, 'property': 3438, 'location': 2635, 'vincent': 4746, 'ultimate': 4627, '50s': 52, 'gem': 1877, 'allow': 189, 'don': 1320, 'murderous': 2942, 'revenge': 3675, '1973': 19, 'proof': 3434, 'provides': 3450, 'wonderfully': 4929, 'eccentric': 1414, '70': 55, 'cage': 645, 'swimming': 4338, 'rolling': 3730, 'suit': 4284, 'shirt': 3937, 'jamie': 2379, 'cops': 993, 'canadian': 667, 'park': 3190, 'cult': 1077, 'trouble': 4592, 'animals': 240, 'olivier': 3103, 'remote': 3622, 'charming': 768, 'horrid': 2165, 'grandmother': 1955, 'screening': 3830, 'talked': 4359, 'screenwriter': 3833, '1990s': 25, 'pacino': 3164, 'cusack': 1088, 'accent': 78, 'slightly': 4029, 'memorable': 2802, 'cross': 1066, 'existed': 1570, 'semi': 3874, 'market': 2740, 'learning': 2552, 'remain': 3609, 'brilliantly': 584, 'ad': 110, 'excited': 1561, 'motion': 2913, 'medium': 2792, 'slowly': 4032, 'effect': 1428, 'confusion': 943, 'satisfied': 3789, 'harsh': 2040, 'gritty': 1977, 'urban': 4688, 'surprises': 4314, 'noir': 3023, 'detailed': 1218, 'possibly': 3351, 'south': 4087, 'pure': 3471, 'expecting': 1578, 'cowboy': 1025, 'military': 2844, 'robot': 3717, 'asking': 318, 'perform': 3227, 'pulls': 3464, 'gary': 1873, 'wins': 4899, 'receives': 3565, 'irritating': 2359, 'robin': 3715, 'williams': 4888, 'fame': 1642, 'notice': 3048, 'samurai': 3779, 'warned': 4798, 'underlying': 4641, 'develops': 1226, 'thoughtful': 4463, 'albeit': 173, 'grim': 1974, 'essentially': 1523, 'backdrop': 379, 'japan': 2381, 'violent': 4748, 'engaged': 1480, 'portrayal': 3341, 'pathetic': 3210, 'redemption': 3578, 'empathy': 1462, 'tortured': 4530, 'ruthless': 3764, 'buffs': 612, 'appearance': 274, 'wing': 4896, 'kidnapped': 2466, 'weekend': 4838, 'nuts': 3064, 'chorus': 803, 'nowadays': 3055, 'musicals': 2948, 'born': 544, 'douglas': 1334, 'dancers': 1105, 'knowing': 2490, 'stress': 4220, 'competition': 918, 'puts': 3481, 'hundreds': 2196, 'companion': 909, 'broadcast': 591, 'setting': 3900, 'ups': 4686, 'crucial': 1068, 'edward': 1426, 'transition': 4561, 'flaws': 1752, 'flawless': 1751, 'arnold': 296, 'reed': 3580, 'honest': 2146, 'bette': 471, 'davis': 1126, 'sympathetic': 4342, 'patient': 3211, 'bothered': 549, 'gray': 1963, 'childish': 791, 'inevitably': 2283, 'wholly': 4874, 'bone': 533, 'window': 4894, 'van': 4713, 'robbins': 3712, 'blues': 519, 'translation': 4562, 'adds': 119, 'forgotten': 1797, 'kenneth': 2455, 'branagh': 564, 'text': 4419, 'understandable': 4644, 'bargain': 400, 'generic': 1885, 'european': 1530, 'distracting': 1297, 'design': 1202, 'immensely': 2243, 'likewise': 2603, 'battles': 415, 'ham': 2011, 'accused': 91, 'method': 2824, 'average': 362, 'performed': 3230, 'nomination': 3026, 'performers': 3232, 'nicholas': 3010, 'julie': 2428, 'heston': 2094, 'lemmon': 2567, 'favor': 1670, 'screams': 3828, 'tad': 4347, 'conversations': 981, 'tend': 4400, 'bold': 528, 'patrick': 3213, 'sum': 4289, 'trek': 4578, 'grey': 1973, 'hits': 2125, 'enterprise': 1495, '2nd': 41, 'authority': 360, 'kicks': 2463, 'heck': 2071, 'seasons': 3844, 'handful': 2017, 'st': 4137, 'intimate': 2331, 'relations': 3596, 'speed': 4103, 'reviewer': 3677, 'turkey': 4604, 'citizen': 824, 'kane': 2442, 'presumably': 3380, '70s': 56, 'smoking': 4040, 'plan': 3287, 'strongly': 4231, 'dig': 1250, 'devil': 1228, 'toilet': 4512, 'wondered': 4927, 'prequel': 3372, 'move': 2921, 'cat': 713, 'videos': 4734, 'dude': 1381, 'opened': 3113, 'mario': 2738, 'jay': 2386, 'appreciated': 280, 'clue': 864, 'laughed': 2532, 'earned': 1401, 'hbo': 2055, 'yesterday': 4983, 'identity': 2217, 'reveals': 3673, 'walker': 4778, 'texas': 4418, 'mask': 2752, 'reunion': 3669, 'fictional': 1703, 'machines': 2694, 'broke': 593, 'wave': 4818, 'band': 391, 'singer': 3993, 'excessive': 1560, 'lifestyle': 2593, 'secrets': 3852, 'lies': 2591, 'mansion': 2731, 'lasted': 2522, 'manager': 2724, 'europe': 1529, 'dated': 1119, 'figures': 1713, 'tap': 4364, 'ii': 2226, 'relationships': 3598, 'deaths': 1142, 'mediocre': 2791, 'smiling': 4037, 'cameras': 660, 'calm': 655, 'lessons': 2578, 'assume': 328, 'atrocious': 335, 'mom': 2885, 'teeth': 4393, 'bear': 420, 'shark': 3921, 'rescue': 3643, 'execution': 1566, 'fired': 1735, 'affected': 137, 'knock': 2488, 'climax': 849, 'fathers': 1667, 'arm': 292, 'eg': 1434, 'lucas': 2680, 'extra': 1606, 'destruction': 1216, 'discovery': 1282, 'waters': 4817, 'plant': 3293, 'pot': 3354, 'demands': 1175, 'burn': 625, 'visible': 4753, 'accidentally': 85, 'beloved': 461, 'unlike': 4670, 'atmosphere': 333, 'eerie': 1427, 'manipulative': 2727, 'simplicity': 3984, 'freedom': 1828, 'bomb': 531, 'bond': 532, 'graphics': 1959, 'spell': 4104, 'reviewers': 3678, 'rape': 3521, 'feminist': 1695, 'core': 995, 'exploitation': 1592, 'brutal': 603, 'associated': 327, 'cannibal': 669, 'inept': 2281, 'decisions': 1152, 'push': 3477, 'ho': 2127, 'hardcore': 2034, 'notorious': 3051, 'reputation': 3640, 'savage': 3793, 'junior': 2435, 'fate': 1665, 'fox': 1814, 'friday': 1834, 'afternoon': 144, 'user': 4696, 'april': 284, 'cinemas': 817, 'nick': 3012, 'stealing': 4171, 'neighbors': 2994, 'shirley': 3936, 'crush': 1072, 'handle': 2018, 'jr': 2423, 'opportunities': 3120, 'equally': 1510, 'likable': 2598, 'blue': 518, 'exciting': 1563, 'photographed': 3258, 'department': 1182, 'gain': 1863, 'werewolf': 4850, 'par': 3184, 'spin': 4112, 'intelligence': 2313, 'depicted': 1183, 'false': 1641, 'footage': 1782, 'spot': 4131, 'hair': 2005, 'rubber': 3747, 'digital': 1251, 'yellow': 4981, 'damn': 1100, 'skin': 4015, 'pig': 3274, 'segment': 3867, 'wolf': 4920, 'competent': 917, 'construction': 960, 'adapted': 114, 'damon': 1101, 'joseph': 2419, 'sinatra': 3989, 'floating': 1758, 'chicago': 785, 'mob': 2879, 'brando': 566, 'saves': 3796, 'attend': 344, 'lie': 2590, 'leonard': 2572, 'jean': 2389, 'simmons': 3981, 'dolls': 1316, 'established': 1524, 'wives': 4918, 'proceedings': 3410, 'challenging': 744, 'pet': 3246, 'uneven': 4649, 'instinct': 2308, 'selling': 3873, 'closing': 859, 'triumph': 4590, 'issue': 2364, 'land': 2511, 'nail': 2957, 'warming': 4795, 'plain': 3286, 'ratings': 3530, 'fx': 1858, 'blowing': 515, 'phony': 3256, 'drivel': 1364, 'speech': 4102, 'producer': 3415, 'clark': 832, 'sally': 3776, 'gifted': 1907, 'lifetime': 2594, 'lucky': 2683, 'carrie': 697, 'lesser': 2576, 'thrown': 4481, 'adventures': 131, 'dragged': 1343, 'lover': 2672, 'dvds': 1392, 'embarrassing': 1454, 'implausible': 2245, 'mentioning': 2812, 'makeup': 2717, 'quiet': 3492, 'raymond': 3534, 'outcome': 3142, 'ben': 463, 'falk': 1636, 'panic': 3181, 'faithful': 1634, 'trip': 4588, 'manhattan': 2726, 'movement': 2923, 'interpretation': 2328, 'elizabeth': 1445, 'rachel': 3500, 'dan': 1102, 'steven': 4182, 'daughters': 1122, 'intrigue': 2333, 'loud': 2664, 'sappy': 3784, 'lovable': 2668, 'expectations': 1576, 'husbands': 2205, 'provided': 3449, 'shooting': 3943, 'felix': 1689, 'worn': 4948, 'butt': 638, 'fed': 1682, 'trick': 4582, 'husband': 2204, 'kill': 2468, 'larger': 2519, 'closest': 857, 'identify': 2216, 'providing': 3451, 'road': 3709, 'comparison': 914, 'portrays': 3344, 'caused': 724, 'centers': 734, 'humorous': 2193, 'sunday': 4293, 'sharp': 3922, 'mistakes': 2873, 'appalling': 268, 'richards': 3687, 'fitting': 1742, 'projects': 3428, 'charlotte': 766, 'bleak': 503, 'drawing': 1350, 'legs': 2566, 'frequently': 1832, 'poetic': 3313, 'exceptionally': 1559, 'childrens': 793, 'creates': 1038, 'moody': 2899, 'stays': 4169, 'qualities': 3483, 'sink': 3999, 'enjoys': 1489, 'games': 1865, 'greater': 1965, 'proper': 3436, 'toward': 4539, 'overlook': 3153, 'wished': 4905, 'mafia': 2700, 'clothing': 861, 'appearances': 275, 'assistant': 326, 'diane': 1238, 'unable': 4631, 'florida': 1761, 'assigned': 325, 'slapstick': 4019, 'overdone': 3152, 'awfully': 373, 'random': 3514, 'dirty': 1268, 'doors': 1329, 'holmes': 2139, 'vice': 4727, 'fails': 1628, 'target': 4366, 'thousands': 4466, 'quote': 3496, 'scarecrow': 3804, 'relief': 3605, 'cheesy': 781, 'advance': 127, 'swear': 4334, 'represents': 3639, 'souls': 4080, 'protect': 3443, 'ghost': 1902, 'guns': 1998, 'blade': 495, 'honor': 2150, 'shoots': 3944, 'hates': 2048, 'lower': 2677, 'dear': 1140, 'factor': 1622, 'disappointing': 1274, 'virus': 4752, 'involvement': 2347, 'marty': 2749, 'cia': 814, 'inventive': 2341, 'border': 539, 'soap': 4047, 'driven': 1365, 'paltrow': 3178, 'distance': 1294, 'accompanied': 86, 'warmth': 4796, 'jeremy': 2394, 'classes': 834, 'wealthy': 4827, 'differences': 1247, 'hint': 2112, 'ingredients': 2289, 'exotic': 1574, 'nose': 3037, 'locked': 2637, 'suspects': 4328, 'altogether': 202, 'mgm': 2828, 'pretend': 3381, 'activities': 102, 'valuable': 4708, 'leg': 2562, 'damage': 1099, 'jungle': 2434, 'everyones': 1543, 'bound': 553, 'convinced': 984, 'yelling': 4980, 'flashbacks': 1747, 'shakespeare': 3915, 'vast': 4716, 'sword': 4340, 'ghosts': 1903, 'overacting': 3149, 'complain': 919, 'unbelievably': 4635, 'woody': 4936, 'allen': 188, 'morris': 2908, 'voiced': 4762, 'changes': 751, 'rain': 3506, 'lousy': 2667, 'itll': 2369, 'shame': 3918, 'exceptional': 1558, 'hated': 2047, 'simpson': 3987, 'notes': 3046, 'suited': 4286, 'scottish': 3825, 'remarks': 3615, 'bought': 552, 'fly': 1763, 'cried': 1054, 'forgot': 1796, 'higher': 2101, 'greatly': 1967, 'busy': 635, 'alongside': 196, 'glover': 1923, 'brenda': 575, 'birthday': 487, 'christopher': 811, 'lloyd': 2630, 'angels': 234, 'offered': 3088, 'starring': 4154, 'matthew': 2772, 'suspicious': 4332, 'nearby': 2980, 'shelf': 3926, 'chicks': 787, 'civil': 826, 'latter': 2528, 'map': 2733, 'international': 2326, 'groups': 1981, 'inevitable': 2282, 'mitchell': 2875, 'dutch': 1389, 'shelley': 3928, 'winters': 4901, 'encounter': 1466, 'indians': 2275, 'hudson': 2184, 'cheating': 776, 'passes': 3203, 'dean': 1139, 'planning': 3291, 'plans': 3292, 'holding': 2130, 'bank': 394, 'pursuit': 3476, 'showdown': 3955, 'universal': 4665, 'contract': 973, 'curtis': 1087, 'titled': 4505, 'physically': 3263, 'connect': 944, 'pulp': 3465, 'birth': 486, 'happily': 2030, 'virginia': 4750, 'endings': 1472, 'nazi': 2977, 'machine': 2693, 'iii': 2227, '2002': 32, 'doom': 1326, 'waves': 4819, 'duke': 1383, 'gordon': 1940, 'freeman': 1829, 'cases': 708, 'aged': 149, 'six': 4010, 'profound': 3423, 'tame': 4363, 'lacks': 2505, 'illogical': 2231, 'enters': 1496, 'rooms': 3736, 'treated': 4573, 'surreal': 4317, 'greek': 1970, 'humour': 2194, 'quotes': 3497, 'blond': 510, 'juvenile': 2441, 'paper': 3183, 'roberts': 3714, 'cook': 988, 'dialogues': 1235, 'trite': 4589, 'sadistic': 3768, 'repeatedly': 3632, 'frustration': 1843, 'grasp': 1960, 'blonde': 511, 'category': 718, 'bela': 450, 'lugosi': 2686, 'generous': 1886, 'nancy': 2964, 'entertained': 1498, 'gross': 1978, 'emma': 1457, 'dignity': 1252, 'owner': 3159, 'chris': 806, 'willis': 4890, 'opera': 3116, 'upset': 4687, 'receive': 3563, 'india': 2273, 'protagonists': 3442, 'regular': 3592, 'connected': 945, 'hence': 2083, 'rubbish': 3748, 'wayne': 4821, 'rick': 3689, 'eve': 1532, 'adam': 111, 'jenny': 2393, 'jake': 2377, 'richardson': 3688, 'risk': 3704, 'satan': 3787, 'shut': 3961, 'brave': 567, 'scared': 3805, 'hints': 2113, 'secretary': 3850, 'travels': 4569, 'path': 3209, 'properly': 3437, 'understanding': 4645, 'questionable': 3488, 'korean': 2495, 'bottle': 550, 'drunken': 1376, 'cure': 1081, 'communist': 907, 'guard': 1988, 'shake': 3914, 'reveal': 3670, 'gotta': 1946, 'prisoner': 3402, 'andrew': 228, 'primarily': 3393, 'spoiled': 4122, 'combat': 882, 'noise': 3024, 'jane': 2380, 'practice': 3363, 'hurts': 2203, 'miike': 2837, 'freak': 1824, 'wanna': 4786, 'frankly': 1823, 'heat': 2067, 'trapped': 4564, 'homer': 2144, 'recognition': 3568, 'reminds': 3620, '2001': 31, 'inspiration': 2300, 'ordinary': 3128, 'advertising': 132, 'food': 1778, 'steps': 4177, 'courage': 1018, 'urge': 4689, 'nine': 3017, 'motivation': 2914, 'presents': 3377, 'sits': 4006, 'promise': 3430, 'necessarily': 2983, 'pops': 3332, 'promised': 3431, 'hopes': 2159, 'halloween': 2010, 'aid': 160, 'unnecessary': 4672, 'concert': 935, 'terry': 4415, 'carl': 692, 'refuses': 3587, 'contact': 961, 'easier': 1405, 'overwhelming': 3157, 'views': 4742, 'reactions': 3542, 'relevant': 3604, 'boredom': 542, 'spectacular': 4101, 'ah': 158, 'faster': 1662, 'topic': 4526, 'succeed': 4262, 'melodramatic': 2798, 'adequate': 120, 'zombie': 4997, 'bonus': 534, 'fulci': 1845, 'load': 2631, 'asian': 314, 'useful': 4694, 'atlantis': 332, 'cleverly': 842, 'flaw': 1749, 'cars': 702, 'understood': 4647, 'glenn': 1918, 'streep': 4215, 'escape': 1517, 'thrills': 4475, 'subsequent': 4257, 'survival': 4320, 'dubbing': 1380, 'inferior': 2285, 'monkeys': 2891, 'suggested': 4281, 'resembles': 3646, 'admittedly': 123, 'imaginative': 2237, 'colour': 880, 'ties': 4490, 'miserably': 2864, 'skip': 4016, 'delivering': 1171, 'frequent': 1831, 'deliberately': 1166, 'angles': 237, 'jeff': 2390, '1930s': 11, 'structure': 4233, 'explanation': 1590, 'gag': 1861, 'fay': 1674, 'overly': 3155, 'intentionally': 2320, 'incomprehensible': 2267, 'counter': 1011, 'closed': 854, 'cary': 706, 'grant': 1956, 'rolled': 3729, 'christ': 807, 'coffee': 870, 'unaware': 4632, 'desperately': 1209, 'vulnerable': 4768, 'bite': 489, 'haunted': 2050, 'shell': 3927, 'terrifying': 4410, 'sinister': 3998, 'operation': 3117, 'gene': 1879, 'succeeds': 4264, 'handsome': 2021, 'chair': 742, 'passion': 3205, 'rank': 3518, 'agents': 151, 'germany': 1898, 'commented': 900, 'remembered': 3617, 'zone': 4999, 'decades': 1145, 'elsewhere': 1449, 'viewed': 4737, 'stretched': 4222, 'worthwhile': 4955, 'united': 4664, 'states': 4163, 'arrival': 299, 'household': 2179, 'planned': 3290, 'youth': 4994, 'classical': 836, 'wanting': 4790, 'kelly': 2452, 'mouse': 2919, 'website': 4834, '1940s': 13, 'tooth': 4524, 'apartment': 265, 'surrounded': 4318, 'beneath': 464, 'grave': 1962, 'spirits': 4115, 'purely': 3472, 'abc': 63, 'dropped': 1370, 'hysterical': 2208, 'shoes': 3941, 'cats': 721, 'aint': 163, 'lol': 2640, 'molly': 2884, 'distribution': 1298, 'ruin': 3750, 'dracula': 1341, 'frankenstein': 1822, 'mummy': 2937, 'dick': 1239, 'surfing': 4311, 'carries': 699, 'focusing': 1769, 'primary': 3394, 'sport': 4129, 'flawed': 1750, 'tarzan': 4367, 'edgar': 1417, 'novels': 3053, 'calls': 654, 'harry': 2039, 'hunt': 2198, 'heads': 2059, 'elephant': 1444, 'wizard': 4919, 'hamilton': 2012, 'gangsters': 1869, 'gold': 1932, 'national': 2970, 'belongs': 460, 'eastern': 1408, 'countries': 1013, 'nations': 2971, 'corruption': 1002, 'latest': 2526, '1984': 23, 'lips': 2615, '11': 2, 'attraction': 350, 'clip': 851, 'officers': 3093, 'ie': 2221, 'captain': 674, 'enemies': 1476, 'lately': 2524, 'originality': 3130, 'spring': 4134, 'coach': 868, 'baseball': 403, 'professional': 3421, 'golden': 1934, 'influence': 2286, 'medical': 2790, 'ruins': 3752, 'descent': 1193, 'ignore': 2224, 'ethan': 1528, 'modesty': 2883, 'hoped': 2156, 'tight': 4492, 'routine': 3743, 'opens': 3115, 'carol': 693, 'namely': 2962, 'strip': 4228, 'cheated': 775, 'jeffrey': 2391, 'jumped': 2430, 'disbelief': 1277, 'stinker': 4191, 'innocence': 2293, 'driver': 1366, 'careers': 687, 'swim': 4337, 'displays': 1293, 'occasional': 3074, 'peace': 3219, 'expert': 1585, 'doo': 1325, 'breathtaking': 574, 'consistent': 953, 'columbo': 881, 'ruth': 3763, 'horrendous': 2162, 'release': 3602, 'chaos': 755, 'paint': 3173, 'wacky': 4769, 'german': 1896, 'teacher': 4375, 'doomed': 1327, 'engage': 1479, 'bare': 398, 'racial': 3501, 'em': 1452, 'account': 89, 'dickens': 1240, 'randomly': 3515, 'failing': 1627, 'pitch': 3279, 'embarrassment': 1455, 'send': 3875, 'sidney': 3968, 'mile': 2842, 'kennedy': 2454, 'trade': 4547, 'versions': 4721, 'awe': 370, 'command': 897, 'carrying': 701, 'reduced': 3579, 'overlooked': 3154, 'armed': 293, 'explored': 1595, 'garbo': 1871, 'noted': 3045, 'dawson': 1128, 'nightmare': 3014, 'months': 2897, 'territory': 4411, 'laws': 2540, 'strictly': 4223, 'wood': 4933, 'faced': 1617, 'pack': 3165, 'hip': 2114, 'purchased': 3470, 'equipment': 1511, 'lone': 2642, 'represent': 3637, 'passing': 3204, 'hollywoods': 2138, 'canada': 666, 'craig': 1030, 'pitt': 3280, 'describe': 1194, 'settle': 3902, 'linda': 2609, 'painfully': 3172, 'introduced': 2337, 'lights': 2597, 'movements': 2924, 'painting': 3175, 'kissing': 2484, '1933': 12, 'shorts': 3948, 'library': 2589, 'idiot': 2218, 'illegal': 2229, 'dust': 1388, 'alcohol': 176, 'scripted': 3835, 'resist': 3648, 'advantage': 129, 'dressing': 1359, 'hat': 2045, 'attacks': 339, 'interaction': 2322, 'beings': 449, 'marriage': 2743, 'treats': 4575, 'crisis': 1060, 'stretch': 4221, 'coherent': 871, 'areas': 287, 'politically': 3325, 'feed': 1683, 'traveling': 4568, 'credibility': 1047, 'desert': 1198, 'oil': 3097, 'dozens': 1339, 'size': 4012, 'colonel': 876, 'status': 4165, 'sixties': 4011, 'essence': 1521, 'nowhere': 3056, '20th': 38, 'reynolds': 3684, 'voight': 4764, 'accomplished': 87, 'trademark': 4548, 'producing': 3417, 'returning': 3667, 'nurse': 3063, 'loser': 2655, 'deaf': 1134, 'cgi': 740, 'crack': 1027, 'performer': 3231, 'contrived': 976, 'expensive': 1579, 'scheme': 3812, 'newspaper': 3006, 'eighties': 1437, 'rocks': 3722, 'occasionally': 3075, 'eric': 1514, 'spread': 4133, 'shape': 3919, 'pretending': 3382, 'overcome': 3151, 'lying': 2690, 'formulaic': 1803, 'orange': 3125, 'climactic': 848, 'folk': 1770, 'tommy': 4516, 'funeral': 1849, 'acid': 95, 'bo': 521, 'hotel': 2175, 'lane': 2515, 'grew': 1972, 'lowest': 2678, 'sucks': 4271, 'commercials': 903, 'ha': 2002, 'captured': 677, 'superior': 4300, 'suits': 4287, 'vision': 4754, 'mental': 2808, 'doctors': 1305, 'naive': 2958, 'lisa': 2616, 'sexually': 3910, 'captivating': 675, 'sitcom': 4004, 'donna': 1323, 'cousin': 1021, 'jumps': 2432, 'weakest': 4825, 'cup': 1080, 'thrill': 4471, 'suffer': 4275, 'paid': 3169, 'rochester': 3719, 'margaret': 2735, 'sides': 3967, 'deeper': 1155, 'tunes': 4603, 'catchy': 717, 'tends': 4402, 'adorable': 124, 'butler': 637, 'bathroom': 412, 'amazingly': 210, 'religion': 3607, 'catholic': 720, 'church': 813, 'inane': 2258, 'priest': 3392, 'population': 3335, 'portrait': 3339, 'religious': 3608, 'humans': 2190, 'devils': 1229, 'lumet': 2688, 'sutherland': 4333, 'blacks': 494, 'race': 3499, 'fortunately': 1805, 'resulting': 3661, 'throws': 4482, 'museum': 2945, 'hed': 2072, 'adams': 112, 'un': 4630, 'attached': 336, 'maria': 2736, 'fascinated': 1657, 'online': 3109, 'macy': 2695, 'clumsy': 866, 'admire': 121, 'kicking': 2462, 'survivor': 4324, 'estate': 1525, 'von': 4765, 'lesbian': 2573, 'guts': 1999, 'combine': 884, 'giallo': 1904, 'dinosaurs': 1256, 'pull': 3461, 'terrorists': 4414, 'largely': 2518, 'stiff': 4187, 'enter': 1494, 'provoking': 3452, 'insulting': 2310, 'logical': 2639, 'polished': 3323, 'midnight': 2834, 'stiller': 4189, 'spy': 4135, 'blew': 505, 'homosexual': 2145, 'rage': 3505, 'depiction': 1185, '30s': 44, '40s': 49, 'thomas': 4458, 'whereas': 4865, 'witnessed': 4915, 'scientist': 3818, 'idiotic': 2219, 'stupidity': 4248, 'surely': 4309, 'spiritual': 4116, 'twisted': 4618, 'cities': 823, 'staying': 4168, 'hurt': 2202, 'depressed': 1187, 'hospital': 2172, 'wounded': 4961, 'realizing': 3555, 'shallow': 3917, 'complexity': 924, 'murderer': 2941, 'wet': 4855, 'pants': 3182, 'continue': 969, 'edition': 1422, 'melting': 2799, 'baker': 385, 'blow': 514, 'bacall': 377, 'wind': 4893, 'imitation': 2241, 'constructed': 959, 'susan': 4326, 'singers': 3994, 'chest': 784, 'forest': 1791, 'hunter': 2199, 'infamous': 2284, 'magazine': 2701, 'snl': 4044, 'variety': 4714, 'sid': 3964, 'vicious': 4728, 'signed': 3971, 'repeat': 3630, 'celluloid': 731, 'hype': 2207, 'massacre': 2754, 'elm': 1447, 'jaws': 2385, 'myers': 2952, 'knife': 2487, 'eight': 1436, 'shadows': 3913, 'wes': 4851, 'zombies': 4998, 'brilliance': 582, 'revolves': 3682, 'widow': 4883, 'worker': 4942, 'pregnant': 3369, 'abusive': 75, 'crappy': 1032, 'jet': 2400, 'notably': 3042, 'matrix': 2767, 'helicopter': 2076, 'pink': 3277, 'escaped': 1518, 'spoken': 4126, 'angle': 236, 'tracks': 4545, 'vegas': 4717, 'destroying': 1215, 'rule': 3753, 'los': 2653, 'mtv': 2933, 'discuss': 1283, 'lust': 2689, 'switch': 4339, 'bride': 577, 'sophisticated': 4075, 'franco': 1820, 'spain': 4091, 'forbidden': 1785, 'emphasis': 1463, 'chilling': 794, 'thief': 4448, 'laura': 2536, 'francis': 1818, 'kim': 2475, 'mall': 2720, 'drives': 1367, 'thugs': 4484, 'brutally': 604, 'spielberg': 4110, 'bridge': 578, 'boom': 537, 'losers': 2656, 'judging': 2425, 'trailers': 4555, 'copies': 992, 'assumed': 329, 'introduce': 2336, 'unseen': 4678, 'calling': 653, 'ear': 1397, 'clint': 850, 'amy': 222, 'clichés': 846, 'entry': 1504, 'newly': 3004, 'jackson': 2375, 'imagery': 2234, 'unoriginal': 4673, 'placed': 3283, 'attracted': 349, 'lake': 2509, 'mickey': 2831, 'alice': 182, 'wed': 4835, 'ensemble': 1492, 'ball': 388, 'flesh': 1753, 'dynamic': 1394, 'bud': 607, 'loosely': 2651, 'tiresome': 4502, 'unconvincing': 4638, 'glorious': 1921, 'blend': 504, 'despair': 1207, 'resemblance': 3645, 'dances': 1106, 'event': 1535, 'versus': 4722, 'spending': 4106, 'picking': 3267, 'staff': 4138, 'walks': 4780, 'argument': 291, 'uninteresting': 4660, '45': 50, 'unknown': 4668, 'timing': 4498, 'caine': 647, 'nicholson': 3011, 'females': 1694, 'smaller': 4034, 'reflection': 3585, 'maker': 2714, 'foot': 1781, 'jerk': 2395, 'afford': 138, 'schools': 3814, 'jumping': 2431, 'inspiring': 2302, 'matthau': 2771, 'hanks': 2025, 'albert': 174, 'hiding': 2099, 'possibility': 3349, 'wannabe': 4787, 'mistaken': 2872, 'builds': 617, 'ripped': 3701, 'progress': 3425, 'kirk': 2482, 'evidence': 1546, 'oliver': 3102, 'reasonable': 3558, 'teach': 4374, 'compelled': 915, 'lynch': 2691, 'relate': 3593, 'invasion': 2340, 'vote': 4766, 'turner': 4607, 'astaire': 330, 'rogers': 3725, 'popularity': 3334, 'ginger': 1908, 'betty': 474, 'berlin': 467, 'cd': 728, 'slightest': 4028, 'taught': 4370, 'conventional': 979, 'documentaries': 1306, 'heavily': 2069, 'idiots': 2220, 'jazz': 2387, 'bob': 524, 'twins': 4616, 'bodies': 526, 'breasts': 572, 'disc': 1278, 'ape': 266, 'testament': 4417, 'corner': 996, 'afterwards': 145, 'luckily': 2682, 'remind': 3618, 'contest': 967, 'honesty': 2148, 'pamela': 3179, '16': 8, 'teachers': 4376, 'meat': 2787, 'pokemon': 3320, 'iron': 2354, 'warrior': 4802, 'topless': 4527, 'chased': 770, 'doubts': 1333, 'crash': 1033, 'cards': 683, 'freddy': 1826, 'prostitute': 3440, 'airplane': 166, 'leslie': 2574, 'wealth': 4826, 'commit': 904, 'foul': 1810, 'remaining': 3610, 'disgusting': 1286, 'tonight': 4519, 'outrageous': 3145, 'roman': 3731, 'restaurant': 3658, 'ought': 3138, 'devoted': 1231, 'seagal': 3839, 'plane': 3288, 'segments': 3868, 'ian': 2209, 'hugh': 2186, 'card': 681, 'clues': 865, 'brooklyn': 595, 'celebrity': 729, 'eager': 1396, 'intentions': 2321, 'encounters': 1467, 'underground': 4640, 'suffers': 4278, 'greedy': 1969, 'wrestling': 4966, 'weight': 4840, 'ease': 1404, 'throat': 4476, 'believed': 455, 'moronic': 2907, 'species': 4098, 'abilities': 64, 'innovative': 2295, 'extraordinary': 1607, 'orson': 3132, 'welles': 4844, 'incoherent': 2265, 'deceased': 1146, 'nostalgia': 3038, 'directions': 1262, 'antics': 255, 'invisible': 2344, 'dragon': 1344, 'rangers': 3517, 'godzilla': 1929, 'introduces': 2338, 'borrowed': 545, 'cringe': 1059, 'alert': 178, 'workers': 4943, 'quit': 3494, 'contrary': 974, 'millions': 2848, 'currently': 1085, '24': 39, 'sounding': 4083, 'survivors': 4325, 'families': 1644, 'pro': 3406, 'morality': 2903, 'occasion': 3073, 'bush': 632, 'buried': 624, 'pushed': 3478, 'alfred': 181, 'shine': 3931, 'tomatoes': 4515, 'basketball': 409, 'scientists': 3819, 'beer': 439, 'matches': 2764, 'guest': 1992, 'complaint': 920, 'loads': 2633, 'blind': 506, 'resident': 3647, 'multi': 2935, 'uwe': 4703, 'boll': 529, 'plastic': 3294, 'satisfy': 3790, 'nervous': 2999, 'stooges': 4200, 'wears': 4832, 'editor': 1423, 'emily': 1456, 'familys': 1646, 'cliff': 847, 'piano': 3264, 'fat': 1663, 'listening': 2620, 'royal': 3746, 'button': 639, 'ballet': 389, 'waited': 4771, 'intrigued': 2334, 'fetched': 1698, 'dire': 1257, 'mechanical': 2788, 'warriors': 4803, 'writes': 4970, 'ridiculously': 3694, 'furthermore': 1854, 'installment': 2303, 'omen': 3104, 'hitchcock': 2123, 'outer': 3143, 'separate': 3883, 'widmark': 4882, 'rid': 3690, 'cake': 648, 'masterful': 2758, 'depression': 1189, 'tracy': 4546, 'gandhi': 1866, 'widely': 4881, 'brosnan': 597, 'hill': 2108, 'thick': 4447, 'boxing': 556, 'ward': 4793, 'robots': 3718, 'highlight': 2103, 'hop': 2154, 'prefer': 3368, 'davies': 1125, 'da': 1094, 'andrews': 229, 'forms': 1801, 'germans': 1897, 'broad': 590, 'bullets': 621, 'grandfather': 1954, 'simon': 3982, 'wrapped': 4964, 'convey': 982, 'cell': 730, 'couples': 1017, 'neat': 2982, 'chain': 741, 'miserable': 2863, 'arrives': 302, 'intent': 2318, 'relatives': 3601, 'global': 1920, 'morgan': 2905, 'teaching': 4377, 'attorney': 348, 'mundane': 2938, 'carradine': 695, 'transfer': 4559, 'ralph': 3510, 'stilted': 4190, 'tall': 4362, 'bobby': 525, 'dealt': 1138, 'soccer': 4048, 'taxi': 4371, 'goldberg': 1933, 'hilariously': 2107, 'subtlety': 4261, 'prisoners': 3403, 'resources': 3651, 'desired': 1206, 'guarantee': 1987, 'stunt': 4245, 'access': 83, 'wicked': 4879, 'sadness': 3770, 'understated': 4646, 'italy': 2368, 'hood': 2151, 'fix': 1744, 'worthless': 4954, 'kong': 2494, 'chan': 746, 'hung': 2197, 'witness': 4914, 'maggie': 2702, 'stunts': 4246, 'arguably': 289, 'bettie': 473, 'photos': 3261, 'rushed': 3760, 'hank': 2024, 'nightmares': 3015, '1972': 18, 'amanda': 205, 'official': 3094, 'outfit': 3144, 'rob': 3710, 'reads': 3545, 'recording': 3575, 'streisand': 4218, 'reaches': 3538, 'landing': 2512, 'chess': 783, 'ensues': 1493, 'subplots': 4256, 'jessica': 2398, 'et': 1526, 'figured': 1712, 'notion': 3050, 'whale': 4857, 'mate': 2765, 'chases': 771, 'parallel': 3185, 'temple': 4398, 'mysteries': 2954, 'demented': 1176, 'brains': 563, 'jonathan': 2417, 'slick': 4026, 'futuristic': 1857, 'wound': 4960, 'regarding': 3589, 'sullivan': 4288, 'describes': 1196, 'stevens': 4183, 'distinct': 1296, 'hong': 2149, 'thankfully': 4422, 'aimed': 162, 'toys': 4543, 'buddies': 608, 'rotten': 3740, 'christians': 809, 'ashamed': 312, 'wishing': 4907, 'removed': 3624, 'improve': 2254, 'laughably': 2531, 'attitudes': 347, 'roots': 3738, 'analysis': 224, 'carter': 703, 'louise': 2666, 'karloff': 2445, 'generations': 1884, 'gabriel': 1859, 'tag': 4348, 'painted': 3174, 'illness': 2230, 'prior': 3400, 'genres': 1889, 'brand': 565, 'heights': 2073, 'horses': 2171, 'arrived': 301, 'narrator': 2967, 'joey': 2408, '1960s': 15, 'con': 928, 'interview': 2329, 'simplistic': 3985, 'lay': 2542, 'enormous': 1490, 'alike': 185, 'trees': 4577, 'inducing': 2279, 'plight': 3308, 'witches': 4910, 'cole': 873, 'remarkably': 3614, 'eastwood': 1409, 'gender': 1878, 'headed': 2058, 'resort': 3650, 'paranoia': 3186, 'laurel': 2537, 'potentially': 3356, 'capturing': 679, 'marks': 2742, 'accents': 79, 'equivalent': 1512, 'spirited': 4114, 'slaughter': 4021, '1st': 28, 'settings': 3901, 'eyre': 1614, 'aforementioned': 139, 'helen': 2075, 'prevent': 3385, 'rap': 3520, 'bible': 477, 'atmospheric': 334, 'mountains': 2918, 'spooky': 4128, 'photographer': 3259, 'improved': 2255, 'slight': 4027, 'anderson': 227, 'raising': 3509, 'australian': 357, 'involve': 2345, 'rules': 3754, 'flight': 1757, 'theyll': 4444, 'grab': 1949, 'waitress': 4773, 'pride': 3391, 'complicated': 925, 'defend': 1158, 'sue': 4274, 'resolution': 3649, 'report': 3635, 'justin': 2440, 'burns': 628, 'instant': 2305, 'reaching': 3539, 'condition': 937, 'philip': 3252, 'buff': 611, 'fashioned': 1660, 'witnesses': 4916, 'airport': 167, 'brazil': 568, 'developing': 1224, 'championship': 745, 'magical': 2704, 'eaten': 1412, 'crocodile': 1065, 'motives': 2916, 'victoria': 4732, '35': 45, 'imagined': 2239, 'seeks': 3860, '13th': 5, 'bakshi': 386, 'splatter': 4118, 'vaguely': 4706, 'snake': 4042, 'michelle': 2830, 'avoided': 364, 'polanski': 3321, 'psychic': 3456, 'travesty': 4570, 'educational': 1425, 'philosophy': 3254, 'offering': 3089, 'unintentionally': 4659, 'mixture': 2878, 'defined': 1160, 'rat': 3525, 'farce': 1654, 'ted': 4386, 'portion': 3338, 'hammer': 2014, 'valley': 4707, 'dorothy': 1330, 'hunters': 2200, 'pulling': 3463, 'madonna': 2699, 'robbery': 3711, 'causing': 726, 'snow': 4045, 'darkness': 1117, 'georges': 1894, 'blunt': 520, 'dropping': 1371, 'cave': 727, 'hideous': 2098, 'elegant': 1441, 'stan': 4142, 'masterpieces': 2760, 'campbell': 663, 'ritter': 3705, 'pg': 3250, 'bumbling': 622, 'abraham': 69, 'amateurish': 207, 'hollow': 2135, 'highest': 2102, 'safety': 3772, 'hardy': 2037, 'oz': 3160, 'landscapes': 2514, 'angeles': 233, 'hart': 2041, 'judy': 2426, 'superman': 4301, 'craven': 1034, 'bands': 392, 'wells': 4845, 'superbly': 4297, 'suspend': 4329, 'wear': 4830, 'scooby': 3820, 'carried': 698, 'gundam': 1997, 'lena': 2568, 'ninja': 3018, 'sneak': 4043, 'threatening': 4468, 'mayor': 2777, 'designs': 1204, 'dolph': 1317, 'phantom': 3251, 'edie': 1419, 'titles': 4506, 'principal': 3398, 'ramones': 3512, 'cruise': 1071, 'ashley': 313, 'saga': 3773, 'conceived': 929, 'li': 2587, 'dedicated': 1153, 'dub': 1378, 'preview': 3386, 'inspector': 2299, 'winds': 4895, 'reel': 3581, 'ocean': 3079, 'sandler': 3781, 'wore': 4939, 'gadget': 1860, 'relative': 3599, 'che': 773, 'awake': 365, 'dalton': 1098, 'garden': 1872, 'rabbit': 3498, 'metal': 2823, 'wandering': 4785, 'karen': 2444, 'jaw': 2384, 'leo': 2571, 'der': 1191, 'muslim': 2949, 'lawrence': 2539, 'concern': 931, 'peters': 3248, 'kubrick': 2496, 'bath': 411, 'prom': 3429, 'advanced': 128, 'steel': 4173, 'scores': 3823, 'kingdom': 2480, 'blob': 507, 'seed': 3856, 'rats': 3531, 'elvis': 1451, 'stargate': 4151, 'monk': 2889, 'holly': 2136, 'apes': 267, 'mildred': 2841, '3d': 46, 'scrooge': 3837, 'cagney': 646}\n"
     ]
    }
   ],
   "source": [
    "print(str(vocabulary))"
   ]
  },
  {
   "cell_type": "markdown",
   "metadata": {},
   "source": [
    "Once you have added the endpoint name to the Lambda function, click on **Save**. Your Lambda function is now up and running. Next we need to create a way for our web app to execute the Lambda function."
   ]
  },
  {
   "cell_type": "markdown",
   "metadata": {},
   "source": [
    "### Setting up API Gateway\n",
    "\n",
    "Now that our Lambda function is set up, it is time to create a new API using API Gateway that will trigger the Lambda function we have just created.\n",
    "\n",
    "Using AWS Console, navigate to **Amazon API Gateway** and then click on **Get started**.\n",
    "\n",
    "On the next page, make sure that **New API** is selected and give the new api a name, for example, `sentiment_analysis_web_app`. Then, click on **Create API**.\n",
    "\n",
    "Now we have created an API, however it doesn't currently do anything. What we want it to do is to trigger the Lambda function that we created earlier.\n",
    "\n",
    "Select the **Actions** dropdown menu and click **Create Method**. A new blank method will be created, select its dropdown menu and select **POST**, then click on the check mark beside it.\n",
    "\n",
    "For the integration point, make sure that **Lambda Function** is selected and click on the **Use Lambda Proxy integration**. This option makes sure that the data that is sent to the API is then sent directly to the Lambda function with no processing. It also means that the return value must be a proper response object as it will also not be processed by API Gateway.\n",
    "\n",
    "Type the name of the Lambda function you created earlier into the **Lambda Function** text entry box and then click on **Save**. Click on **OK** in the pop-up box that then appears, giving permission to API Gateway to invoke the Lambda function you created.\n",
    "\n",
    "The last step in creating the API Gateway is to select the **Actions** dropdown and click on **Deploy API**. You will need to create a new Deployment stage and name it anything you like, for example `prod`.\n",
    "\n",
    "You have now successfully set up a public API to access your SageMaker model. Make sure to copy or write down the URL provided to invoke your newly created public API as this will be needed in the next step. This URL can be found at the top of the page, highlighted in blue next to the text **Invoke URL**."
   ]
  },
  {
   "cell_type": "markdown",
   "metadata": {},
   "source": [
    "## Step 7: Deploying our web app\n",
    "\n",
    "Now that we have a publicly available API, we can start using it in a web app. For our purposes, we have provided a simple static html file which can make use of the public api you created earlier.\n",
    "\n",
    "In the `website` folder there should be a file called `index.html`. Download the file to your computer and open that file up in a text editor of your choice. There should be a line which contains **\\*\\*REPLACE WITH PUBLIC API URL\\*\\***. Replace this string with the url that you wrote down in the last step and then save the file.\n",
    "\n",
    "Now, if you open `index.html` on your local computer, your browser will behave as a local web server and you can use the provided site to interact with your SageMaker model.\n",
    "\n",
    "If you'd like to go further, you can host this html file anywhere you'd like, for example using github or hosting a static site on Amazon's S3. Once you have done this you can share the link with anyone you'd like and have them play with it too!\n",
    "\n",
    "> **Important Note** In order for the web app to communicate with the SageMaker endpoint, the endpoint has to actually be deployed and running. This means that you are paying for it. Make sure that the endpoint is running when you want to use the web app but that you shut it down when you don't need it, otherwise you will end up with a surprisingly large AWS bill."
   ]
  },
  {
   "cell_type": "markdown",
   "metadata": {},
   "source": [
    "### Delete the endpoint\n",
    "\n",
    "Remember to always shut down your endpoint if you are no longer using it. You are charged for the length of time that the endpoint is running so if you forget and leave it on you could end up with an unexpectedly large bill."
   ]
  },
  {
   "cell_type": "code",
   "execution_count": 51,
   "metadata": {},
   "outputs": [],
   "source": [
    "xgb_predictor.delete_endpoint()"
   ]
  },
  {
   "cell_type": "markdown",
   "metadata": {},
   "source": [
    "## Optional: Clean up\n",
    "\n",
    "The default notebook instance on SageMaker doesn't have a lot of excess disk space available. As you continue to complete and execute notebooks you will eventually fill up this disk space, leading to errors which can be difficult to diagnose. Once you are completely finished using a notebook it is a good idea to remove the files that you created along the way. Of course, you can do this from the terminal or from the notebook hub if you would like. The cell below contains some commands to clean up the created files from within the notebook."
   ]
  },
  {
   "cell_type": "code",
   "execution_count": 52,
   "metadata": {},
   "outputs": [
    {
     "ename": "OSError",
     "evalue": "[Errno 12] Cannot allocate memory",
     "output_type": "error",
     "traceback": [
      "\u001b[0;31m---------------------------------------------------------------------------\u001b[0m",
      "\u001b[0;31mOSError\u001b[0m                                   Traceback (most recent call last)",
      "\u001b[0;32m<ipython-input-52-2c87d8eefdf2>\u001b[0m in \u001b[0;36m<module>\u001b[0;34m\u001b[0m\n\u001b[1;32m      1\u001b[0m \u001b[0;31m# First we will remove all of the files contained in the data_dir directory\u001b[0m\u001b[0;34m\u001b[0m\u001b[0;34m\u001b[0m\u001b[0;34m\u001b[0m\u001b[0m\n\u001b[0;32m----> 2\u001b[0;31m \u001b[0mget_ipython\u001b[0m\u001b[0;34m(\u001b[0m\u001b[0;34m)\u001b[0m\u001b[0;34m.\u001b[0m\u001b[0msystem\u001b[0m\u001b[0;34m(\u001b[0m\u001b[0;34m'rm $data_dir/*'\u001b[0m\u001b[0;34m)\u001b[0m\u001b[0;34m\u001b[0m\u001b[0;34m\u001b[0m\u001b[0m\n\u001b[0m\u001b[1;32m      3\u001b[0m \u001b[0;34m\u001b[0m\u001b[0m\n\u001b[1;32m      4\u001b[0m \u001b[0;31m# And then we delete the directory itself\u001b[0m\u001b[0;34m\u001b[0m\u001b[0;34m\u001b[0m\u001b[0;34m\u001b[0m\u001b[0m\n\u001b[1;32m      5\u001b[0m \u001b[0mget_ipython\u001b[0m\u001b[0;34m(\u001b[0m\u001b[0;34m)\u001b[0m\u001b[0;34m.\u001b[0m\u001b[0msystem\u001b[0m\u001b[0;34m(\u001b[0m\u001b[0;34m'rmdir $data_dir'\u001b[0m\u001b[0;34m)\u001b[0m\u001b[0;34m\u001b[0m\u001b[0;34m\u001b[0m\u001b[0m\n",
      "\u001b[0;32m~/anaconda3/envs/amazonei_mxnet_p36/lib/python3.6/site-packages/ipykernel/zmqshell.py\u001b[0m in \u001b[0;36msystem_piped\u001b[0;34m(self, cmd)\u001b[0m\n\u001b[1;32m    645\u001b[0m                 \u001b[0mself\u001b[0m\u001b[0;34m.\u001b[0m\u001b[0muser_ns\u001b[0m\u001b[0;34m[\u001b[0m\u001b[0;34m'_exit_code'\u001b[0m\u001b[0;34m]\u001b[0m \u001b[0;34m=\u001b[0m \u001b[0msystem\u001b[0m\u001b[0;34m(\u001b[0m\u001b[0mcmd\u001b[0m\u001b[0;34m)\u001b[0m\u001b[0;34m\u001b[0m\u001b[0;34m\u001b[0m\u001b[0m\n\u001b[1;32m    646\u001b[0m         \u001b[0;32melse\u001b[0m\u001b[0;34m:\u001b[0m\u001b[0;34m\u001b[0m\u001b[0;34m\u001b[0m\u001b[0m\n\u001b[0;32m--> 647\u001b[0;31m             \u001b[0mself\u001b[0m\u001b[0;34m.\u001b[0m\u001b[0muser_ns\u001b[0m\u001b[0;34m[\u001b[0m\u001b[0;34m'_exit_code'\u001b[0m\u001b[0;34m]\u001b[0m \u001b[0;34m=\u001b[0m \u001b[0msystem\u001b[0m\u001b[0;34m(\u001b[0m\u001b[0mself\u001b[0m\u001b[0;34m.\u001b[0m\u001b[0mvar_expand\u001b[0m\u001b[0;34m(\u001b[0m\u001b[0mcmd\u001b[0m\u001b[0;34m,\u001b[0m \u001b[0mdepth\u001b[0m\u001b[0;34m=\u001b[0m\u001b[0;36m1\u001b[0m\u001b[0;34m)\u001b[0m\u001b[0;34m)\u001b[0m\u001b[0;34m\u001b[0m\u001b[0;34m\u001b[0m\u001b[0m\n\u001b[0m\u001b[1;32m    648\u001b[0m \u001b[0;34m\u001b[0m\u001b[0m\n\u001b[1;32m    649\u001b[0m     \u001b[0;31m# Ensure new system_piped implementation is used\u001b[0m\u001b[0;34m\u001b[0m\u001b[0;34m\u001b[0m\u001b[0;34m\u001b[0m\u001b[0m\n",
      "\u001b[0;32m~/anaconda3/envs/amazonei_mxnet_p36/lib/python3.6/site-packages/IPython/utils/_process_posix.py\u001b[0m in \u001b[0;36msystem\u001b[0;34m(self, cmd)\u001b[0m\n\u001b[1;32m    155\u001b[0m                 \u001b[0mchild\u001b[0m \u001b[0;34m=\u001b[0m \u001b[0mpexpect\u001b[0m\u001b[0;34m.\u001b[0m\u001b[0mspawnb\u001b[0m\u001b[0;34m(\u001b[0m\u001b[0mself\u001b[0m\u001b[0;34m.\u001b[0m\u001b[0msh\u001b[0m\u001b[0;34m,\u001b[0m \u001b[0margs\u001b[0m\u001b[0;34m=\u001b[0m\u001b[0;34m[\u001b[0m\u001b[0;34m'-c'\u001b[0m\u001b[0;34m,\u001b[0m \u001b[0mcmd\u001b[0m\u001b[0;34m]\u001b[0m\u001b[0;34m)\u001b[0m \u001b[0;31m# Pexpect-U\u001b[0m\u001b[0;34m\u001b[0m\u001b[0;34m\u001b[0m\u001b[0m\n\u001b[1;32m    156\u001b[0m             \u001b[0;32melse\u001b[0m\u001b[0;34m:\u001b[0m\u001b[0;34m\u001b[0m\u001b[0;34m\u001b[0m\u001b[0m\n\u001b[0;32m--> 157\u001b[0;31m                 \u001b[0mchild\u001b[0m \u001b[0;34m=\u001b[0m \u001b[0mpexpect\u001b[0m\u001b[0;34m.\u001b[0m\u001b[0mspawn\u001b[0m\u001b[0;34m(\u001b[0m\u001b[0mself\u001b[0m\u001b[0;34m.\u001b[0m\u001b[0msh\u001b[0m\u001b[0;34m,\u001b[0m \u001b[0margs\u001b[0m\u001b[0;34m=\u001b[0m\u001b[0;34m[\u001b[0m\u001b[0;34m'-c'\u001b[0m\u001b[0;34m,\u001b[0m \u001b[0mcmd\u001b[0m\u001b[0;34m]\u001b[0m\u001b[0;34m)\u001b[0m  \u001b[0;31m# Vanilla Pexpect\u001b[0m\u001b[0;34m\u001b[0m\u001b[0;34m\u001b[0m\u001b[0m\n\u001b[0m\u001b[1;32m    158\u001b[0m             \u001b[0mflush\u001b[0m \u001b[0;34m=\u001b[0m \u001b[0msys\u001b[0m\u001b[0;34m.\u001b[0m\u001b[0mstdout\u001b[0m\u001b[0;34m.\u001b[0m\u001b[0mflush\u001b[0m\u001b[0;34m\u001b[0m\u001b[0;34m\u001b[0m\u001b[0m\n\u001b[1;32m    159\u001b[0m             \u001b[0;32mwhile\u001b[0m \u001b[0;32mTrue\u001b[0m\u001b[0;34m:\u001b[0m\u001b[0;34m\u001b[0m\u001b[0;34m\u001b[0m\u001b[0m\n",
      "\u001b[0;32m~/anaconda3/envs/amazonei_mxnet_p36/lib/python3.6/site-packages/pexpect/pty_spawn.py\u001b[0m in \u001b[0;36m__init__\u001b[0;34m(self, command, args, timeout, maxread, searchwindowsize, logfile, cwd, env, ignore_sighup, echo, preexec_fn, encoding, codec_errors, dimensions, use_poll)\u001b[0m\n\u001b[1;32m    203\u001b[0m             \u001b[0mself\u001b[0m\u001b[0;34m.\u001b[0m\u001b[0mname\u001b[0m \u001b[0;34m=\u001b[0m \u001b[0;34m'<pexpect factory incomplete>'\u001b[0m\u001b[0;34m\u001b[0m\u001b[0;34m\u001b[0m\u001b[0m\n\u001b[1;32m    204\u001b[0m         \u001b[0;32melse\u001b[0m\u001b[0;34m:\u001b[0m\u001b[0;34m\u001b[0m\u001b[0;34m\u001b[0m\u001b[0m\n\u001b[0;32m--> 205\u001b[0;31m             \u001b[0mself\u001b[0m\u001b[0;34m.\u001b[0m\u001b[0m_spawn\u001b[0m\u001b[0;34m(\u001b[0m\u001b[0mcommand\u001b[0m\u001b[0;34m,\u001b[0m \u001b[0margs\u001b[0m\u001b[0;34m,\u001b[0m \u001b[0mpreexec_fn\u001b[0m\u001b[0;34m,\u001b[0m \u001b[0mdimensions\u001b[0m\u001b[0;34m)\u001b[0m\u001b[0;34m\u001b[0m\u001b[0;34m\u001b[0m\u001b[0m\n\u001b[0m\u001b[1;32m    206\u001b[0m         \u001b[0mself\u001b[0m\u001b[0;34m.\u001b[0m\u001b[0muse_poll\u001b[0m \u001b[0;34m=\u001b[0m \u001b[0muse_poll\u001b[0m\u001b[0;34m\u001b[0m\u001b[0;34m\u001b[0m\u001b[0m\n\u001b[1;32m    207\u001b[0m \u001b[0;34m\u001b[0m\u001b[0m\n",
      "\u001b[0;32m~/anaconda3/envs/amazonei_mxnet_p36/lib/python3.6/site-packages/pexpect/pty_spawn.py\u001b[0m in \u001b[0;36m_spawn\u001b[0;34m(self, command, args, preexec_fn, dimensions)\u001b[0m\n\u001b[1;32m    302\u001b[0m \u001b[0;34m\u001b[0m\u001b[0m\n\u001b[1;32m    303\u001b[0m         self.ptyproc = self._spawnpty(self.args, env=self.env,\n\u001b[0;32m--> 304\u001b[0;31m                                      cwd=self.cwd, **kwargs)\n\u001b[0m\u001b[1;32m    305\u001b[0m \u001b[0;34m\u001b[0m\u001b[0m\n\u001b[1;32m    306\u001b[0m         \u001b[0mself\u001b[0m\u001b[0;34m.\u001b[0m\u001b[0mpid\u001b[0m \u001b[0;34m=\u001b[0m \u001b[0mself\u001b[0m\u001b[0;34m.\u001b[0m\u001b[0mptyproc\u001b[0m\u001b[0;34m.\u001b[0m\u001b[0mpid\u001b[0m\u001b[0;34m\u001b[0m\u001b[0;34m\u001b[0m\u001b[0m\n",
      "\u001b[0;32m~/anaconda3/envs/amazonei_mxnet_p36/lib/python3.6/site-packages/pexpect/pty_spawn.py\u001b[0m in \u001b[0;36m_spawnpty\u001b[0;34m(self, args, **kwargs)\u001b[0m\n\u001b[1;32m    313\u001b[0m     \u001b[0;32mdef\u001b[0m \u001b[0m_spawnpty\u001b[0m\u001b[0;34m(\u001b[0m\u001b[0mself\u001b[0m\u001b[0;34m,\u001b[0m \u001b[0margs\u001b[0m\u001b[0;34m,\u001b[0m \u001b[0;34m**\u001b[0m\u001b[0mkwargs\u001b[0m\u001b[0;34m)\u001b[0m\u001b[0;34m:\u001b[0m\u001b[0;34m\u001b[0m\u001b[0;34m\u001b[0m\u001b[0m\n\u001b[1;32m    314\u001b[0m         \u001b[0;34m'''Spawn a pty and return an instance of PtyProcess.'''\u001b[0m\u001b[0;34m\u001b[0m\u001b[0;34m\u001b[0m\u001b[0m\n\u001b[0;32m--> 315\u001b[0;31m         \u001b[0;32mreturn\u001b[0m \u001b[0mptyprocess\u001b[0m\u001b[0;34m.\u001b[0m\u001b[0mPtyProcess\u001b[0m\u001b[0;34m.\u001b[0m\u001b[0mspawn\u001b[0m\u001b[0;34m(\u001b[0m\u001b[0margs\u001b[0m\u001b[0;34m,\u001b[0m \u001b[0;34m**\u001b[0m\u001b[0mkwargs\u001b[0m\u001b[0;34m)\u001b[0m\u001b[0;34m\u001b[0m\u001b[0;34m\u001b[0m\u001b[0m\n\u001b[0m\u001b[1;32m    316\u001b[0m \u001b[0;34m\u001b[0m\u001b[0m\n\u001b[1;32m    317\u001b[0m     \u001b[0;32mdef\u001b[0m \u001b[0mclose\u001b[0m\u001b[0;34m(\u001b[0m\u001b[0mself\u001b[0m\u001b[0;34m,\u001b[0m \u001b[0mforce\u001b[0m\u001b[0;34m=\u001b[0m\u001b[0;32mTrue\u001b[0m\u001b[0;34m)\u001b[0m\u001b[0;34m:\u001b[0m\u001b[0;34m\u001b[0m\u001b[0;34m\u001b[0m\u001b[0m\n",
      "\u001b[0;32m~/anaconda3/envs/amazonei_mxnet_p36/lib/python3.6/site-packages/ptyprocess/ptyprocess.py\u001b[0m in \u001b[0;36mspawn\u001b[0;34m(cls, argv, cwd, env, echo, preexec_fn, dimensions, pass_fds)\u001b[0m\n\u001b[1;32m    228\u001b[0m \u001b[0;34m\u001b[0m\u001b[0m\n\u001b[1;32m    229\u001b[0m         \u001b[0;32mif\u001b[0m \u001b[0muse_native_pty_fork\u001b[0m\u001b[0;34m:\u001b[0m\u001b[0;34m\u001b[0m\u001b[0;34m\u001b[0m\u001b[0m\n\u001b[0;32m--> 230\u001b[0;31m             \u001b[0mpid\u001b[0m\u001b[0;34m,\u001b[0m \u001b[0mfd\u001b[0m \u001b[0;34m=\u001b[0m \u001b[0mpty\u001b[0m\u001b[0;34m.\u001b[0m\u001b[0mfork\u001b[0m\u001b[0;34m(\u001b[0m\u001b[0;34m)\u001b[0m\u001b[0;34m\u001b[0m\u001b[0;34m\u001b[0m\u001b[0m\n\u001b[0m\u001b[1;32m    231\u001b[0m         \u001b[0;32melse\u001b[0m\u001b[0;34m:\u001b[0m\u001b[0;34m\u001b[0m\u001b[0;34m\u001b[0m\u001b[0m\n\u001b[1;32m    232\u001b[0m             \u001b[0;31m# Use internal fork_pty, for Solaris\u001b[0m\u001b[0;34m\u001b[0m\u001b[0;34m\u001b[0m\u001b[0;34m\u001b[0m\u001b[0m\n",
      "\u001b[0;32m~/anaconda3/envs/amazonei_mxnet_p36/lib/python3.6/pty.py\u001b[0m in \u001b[0;36mfork\u001b[0;34m()\u001b[0m\n\u001b[1;32m     95\u001b[0m \u001b[0;34m\u001b[0m\u001b[0m\n\u001b[1;32m     96\u001b[0m     \u001b[0mmaster_fd\u001b[0m\u001b[0;34m,\u001b[0m \u001b[0mslave_fd\u001b[0m \u001b[0;34m=\u001b[0m \u001b[0mopenpty\u001b[0m\u001b[0;34m(\u001b[0m\u001b[0;34m)\u001b[0m\u001b[0;34m\u001b[0m\u001b[0;34m\u001b[0m\u001b[0m\n\u001b[0;32m---> 97\u001b[0;31m     \u001b[0mpid\u001b[0m \u001b[0;34m=\u001b[0m \u001b[0mos\u001b[0m\u001b[0;34m.\u001b[0m\u001b[0mfork\u001b[0m\u001b[0;34m(\u001b[0m\u001b[0;34m)\u001b[0m\u001b[0;34m\u001b[0m\u001b[0;34m\u001b[0m\u001b[0m\n\u001b[0m\u001b[1;32m     98\u001b[0m     \u001b[0;32mif\u001b[0m \u001b[0mpid\u001b[0m \u001b[0;34m==\u001b[0m \u001b[0mCHILD\u001b[0m\u001b[0;34m:\u001b[0m\u001b[0;34m\u001b[0m\u001b[0;34m\u001b[0m\u001b[0m\n\u001b[1;32m     99\u001b[0m         \u001b[0;31m# Establish a new session.\u001b[0m\u001b[0;34m\u001b[0m\u001b[0;34m\u001b[0m\u001b[0;34m\u001b[0m\u001b[0m\n",
      "\u001b[0;31mOSError\u001b[0m: [Errno 12] Cannot allocate memory"
     ]
    }
   ],
   "source": [
    "# First we will remove all of the files contained in the data_dir directory\n",
    "!rm $data_dir/*\n",
    "\n",
    "# And then we delete the directory itself\n",
    "!rmdir $data_dir\n",
    "\n",
    "# Similarly we remove the files in the cache_dir directory and the directory itself\n",
    "!rm $cache_dir/*\n",
    "!rmdir $cache_dir"
   ]
  },
  {
   "cell_type": "code",
   "execution_count": null,
   "metadata": {},
   "outputs": [],
   "source": []
  }
 ],
 "metadata": {
  "kernelspec": {
   "display_name": "conda_amazonei_mxnet_p36",
   "language": "python",
   "name": "conda_amazonei_mxnet_p36"
  },
  "language_info": {
   "codemirror_mode": {
    "name": "ipython",
    "version": 3
   },
   "file_extension": ".py",
   "mimetype": "text/x-python",
   "name": "python",
   "nbconvert_exporter": "python",
   "pygments_lexer": "ipython3",
   "version": "3.6.13"
  }
 },
 "nbformat": 4,
 "nbformat_minor": 4
}
